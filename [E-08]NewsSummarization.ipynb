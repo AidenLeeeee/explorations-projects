{
 "cells": [
  {
   "cell_type": "markdown",
   "id": "1c42e047",
   "metadata": {},
   "source": [
    "# 1.1) Source Code"
   ]
  },
  {
   "cell_type": "code",
   "execution_count": 1,
   "id": "f7e7cbb0",
   "metadata": {},
   "outputs": [
    {
     "name": "stderr",
     "output_type": "stream",
     "text": [
      "[nltk_data] Downloading package stopwords to /aiffel/nltk_data...\n",
      "[nltk_data]   Unzipping corpora/stopwords.zip.\n"
     ]
    }
   ],
   "source": [
    "import nltk\n",
    "nltk.download('stopwords')\n",
    "from tensorflow.keras.layers import Input, LSTM, Embedding, Dense, Concatenate, TimeDistributed\n",
    "from tensorflow.keras.models import Model\n",
    "from tensorflow.keras.callbacks import EarlyStopping, ModelCheckpoint\n",
    "from tensorflow.keras.layers import AdditiveAttention\n",
    "import numpy as np\n",
    "import pandas as pd\n",
    "import os\n",
    "import re\n",
    "import matplotlib.pyplot as plt\n",
    "from nltk.corpus import stopwords\n",
    "from bs4 import BeautifulSoup \n",
    "from tensorflow.keras.preprocessing.text import Tokenizer \n",
    "from tensorflow.keras.preprocessing.sequence import pad_sequences\n",
    "import urllib.request\n",
    "import warnings\n",
    "warnings.filterwarnings(\"ignore\", category=UserWarning, module='bs4')"
   ]
  },
  {
   "cell_type": "markdown",
   "id": "a92b1966",
   "metadata": {},
   "source": [
    "### 데이터 준비"
   ]
  },
  {
   "cell_type": "code",
   "execution_count": 2,
   "id": "532ddd32",
   "metadata": {},
   "outputs": [],
   "source": [
    "urllib.request.urlretrieve(\"https://raw.githubusercontent.com/sunnysai12345/News_Summary/master/news_summary_more.csv\", filename=\"news_summary_more.csv\")\n",
    "data = pd.read_csv('news_summary_more.csv', encoding='iso-8859-1')"
   ]
  },
  {
   "cell_type": "code",
   "execution_count": 3,
   "id": "bd75fb22",
   "metadata": {},
   "outputs": [
    {
     "data": {
      "text/html": [
       "<div>\n",
       "<style scoped>\n",
       "    .dataframe tbody tr th:only-of-type {\n",
       "        vertical-align: middle;\n",
       "    }\n",
       "\n",
       "    .dataframe tbody tr th {\n",
       "        vertical-align: top;\n",
       "    }\n",
       "\n",
       "    .dataframe thead th {\n",
       "        text-align: right;\n",
       "    }\n",
       "</style>\n",
       "<table border=\"1\" class=\"dataframe\">\n",
       "  <thead>\n",
       "    <tr style=\"text-align: right;\">\n",
       "      <th></th>\n",
       "      <th>headlines</th>\n",
       "      <th>text</th>\n",
       "    </tr>\n",
       "  </thead>\n",
       "  <tbody>\n",
       "    <tr>\n",
       "      <th>36322</th>\n",
       "      <td>Woman assaulted by drunk men for going out wit...</td>\n",
       "      <td>A group of drunk men allegedly assaulted a wom...</td>\n",
       "    </tr>\n",
       "    <tr>\n",
       "      <th>74617</th>\n",
       "      <td>K'taka govt to rename 100 Morarji Desai school...</td>\n",
       "      <td>The Karnataka government has decided to rename...</td>\n",
       "    </tr>\n",
       "    <tr>\n",
       "      <th>14938</th>\n",
       "      <td>Raise age to report rape by minor victims to 3...</td>\n",
       "      <td>Women and Child Development Minister Maneka Ga...</td>\n",
       "    </tr>\n",
       "    <tr>\n",
       "      <th>74321</th>\n",
       "      <td>Maneka Gandhi calls for rehabilitation-focusse...</td>\n",
       "      <td>Union Minister Maneka Gandhi has expressed the...</td>\n",
       "    </tr>\n",
       "    <tr>\n",
       "      <th>61421</th>\n",
       "      <td>China to build police station powered by AI, n...</td>\n",
       "      <td>The Chinese government has announced that it w...</td>\n",
       "    </tr>\n",
       "    <tr>\n",
       "      <th>29524</th>\n",
       "      <td>United Breweries profit up 1,250% to Ã¢ÂÂ¹91 ...</td>\n",
       "      <td>United Breweries Limited (UBL) has reported ab...</td>\n",
       "    </tr>\n",
       "    <tr>\n",
       "      <th>91957</th>\n",
       "      <td>Reliance reports 45% rise in revenue for March...</td>\n",
       "      <td>Mukesh Ambani-led Reliance Industries posted a...</td>\n",
       "    </tr>\n",
       "    <tr>\n",
       "      <th>38776</th>\n",
       "      <td>Ronda Rousey to be the first female Hall of Fa...</td>\n",
       "      <td>American fighter Ronda Rousey will become the ...</td>\n",
       "    </tr>\n",
       "    <tr>\n",
       "      <th>89238</th>\n",
       "      <td>I've kissed Javier Bardem and his wife Penelop...</td>\n",
       "      <td>Johnny Depp jokingly said that he has kissed a...</td>\n",
       "    </tr>\n",
       "    <tr>\n",
       "      <th>35889</th>\n",
       "      <td>Jammu bar body chief threatened me: Kathua vic...</td>\n",
       "      <td>The lawyer representing the eight-year-old Kat...</td>\n",
       "    </tr>\n",
       "  </tbody>\n",
       "</table>\n",
       "</div>"
      ],
      "text/plain": [
       "                                               headlines  \\\n",
       "36322  Woman assaulted by drunk men for going out wit...   \n",
       "74617  K'taka govt to rename 100 Morarji Desai school...   \n",
       "14938  Raise age to report rape by minor victims to 3...   \n",
       "74321  Maneka Gandhi calls for rehabilitation-focusse...   \n",
       "61421  China to build police station powered by AI, n...   \n",
       "29524  United Breweries profit up 1,250% to Ã¢ÂÂ¹91 ...   \n",
       "91957  Reliance reports 45% rise in revenue for March...   \n",
       "38776  Ronda Rousey to be the first female Hall of Fa...   \n",
       "89238  I've kissed Javier Bardem and his wife Penelop...   \n",
       "35889  Jammu bar body chief threatened me: Kathua vic...   \n",
       "\n",
       "                                                    text  \n",
       "36322  A group of drunk men allegedly assaulted a wom...  \n",
       "74617  The Karnataka government has decided to rename...  \n",
       "14938  Women and Child Development Minister Maneka Ga...  \n",
       "74321  Union Minister Maneka Gandhi has expressed the...  \n",
       "61421  The Chinese government has announced that it w...  \n",
       "29524  United Breweries Limited (UBL) has reported ab...  \n",
       "91957  Mukesh Ambani-led Reliance Industries posted a...  \n",
       "38776  American fighter Ronda Rousey will become the ...  \n",
       "89238  Johnny Depp jokingly said that he has kissed a...  \n",
       "35889  The lawyer representing the eight-year-old Kat...  "
      ]
     },
     "execution_count": 3,
     "metadata": {},
     "output_type": "execute_result"
    }
   ],
   "source": [
    "data.sample(10)"
   ]
  },
  {
   "cell_type": "markdown",
   "id": "ae934aa4",
   "metadata": {},
   "source": [
    "- News 데이터와 헤드라인을 불러와 sample 을 확인합니다."
   ]
  },
  {
   "cell_type": "code",
   "execution_count": 4,
   "id": "f7d54235",
   "metadata": {},
   "outputs": [
    {
     "name": "stdout",
     "output_type": "stream",
     "text": [
      "전체 샘플수 : 98401\n"
     ]
    }
   ],
   "source": [
    "print('전체 샘플수 :', len(data))"
   ]
  },
  {
   "cell_type": "markdown",
   "id": "ab6b6d1d",
   "metadata": {},
   "source": [
    "### 데이터 전처리"
   ]
  },
  {
   "cell_type": "code",
   "execution_count": 5,
   "id": "a0dca505",
   "metadata": {},
   "outputs": [
    {
     "name": "stdout",
     "output_type": "stream",
     "text": [
      "Text 열에서 중복을 배제한 유일한 샘플의 수 : 98360\n",
      "Headlines 열에서 중복을 배제한 유일한 샘플의 수 : 98280\n"
     ]
    }
   ],
   "source": [
    "print('Text 열에서 중복을 배제한 유일한 샘플의 수 :', data['text'].nunique())\n",
    "print('Headlines 열에서 중복을 배제한 유일한 샘플의 수 :', data['headlines'].nunique())"
   ]
  },
  {
   "cell_type": "markdown",
   "id": "25d50d19",
   "metadata": {},
   "source": [
    "- Text 에서 중복을 제외한다면, 98360 개\n",
    "- Headlines 에서 중복을 제외한다면, 98280 개"
   ]
  },
  {
   "cell_type": "code",
   "execution_count": 6,
   "id": "194d32e8",
   "metadata": {},
   "outputs": [
    {
     "name": "stdout",
     "output_type": "stream",
     "text": [
      "전체 샘플수 : 98360\n"
     ]
    }
   ],
   "source": [
    "data.drop_duplicates(subset = ['text'], inplace=True)\n",
    "print('전체 샘플수 :', len(data))"
   ]
  },
  {
   "cell_type": "markdown",
   "id": "627bfdd7",
   "metadata": {},
   "source": [
    "- text 열에서 중복을 제거합니다.\n",
    "- headlines 는 해당 기사에 대한 요약이므로 중복될 수 있습니다."
   ]
  },
  {
   "cell_type": "code",
   "execution_count": 7,
   "id": "42e1057f",
   "metadata": {},
   "outputs": [
    {
     "name": "stdout",
     "output_type": "stream",
     "text": [
      "headlines    0\n",
      "text         0\n",
      "dtype: int64\n"
     ]
    }
   ],
   "source": [
    "print(data.isnull().sum())"
   ]
  },
  {
   "cell_type": "markdown",
   "id": "2879925d",
   "metadata": {},
   "source": [
    "- 데이터에 null 값이 존재하는지 확인합니다."
   ]
  },
  {
   "cell_type": "code",
   "execution_count": 8,
   "id": "11b01b81",
   "metadata": {},
   "outputs": [
    {
     "name": "stdout",
     "output_type": "stream",
     "text": [
      "정규화 사전의 수:  120\n"
     ]
    }
   ],
   "source": [
    "contractions = {\"ain't\": \"is not\", \"aren't\": \"are not\",\"can't\": \"cannot\", \"'cause\": \"because\", \"could've\": \"could have\", \"couldn't\": \"could not\",\n",
    "                           \"didn't\": \"did not\",  \"doesn't\": \"does not\", \"don't\": \"do not\", \"hadn't\": \"had not\", \"hasn't\": \"has not\", \"haven't\": \"have not\",\n",
    "                           \"he'd\": \"he would\",\"he'll\": \"he will\", \"he's\": \"he is\", \"how'd\": \"how did\", \"how'd'y\": \"how do you\", \"how'll\": \"how will\", \"how's\": \"how is\",\n",
    "                           \"I'd\": \"I would\", \"I'd've\": \"I would have\", \"I'll\": \"I will\", \"I'll've\": \"I will have\",\"I'm\": \"I am\", \"I've\": \"I have\", \"i'd\": \"i would\",\n",
    "                           \"i'd've\": \"i would have\", \"i'll\": \"i will\",  \"i'll've\": \"i will have\",\"i'm\": \"i am\", \"i've\": \"i have\", \"isn't\": \"is not\", \"it'd\": \"it would\",\n",
    "                           \"it'd've\": \"it would have\", \"it'll\": \"it will\", \"it'll've\": \"it will have\",\"it's\": \"it is\", \"let's\": \"let us\", \"ma'am\": \"madam\",\n",
    "                           \"mayn't\": \"may not\", \"might've\": \"might have\",\"mightn't\": \"might not\",\"mightn't've\": \"might not have\", \"must've\": \"must have\",\n",
    "                           \"mustn't\": \"must not\", \"mustn't've\": \"must not have\", \"needn't\": \"need not\", \"needn't've\": \"need not have\",\"o'clock\": \"of the clock\",\n",
    "                           \"oughtn't\": \"ought not\", \"oughtn't've\": \"ought not have\", \"shan't\": \"shall not\", \"sha'n't\": \"shall not\", \"shan't've\": \"shall not have\",\n",
    "                           \"she'd\": \"she would\", \"she'd've\": \"she would have\", \"she'll\": \"she will\", \"she'll've\": \"she will have\", \"she's\": \"she is\",\n",
    "                           \"should've\": \"should have\", \"shouldn't\": \"should not\", \"shouldn't've\": \"should not have\", \"so've\": \"so have\",\"so's\": \"so as\",\n",
    "                           \"this's\": \"this is\",\"that'd\": \"that would\", \"that'd've\": \"that would have\", \"that's\": \"that is\", \"there'd\": \"there would\",\n",
    "                           \"there'd've\": \"there would have\", \"there's\": \"there is\", \"here's\": \"here is\",\"they'd\": \"they would\", \"they'd've\": \"they would have\",\n",
    "                           \"they'll\": \"they will\", \"they'll've\": \"they will have\", \"they're\": \"they are\", \"they've\": \"they have\", \"to've\": \"to have\",\n",
    "                           \"wasn't\": \"was not\", \"we'd\": \"we would\", \"we'd've\": \"we would have\", \"we'll\": \"we will\", \"we'll've\": \"we will have\", \"we're\": \"we are\",\n",
    "                           \"we've\": \"we have\", \"weren't\": \"were not\", \"what'll\": \"what will\", \"what'll've\": \"what will have\", \"what're\": \"what are\",\n",
    "                           \"what's\": \"what is\", \"what've\": \"what have\", \"when's\": \"when is\", \"when've\": \"when have\", \"where'd\": \"where did\", \"where's\": \"where is\",\n",
    "                           \"where've\": \"where have\", \"who'll\": \"who will\", \"who'll've\": \"who will have\", \"who's\": \"who is\", \"who've\": \"who have\",\n",
    "                           \"why's\": \"why is\", \"why've\": \"why have\", \"will've\": \"will have\", \"won't\": \"will not\", \"won't've\": \"will not have\",\n",
    "                           \"would've\": \"would have\", \"wouldn't\": \"would not\", \"wouldn't've\": \"would not have\", \"y'all\": \"you all\",\n",
    "                           \"y'all'd\": \"you all would\",\"y'all'd've\": \"you all would have\",\"y'all're\": \"you all are\",\"y'all've\": \"you all have\",\n",
    "                           \"you'd\": \"you would\", \"you'd've\": \"you would have\", \"you'll\": \"you will\", \"you'll've\": \"you will have\",\n",
    "                           \"you're\": \"you are\", \"you've\": \"you have\"}\n",
    "\n",
    "print(\"정규화 사전의 수: \", len(contractions))"
   ]
  },
  {
   "cell_type": "markdown",
   "id": "386ea72d",
   "metadata": {},
   "source": [
    "- 텍스트 정규화를 위한 사전을 구성하였습니다.\n",
    "- 같은 의미를 가진 다른 표현들을 하나의 단어로 간주할 수 있도록 하기 위함입니다."
   ]
  },
  {
   "cell_type": "code",
   "execution_count": 9,
   "id": "ed155d2e",
   "metadata": {},
   "outputs": [
    {
     "name": "stdout",
     "output_type": "stream",
     "text": [
      "불용어 개수 : 179\n",
      "['i', 'me', 'my', 'myself', 'we', 'our', 'ours', 'ourselves', 'you', \"you're\", \"you've\", \"you'll\", \"you'd\", 'your', 'yours', 'yourself', 'yourselves', 'he', 'him', 'his', 'himself', 'she', \"she's\", 'her', 'hers', 'herself', 'it', \"it's\", 'its', 'itself', 'they', 'them', 'their', 'theirs', 'themselves', 'what', 'which', 'who', 'whom', 'this', 'that', \"that'll\", 'these', 'those', 'am', 'is', 'are', 'was', 'were', 'be', 'been', 'being', 'have', 'has', 'had', 'having', 'do', 'does', 'did', 'doing', 'a', 'an', 'the', 'and', 'but', 'if', 'or', 'because', 'as', 'until', 'while', 'of', 'at', 'by', 'for', 'with', 'about', 'against', 'between', 'into', 'through', 'during', 'before', 'after', 'above', 'below', 'to', 'from', 'up', 'down', 'in', 'out', 'on', 'off', 'over', 'under', 'again', 'further', 'then', 'once', 'here', 'there', 'when', 'where', 'why', 'how', 'all', 'any', 'both', 'each', 'few', 'more', 'most', 'other', 'some', 'such', 'no', 'nor', 'not', 'only', 'own', 'same', 'so', 'than', 'too', 'very', 's', 't', 'can', 'will', 'just', 'don', \"don't\", 'should', \"should've\", 'now', 'd', 'll', 'm', 'o', 're', 've', 'y', 'ain', 'aren', \"aren't\", 'couldn', \"couldn't\", 'didn', \"didn't\", 'doesn', \"doesn't\", 'hadn', \"hadn't\", 'hasn', \"hasn't\", 'haven', \"haven't\", 'isn', \"isn't\", 'ma', 'mightn', \"mightn't\", 'mustn', \"mustn't\", 'needn', \"needn't\", 'shan', \"shan't\", 'shouldn', \"shouldn't\", 'wasn', \"wasn't\", 'weren', \"weren't\", 'won', \"won't\", 'wouldn', \"wouldn't\"]\n"
     ]
    }
   ],
   "source": [
    "print('불용어 개수 :', len(stopwords.words('english') ))\n",
    "print(stopwords.words('english'))"
   ]
  },
  {
   "cell_type": "markdown",
   "id": "55dffc0c",
   "metadata": {},
   "source": [
    "- 불용어 처리를 위해 NLTK 에서 제공하는 불용어 리스트를 참조합니다."
   ]
  },
  {
   "cell_type": "code",
   "execution_count": 10,
   "id": "c3249a02",
   "metadata": {},
   "outputs": [],
   "source": [
    "def preprocess_sentence(sentence, remove_stopwords=True):\n",
    "    sentence = sentence.lower()\n",
    "    sentence = BeautifulSoup(sentence, \"lxml\").text\n",
    "    sentence = re.sub(r'\\([^)]*\\)', '', sentence)\n",
    "    sentence = re.sub('\"','', sentence)\n",
    "    sentence = ' '.join([contractions[t] if t in contractions else t for t in sentence.split(\" \")])\n",
    "    sentence = re.sub(r\"'s\\b\",\"\", sentence)\n",
    "    sentence = re.sub(\"[^a-zA-Z]\", \" \", sentence)\n",
    "    \n",
    "    if remove_stopwords:\n",
    "        tokens = ' '.join(word for word in sentence.split() if not word in stopwords.words('english') if len(word) > 1)\n",
    "\n",
    "    else:\n",
    "        tokens = ' '.join(word for word in sentence.split() if len(word) > 1)\n",
    "    return tokens"
   ]
  },
  {
   "cell_type": "markdown",
   "id": "f2991f23",
   "metadata": {},
   "source": [
    "- 데이터 전처리를 자동화하는 함수를 정의하였습니다.\n",
    "- 문장을 영문 소문자로 변환 뒤, lxml parser 로 파싱(parsing) 해줍니다.\n",
    "- 괄호로 닫힌 내용들을 삭제합니다.\n",
    "- 큰 따옴표를 제거합니다.\n",
    "- 앞서 정의한 사전을 활용하여 텍스트를 정규화합니다.\n",
    "- 소유격을 제거합니다.\n",
    "- 알파벳 이외의 문자를 공백으로 변환합니다."
   ]
  },
  {
   "cell_type": "markdown",
   "id": "44a99fdd",
   "metadata": {},
   "source": [
    "- 불용어 처리의 경우에는 text 열에만 적용해주도록 하겠습니다.\n",
    "- headlines 는 이미 문장의 길이가 짧으며,\n",
    "- 추상적 요약 시, 자연스러운 문장을 반환하기 위해서는 불용어들이 필요하다고 판단하였습니다."
   ]
  },
  {
   "cell_type": "code",
   "execution_count": 11,
   "id": "ce13b6ae",
   "metadata": {},
   "outputs": [
    {
     "name": "stdout",
     "output_type": "stream",
     "text": [
      "text:  everything bought great infact ordered twice third ordered wasfor mother father\n",
      "summary: great way to start the day\n"
     ]
    }
   ],
   "source": [
    "temp_text = 'Everything I bought was great, infact I ordered twice and the third ordered was<br />for my mother and father.'\n",
    "temp_headlines = 'Great way to start (or finish) the day!!!'\n",
    "\n",
    "print(\"text: \", preprocess_sentence(temp_text))\n",
    "print(\"summary:\", preprocess_sentence(temp_headlines, False))"
   ]
  },
  {
   "cell_type": "markdown",
   "id": "56f803df",
   "metadata": {},
   "source": [
    "- 함수가 정상적으로 작동하는지 확인해주었습니다."
   ]
  },
  {
   "cell_type": "code",
   "execution_count": 12,
   "id": "b5eae33a",
   "metadata": {},
   "outputs": [
    {
     "name": "stdout",
     "output_type": "stream",
     "text": [
      "text 전처리 후 결과:  ['saurav kant alumnus upgrad iiit pg program machine learning artificial intelligence sr systems engineer infosys almost years work experience program upgrad degree career support helped transition data scientist tech mahindra salary hike upgrad online power learning powered lakh careers', 'kunal shah credit card bill payment platform cred gave users chance win free food swiggy one year pranav kaushik delhi techie bagged reward spending cred coins users get one cred coin per rupee bill paid used avail rewards brands like ixigo bookmyshow ubereats cult fit', 'new zealand defeated india wickets fourth odi hamilton thursday win first match five match odi series india lost international match rohit sharma captaincy consecutive victories dating back march match witnessed india getting seventh lowest total odi cricket history', 'aegon life iterm insurance plan customers enjoy tax benefits premiums paid save taxes plan provides life cover age years also customers options insure critical illnesses disability accidental death benefit rider life cover age years', 'speaking sexual harassment allegations rajkumar hirani sonam kapoor said known hirani many years true metoo movement get derailed metoo movement always believe woman case need reserve judgment added hirani accused assistant worked sanju']\n"
     ]
    }
   ],
   "source": [
    "clean_text = []\n",
    "\n",
    "for s in data['text']:\n",
    "    clean_text.append(preprocess_sentence(s))\n",
    "\n",
    "print(\"text 전처리 후 결과: \", clean_text[:5])"
   ]
  },
  {
   "cell_type": "code",
   "execution_count": 13,
   "id": "fb5ddc3c",
   "metadata": {},
   "outputs": [
    {
     "name": "stdout",
     "output_type": "stream",
     "text": [
      "headlines 전처리 후 결과:  ['upgrad learner switches to career in ml al with salary hike', 'delhi techie wins free food from swiggy for one year on cred', 'new zealand end rohit sharma led india match winning streak', 'aegon life iterm insurance plan helps customers save tax', 'have known hirani for yrs what if metoo claims are not true sonam']\n"
     ]
    }
   ],
   "source": [
    "clean_headlines = []\n",
    "\n",
    "for s in data['headlines']:\n",
    "    clean_headlines.append(preprocess_sentence(s, False))\n",
    "\n",
    "print(\"headlines 전처리 후 결과: \", clean_headlines[:5])"
   ]
  },
  {
   "cell_type": "markdown",
   "id": "0676b85c",
   "metadata": {},
   "source": [
    "-  text 와 headlines 에 대한 문장 전처리 작업을 수행하였습니다.\n",
    "- headlines 에서는 불용어 제거를 수행하지 않았습니다."
   ]
  },
  {
   "cell_type": "code",
   "execution_count": 14,
   "id": "9230d8e5",
   "metadata": {},
   "outputs": [],
   "source": [
    "data['text'] = clean_text\n",
    "data['headlines'] = clean_headlines\n",
    "\n",
    "data.replace('', np.nan, inplace=True)"
   ]
  },
  {
   "cell_type": "markdown",
   "id": "c06f9a2e",
   "metadata": {},
   "source": [
    "- 전처리가 끝난 문장들을 다시 데이터프레임에 저장해주었습니다.\n",
    "- 전처리 과정에서 빈 값을 가진 데이터가 생겼을 가능성이 있습니다.\n",
    "- 따라서, 빈 값을 NaN 으로 대체하여주었습니다."
   ]
  },
  {
   "cell_type": "code",
   "execution_count": 15,
   "id": "cb876916",
   "metadata": {},
   "outputs": [
    {
     "data": {
      "text/plain": [
       "headlines    0\n",
       "text         0\n",
       "dtype: int64"
      ]
     },
     "execution_count": 15,
     "metadata": {},
     "output_type": "execute_result"
    }
   ],
   "source": [
    "data.isnull().sum()"
   ]
  },
  {
   "cell_type": "markdown",
   "id": "5ad69fc4",
   "metadata": {},
   "source": [
    "- null 값의 개수를 조회합니다."
   ]
  },
  {
   "cell_type": "code",
   "execution_count": 16,
   "id": "cf77543c",
   "metadata": {},
   "outputs": [
    {
     "name": "stdout",
     "output_type": "stream",
     "text": [
      "text의 최소 길이 : 1\n",
      "text의 최대 길이 : 60\n",
      "text의 평균 길이 : 35.09968483123221\n",
      "headlines의 최소 길이 : 1\n",
      "headlines의 최대 길이 : 16\n",
      "headlines의 평균 길이 : 9.299532330215534\n"
     ]
    },
    {
     "data": {
      "image/png": "[encoded data removed]",
      "text/plain": [
       "<Figure size 432x288 with 2 Axes>"
      ]
     },
     "metadata": {
      "needs_background": "light"
     },
     "output_type": "display_data"
    },
    {
     "data": {
      "image/png": "[encoded data removed]",
      "text/plain": [
       "<Figure size 432x288 with 1 Axes>"
      ]
     },
     "metadata": {
      "needs_background": "light"
     },
     "output_type": "display_data"
    },
    {
     "data": {
      "image/png": "[encoded data removed]",
      "text/plain": [
       "<Figure size 432x288 with 1 Axes>"
      ]
     },
     "metadata": {
      "needs_background": "light"
     },
     "output_type": "display_data"
    }
   ],
   "source": [
    "text_len = [len(s.split()) for s in data['text']]\n",
    "headlines_len = [len(s.split()) for s in data['headlines']]\n",
    "\n",
    "print('text의 최소 길이 : {}'.format(np.min(text_len)))\n",
    "print('text의 최대 길이 : {}'.format(np.max(text_len)))\n",
    "print('text의 평균 길이 : {}'.format(np.mean(text_len)))\n",
    "print('headlines의 최소 길이 : {}'.format(np.min(headlines_len)))\n",
    "print('headlines의 최대 길이 : {}'.format(np.max(headlines_len)))\n",
    "print('headlines의 평균 길이 : {}'.format(np.mean(headlines_len)))\n",
    "\n",
    "plt.subplot(1,2,1)\n",
    "plt.boxplot(text_len)\n",
    "plt.title('text')\n",
    "plt.subplot(1,2,2)\n",
    "plt.boxplot(headlines_len)\n",
    "plt.title('headlines')\n",
    "plt.tight_layout()\n",
    "plt.show()\n",
    "\n",
    "plt.title('text')\n",
    "plt.hist(text_len, bins = 40)\n",
    "plt.xlabel('length of samples')\n",
    "plt.ylabel('number of samples')\n",
    "plt.show()\n",
    "\n",
    "plt.title('headlines')\n",
    "plt.hist(headlines_len, bins = 40)\n",
    "plt.xlabel('length of samples')\n",
    "plt.ylabel('number of samples')\n",
    "plt.show()"
   ]
  },
  {
   "cell_type": "markdown",
   "id": "61af1d16",
   "metadata": {},
   "source": [
    "- text 와 headlines 의 최대 길이를 설정하기 위해 각 컬럼의 문장 길이 분포를 시각화하였습니다.\n",
    "- text 와 headlines 의 평균 길이는 각각 35, 9 인 것을 알 수 있습니다.\n",
    "- 아래 그래프에서 text 는 대체적으로 44 이하, headlines 는 12 이하의 문장 길이를 가지고 있음을 확인할 수 있습니다."
   ]
  },
  {
   "cell_type": "code",
   "execution_count": 17,
   "id": "d8c7f44a",
   "metadata": {},
   "outputs": [],
   "source": [
    "text_max_len = 40\n",
    "headlines_max_len = 10"
   ]
  },
  {
   "cell_type": "markdown",
   "id": "a87a0482",
   "metadata": {},
   "source": [
    "- 따라서, text 는 40, headlines 는 10 로 최대 길이를 설정하였습니다.\n",
    "- 밑에서는 위에서 설정한 최대 길이가 적절한지 통계로 확인해보겠습니다."
   ]
  },
  {
   "cell_type": "code",
   "execution_count": 18,
   "id": "886a9977",
   "metadata": {},
   "outputs": [],
   "source": [
    "def below_threshold_len(max_len, nested_list):\n",
    "  cnt = 0\n",
    "  for s in nested_list:\n",
    "    if(len(s.split()) <= max_len):\n",
    "        cnt = cnt + 1\n",
    "  print('전체 샘플 중 길이가 {} 이하인 샘플의 비율: {}'.format(max_len, (cnt / len(nested_list))))"
   ]
  },
  {
   "cell_type": "markdown",
   "id": "8c714922",
   "metadata": {},
   "source": [
    "- 최대 길이 내 데이터의 비율을 출력하는 함수를 정의하였습니다."
   ]
  },
  {
   "cell_type": "code",
   "execution_count": 19,
   "id": "9cf28af6",
   "metadata": {},
   "outputs": [
    {
     "name": "stdout",
     "output_type": "stream",
     "text": [
      "전체 샘플 중 길이가 40 이하인 샘플의 비율: 0.9238714924766165\n",
      "전체 샘플 중 길이가 10 이하인 샘플의 비율: 0.8162972753151687\n"
     ]
    }
   ],
   "source": [
    "below_threshold_len(text_max_len, data['text'])\n",
    "below_threshold_len(headlines_max_len, data['headlines'])"
   ]
  },
  {
   "cell_type": "markdown",
   "id": "3440288c",
   "metadata": {},
   "source": [
    "- 각각 40, 10 으로 최대 길이를 설정하였을 경우, 92%, 81% 의 데이터들을 온전히 사용할 수 있습니다."
   ]
  },
  {
   "cell_type": "code",
   "execution_count": 20,
   "id": "8116f7f3",
   "metadata": {},
   "outputs": [
    {
     "name": "stdout",
     "output_type": "stream",
     "text": [
      "전체 샘플수 : 74102\n"
     ]
    }
   ],
   "source": [
    "data = data[data['text'].apply(lambda x: len(x.split()) <= text_max_len)]\n",
    "data = data[data['headlines'].apply(lambda x: len(x.split()) <= headlines_max_len)]\n",
    "\n",
    "print('전체 샘플수 :', len(data))"
   ]
  },
  {
   "cell_type": "markdown",
   "id": "bf189971",
   "metadata": {},
   "source": [
    "- text 열에서 길이가 40 이하인 데이터를 제외하고 삭제해주었습니다.\n",
    "- headlines 열에서는 길이가 10 이하인 데이터를 제외하고 삭제해주었습니다.\n",
    "- 전체 데이터 수는 74102 개가 되었습니다."
   ]
  },
  {
   "cell_type": "markdown",
   "id": "0691b384",
   "metadata": {},
   "source": [
    "- seq2seq 의 training 시에는 decoder의 input과 target 을 모두 지정해주어야합니다.\n",
    "- 따라서, decoder 의 input 앞에는 'sostoken',\n",
    "- decoder 의 target 뒤에는 'eostoken' 을 추가해주도록 하겠습니다.\n",
    "- headlines 열을 사용하여야합니다."
   ]
  },
  {
   "cell_type": "code",
   "execution_count": 21,
   "id": "9d16f572",
   "metadata": {},
   "outputs": [
    {
     "data": {
      "text/html": [
       "<div>\n",
       "<style scoped>\n",
       "    .dataframe tbody tr th:only-of-type {\n",
       "        vertical-align: middle;\n",
       "    }\n",
       "\n",
       "    .dataframe tbody tr th {\n",
       "        vertical-align: top;\n",
       "    }\n",
       "\n",
       "    .dataframe thead th {\n",
       "        text-align: right;\n",
       "    }\n",
       "</style>\n",
       "<table border=\"1\" class=\"dataframe\">\n",
       "  <thead>\n",
       "    <tr style=\"text-align: right;\">\n",
       "      <th></th>\n",
       "      <th>headlines</th>\n",
       "      <th>text</th>\n",
       "      <th>decoder_input</th>\n",
       "      <th>decoder_target</th>\n",
       "    </tr>\n",
       "  </thead>\n",
       "  <tbody>\n",
       "    <tr>\n",
       "      <th>2</th>\n",
       "      <td>new zealand end rohit sharma led india match w...</td>\n",
       "      <td>new zealand defeated india wickets fourth odi ...</td>\n",
       "      <td>sostoken new zealand end rohit sharma led indi...</td>\n",
       "      <td>new zealand end rohit sharma led india match w...</td>\n",
       "    </tr>\n",
       "    <tr>\n",
       "      <th>3</th>\n",
       "      <td>aegon life iterm insurance plan helps customer...</td>\n",
       "      <td>aegon life iterm insurance plan customers enjo...</td>\n",
       "      <td>sostoken aegon life iterm insurance plan helps...</td>\n",
       "      <td>aegon life iterm insurance plan helps customer...</td>\n",
       "    </tr>\n",
       "    <tr>\n",
       "      <th>5</th>\n",
       "      <td>rahat fateh ali khan denies getting notice for...</td>\n",
       "      <td>pakistani singer rahat fateh ali khan denied r...</td>\n",
       "      <td>sostoken rahat fateh ali khan denies getting n...</td>\n",
       "      <td>rahat fateh ali khan denies getting notice for...</td>\n",
       "    </tr>\n",
       "    <tr>\n",
       "      <th>9</th>\n",
       "      <td>cong wins ramgarh bypoll in rajasthan takes to...</td>\n",
       "      <td>congress candidate shafia zubair ramgarh assem...</td>\n",
       "      <td>sostoken cong wins ramgarh bypoll in rajasthan...</td>\n",
       "      <td>cong wins ramgarh bypoll in rajasthan takes to...</td>\n",
       "    </tr>\n",
       "    <tr>\n",
       "      <th>10</th>\n",
       "      <td>up cousins fed human excreta for friendship wi...</td>\n",
       "      <td>two minor cousins uttar pradesh gorakhpur alle...</td>\n",
       "      <td>sostoken up cousins fed human excreta for frie...</td>\n",
       "      <td>up cousins fed human excreta for friendship wi...</td>\n",
       "    </tr>\n",
       "  </tbody>\n",
       "</table>\n",
       "</div>"
      ],
      "text/plain": [
       "                                            headlines  \\\n",
       "2   new zealand end rohit sharma led india match w...   \n",
       "3   aegon life iterm insurance plan helps customer...   \n",
       "5   rahat fateh ali khan denies getting notice for...   \n",
       "9   cong wins ramgarh bypoll in rajasthan takes to...   \n",
       "10  up cousins fed human excreta for friendship wi...   \n",
       "\n",
       "                                                 text  \\\n",
       "2   new zealand defeated india wickets fourth odi ...   \n",
       "3   aegon life iterm insurance plan customers enjo...   \n",
       "5   pakistani singer rahat fateh ali khan denied r...   \n",
       "9   congress candidate shafia zubair ramgarh assem...   \n",
       "10  two minor cousins uttar pradesh gorakhpur alle...   \n",
       "\n",
       "                                        decoder_input  \\\n",
       "2   sostoken new zealand end rohit sharma led indi...   \n",
       "3   sostoken aegon life iterm insurance plan helps...   \n",
       "5   sostoken rahat fateh ali khan denies getting n...   \n",
       "9   sostoken cong wins ramgarh bypoll in rajasthan...   \n",
       "10  sostoken up cousins fed human excreta for frie...   \n",
       "\n",
       "                                       decoder_target  \n",
       "2   new zealand end rohit sharma led india match w...  \n",
       "3   aegon life iterm insurance plan helps customer...  \n",
       "5   rahat fateh ali khan denies getting notice for...  \n",
       "9   cong wins ramgarh bypoll in rajasthan takes to...  \n",
       "10  up cousins fed human excreta for friendship wi...  "
      ]
     },
     "execution_count": 21,
     "metadata": {},
     "output_type": "execute_result"
    }
   ],
   "source": [
    "data['decoder_input'] = data['headlines'].apply(lambda x: 'sostoken ' + x)\n",
    "data['decoder_target'] = data['headlines'].apply(lambda x: x + ' eostoken')\n",
    "\n",
    "data.head()"
   ]
  },
  {
   "cell_type": "code",
   "execution_count": 22,
   "id": "70f35bf0",
   "metadata": {},
   "outputs": [
    {
     "data": {
      "text/plain": [
       "'new zealand end rohit sharma led india match winning streak eostoken'"
      ]
     },
     "execution_count": 22,
     "metadata": {},
     "output_type": "execute_result"
    }
   ],
   "source": [
    "data.loc[2, 'decoder_target']"
   ]
  },
  {
   "cell_type": "markdown",
   "id": "bbd457bc",
   "metadata": {},
   "source": [
    "- data 의 앞뒤로 sostoken 과 eostoken 이 잘 붙어있습니다."
   ]
  },
  {
   "cell_type": "code",
   "execution_count": 23,
   "id": "57be3a76",
   "metadata": {},
   "outputs": [],
   "source": [
    "encoder_input = np.array(data['text'])\n",
    "decoder_input = np.array(data['decoder_input'])\n",
    "decoder_target = np.array(data['decoder_target'])"
   ]
  },
  {
   "cell_type": "markdown",
   "id": "36e35d13",
   "metadata": {},
   "source": [
    "- encoder 의 입력값, decoder 의 입력값, decoder 의 target 을 ndarray type 으로 변환하여 주었습니다."
   ]
  },
  {
   "cell_type": "markdown",
   "id": "1dd0ef66",
   "metadata": {},
   "source": [
    "- 이제 준비된 dataset 을 train data 와 test data 로 분리하여 주겠습니다."
   ]
  },
  {
   "cell_type": "code",
   "execution_count": 24,
   "id": "b533cfa9",
   "metadata": {},
   "outputs": [
    {
     "name": "stdout",
     "output_type": "stream",
     "text": [
      "[48372 14135 63036 ...  2999 10969 46217]\n"
     ]
    }
   ],
   "source": [
    "indices = np.arange(encoder_input.shape[0])\n",
    "np.random.shuffle(indices)\n",
    "\n",
    "print(indices)"
   ]
  },
  {
   "cell_type": "markdown",
   "id": "c2640cfc",
   "metadata": {},
   "source": [
    "- 데이터를 shuffling 하기 위해 random 한 정수 시퀀스를 생성해주었습니다."
   ]
  },
  {
   "cell_type": "code",
   "execution_count": 25,
   "id": "516efb6b",
   "metadata": {},
   "outputs": [],
   "source": [
    "encoder_input = encoder_input[indices]\n",
    "decoder_input = decoder_input[indices]\n",
    "decoder_target = decoder_target[indices]"
   ]
  },
  {
   "cell_type": "markdown",
   "id": "6f0bf869",
   "metadata": {},
   "source": [
    "- 정수 시퀀스를 활용하여 데이터를 shuffling 해주었습니다."
   ]
  },
  {
   "cell_type": "code",
   "execution_count": 26,
   "id": "8a25ed55",
   "metadata": {},
   "outputs": [
    {
     "name": "stdout",
     "output_type": "stream",
     "text": [
      "test data 개수:  14820\n"
     ]
    }
   ],
   "source": [
    "n_of_val = int(len(encoder_input) * 0.2)\n",
    "print(\"test data 개수: \", n_of_val)"
   ]
  },
  {
   "cell_type": "markdown",
   "id": "a06744b2",
   "metadata": {},
   "source": [
    "- 8:2 의 비율로 dataset 을 분리하도록 하겠습니다.\n",
    "- 따라서, test data 의 수는 14820 개입니다."
   ]
  },
  {
   "cell_type": "code",
   "execution_count": 27,
   "id": "cc348200",
   "metadata": {},
   "outputs": [
    {
     "name": "stdout",
     "output_type": "stream",
     "text": [
      "훈련 데이터의 개수 : 59282\n",
      "훈련 레이블의 개수 : 59282\n",
      "테스트 데이터의 개수 : 14820\n",
      "테스트 레이블의 개수 : 14820\n"
     ]
    }
   ],
   "source": [
    "encoder_input_train = encoder_input[:-n_of_val]\n",
    "decoder_input_train = decoder_input[:-n_of_val]\n",
    "decoder_target_train = decoder_target[:-n_of_val]\n",
    "\n",
    "encoder_input_test = encoder_input[-n_of_val:]\n",
    "decoder_input_test = decoder_input[-n_of_val:]\n",
    "decoder_target_test = decoder_target[-n_of_val:]\n",
    "\n",
    "print('훈련 데이터의 개수 :', len(encoder_input_train))\n",
    "print('훈련 레이블의 개수 :', len(decoder_input_train))\n",
    "print('테스트 데이터의 개수 :', len(encoder_input_test))\n",
    "print('테스트 레이블의 개수 :', len(decoder_input_test))"
   ]
  },
  {
   "cell_type": "markdown",
   "id": "a22ea7a7",
   "metadata": {},
   "source": [
    "- train data 의 개수는 59282,\n",
    "- test data 의 개수는 14820 으로 분리되었습니다."
   ]
  },
  {
   "cell_type": "code",
   "execution_count": 28,
   "id": "ce0f2831",
   "metadata": {},
   "outputs": [],
   "source": [
    "src_tokenizer = Tokenizer()\n",
    "src_tokenizer.fit_on_texts(encoder_input_train)"
   ]
  },
  {
   "cell_type": "markdown",
   "id": "766fb61d",
   "metadata": {},
   "source": [
    "- encoder_input data 를 정수 인코딩한 후, model 에 입력해주어야 합니다.\n",
    "- keras 의 tokenizer 를 활용하여 encoder_input_train data 를 토큰화하고,\n",
    "- 단어집합(vocabulary) 를 생성합니다."
   ]
  },
  {
   "cell_type": "code",
   "execution_count": 29,
   "id": "85dee7c1",
   "metadata": {},
   "outputs": [
    {
     "name": "stdout",
     "output_type": "stream",
     "text": [
      "단어 집합(vocabulary)의 크기: 61442\n",
      "등장 빈도가 6번 이하인 희귀 단어의 수: 42106\n",
      "단어 집합에서 희귀 단어를 제외시킬 경우의 단어 집합의 크기: 19336\n",
      "단어 집합에서 희귀 단어의 비율: 68.52967025812961\n",
      "전체 등장 빈도에서 희귀 단어 등장 빈도 비율: 4.181271223581247\n"
     ]
    }
   ],
   "source": [
    "threshold = 7\n",
    "total_cnt = len(src_tokenizer.word_index)\n",
    "rare_cnt = 0\n",
    "total_freq = 0\n",
    "rare_freq = 0\n",
    "\n",
    "for key, value in src_tokenizer.word_counts.items():\n",
    "    total_freq = total_freq + value\n",
    "\n",
    "    if(value < threshold):\n",
    "        rare_cnt = rare_cnt + 1\n",
    "        rare_freq = rare_freq + value\n",
    "\n",
    "print('단어 집합(vocabulary)의 크기: {}'.format(total_cnt))\n",
    "print('등장 빈도가 {}번 이하인 희귀 단어의 수: {}'.format(threshold - 1, rare_cnt))\n",
    "print('단어 집합에서 희귀 단어를 제외시킬 경우의 단어 집합의 크기: {}'.format(total_cnt - rare_cnt))\n",
    "print(\"단어 집합에서 희귀 단어의 비율: {}\".format((rare_cnt / total_cnt) * 100))\n",
    "print(\"전체 등장 빈도에서 희귀 단어 등장 빈도 비율: {}\".format((rare_freq / total_freq) * 100))"
   ]
  },
  {
   "cell_type": "markdown",
   "id": "9557de23",
   "metadata": {},
   "source": [
    "- 생성된 vocabulary 에서 빈도수가 낮은 단어는 제외하고 사용하도록 하겠습니다.\n",
    "- total_cnt 는 단어의 총 개수입니다.\n",
    "- rare_cnt 는 threshold 보다 낮은 등장 빈도수를 가지는 단어의 총 개수입니다.\n",
    "- total_freq 는 단어의 빈도수 총합입니다.\n",
    "- rare_freq 는 threshold 보다 낮은 등장 빈도수를 가지는 단어의 빈도수 총합입니다.\n",
    "- tokenizer 의 word_counts 에는 각 단어와 단어의 빈도수가 저장되어 있습니다."
   ]
  },
  {
   "cell_type": "markdown",
   "id": "7092a9c3",
   "metadata": {},
   "source": [
    "- encoder_input_train 에는 61526 개의 단어가 있습니다.\n",
    "- 그 중, 6번 이하의 등장 빈도를 가지는 단어는 42220 개로 단어집합에서 68%의 비율을 차지하고 있습니다.\n",
    "- 그러나, 실제로 6번 이하의 등장 빈도를 가지는 희귀 단어가 등장한 실제 빈도는 4.18% 밖에 되지 않습니다.\n",
    "- 따라서, 등장 빈도가 6번 이하인 단어들은 정수 인코딩에서 제외하여 training 시 사용하지 않도록 하겠습니다."
   ]
  },
  {
   "cell_type": "code",
   "execution_count": 30,
   "id": "457bf404",
   "metadata": {},
   "outputs": [],
   "source": [
    "src_vocab = 19000\n",
    "src_tokenizer = Tokenizer(num_words=src_vocab)\n",
    "src_tokenizer.fit_on_texts(encoder_input_train)"
   ]
  },
  {
   "cell_type": "markdown",
   "id": "4e287ff1",
   "metadata": {},
   "source": [
    "- 희귀 단어를 제외한 단어 집합의 크기를 약 19000으로 잡았습니다.\n",
    "- 단어장의 크기를 19000으로 설정하고 다시 단어집합을 생성해줍니다."
   ]
  },
  {
   "cell_type": "code",
   "execution_count": 31,
   "id": "d4dc8ccc",
   "metadata": {},
   "outputs": [
    {
     "name": "stdout",
     "output_type": "stream",
     "text": [
      "[[11735, 2140, 3306, 41, 4469, 7953, 90, 15096, 553, 7953, 234, 608, 984, 3836, 1571, 2847, 2123, 3875, 8102, 5017, 6047, 2140, 1133, 4243, 2847, 2123, 6744, 6514, 579, 1436, 1463, 2140, 1027, 1410], [40, 612, 6871, 11736, 1, 76, 146, 71, 85, 371, 219, 18, 627, 4892, 8, 60, 7954, 38, 76, 71, 436, 9252, 3527, 1163, 375, 28, 7817, 711, 76, 71, 1019, 9, 1028, 2479, 6408, 15920, 9759, 4, 11736], [12, 1536, 9760, 6199, 1995, 131, 818, 825, 223, 77, 324, 832, 335, 1591, 3, 323, 250, 1976, 4557, 323, 446, 1692, 1977, 6199, 380, 2808, 12, 1425, 3257, 131, 818, 782, 3410, 32, 1960, 1186, 1001, 3281, 197]]\n"
     ]
    }
   ],
   "source": [
    "encoder_input_train = src_tokenizer.texts_to_sequences(encoder_input_train)\n",
    "encoder_input_test = src_tokenizer.texts_to_sequences(encoder_input_test)\n",
    "\n",
    "print(encoder_input_train[:3])"
   ]
  },
  {
   "cell_type": "markdown",
   "id": "8f9f8e4f",
   "metadata": {},
   "source": [
    "- 앞서 생성한 단어장을 활용하여 encoder_input data 를 정수인코딩해주었습니다.\n",
    "- 각 문장의 token 들이 단어장의 index 를 기반으로 int type 으로 변환되었습니다."
   ]
  },
  {
   "cell_type": "code",
   "execution_count": 32,
   "id": "38398a36",
   "metadata": {},
   "outputs": [],
   "source": [
    "tar_tokenizer = Tokenizer()\n",
    "tar_tokenizer.fit_on_texts(decoder_input_train)"
   ]
  },
  {
   "cell_type": "markdown",
   "id": "f984e4ca",
   "metadata": {},
   "source": [
    "- encoder_input data 는 단어장이 생성되었고, 정수 인코딩도 완료되었습니다.\n",
    "- decoder_input data 도 마찬가지로 단어장 생성 및 정수 인코딩을 수행하겠습니다."
   ]
  },
  {
   "cell_type": "code",
   "execution_count": 33,
   "id": "5d4afcb9",
   "metadata": {},
   "outputs": [
    {
     "name": "stdout",
     "output_type": "stream",
     "text": [
      "단어 집합(vocabulary)의 크기: 27293\n",
      "등장 빈도가 5번 이하인 희귀 단어의 수: 18257\n",
      "단어 집합에서 희귀 단어를 제외시킬 경우의 단어 집합의 크기: 9036\n",
      "단어 집합에서 희귀 단어의 비율: 66.89260982669549\n",
      "전체 등장 빈도에서 희귀 단어 등장 빈도 비율: 6.00597353107781\n"
     ]
    }
   ],
   "source": [
    "threshold = 6\n",
    "total_cnt = len(tar_tokenizer.word_index)\n",
    "rare_cnt = 0\n",
    "total_freq = 0\n",
    "rare_freq = 0\n",
    "\n",
    "for key, value in tar_tokenizer.word_counts.items():\n",
    "    total_freq = total_freq + value\n",
    "\n",
    "    if(value < threshold):\n",
    "        rare_cnt = rare_cnt + 1\n",
    "        rare_freq = rare_freq + value\n",
    "\n",
    "print('단어 집합(vocabulary)의 크기: {}'.format(total_cnt))\n",
    "print('등장 빈도가 {}번 이하인 희귀 단어의 수: {}'.format(threshold - 1, rare_cnt))\n",
    "print('단어 집합에서 희귀 단어를 제외시킬 경우의 단어 집합의 크기: {}'.format(total_cnt - rare_cnt))\n",
    "print(\"단어 집합에서 희귀 단어의 비율: {}\".format((rare_cnt / total_cnt) * 100))\n",
    "print(\"전체 등장 빈도에서 희귀 단어 등장 빈도 비율: {}\".format((rare_freq / total_freq) * 100))"
   ]
  },
  {
   "cell_type": "markdown",
   "id": "9c82fa59",
   "metadata": {},
   "source": [
    "- decoder_input_train 은 총 27325 개의 단어로 구성되어 있습니다.\n",
    "- 이 중 등장 빈도가 5번 이하인 희귀 단어는 18240 개로 전체 단어 중 66% 의 비율을 차지하고 있습니다.\n",
    "- 그러나, 실제로 희귀 단어가 등장하는 빈도는 전체 빈도 중 약 6% 에 불과합니다.\n",
    "- 따라서, 등장 빈도 5번 이하인 단어들에 대해서만 단어장을 생성하여 training 시 반영하도록 하겠습니다."
   ]
  },
  {
   "cell_type": "code",
   "execution_count": 34,
   "id": "158abc4a",
   "metadata": {},
   "outputs": [],
   "source": [
    "tar_vocab = 9000\n",
    "tar_tokenizer = Tokenizer(num_words=tar_vocab)\n",
    "tar_tokenizer.fit_on_texts(decoder_input_train)\n",
    "tar_tokenizer.fit_on_texts(decoder_target_train)"
   ]
  },
  {
   "cell_type": "markdown",
   "id": "1dbd0d2b",
   "metadata": {},
   "source": [
    "- decoder_input_train 과 decoder_target_train을 토큰화하고 9000 개 크기의 단어장을 생성해주었습니다."
   ]
  },
  {
   "cell_type": "code",
   "execution_count": 35,
   "id": "323f5072",
   "metadata": {},
   "outputs": [],
   "source": [
    "decoder_input_train = tar_tokenizer.texts_to_sequences(decoder_input_train)\n",
    "decoder_input_test = tar_tokenizer.texts_to_sequences(decoder_input_test)\n",
    "decoder_target_train = tar_tokenizer.texts_to_sequences(decoder_target_train)\n",
    "decoder_target_test = tar_tokenizer.texts_to_sequences(decoder_target_test)"
   ]
  },
  {
   "cell_type": "markdown",
   "id": "40f6380b",
   "metadata": {},
   "source": [
    "- decoder_input_train, test 와 decoder_target_train, test 를 앞서 생성한 단어장을 활용하여 정수 인코딩 해주었습니다."
   ]
  },
  {
   "cell_type": "code",
   "execution_count": 36,
   "id": "06de9c89",
   "metadata": {
    "scrolled": true
   },
   "outputs": [
    {
     "name": "stdout",
     "output_type": "stream",
     "text": [
      "input\n",
      "decoder  [[1, 50, 8201, 18, 1177, 4, 8202], [1, 28, 42, 326, 16, 408, 299, 5408, 4, 6504, 178], [1, 8, 339, 425, 1758, 3969, 416, 5736, 15, 4142], [1, 632, 135, 26, 160, 9, 2136, 2396, 43, 4, 240], [1, 307, 310, 806, 259, 1096, 159, 492]]\n",
      "target\n",
      "decoder  [[50, 8201, 18, 1177, 4, 8202, 2], [28, 42, 326, 16, 408, 299, 5408, 4, 6504, 178, 2], [8, 339, 425, 1758, 3969, 416, 5736, 15, 4142, 2], [632, 135, 26, 160, 9, 2136, 2396, 43, 4, 240, 2], [307, 310, 806, 259, 1096, 159, 492, 2]]\n"
     ]
    }
   ],
   "source": [
    "print('input')\n",
    "print('decoder ', decoder_input_train[:5])\n",
    "print('target')\n",
    "print('decoder ', decoder_target_train[:5])"
   ]
  },
  {
   "cell_type": "markdown",
   "id": "5ed34342",
   "metadata": {},
   "source": [
    "- decoder 의 input 과 target 이 정상적으로 정수 인코딩되었습니다."
   ]
  },
  {
   "cell_type": "markdown",
   "id": "9e00f3fc",
   "metadata": {},
   "source": [
    "- 단어장을 생성하고 정수 인코딩을 수행하는 과정에서 빈도수가 낮은 단어들로만 이루어진 문장의 경우에는 삭제되었을 확률이 높습니다.\n",
    "- 특히나, text 열로 이루어진 encoder_input data 의 경우에는 확률이 낮지만,\n",
    "- headlines 열로 이루어진 decoder_input, decoder_target data 의 경우에는 모든 토큰이 삭제되었을 확률이 높습니다.\n",
    "- 따라서, 모든 문장이 삭제된 data 를 찾아보겠습니다."
   ]
  },
  {
   "cell_type": "code",
   "execution_count": 37,
   "id": "9973ead1",
   "metadata": {},
   "outputs": [
    {
     "name": "stdout",
     "output_type": "stream",
     "text": [
      "삭제할 훈련 데이터의 개수 : 0\n",
      "삭제할 테스트 데이터의 개수 : 0\n"
     ]
    }
   ],
   "source": [
    "drop_train = [index for index, sentence in enumerate(decoder_input_train) if len(sentence) == 1]\n",
    "drop_test = [index for index, sentence in enumerate(decoder_input_test) if len(sentence) == 1]\n",
    "\n",
    "print('삭제할 훈련 데이터의 개수 :', len(drop_train))\n",
    "print('삭제할 테스트 데이터의 개수 :', len(drop_test))"
   ]
  },
  {
   "cell_type": "markdown",
   "id": "23d5ccd2",
   "metadata": {},
   "source": [
    "- 모든 decoder_input 에는 앞서 sostoken 을 추가해주었고,\n",
    "- 모든 decoder_target 에는 eostoken 을 추가해주었으므로,\n",
    "- 빈도수가 낮아 모든 토큰이 삭제되었다고 하더라도 sostoken 과 eostoken 은 남아있을 것입니다.\n",
    "- 따라서, 문장의 길이가 1 인 데이터를 찾아보았습니다.\n",
    "- 다행히, 모든 토큰이 제거된 문장은 없습니다."
   ]
  },
  {
   "cell_type": "code",
   "execution_count": 38,
   "id": "55201d6e",
   "metadata": {},
   "outputs": [],
   "source": [
    "encoder_input_train = pad_sequences(encoder_input_train, maxlen = text_max_len, padding = 'post')\n",
    "encoder_input_test = pad_sequences(encoder_input_test, maxlen = text_max_len, padding = 'post')\n",
    "decoder_input_train = pad_sequences(decoder_input_train, maxlen = headlines_max_len, padding = 'post')\n",
    "decoder_input_test = pad_sequences(decoder_input_test, maxlen = headlines_max_len, padding = 'post')\n",
    "decoder_target_train = pad_sequences(decoder_target_train, maxlen = headlines_max_len, padding = 'post')\n",
    "decoder_target_test = pad_sequences(decoder_target_test, maxlen = headlines_max_len, padding = 'post')"
   ]
  },
  {
   "cell_type": "markdown",
   "id": "e680fa91",
   "metadata": {},
   "source": [
    "- 이제 모든 data 가 정수 인코딩 되었으므로, 패딩을 추가해주었습니다.\n",
    "- pad_sequences() 를 이용하면 손쉽게 원하는 위치에 패딩을 추가해줄 수 있습니다.\n",
    "- 앞서 설정한 max_len 을 기준으로 문장의 뒤에 숫자 0 을 추가하였습니다."
   ]
  },
  {
   "cell_type": "markdown",
   "id": "b7bd0649",
   "metadata": {},
   "source": [
    "### 모델링"
   ]
  },
  {
   "cell_type": "code",
   "execution_count": 39,
   "id": "ee7f8ff2",
   "metadata": {},
   "outputs": [
    {
     "name": "stdout",
     "output_type": "stream",
     "text": [
      "WARNING:tensorflow:Layer lstm will not use cuDNN kernels since it doesn't meet the criteria. It will use a generic GPU kernel as fallback when running on GPU.\n",
      "WARNING:tensorflow:Layer lstm_1 will not use cuDNN kernels since it doesn't meet the criteria. It will use a generic GPU kernel as fallback when running on GPU.\n",
      "WARNING:tensorflow:Layer lstm_2 will not use cuDNN kernels since it doesn't meet the criteria. It will use a generic GPU kernel as fallback when running on GPU.\n"
     ]
    }
   ],
   "source": [
    "# Encoder\n",
    "embedding_dim = 200\n",
    "hidden_size = 128\n",
    "\n",
    "# Encoder Input\n",
    "encoder_inputs = Input(shape=(text_max_len,))\n",
    "\n",
    "# Encoder Embedding Layer\n",
    "enc_emb = Embedding(src_vocab, embedding_dim)(encoder_inputs)\n",
    "\n",
    "# Encoder LSTM Layer_1\n",
    "encoder_lstm1 = LSTM(hidden_size, return_sequences=True, return_state=True,\n",
    "                     dropout=0.4, recurrent_dropout=0.4)\n",
    "encoder_output1, state_h1, state_c1 = encoder_lstm1(enc_emb)\n",
    "\n",
    "# Encoder LSTM Layer_2\n",
    "encoder_lstm2 = LSTM(hidden_size, return_sequences=True, return_state=True,\n",
    "                     dropout=0.4, recurrent_dropout=0.4)\n",
    "encoder_output2, state_h2, state_c2 = encoder_lstm2(encoder_output1)\n",
    "\n",
    "# Encoder LSTM Layer_3\n",
    "encoder_lstm3 = LSTM(hidden_size, return_sequences=True, return_state=True,\n",
    "                     dropout=0.4, recurrent_dropout=0.4)\n",
    "encoder_outputs, state_h, state_c = encoder_lstm3(encoder_output2)"
   ]
  },
  {
   "cell_type": "markdown",
   "id": "26f47c1e",
   "metadata": {},
   "source": [
    "- Encoder 를 모델링해주었습니다.\n",
    "- 임베딩 차원 수는 200 으로 설정해주었고, hidden state 의 크기는 128 로 설정하였습니다.\n",
    "- hidden state 는 LSTM Layer 에서 뉴런의 개수를 의미합니다.\n",
    "- 또한, Encoder 는 총 3 개의 LSTM Layer 로 구성해주었습니다.\n",
    "- 모델의 과적합을 최대한 줄여주기 위해 dropout 과 recurrent dropout 을 사용하였습니다.\n",
    "- 일반적인 dropout 은 Layer 의 weight 을 랜덤으로 생략해주지만, recurrent dropout 을 함께 사용하면, time step 마다 입력을 랜덤으로 생략할 수 있습니다.\n",
    "- 이제 Encoder 에서 3 개의 층을 통과한 출력 벡터를 Decoder 로 전달해주어야 합니다."
   ]
  },
  {
   "cell_type": "code",
   "execution_count": 40,
   "id": "f55ba11e",
   "metadata": {},
   "outputs": [
    {
     "name": "stdout",
     "output_type": "stream",
     "text": [
      "WARNING:tensorflow:Layer lstm_3 will not use cuDNN kernels since it doesn't meet the criteria. It will use a generic GPU kernel as fallback when running on GPU.\n"
     ]
    }
   ],
   "source": [
    "# Decoder Input\n",
    "decoder_inputs = Input(shape=(None,))\n",
    "\n",
    "# Decoder Embedding Layer\n",
    "dec_emb_layer = Embedding(tar_vocab, embedding_dim)\n",
    "dec_emb = dec_emb_layer(decoder_inputs)\n",
    "\n",
    "# Decoder LSTM Layer_1\n",
    "decoder_lstm = LSTM(hidden_size, return_sequences=True, return_state=True,\n",
    "                    dropout=0.4, recurrent_dropout=0.2)\n",
    "decoder_outputs, _, _ = decoder_lstm(dec_emb, initial_state=[state_h, state_c])"
   ]
  },
  {
   "cell_type": "markdown",
   "id": "6fb14ba1",
   "metadata": {},
   "source": [
    "- Decoder 를 모델링해주었습니다.\n",
    "- Decoder 에서는 LSTM Layer 1 개를 사용하였습니다.\n",
    "- Encoder 의 hidden_state 와 cell_state 를 Decoder 의 LSTM Layer 생성 시, 파라미터로 넣어주어야 합니다.\n",
    "- 이제 Attention Layer 를 결합한 Decoder 의 출력층을 설계해보겠습니다."
   ]
  },
  {
   "cell_type": "code",
   "execution_count": 41,
   "id": "f34af6de",
   "metadata": {},
   "outputs": [],
   "source": [
    "# Attention Layer\n",
    "attn_layer = AdditiveAttention(name='attention_layer')\n",
    "attn_out = attn_layer([decoder_outputs, encoder_outputs])\n",
    "\n",
    "# Concatenate attn_out and decoder_outputs\n",
    "decoder_concat_input = Concatenate(axis=-1, name='concat_layer')([decoder_outputs, attn_out])"
   ]
  },
  {
   "cell_type": "markdown",
   "id": "9bcf364b",
   "metadata": {},
   "source": [
    "- Attention Layer 를 설계하였습니다.\n",
    "- tensorflow 에서는 Attention Function 을 API 로 제공하고 있습니다.\n",
    "- Encoder output 과 Decoder output 을 Attention Layer 로 전달하여 출력을 반환합니다.\n",
    "- 이후, Concat Layer 에서 Attention Layer 의 출력값과 Decoder 의 hidden_state 들을 연결합니다."
   ]
  },
  {
   "cell_type": "code",
   "execution_count": 42,
   "id": "e02f582d",
   "metadata": {},
   "outputs": [],
   "source": [
    "# Decoder Output Layer\n",
    "decoder_softmax_layer = Dense(tar_vocab, activation='softmax')\n",
    "decoder_softmax_outputs = decoder_softmax_layer(decoder_concat_input)"
   ]
  },
  {
   "cell_type": "markdown",
   "id": "66318a4d",
   "metadata": {},
   "source": [
    "- Decoder 의 Output Layer 에서는 tar_vocab 내의 단어들 중 다음에 나올 단어들의 각 확률을 반환하는 Softmax 활성화함수를 사용하고 있습니다."
   ]
  },
  {
   "cell_type": "code",
   "execution_count": 43,
   "id": "0eca537b",
   "metadata": {},
   "outputs": [
    {
     "name": "stdout",
     "output_type": "stream",
     "text": [
      "Model: \"model\"\n",
      "__________________________________________________________________________________________________\n",
      "Layer (type)                    Output Shape         Param #     Connected to                     \n",
      "==================================================================================================\n",
      "input_1 (InputLayer)            [(None, 40)]         0                                            \n",
      "__________________________________________________________________________________________________\n",
      "embedding (Embedding)           (None, 40, 200)      3800000     input_1[0][0]                    \n",
      "__________________________________________________________________________________________________\n",
      "lstm (LSTM)                     [(None, 40, 128), (N 168448      embedding[0][0]                  \n",
      "__________________________________________________________________________________________________\n",
      "input_2 (InputLayer)            [(None, None)]       0                                            \n",
      "__________________________________________________________________________________________________\n",
      "lstm_1 (LSTM)                   [(None, 40, 128), (N 131584      lstm[0][0]                       \n",
      "__________________________________________________________________________________________________\n",
      "embedding_1 (Embedding)         (None, None, 200)    1800000     input_2[0][0]                    \n",
      "__________________________________________________________________________________________________\n",
      "lstm_2 (LSTM)                   [(None, 40, 128), (N 131584      lstm_1[0][0]                     \n",
      "__________________________________________________________________________________________________\n",
      "lstm_3 (LSTM)                   [(None, None, 128),  168448      embedding_1[0][0]                \n",
      "                                                                 lstm_2[0][1]                     \n",
      "                                                                 lstm_2[0][2]                     \n",
      "__________________________________________________________________________________________________\n",
      "attention_layer (AdditiveAttent (None, None, 128)    128         lstm_3[0][0]                     \n",
      "                                                                 lstm_2[0][0]                     \n",
      "__________________________________________________________________________________________________\n",
      "concat_layer (Concatenate)      (None, None, 256)    0           lstm_3[0][0]                     \n",
      "                                                                 attention_layer[0][0]            \n",
      "__________________________________________________________________________________________________\n",
      "dense (Dense)                   (None, None, 9000)   2313000     concat_layer[0][0]               \n",
      "==================================================================================================\n",
      "Total params: 8,513,192\n",
      "Trainable params: 8,513,192\n",
      "Non-trainable params: 0\n",
      "__________________________________________________________________________________________________\n"
     ]
    }
   ],
   "source": [
    "# Define Model\n",
    "model = Model([encoder_inputs, decoder_inputs], decoder_softmax_outputs)\n",
    "model.summary()"
   ]
  },
  {
   "cell_type": "markdown",
   "id": "ec572826",
   "metadata": {},
   "source": [
    "- 즉, Encoder 의 hidden_state 와 Decoder 의 hidden_state 들을 Attention Layer 의 Input 으로하여 리턴한 값을 예측 시에 Decoder 의 hidden_state 와 결합하여 활용하는 형태입니다. "
   ]
  },
  {
   "cell_type": "markdown",
   "id": "d4d6ab36",
   "metadata": {},
   "source": [
    "### 훈련"
   ]
  },
  {
   "cell_type": "code",
   "execution_count": 44,
   "id": "d98a9219",
   "metadata": {
    "scrolled": true
   },
   "outputs": [
    {
     "name": "stdout",
     "output_type": "stream",
     "text": [
      "Epoch 1/50\n",
      "232/232 [==============================] - 140s 536ms/step - loss: 6.3804 - val_loss: 5.9845\n",
      "Epoch 2/50\n",
      "232/232 [==============================] - 124s 533ms/step - loss: 5.8841 - val_loss: 5.6874\n",
      "Epoch 3/50\n",
      "232/232 [==============================] - 123s 532ms/step - loss: 5.5846 - val_loss: 5.4465\n",
      "Epoch 4/50\n",
      "232/232 [==============================] - 124s 534ms/step - loss: 5.3290 - val_loss: 5.2229\n",
      "Epoch 5/50\n",
      "232/232 [==============================] - 124s 533ms/step - loss: 5.1231 - val_loss: 5.0700\n",
      "Epoch 6/50\n",
      "232/232 [==============================] - 124s 536ms/step - loss: 4.9565 - val_loss: 4.9593\n",
      "Epoch 7/50\n",
      "232/232 [==============================] - 123s 531ms/step - loss: 4.8122 - val_loss: 4.8598\n",
      "Epoch 8/50\n",
      "232/232 [==============================] - 124s 537ms/step - loss: 4.6797 - val_loss: 4.7643\n",
      "Epoch 9/50\n",
      "232/232 [==============================] - 124s 535ms/step - loss: 4.5636 - val_loss: 4.6971\n",
      "Epoch 10/50\n",
      "232/232 [==============================] - 123s 532ms/step - loss: 4.4574 - val_loss: 4.6283\n",
      "Epoch 11/50\n",
      "232/232 [==============================] - 125s 537ms/step - loss: 4.3600 - val_loss: 4.5778\n",
      "Epoch 12/50\n",
      "232/232 [==============================] - 123s 530ms/step - loss: 4.2708 - val_loss: 4.5174\n",
      "Epoch 13/50\n",
      "232/232 [==============================] - 122s 528ms/step - loss: 4.1876 - val_loss: 4.4842\n",
      "Epoch 14/50\n",
      "232/232 [==============================] - 122s 527ms/step - loss: 4.1100 - val_loss: 4.4366\n",
      "Epoch 15/50\n",
      "232/232 [==============================] - 123s 530ms/step - loss: 4.0380 - val_loss: 4.4081\n",
      "Epoch 16/50\n",
      "232/232 [==============================] - 122s 528ms/step - loss: 3.9705 - val_loss: 4.3742\n",
      "Epoch 17/50\n",
      "232/232 [==============================] - 123s 532ms/step - loss: 3.9099 - val_loss: 4.3443\n",
      "Epoch 18/50\n",
      "232/232 [==============================] - 123s 529ms/step - loss: 3.8512 - val_loss: 4.3294\n",
      "Epoch 19/50\n",
      "232/232 [==============================] - 124s 533ms/step - loss: 3.7980 - val_loss: 4.3090\n",
      "Epoch 20/50\n",
      "232/232 [==============================] - 123s 530ms/step - loss: 3.7458 - val_loss: 4.2916\n",
      "Epoch 21/50\n",
      "232/232 [==============================] - 125s 537ms/step - loss: 3.6922 - val_loss: 4.2738\n",
      "Epoch 22/50\n",
      "232/232 [==============================] - 125s 539ms/step - loss: 3.6453 - val_loss: 4.2542\n",
      "Epoch 23/50\n",
      "232/232 [==============================] - 124s 536ms/step - loss: 3.6014 - val_loss: 4.2429\n",
      "Epoch 24/50\n",
      "232/232 [==============================] - 124s 534ms/step - loss: 3.5610 - val_loss: 4.2322\n",
      "Epoch 25/50\n",
      "232/232 [==============================] - 126s 541ms/step - loss: 3.5197 - val_loss: 4.2260\n",
      "Epoch 26/50\n",
      "232/232 [==============================] - 125s 537ms/step - loss: 3.4815 - val_loss: 4.2115\n",
      "Epoch 27/50\n",
      "232/232 [==============================] - 126s 542ms/step - loss: 3.4445 - val_loss: 4.2052\n",
      "Epoch 28/50\n",
      "232/232 [==============================] - 127s 545ms/step - loss: 3.4070 - val_loss: 4.1981\n",
      "Epoch 29/50\n",
      "232/232 [==============================] - 125s 537ms/step - loss: 3.3749 - val_loss: 4.1886\n",
      "Epoch 30/50\n",
      "232/232 [==============================] - 126s 545ms/step - loss: 3.3415 - val_loss: 4.1972\n",
      "Epoch 31/50\n",
      "232/232 [==============================] - 126s 545ms/step - loss: 3.3100 - val_loss: 4.1757\n",
      "Epoch 32/50\n",
      "232/232 [==============================] - 127s 546ms/step - loss: 3.2792 - val_loss: 4.1757\n",
      "Epoch 33/50\n",
      "232/232 [==============================] - 127s 547ms/step - loss: 3.2502 - val_loss: 4.1704\n",
      "Epoch 34/50\n",
      "232/232 [==============================] - 126s 543ms/step - loss: 3.2205 - val_loss: 4.1747\n",
      "Epoch 35/50\n",
      "232/232 [==============================] - 127s 546ms/step - loss: 3.1932 - val_loss: 4.1672\n",
      "Epoch 36/50\n",
      "232/232 [==============================] - 126s 541ms/step - loss: 3.1640 - val_loss: 4.1669\n",
      "Epoch 37/50\n",
      "232/232 [==============================] - 126s 545ms/step - loss: 3.1372 - val_loss: 4.1664\n",
      "Epoch 38/50\n",
      "232/232 [==============================] - 126s 544ms/step - loss: 3.1089 - val_loss: 4.1626\n",
      "Epoch 39/50\n",
      "232/232 [==============================] - 127s 546ms/step - loss: 3.0835 - val_loss: 4.1623\n",
      "Epoch 40/50\n",
      "232/232 [==============================] - 126s 544ms/step - loss: 3.0572 - val_loss: 4.1535\n",
      "Epoch 41/50\n",
      "232/232 [==============================] - 127s 545ms/step - loss: 3.0331 - val_loss: 4.1583\n",
      "Epoch 42/50\n",
      "232/232 [==============================] - 126s 542ms/step - loss: 3.0109 - val_loss: 4.1563\n",
      "Epoch 00042: early stopping\n"
     ]
    }
   ],
   "source": [
    "model.compile(optimizer='rmsprop', loss='sparse_categorical_crossentropy')\n",
    "\n",
    "es = EarlyStopping(monitor='val_loss', patience=2, verbose=1)\n",
    "\n",
    "history = model.fit(x=[encoder_input_train, decoder_input_train], y=decoder_target_train,\n",
    "          validation_data=([encoder_input_test, decoder_input_test], decoder_target_test),\n",
    "          batch_size=256, callbacks=[es], epochs=50)"
   ]
  },
  {
   "cell_type": "markdown",
   "id": "28262c76",
   "metadata": {},
   "source": [
    "- early stopping 은 검증 데이터의 loss 가 증가하는 현상이 2회 관측될 경우, 학습을 중단하도록 설정되어 있습니다.\n",
    "- 훈련 데이터의 loss 와 검증 데이터의 loss 를 시각화하겠습니다."
   ]
  },
  {
   "cell_type": "code",
   "execution_count": 45,
   "id": "81623d9d",
   "metadata": {},
   "outputs": [
    {
     "data": {
      "image/png": "[encoded data removed]",
      "text/plain": [
       "<Figure size 432x288 with 1 Axes>"
      ]
     },
     "metadata": {
      "needs_background": "light"
     },
     "output_type": "display_data"
    }
   ],
   "source": [
    "plt.plot(history.history['loss'], label='train')\n",
    "plt.plot(history.history['val_loss'], label='test')\n",
    "plt.legend()\n",
    "plt.show()"
   ]
  },
  {
   "cell_type": "markdown",
   "id": "8d39839c",
   "metadata": {},
   "source": [
    "### 테스트"
   ]
  },
  {
   "cell_type": "markdown",
   "id": "3713e077",
   "metadata": {},
   "source": [
    "- 학습이 종료되었으므로, 훈련된 모델을 테스트해보도록 하겠습니다."
   ]
  },
  {
   "cell_type": "code",
   "execution_count": 46,
   "id": "8c22a3ad",
   "metadata": {},
   "outputs": [],
   "source": [
    "src_index_to_word = src_tokenizer.index_word\n",
    "tar_word_to_index = tar_tokenizer.word_index\n",
    "tar_index_to_word = tar_tokenizer.index_word"
   ]
  },
  {
   "cell_type": "markdown",
   "id": "1f4e5cfb",
   "metadata": {},
   "source": [
    "- 테스트 시에는 정수 인코딩된 데이터들을 실제 문장 데이터로 복원해주어야 합니다.\n",
    "- 따라서, 3 개의 사전을 준비해두겠습니다."
   ]
  },
  {
   "cell_type": "markdown",
   "id": "2339aef8",
   "metadata": {},
   "source": [
    "- 테스트 시 사용할 모델은 훈련 시 설계했던 모델과 달라 별도로 구현해주어야 합니다.\n",
    "- 훈련 시 설계했던 모델은 decoder 의 Input 에 정답이 되는 target data 를 같이 넣어주어 출력과 한 번에 비교할 수 있었지만,\n",
    "- 실제 테스트 시에는 정답이 되는 문장이 없으므로, 생성해내야할 문장의 길이만큼 Decoder 가 반복적으로 동작하여야 하기 때문입니다."
   ]
  },
  {
   "cell_type": "code",
   "execution_count": 47,
   "id": "86272577",
   "metadata": {},
   "outputs": [],
   "source": [
    "# Encoder\n",
    "encoder_model = Model(inputs=encoder_inputs, outputs=[encoder_outputs, state_h, state_c])\n",
    "\n",
    "# state Tensor\n",
    "decoder_state_input_h = Input(shape=(hidden_size,))\n",
    "decoder_state_input_c = Input(shape=(hidden_size,))\n",
    "\n",
    "dec_emb2 = dec_emb_layer(decoder_inputs)\n",
    "\n",
    "decoder_outputs2, state_h2, state_c2 = decoder_lstm(dec_emb2, initial_state=[decoder_state_input_h, decoder_state_input_c])"
   ]
  },
  {
   "cell_type": "markdown",
   "id": "1dbed35a",
   "metadata": {},
   "source": [
    "- decoder_state_input_h 와 decoder_state_input_c 는 이전 시점의 hidden_state 와 cell_state 를 저장하는 텐서입니다.\n",
    "- 문장의 다음 단어를 예측하기 위해서 initial_state 를 이전 시점의 hidden_state 와 cell_state 로 설정합니다.\n",
    "- 훈련 시와는 달리 LSTM Layer 가 리턴하는 hidden_state 와 cell_state 를 계속 활용합니다."
   ]
  },
  {
   "cell_type": "code",
   "execution_count": 48,
   "id": "effbbe93",
   "metadata": {},
   "outputs": [],
   "source": [
    "# Attention Function\n",
    "decoder_hidden_state_input = Input(shape=(text_max_len, hidden_size))\n",
    "attn_out_inf = attn_layer([decoder_outputs2, decoder_hidden_state_input])\n",
    "decoder_inf_concat = Concatenate(axis=-1, name='concat')([decoder_outputs2, attn_out_inf])\n",
    "\n",
    "# Decoder Output Layer\n",
    "decoder_outputs2 = decoder_softmax_layer(decoder_inf_concat) \n",
    "\n",
    "# Define Decoder Model\n",
    "decoder_model = Model(\n",
    "    [decoder_inputs] + [decoder_hidden_state_input, decoder_state_input_h, decoder_state_input_c],\n",
    "    [decoder_outputs2] + [state_h2, state_c2])"
   ]
  },
  {
   "cell_type": "markdown",
   "id": "00b8b7f1",
   "metadata": {},
   "source": [
    "- Attention Layer 를 설계해주었습니다.\n",
    "- Attention Layer 의 Output 과 Decoder 의 Output 을 결합하여 결과값을 리턴합니다.\n",
    "- Decoder 의 최종 Output 은 Softmax 활성화함수를 통과합니다."
   ]
  },
  {
   "cell_type": "code",
   "execution_count": 49,
   "id": "89503235",
   "metadata": {},
   "outputs": [],
   "source": [
    "def decode_sequence(input_seq):\n",
    "    e_out, e_h, e_c = encoder_model.predict(input_seq)\n",
    "\n",
    "    target_seq = np.zeros((1,1))\n",
    "    target_seq[0, 0] = tar_word_to_index['sostoken']\n",
    "\n",
    "    stop_condition = False\n",
    "    decoded_sentence = ''\n",
    "    while not stop_condition:\n",
    "\n",
    "        output_tokens, h, c = decoder_model.predict([target_seq] + [e_out, e_h, e_c])\n",
    "        sampled_token_index = np.argmax(output_tokens[0, -1, :])\n",
    "        sampled_token = tar_index_to_word[sampled_token_index]\n",
    "\n",
    "        if (sampled_token != 'eostoken'):\n",
    "            decoded_sentence += ' ' + sampled_token\n",
    "\n",
    "        if (sampled_token == 'eostoken'  or len(decoded_sentence.split()) >= (headlines_max_len - 1)):\n",
    "            stop_condition = True\n",
    "\n",
    "        target_seq = np.zeros((1,1))\n",
    "        target_seq[0, 0] = sampled_token_index\n",
    "\n",
    "        e_h, e_c = h, c\n",
    "\n",
    "    return decoded_sentence"
   ]
  },
  {
   "cell_type": "markdown",
   "id": "462ce3d4",
   "metadata": {},
   "source": [
    "- 단어 시퀀스를 완성하는 함수를 정의하였습니다.\n",
    "- 입력값으로부터 Encoder 의 output 과 states 를 얻습니다.\n",
    "- target_seq 에 sostoken 을 생성합니다.\n",
    "- while 반복문에서는 stop_condition 이 True 가 될 때까지 루프를 반복합니다.\n",
    "- stop_condition 은 eostoken 이 생성되거나, 문장의 길이가 앞서 설정한 max_len 을 넘어가게 되면 True 로 바뀝니다.\n",
    "- while 반복문 내에서는 Encoder 로 부터 얻은 output 과 states 앞에 sostoken 이 담긴 target_seq 를 붙여 Decoder Model 로 전달합니다.\n",
    "- Decoder Model 에서는 output 과 states 를 반환합니다.\n",
    "- Decoder Model 에서 Softmax 를 통과하여 나온 Output 중에서 가장 큰 확률을 가지는 단어의 인덱스를 argmax 로 선택합니다.\n",
    "- 선택된 인덱스를 미리 만든 사전을 활용하여 단어로 매핑합니다.\n",
    "- 매핑된 단어가 eostoken 이 아니라면, decoded_sentence 에 누적됩니다.\n",
    "- 이후, target_seq 을 다시 초기화하고, sostoken 이 아닌 앞서 예측한 단어의 인덱스로 업데이트합니다.\n",
    "- Decoder Model 에서 나온 states 값으로 업데이트합니다.\n",
    "- 위에서 업데이트해준 target_seq 와 states 값을 활용해 Decoder 에 다시 넣어줍니다.\n",
    "- 모든 루프가 종료되면, decoded_sentence 를 반환합니다."
   ]
  },
  {
   "cell_type": "code",
   "execution_count": 50,
   "id": "78fa97ad",
   "metadata": {},
   "outputs": [],
   "source": [
    "def seq2text(input_seq):\n",
    "    temp = ''\n",
    "    for i in input_seq:\n",
    "        if (i != 0):\n",
    "            temp = temp + src_index_to_word[i] + ' '\n",
    "    return temp\n",
    "\n",
    "\n",
    "def seq2headlines(input_seq):\n",
    "    temp = ''\n",
    "    for i in input_seq:\n",
    "        if ((i != 0 and i != tar_word_to_index['sostoken']) and i != tar_word_to_index['eostoken']):\n",
    "            temp = temp + tar_index_to_word[i] + ' '\n",
    "    return temp"
   ]
  },
  {
   "cell_type": "markdown",
   "id": "81743673",
   "metadata": {},
   "source": [
    "- text와 headlines의 정수형 시퀀스를 문자형 시퀀스로 변환하는 함수를 정의하였습니다.\n",
    "- text 변환 시, pad 를 제외하고 변환하여 temp 에 누적합니다.\n",
    "- headlines 변환 시, pad, sostoken, eostoken 을 제외하고 변환하여 temp 에 누적합니다."
   ]
  },
  {
   "cell_type": "code",
   "execution_count": 51,
   "id": "365f34c7",
   "metadata": {},
   "outputs": [
    {
     "name": "stdout",
     "output_type": "stream",
     "text": [
      "text : andhra pradesh government requested centre release crore interim relief restoration measures districts hit cyclone titli letter pm narendra modi cm chandrababu naidu claimed cost damaged properties infrastructure crops estimated crore eight people andhra pradesh killed due cyclone \n",
      "real_headlines : asks centre for crore for cyclone titli damages \n",
      "pred_headlines :  punjab govt approves crore for crore\n",
      "\n",
      "\n",
      "text : many people committed suicide due failure examination according data released national crime records bureau deceased accounted suicides number slightly lower people killing failing exams \n",
      "real_headlines : over people committed suicide in due to exams \n",
      "pred_headlines :  bihar police committed suicide in note\n",
      "\n",
      "\n",
      "text : indian spinner ravichandran ashwin became first bowler test cricket history take wickets single season test cricket year old scalps name took wickets top batsmen spinner averaged right four less averaged left handed batsmen \n",
      "real_headlines : ashwin st in test history to take wickets in season \n",
      "pred_headlines :  ashwin tests record for most wickets in tests\n",
      "\n",
      "\n",
      "text : least people including year old girl died people hospitalised consuming prasad temple karnataka district according district officials many people gathered temple inauguration given rice prasad devotees consumed several began vomiting police said \n",
      "real_headlines : dead hospitalised after eating prasad from karnataka temple \n",
      "pred_headlines :  dead after being hit by in gujarat temple\n",
      "\n",
      "\n",
      "text : whatsapp warned chat updated one year automatically removed google drive starting november whatsapp longer count towards google drive storage quota facebook owned messaging platform said apple users store data icloud android users backup data google drive added \n",
      "real_headlines : whatsapp to delete data not for over year \n",
      "pred_headlines :  facebook to get facebook from messenger\n",
      "\n",
      "\n",
      "text : us securities exchange commission charged reddy resident us state georgia insider trading company hit data breach allegedly used non public information sell company assets made return initial investment company equifax terminated year old employment year long tenure \n",
      "real_headlines : indian it manager charged with insider trading in us \n",
      "pred_headlines :  us firm charged with fraud of us\n",
      "\n",
      "\n",
      "text : nearly foot deep opened farm near new zealand several days heavy rainfall locally known said could forming years almost feet long ninth form farm recent years \n",
      "real_headlines : foot deep opens up on new zealand farm \n",
      "pred_headlines :  year old tree in water to be built in\n",
      "\n",
      "\n",
      "text : aamir khan zaira wasim starrer secret superstar beaten opening day collections dangal china earning crore dangal first indian film china cross collections crore making highest grossing non hollywood film country secret superstar released india october last year \n",
      "real_headlines : secret superstar beats dangal st day collections in china \n",
      "pred_headlines :  secret superstar earns cr worldwide for days in china\n",
      "\n",
      "\n",
      "text : secretary gulzar azmi tuesday said everyone wants equality let men women carry pregnancy months cleric comment came response newly proposed haj policy allowing women aged years travel haj pilgrimage group least four without male member \n",
      "real_headlines : let men women carry pregnancy for months each cleric \n",
      "pred_headlines :  women should be like women and rapists\n",
      "\n",
      "\n",
      "text : tickets proposed bullet train connecting mumbai ahmedabad expected cost government officials said based current projections fares business class tickets expected higher bullet train expected cut travel time cities little hours \n",
      "real_headlines : mumbai ahmedabad bullet train tickets may cost \n",
      "pred_headlines :  railways to get new trains from trains\n",
      "\n",
      "\n",
      "text : finance minister arun jaitley tuesday said substitute rahul gandhi failed politics responding allegations made congress chief rahul gandhi pm narendra modi admitted theft rafale deal upa delayed rafale purchase much required improving combat ability indian air force added \n",
      "real_headlines : no substitute for rahul failed politics jaitley \n",
      "pred_headlines :  rahul gandhi is not good pm modi\n",
      "\n",
      "\n",
      "text : us president donald trump claimed unaware son donald trump jr meeting russian lawyer june last year trump son met lawyer allegedly offered damaging information trump presidential rival hillary clinton part russia support father trump also defended son disclosures meeting \n",
      "real_headlines : did not know about son meeting with russian lawyer trump \n",
      "pred_headlines :  trump son son to have been at press conference\n",
      "\n",
      "\n",
      "text : actress katrina kaif said upcoming dwarf film shah rukh khan originally titled katrina meri jaan people thought played film talking aanand rai directorial added different film since lot changes \n",
      "real_headlines : people thought played myself in srk dwarf film katrina \n",
      "pred_headlines :  katrina kaif shares his film with his padmavati\n",
      "\n",
      "\n",
      "text : actor tiger shroff shared first look poster upcoming film munna michael social media caption alongside poster read steps legend tiger plays role munna fan michael jackson film described india first action dance movie film release july \n",
      "real_headlines : tiger shroff shares first look poster of munna michael \n",
      "pred_headlines :  tiger shroff shares video of tiger shroff tiger shroff\n",
      "\n",
      "\n",
      "text : offered pay tuition fees fans provided grades verified school singer previously running contest pay international fan attend upcoming billboard awards extended contest fees user tweeted needed help \n",
      "real_headlines : offers to pay fees for fans \n",
      "pred_headlines :  lakh women to get lakh for ipl\n",
      "\n",
      "\n",
      "text : afghanistan national directorate security said explosives used taliban militants attack intercontinental hotel kabul last week came pakistan spy agency recovered van full explosives militants failed least people including foreigners killed hour siege \n",
      "real_headlines : pakistan made explosives used in kabul attack afghanistan \n",
      "pred_headlines :  taliban taliban kills afghan taliban in afghanistan\n",
      "\n",
      "\n",
      "text : participating interactive session hyderabad union minister state commerce industry nirmala sitharaman saturday said politics needs women want male female politics today youngsters want politics seen years ago looking honestly serving nation sitharaman added \n",
      "real_headlines : politics needs more women commerce minister sitharaman \n",
      "pred_headlines :  will not be like in india rajnath singh\n",
      "\n",
      "\n",
      "text : using cricket ball illegal method applied cricketers order generate reverse swing reverse swing occurs old ball relatively side ball moves towards side rubbing ball helps rough side ball facilitate reverse swing \n",
      "real_headlines : what effect does have on cricket ball \n",
      "pred_headlines :  rohit sharma fined for ball tampering\n",
      "\n",
      "\n",
      "text : amazon reportedly stop selling strategy around items cannot realise profit internally called crap items like bottled water snacks typically cost less expensive ship amazon eliminate items work manufacturers vendors certain items increase profitability \n",
      "real_headlines : amazon may stop sale of items \n",
      "pred_headlines :  saudi arabia bans road for selling air pollution\n",
      "\n",
      "\n",
      "text : uttar pradesh bjp general secretary pankaj singh sunday confidence bjp register bigger win lok sabha elections compared elections also accused sp bsp little development state grand alliance impact bjp electoral prospects added \n",
      "real_headlines : we will register bigger win in up bjp gen secretary \n",
      "pred_headlines :  bjp will not contest elections in guj elections bjp\n",
      "\n",
      "\n",
      "text : former indian cricketer sachin tendulkar said share bottle champagne virat kohli latter breaks record odi hundreds send champagne bottles go share sachin said kohli scored centuries format far \n",
      "real_headlines : will share champagne with virat if he hits tons sachin \n",
      "pred_headlines :  virat kohli smashes his th hundred of six years\n",
      "\n",
      "\n",
      "text : ross playing first class english county club worcestershire smashed six sixes sunday becoming first ever sixth player overall professional cricket achieve feat playing natwest blast clash yorkshire scored runs balls failed help side win match \n",
      "real_headlines : batsman hits six sixes in an over in england league \n",
      "pred_headlines :  first ever batsman to score runs in match\n",
      "\n",
      "\n",
      "text : us based automaker tesla model become country best selling electric car according bloomberg company delivered model vehicles first quarter compared deliveries toyota prime plug hybrid general motors bolt comes despite reports suggesting production model cars \n",
      "real_headlines : tesla model becomes america best selling electric car \n"
     ]
    },
    {
     "name": "stdout",
     "output_type": "stream",
     "text": [
      "pred_headlines :  tesla car to be launched in india\n",
      "\n",
      "\n",
      "text : centre slammed un expert leo claiming swachh bharat mission lacked holistic human rights approach said time replace lens gandhi glasses logo mission human rights lens government said statements showed serious towards father nation \n",
      "real_headlines : centre slams un expert who criticised swachh bharat mission \n",
      "pred_headlines :  why was the accidental content in india\n",
      "\n",
      "\n",
      "text : addressing nation nd independence day pm narendra modi said india registered name sixth largest economy world added created positivity celebrating festival freedom positive atmosphere also said country self confidence regularly crossing new heights \n",
      "real_headlines : india now world th largest economy pm in day speech \n",
      "pred_headlines :  pm modi to set up world world largest pm\n",
      "\n",
      "\n",
      "text : secret tapes revealed princess diana caught prince charles phone sex parker several occasions diana confessed listened explicit phone calls two tapes also revealed diana told charles affair british officer \n",
      "real_headlines : diana caught charles having phone sex with tapes \n",
      "pred_headlines :  uk prince harry not to marry prince harry report\n",
      "\n",
      "\n",
      "text : former pakistan prime minister nawaz sharif friday sentenced ten years prison corruption case daughter maryam husband captain also sentenced seven years one year jail respectively case pertains purchase flats london came light panama papers leak \n",
      "real_headlines : former pak pm nawaz sharif sentenced to years in jail \n",
      "pred_headlines :  nawaz sharif wife to get married in pakistan\n",
      "\n",
      "\n",
      "text : retired pnb deputy manager shetty fraudulently cleared letters undertakings mehul choksi firms days starting march last year lous issued time alleged fraud began february jeweller nirav modi uncle mehul choksi accused defrauding pnb billion \n",
      "real_headlines : ex pnb official issued lous in days to choksi firms \n",
      "pred_headlines :  choksi got crore as choksi on demonetisation return\n",
      "\n",
      "\n",
      "text : qatar launched new direct sea route port pakistan port karachi move intended increase trade two countries providing options customers exporters officials said comes gulf nations put land air sea qatar cutting diplomatic ties \n",
      "real_headlines : qatar launches new direct sea route to pakistan \n",
      "pred_headlines :  india sign sign of uae sign trade list\n",
      "\n",
      "\n",
      "text : katrina kaif bollywood actress barbie doll modelled doll unveiled toy company india mark year celebration barbie katrina turned sunday known films like maine london prem ki \n",
      "real_headlines : katrina only wood actress to be into barbie doll \n",
      "pred_headlines :  katrina kaif to feature in mumbai\n",
      "\n",
      "\n",
      "text : deepika padukone ranveer singh shahid kapoor starrer padmaavat entered crore club within days release become director sanjay leela bhansali lead cast first film earn crore india film released states across india faced protests rajput organisation karni sena \n",
      "real_headlines : padmaavat earns crore within days of its release \n",
      "pred_headlines :  ranveer singh st film to release in days report\n",
      "\n",
      "\n",
      "text : tigress three newborn cubs spotted tiger reserve rajasthan total tiger population reserve reaching tigress st captured cubs hidden camera near water body reserve last week reserve lost tigers mainly due poaching \n",
      "real_headlines : tigress with spotted at population reaches \n",
      "pred_headlines :  declare river strike at lord idol\n",
      "\n",
      "\n",
      "text : rise number people visiting aiims diwali problems aiims director randeep said major hospitals capital reported fewer number burn eye injury cases diwali last year comes supreme court banned sale firecrackers delhi ncr till november \n",
      "real_headlines : rise in heart lung disease cases at aiims post diwali \n",
      "pred_headlines :  aiims to get medical health from india\n",
      "\n",
      "\n",
      "text : artist shared video showing secretly built one paintings self sold million wrote urge destroy also creative urge said built case ever put auction \n",
      "real_headlines : urge to destroy also urge artist on painting \n",
      "pred_headlines :  man builds to raise lakh for hurricane victims\n",
      "\n",
      "\n",
      "text : confidence motion moved opposition modi government rejected friday lok sabha hour debate mps voted voted yes voting prime minister narendra modi addressed lok sabha minutes ahead voting confidence motion \n",
      "real_headlines : no confidence motion against govt rejected after hour debate \n",
      "pred_headlines :  no confidence motion against pm modi in parliament\n",
      "\n",
      "\n",
      "text : photo sharing app instagram confirmed longer testing feature allowed users see another user took screenshot story february instagram said testing feature users would receive warning tried screenshot something first time \n",
      "real_headlines : instagram stops people if users stories \n",
      "pred_headlines :  instagram tests feature to let users share photos\n",
      "\n",
      "\n",
      "text : us president donald trump friday tweeted country military locked loaded north korea decides act hopefully kim jong un find another path trump added comes north korea announced detailed plan attack us island territory guam four intermediate range missiles \n",
      "real_headlines : us military locked and loaded on north korea donald trump \n",
      "pred_headlines :  trump slams north korea end day with north korea\n",
      "\n",
      "\n",
      "text : users twitter slammed singer udit narayan son aditya abusing staff airlines row regarding excess baggage real excess baggage privilege tweeted user another tweet read success comes humility arrogance apologise meanwhile another user wrote filmy monkeys think law \n",
      "real_headlines : twitter users slam aditya for abusing airline staff \n",
      "pred_headlines :  airline slammed for selling fake news on flight\n",
      "\n",
      "\n",
      "text : chairman us joint chiefs staff general joseph tuesday said believed pakistan inter services intelligence ties militant groups past us slammed pakistan acting islamist militant groups including afghan taliban haqqani network \n",
      "real_headlines : pak isi has links to terrorist groups top us general \n",
      "pred_headlines :  us state secy with us terror terror talks with\n",
      "\n",
      "\n",
      "text : man caught taking videos girls school arts festival organised kerala thrissur cutting hole slipper fitting phone camera police arrested accused noticing suspicious movements said went crowds trying take photos women \n",
      "real_headlines : kerala man caught taking videos on camera \n",
      "pred_headlines :  man arrested for selling student for wearing\n",
      "\n",
      "\n",
      "text : commerce major flipkart soft launched online grocery delivery service mobile app bengaluru service available selected users offer open box delivery doorstep returns customer issue product flipkart second attempt shutting separate grocery delivery app nearby launched \n",
      "real_headlines : flipkart soft launches grocery delivery service in bengaluru \n",
      "pred_headlines :  flipkart launches its own app for free services\n",
      "\n",
      "\n",
      "text : albert einstein death april researcher thomas harvey removed brain without prior permission autopsy einstein family learned next day new york times later gave reluctant approval conduct research canadian study claimed einstein possessed unusual brain part associated mathematical ability \n",
      "real_headlines : einstein brain was stolen after death for research \n",
      "pred_headlines :  scientists find evidence of star in\n",
      "\n",
      "\n",
      "text : university male student allegedly abducted forced perform oral sex group four unidentified men university campus incident shot camera victim reportedly informed friends incident later accused let go hostel get demanded \n",
      "real_headlines : puducherry varsity boy forced to perform sex on camera \n",
      "pred_headlines :  student who assaulted by men in gujarat student\n",
      "\n",
      "\n",
      "text : us cafe end claimed starbucks stole idea unicorn themed beverage end started selling unicorn december trademark drink name pending since january starbucks launched unicorn april limited run item cafe seeking compensation public apology \n",
      "real_headlines : us cafe accuses starbucks of stealing its unicorn drink \n",
      "pred_headlines :  us startup makes its first ever\n",
      "\n",
      "\n",
      "text : uttar pradesh special task force arrested members gang allegedly making fake aadhaar cards lucknow gang reportedly hacked biometric security settings unique identification authority india cloned fingerprints tampered application client source seized papers fake fingerprints finger retina scanners raid \n",
      "real_headlines : arrested for making fake aadhaar cards in lucknow \n"
     ]
    },
    {
     "name": "stdout",
     "output_type": "stream",
     "text": [
      "pred_headlines :  fake aadhaar busted in aadhaar data leak busted\n",
      "\n",
      "\n",
      "text : australian police issued public health warning needles found hidden least six brands country six states queensland state government even offering lakh reward information person responsible fruit health officials advised australians cut eating \n",
      "real_headlines : found in in australia health warning issued \n",
      "pred_headlines :  australia to bring back to counter pollution\n",
      "\n",
      "\n",
      "text : google parent company alphabet market valuation passed billion first time monday making world second company achieve milestone apple alphabet stock rallied nearly reportedly release first quarter results alphabet founded google founders made parent company google \n",
      "real_headlines : alphabet world second company to hit bn valuation \n",
      "pred_headlines :  google parent alphabet becomes first billion dollar company\n",
      "\n",
      "\n",
      "text : two wheels front coach bound suburban train derailed sunday near mumbai chhatrapati shivaji maharaj terminus railway station officials said one injured incident happened two minutes train left railway station speed train slow time mishap officials added \n",
      "real_headlines : local train derails in mumbai no injury reported \n",
      "pred_headlines :  driver falls off bridge in mumbai metro station\n",
      "\n",
      "\n",
      "text : england pacer james anderson video message retiring ex captain alastair cook joked retired two years ago even like anyway farming farming season cares mate bore joked cook scored first innings farewell test friday \n",
      "real_headlines : cook should have retired years ago jokes james anderson \n",
      "pred_headlines :  anderson once once called me me ex england captain\n",
      "\n",
      "\n",
      "text : german startup motors started testing electric car solar cells attached body priced lakh car charged via solar power conventional power outlets offers range around km startup aims start production car second half \n",
      "real_headlines : german startup tests lakh solar car with km range \n",
      "pred_headlines :  ford unveils self driving car at kmph\n",
      "\n",
      "\n"
     ]
    }
   ],
   "source": [
    "for i in range(50, 100):\n",
    "    print(\"text :\", seq2text(encoder_input_test[i]))\n",
    "    print(\"real_headlines :\", seq2headlines(decoder_input_test[i]))\n",
    "    print(\"pred_headlines :\", decode_sequence(encoder_input_test[i].reshape(1, text_max_len)))\n",
    "    print(\"\\n\")"
   ]
  },
  {
   "cell_type": "markdown",
   "id": "ec61f5ff",
   "metadata": {},
   "source": [
    "# 1.2) Source Code"
   ]
  },
  {
   "cell_type": "markdown",
   "id": "f82e23b5",
   "metadata": {},
   "source": [
    "- Summa 를 활용하여 추출적 요약을 시도해보겠습니다."
   ]
  },
  {
   "cell_type": "code",
   "execution_count": 52,
   "id": "70005203",
   "metadata": {},
   "outputs": [],
   "source": [
    "from summa.summarizer import summarize"
   ]
  },
  {
   "cell_type": "code",
   "execution_count": 53,
   "id": "aca5f01f",
   "metadata": {},
   "outputs": [],
   "source": [
    "urllib.request.urlretrieve(\"https://raw.githubusercontent.com/sunnysai12345/News_Summary/master/news_summary_more.csv\", filename=\"news_summary_more.csv\")\n",
    "summa = pd.read_csv('news_summary_more.csv', encoding='iso-8859-1')"
   ]
  },
  {
   "cell_type": "code",
   "execution_count": 66,
   "id": "5ef81ccb",
   "metadata": {},
   "outputs": [
    {
     "name": "stdout",
     "output_type": "stream",
     "text": [
      "Summary:\n",
      "The match witnessed India getting all out for 92, their seventh lowest total in ODI cricket history.\n",
      "Real:\n",
      "New Zealand end Rohit Sharma-led India's 12-match winning streak\n"
     ]
    }
   ],
   "source": [
    "print('Summary:')\n",
    "print(summarize(summa.loc[2, 'text'], ratio=0.5))\n",
    "print('Real:')\n",
    "print(summa.loc[2, 'headlines'])"
   ]
  },
  {
   "cell_type": "markdown",
   "id": "bebfe402",
   "metadata": {},
   "source": [
    "- 추출적 요약은 이미 본문에 존재하는 단어들을 사용하여 요약하는 방법입니다."
   ]
  },
  {
   "cell_type": "code",
   "execution_count": 74,
   "id": "bd2dec86",
   "metadata": {
    "scrolled": true
   },
   "outputs": [
    {
     "name": "stdout",
     "output_type": "stream",
     "text": [
      "0)\n",
      "Summary:\n",
      "upGrad's Online Power Learning has powered 3 lakh+ careers.\n",
      "Real:\n",
      "upGrad learner switches to career in ML & Al with 90% salary hike\n",
      "-----------------------------------------\n",
      "10)\n",
      "Summary:\n",
      "Two minor cousins in Uttar Pradesh's Gorakhpur were allegedly repeatedly burnt with tongs and forced to eat human excreta by their family for being friends with two boys from the same school.\n",
      "Real:\n",
      "UP cousins fed human excreta for friendship with boys\n",
      "-----------------------------------------\n",
      "20)\n",
      "Summary:\n",
      "\n",
      "Real:\n",
      "I think the opposition even dreams about me: PM Modi\n",
      "-----------------------------------------\n",
      "30)\n",
      "Summary:\n",
      "Italian third division football side Lucchese's head coach Giancarlo Favarin has been banned for five months for headbutting Alessandria's assistant coach Gaetano Mancino during a brawl following the teams' 2-2 draw on Sunday.\n",
      "Real:\n",
      "Italian coach knocks rival down with headbutt, banned for 5 months\n",
      "-----------------------------------------\n",
      "40)\n",
      "Summary:\n",
      "Adding that she hasn't been given a copy of the independent probe report, Kochhar said none of ICICI's credit decisions are unilateral\n",
      "Real:\n",
      "Shocked, hurt by ICICI's decision, truth will prevail: Kochhar\n",
      "-----------------------------------------\n",
      "50)\n",
      "Summary:\n",
      "Former Finance Minister Yashwant Sinha on Tuesday demanded a probe into the alleged diversion of loans worth Ã¢ÂÂ¹31,000 crore by Dewan Housing Finance (DHFL).\n",
      "Real:\n",
      "Yashwant Sinha demands probe into alleged fund diversion by DHFL\n",
      "-----------------------------------------\n",
      "60)\n",
      "Summary:\n",
      "The Finance Ministry on Wednesday said the government will present an Interim Budget on February 1.\n",
      "Real:\n",
      "Govt to present Interim Budget, not full Budget on February 1\n",
      "-----------------------------------------\n",
      "70)\n",
      "Summary:\n",
      "\"WeÃ¢ÂÂve decided to go back to (iPhone prices) more commensurate with...local prices...a year ago,\" Cook added.\n",
      "Real:\n",
      "Apple to cut some iPhones' prices outside US over strong dollar\n",
      "-----------------------------------------\n",
      "80)\n",
      "Summary:\n",
      "Retired Justice Srikrishna's enquiry panel has found that ex-CEO Chanda Kochhar violated ICICI Bank's code of conduct.\n",
      "Real:\n",
      "ICICI fires Chanda Kochhar, to take back bonuses paid in last 9 yrs\n",
      "-----------------------------------------\n",
      "90)\n",
      "Summary:\n",
      "Actress Shamita Shetty was verbally abused and her driver was slapped in an incident of road rage in Mumbai on Tuesday, as per reports.\n",
      "Real:\n",
      "Shamita Shetty abused, driver slapped after accident: Report\n",
      "-----------------------------------------\n",
      "100)\n",
      "Summary:\n",
      "German multinational engineering and electronics firm Bosch has made its first investment in India in Bengaluru-based deep-tech startup SimYog. SimYog has raised about Ã¢ÂÂ¹6.3 crore in the funding round, with participation from early-stage venture capital firm Ideaspring Capital.\n",
      "Real:\n",
      "Bosch makes its 1st India investment in IISc spinoff SimYog\n",
      "-----------------------------------------\n",
      "110)\n",
      "Summary:\n",
      "After Congress President Rahul Gandhi's recent poll promises like Minimum Income Guarantee and women's reservation, scholar and activist Madhu Kishwar tweeted, \"Wait till Rahul Gandhi also promises free sex for every adult male for a certain number of days every year!\" Several people criticised her for the remark, with one saying, \"I can't believe you have written it.\n",
      "Real:\n",
      "Activist says 'Wait till Rahul also promises free sex', criticised\n",
      "-----------------------------------------\n",
      "120)\n",
      "Summary:\n",
      "Deepika Padukone has taken over as chairperson of Mumbai Academy of Moving Image (MAMI), replacing filmmaker Kiran Rao, who served as chairperson for four years.\n",
      "Real:\n",
      "Deepika Padukone replaces Kiran Rao as chairperson of MAMI\n",
      "-----------------------------------------\n",
      "130)\n",
      "Summary:\n",
      "Venezuela has barred Juan GuaidÃÂ³, who declared himself the interim President, from leaving the country and froze his bank accounts.\n",
      "Real:\n",
      "Venezuela bars self-declared President from leaving country\n",
      "-----------------------------------------\n",
      "140)\n",
      "Summary:\n",
      "MP CM Kamal Nath has ordered the reinstatement of a government school teacher suspended for an objectionable online post on Congress President Rahul Gandhi.\n",
      "Real:\n",
      "MP CM reinstates teacher suspended for objectionable post on Rahul\n",
      "-----------------------------------------\n"
     ]
    }
   ],
   "source": [
    "for i in range(0, 150, 10):\n",
    "    print(f'{i})')\n",
    "    print('Summary:')\n",
    "    print(summarize(summa.loc[i, 'text'], ratio=0.5))\n",
    "    print('Real:')\n",
    "    print(summa.loc[i, 'headlines'])\n",
    "    print('-----------------------------------------')"
   ]
  },
  {
   "cell_type": "markdown",
   "id": "c79260a3",
   "metadata": {},
   "source": [
    "- summa 를 활용하여 15개 문장에 대해 추출적 요약을 시도하였습니다.\n",
    "- 1.1 에서 시도했던 추상적 요약과 결과를 비교해보도록 하겠습니다."
   ]
  },
  {
   "cell_type": "code",
   "execution_count": 76,
   "id": "6b169267",
   "metadata": {
    "scrolled": true
   },
   "outputs": [
    {
     "name": "stdout",
     "output_type": "stream",
     "text": [
      "0)\n",
      "Summary:\n",
      " scientists find hidden species to remove dinosaur cars\n",
      "Real:\n",
      "ocean sound waves could reveal where hit surface \n",
      "-----------------------------------------\n",
      "100)\n",
      "Summary:\n",
      " man kills man for opposing his funeral\n",
      "Real:\n",
      "dalit man lynched over affair with muslim woman arrested \n",
      "-----------------------------------------\n",
      "200)\n",
      "Summary:\n",
      " baahubali becomes baahubali becomes most expensive films\n",
      "Real:\n",
      "baahubali crosses crore mark in days \n",
      "-----------------------------------------\n",
      "300)\n",
      "Summary:\n",
      " facebook sued for data scandal in us\n",
      "Real:\n",
      "class action lawsuit filed against fb cambridge analytica \n",
      "-----------------------------------------\n",
      "400)\n",
      "Summary:\n",
      " world costliest man earns crore in mumbai\n",
      "Real:\n",
      "dubai opens crore hospital \n",
      "-----------------------------------------\n",
      "500)\n",
      "Summary:\n",
      " am not need to my own john abraham\n",
      "Real:\n",
      "indians have right to criticise india for john \n",
      "-----------------------------------------\n",
      "600)\n",
      "Summary:\n",
      " plane hits emergency after engine fails to save\n",
      "Real:\n",
      "video plane traffic lands on highway \n",
      "-----------------------------------------\n",
      "700)\n",
      "Summary:\n",
      " world largest ice species discovered in antarctic ice\n",
      "Real:\n",
      "world largest iceberg to near after years \n",
      "-----------------------------------------\n",
      "800)\n",
      "Summary:\n",
      " congress releases list of candidates for karnataka polls\n",
      "Real:\n",
      "congress alleges model code violation by pmo in assam \n",
      "-----------------------------------------\n",
      "900)\n",
      "Summary:\n",
      " bjp leader claims lives in sc against\n",
      "Real:\n",
      "uttarakhand district to replace cow shelter with liquor \n",
      "-----------------------------------------\n",
      "1000)\n",
      "Summary:\n",
      " anushka sharma shares pic with anushka sharma pari released\n",
      "Real:\n",
      "anushka sharma look from sui dhaaga surfaces online \n",
      "-----------------------------------------\n",
      "1100)\n",
      "Summary:\n",
      " bjp to declare kashmir as human rights chief\n",
      "Real:\n",
      "afspa in not out of fun but is bjp \n",
      "-----------------------------------------\n",
      "1200)\n",
      "Summary:\n",
      " govt will not buy aircraft price by sitharaman\n",
      "Real:\n",
      "rafale deal cheap now upa parrikar \n",
      "-----------------------------------------\n",
      "1300)\n",
      "Summary:\n",
      " govt to give home ministry to settle gst\n",
      "Real:\n",
      "use of govt condoms drops in states reveals rti \n",
      "-----------------------------------------\n",
      "1400)\n",
      "Summary:\n",
      " former india chief passes away aged\n",
      "Real:\n",
      "former defence minister george passes away aged \n",
      "-----------------------------------------\n"
     ]
    }
   ],
   "source": [
    "for i in range(0, 1500, 100):\n",
    "    print(f'{i})')\n",
    "    print('Summary:')\n",
    "    print(decode_sequence(encoder_input_test[i].reshape(1, text_max_len)))\n",
    "    print('Real:')\n",
    "    print(seq2headlines(decoder_input_test[i]))\n",
    "    print('-----------------------------------------')"
   ]
  },
  {
   "cell_type": "markdown",
   "id": "695bb201",
   "metadata": {},
   "source": [
    "- 추출적 요약을 사용하였을 때에는 요약되지 않은 문장도 종종 발견되었습니다.\n",
    "- 이는 문장의 길이가 짧아 추출할 내용을 찾지 못한 것으로 예상됩니다."
   ]
  },
  {
   "cell_type": "markdown",
   "id": "a266d9a4",
   "metadata": {},
   "source": [
    "### 추상적 요약"
   ]
  },
  {
   "cell_type": "markdown",
   "id": "cebac10b",
   "metadata": {},
   "source": [
    "- 추상적 요약에서는 실제 요약과 모델의 요약문이 많은 차이를 가지고 있습니다.\n",
    "<br>\n",
    "<br>\n",
    "- 본문에 존재하지 않는 단어들을 활용하여 요약을 만들어내기 때문에 실제 요약의 문장과는 많은 차이가 발생하는 것으로 사료됩니다.\n",
    "<br>\n",
    "<br>\n",
    "- 따라서, 실제 요약과는 전혀 다른 방향으로 요약해낸 문장들이 발견되기도 합니다.\n",
    "<br>\n",
    "<br>\n",
    "- 예를 들어, 바로 위의 500 번 모델 요약과 실제 요약을 비교해보겠습니다.\n",
    "<br>\n",
    "<br>\n",
    "- 실제 요약문인 indians have right to criticise india for john 에 대하여 모델은 다음과 같이 요약하였습니다. 'am not need to my own john abraham'\n",
    "<br>\n",
    "<br>\n",
    "- 이는 본문의 중요한 내용을 정확하게 요약했다고 판단할 수 없으며, 생성된 문장은 문법적인 오류도 있어보입니다.\n",
    "<br>\n",
    "<br>\n",
    "- 즉, 추상적 요약은 본문에 존재하지 않는 단어들로 문장을 생성해내기 때문에 문법적인 오류가 발견될 가능성이 높고, 본문과 전혀 다른 방향으로 요약을 수행할 위험성이 존재합니다.\n",
    "<br>\n",
    "<br>\n",
    "- 하지만 700 번 모델 요약과 실제 요약을 비교해보면, 유사하게 요약해낸 문장 또한 존재하고 있습니다.\n",
    "<br>\n",
    "<br>\n",
    "- 실제 요약은 'world largest iceberg to near after years', 모델의 요약은 'world largest ice species discovered in antarctic ice' 입니다.\n",
    "<br>\n",
    "<br>\n",
    "- 물론 문장에 문법적 오류가 있어 완벽하지는 않지만, '세계 최대의 빙산 혹은 얼음종' 과 관련된 내용이라는 것을 쉽게 알 수 있습니다."
   ]
  },
  {
   "cell_type": "markdown",
   "id": "b9d1c7d0",
   "metadata": {},
   "source": [
    "### 추출적 요약"
   ]
  },
  {
   "cell_type": "markdown",
   "id": "ddad3af9",
   "metadata": {},
   "source": [
    "- 추출적 요약에서는 실제 요약문과 모델의 요약문이 대체적으로 유사한 단어로 이루어져 있습니다.\n",
    "<br>\n",
    "<br>\n",
    "- 이는 실제로 추출적 요약이 본문의 단어와 문장들을 직접 활용하여 조합하는 방식이기 때문입니다.\n",
    "<br>\n",
    "<br>\n",
    "- 따라서, 추상적 요약과 비교하여 문법적으로는 완성도가 높은 편임을 알 수 있습니다.\n",
    "<br>\n",
    "<br>\n",
    "- 또한, 본문의 내용에서 직접 추출한 단어와 문장을 요약문에서 활용하므로, 실제 본문의 내용과 전혀 다른 방향의 요약문이 생성될 우려도 다소 적습니다.\n",
    "<br>\n",
    "<br>\n",
    "- 즉, 추출적 요약은 추상적 요약에 비해 난이도가 낮고, 문장의 문법, 요약문과 실제 본문 간 차이에 있어 추상적 요약보다 유리합니다.\n",
    "<br>\n",
    "<br>\n",
    "- 하지만 추출적 요약은 본문의 내용을 그대로 발췌하여 복사 붙여넣는 방식이기 때문에 인간이 텍스트를 요약하는 방법과는 다소 차이가 있습니다.\n",
    "<br>\n",
    "<br>\n",
    "- 따라서, 추상적 요약에서 성능이 좋고 학습이 잘된 모델을 사용함으로서, 조금 더 창의적이고 자연스러우며 문법의 완성도가 높은 문장을 생성해낼 수 있도록 연구하는 방향을 지향하여야 한다고 생각합니다.\n",
    "<br>\n",
    "<br>\n",
    "- 추출적 요약 결과 중 90 번 인덱스 문장을 확인해보겠습니다.\n",
    "<br>\n",
    "<br>\n",
    "- 실제 요약문입니다. 'Shamita Shetty abused, driver slapped after accident' \n",
    "<br>\n",
    "<br>\n",
    "- summa 의 요약문입니다. 'Actress Shamita Shetty was verbally abused and her driver was slapped in an incident of road rage in Mumbai on Tuesday'\n",
    "<br>\n",
    "<br>\n",
    "- 위의 예시를 보면, 추출적 요약이 본문의 단어와 문장들을 그대로 가져와 사용한다는 점에서 실제 요약문과 유사한 단어들로 이루어져있음을 알 수 있습니다.\n",
    "<br>\n",
    "<br>\n",
    "- 또한, 요약문의 문장 문법도 추상적 요약과 비교하여 완성도가 높음을 알 수 있습니다."
   ]
  },
  {
   "cell_type": "markdown",
   "id": "48db38d5",
   "metadata": {},
   "source": [
    "# 2.1) Retrospection"
   ]
  },
  {
   "cell_type": "markdown",
   "id": "eaf725dd",
   "metadata": {},
   "source": [
    "<h2 style=\"font-style:italic\">2022.02.01 - [E-08]NewsSummarization</h2>\n",
    "\n",
    "> 이번 프로젝트에서는 추출적 요약과 추상적 요약, 두 가지 방법을 통해 뉴스 기사를 요약하고 Headline 을 작성해보았습니다. 이후, Headline 을 통해 두 가지 방법을 비교하여 보고 장, 단점 또한 알아보았습니다.\n",
    "\n",
    "***"
   ]
  },
  {
   "cell_type": "markdown",
   "id": "2aeb3dc0",
   "metadata": {},
   "source": [
    "**어려웠던 점**\n",
    "<br>\n",
    "<br>\n",
    "- Attention Layer 의 역할에 대한 부분이 어려웠습니다. RNN 의 특성 상, 학습 데이터의 길이가 길어질수록 그 영향도가 줄어들게 되어 입력된지 오래된 데이터의 경우 현재 예측에 미치는 영향이 그만큼 줄어들게 됩니다. 따라서, Attention Layer 를 사용하여 이러한 장기 의존성 문제를 해결한다는 원리로 이해하였습니다.\n",
    "<br>\n",
    "<br>\n",
    "- seq2seq 모델의 Encoder, Decoder 구조와 원리가 어려웠습니다. seq2seq 모델의 Encoder 에서는 입력받은 문장들의 정보들을 Context Vector 로 압출하여 Decoder 로 전달합니다. 이러한 Context Vector 에는 현재까지 입력된 문장 데이터들의 정보가 담겨있어 Decoder 는 이를 기반으로 다음에 올 단어들을 예측하기 시작합니다.\n",
    "<br>\n",
    "<br>\n",
    "- seq2seq 모델은 훈련과 테스트 과정에서 모델을 다르게 구현해주어야 했습니다. 사실 이렇게 독립적으로 구현해주어야 하는 이유에 대해서 어려웠는데, 교사 강요(Teacher Forcing)에서 그 해답을 찾은 것 같습니다."
   ]
  },
  {
   "cell_type": "markdown",
   "id": "4cee8fbf",
   "metadata": {},
   "source": [
    "**알게된 점**\n",
    "<br>\n",
    "<br>\n",
    "- seq2seq 모델은 현재 시점인 time-step 에서 이전 step 의 hidden_state 와 현재 step 의 입력 데이터를 받습니다. 이렇게 두 입력값을 받은 뒤, 다음 은닉층 혹은 다음 step 으로 값을 전달합니다. 따라서, 일반적인 RNN 에서와 같이 현재 시점인 time-step의 hidden_state 는 과거 step 값들의 영향이 누적된 값이 됩니다. 그리고 Encoder 의 마지막 층에서는 이러한 값들을 압출하여 Context Vector 로 생성해주는 것입니다.\n",
    "<br>\n",
    "<br>\n",
    "- 이제 Decoder 는 Encoder 가 전달한 Context Vector 와 \\<sos> 토큰을 활용하여 다음에 올 단어를 예측합니다. 그리고 RNN 의 작동 방식과 동일하게 다시 이전 step 의 값과 현재 시점의 입력값을 통해 반복적으로 다음 단어를 예측합니다.\n",
    "<br>\n",
    "<br>\n",
    "- 이는 가장 기본적인 seq2seq 모델의 구조입니다. Encoder 가 생성한 Context Vector 를 Decoder 초기 Layer 의 HIdden_state 로만 사용하지 않고, Decoder 가 단어를 예측하는 매 time-step 마다 Context Vector 를 입력으로 사용할 수도 있습니다. 이렇게 되면, Decoder 의 매 time-step 마다 Context Vector 를 활용하여 단어를 예측해내기 때문에, 장기 의존성 문제를 어느정도 해결해낼 수 있습니다. 이를 어텐션 매커니즘이라고 합니다.\n",
    "<br>\n",
    "<br>\n",
    "- 어텐션 매커니즘에서는 앞서 설명한 바와 같이, Encoder 가 모든 입력 데이터들에 대한 정보를 압출한 Context Vector 를 Decoder 의 time-step 마다 활용합니다. 따라서, 단어를 예측할 때 오래된 입력 데이터에 대한 영향도를 어느정도 유지한채로 정확도 높게 단어를 예측해낼 수 있게 됩니다. 단, 과거의 전체 입력 데이터들에 대해 동일한 비율과 영향도로 참고하지 않습니다. Decoder 가 해당 time-step 에서 예측해내야하는 단어와 연관이 있는 부분만을 집중(attention) 하여 참고하게 됩니다.\n",
    "<br>\n",
    "<br>\n",
    "- 교사 강요는 seq2seq 모델이 훈련과 테스트 시 독립적인 모델을 사용하여야 하는 이유에 대해 중요한 인사이트를 제공해주었습니다. RNN 은 이전 time-step 에서의 출력값, 즉 예측값을 다음 step 에서 입력값으로 이용하는 구조입니다. 하지만, 교사 강요에서는 이전 step 에서의 예측값이 아닌 실제값을 다음 step 의 입력값으로 넣어주게 됩니다. 이는 이전 step 에서의 예측값을 그대로 다음 step 의 입력값으로 사용할 때, 예측값이 실제값과 다를 수 있기 때문입니다. 즉, 모델을 정확한 데이터로 훈련시키기 위해서 예측값이 아닌 실제값을 활용합니다.\n",
    "<br>\n",
    "<br>\n",
    "- 이번 프로젝트에서, Encoder 가 생성해낸 Context Vector 와 \\<sos> 토큰을 활용하여 Decoder 는 다음에 올 단어를 예측하게 됩니다. 하지만, 훈련 시에는 예측값이 아닌 실제값, 즉 정답값을 Decoder 입력값으로 사용하기 위해서 decoder_target 을 활용하였습니다. 이를 교사 강요라 합니다. 실제값을 활용하여 훈련시켜 정확도를 향상시키기 위함입니다. 반대로, 테스트 시에는 실제값이 존재하지 않습니다. Encoder 의 Context Vector 와 \\<sos> 토큰만을 활용하여 모델은 다음 단어를 예측해내야 합니다. 그리고 이 예측값을 Decoder 다음 step 의 입력값으로 활용하여 다시 다음 단어를 예측해내어야 합니다. 이러한 이유로 seq2seq 모델의 교사 강요를 활용하기 위해서는 훈련과 테스트 시에 서로 다른 모델을 독립적으로 구현해주어야 하는 것입니다."
   ]
  },
  {
   "cell_type": "markdown",
   "id": "8c4d5c90",
   "metadata": {},
   "source": [
    "**모호한 점**\n",
    "<br>\n",
    "<br>\n",
    "- dropout 과 recurrent dropout 에 대한 개념이 아직 정확하게 잡히지 않아 학습이 필요할 것 같습니다.\n",
    "<br>\n",
    "<br>\n",
    "- 일반적인 dropout 이 하나의 time-step 에서 상위 은닉층에 전달되는 가중치 값을 랜덤하게 생략하여 과적합을 규제하는 방법이라면, recurrent dropout 은 은닉층을 모두 통과하여 출력층에서 나온 time-step 의 출력값을 다음 time-step 의 입력값으로 다시 전달하는 과정에서 랜덤하게 생략한다는 개념으로 이해하였습니다. 따라서 이해한 바로는, 이전 step 의 출력값을 다음 time-step 의 입력값으로 사용하는 RNN 의 구조에서만 일반적인 dropout 과 recurrent-dropout 이 함께 사용이 가능하고 CNN 과 같은 구조에서는 다음 은닉계층으로 전달하는 가중치를 생략하는 일반적인 dropout 만 사용이 가능한 것이어야 합니다. CNN 에서는 이전 계층의 은닉층 및 출력층을 통과한 출력값을 다음 step 에서 입력값으로 활용하는 구조가 아니기 때문입니다. 이 의문에 대한 해답을 찾기 위해서는 dropout 에 대한 학습을 더욱 진행하여야 할 것 같습니다."
   ]
  }
 ],
 "metadata": {
  "kernelspec": {
   "display_name": "Python 3 (ipykernel)",
   "language": "python",
   "name": "python3"
  },
  "language_info": {
   "codemirror_mode": {
    "name": "ipython",
    "version": 3
   },
   "file_extension": ".py",
   "mimetype": "text/x-python",
   "name": "python",
   "nbconvert_exporter": "python",
   "pygments_lexer": "ipython3",
   "version": "3.9.7"
  }
 },
 "nbformat": 4,
 "nbformat_minor": 5
}
