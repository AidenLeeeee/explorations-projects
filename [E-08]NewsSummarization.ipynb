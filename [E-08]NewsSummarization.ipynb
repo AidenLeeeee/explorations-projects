{
 "cells": [
  {
   "cell_type": "markdown",
   "id": "cb94407a",
   "metadata": {},
   "source": [
    "# 1.1) Source Code"
   ]
  },
  {
   "cell_type": "code",
   "execution_count": 81,
   "id": "11cd585f",
   "metadata": {},
   "outputs": [
    {
     "name": "stderr",
     "output_type": "stream",
     "text": [
      "[nltk_data] Downloading package stopwords to /aiffel/nltk_data...\n",
      "[nltk_data]   Package stopwords is already up-to-date!\n"
     ]
    }
   ],
   "source": [
    "import nltk\n",
    "nltk.download('stopwords')\n",
    "from tensorflow.keras.layers import Input, LSTM, Embedding, Dense, Concatenate, TimeDistributed\n",
    "from tensorflow.keras.models import Model\n",
    "from tensorflow.keras.callbacks import EarlyStopping, ModelCheckpoint\n",
    "from tensorflow.keras.layers import AdditiveAttention\n",
    "import numpy as np\n",
    "import pandas as pd\n",
    "import os\n",
    "import re\n",
    "import matplotlib.pyplot as plt\n",
    "from nltk.corpus import stopwords\n",
    "from bs4 import BeautifulSoup \n",
    "from tensorflow.keras.preprocessing.text import Tokenizer \n",
    "from tensorflow.keras.preprocessing.sequence import pad_sequences\n",
    "import urllib.request\n",
    "import warnings\n",
    "warnings.filterwarnings(\"ignore\", category=UserWarning, module='bs4')"
   ]
  },
  {
   "cell_type": "markdown",
   "id": "b39e22b1",
   "metadata": {},
   "source": [
    "### 데이터 준비"
   ]
  },
  {
   "cell_type": "code",
   "execution_count": 16,
   "id": "41925003",
   "metadata": {},
   "outputs": [],
   "source": [
    "urllib.request.urlretrieve(\"https://raw.githubusercontent.com/sunnysai12345/News_Summary/master/news_summary_more.csv\", filename=\"news_summary_more.csv\")\n",
    "data = pd.read_csv('news_summary_more.csv', encoding='iso-8859-1')"
   ]
  },
  {
   "cell_type": "code",
   "execution_count": 17,
   "id": "11e75f2c",
   "metadata": {},
   "outputs": [
    {
     "data": {
      "text/html": [
       "<div>\n",
       "<style scoped>\n",
       "    .dataframe tbody tr th:only-of-type {\n",
       "        vertical-align: middle;\n",
       "    }\n",
       "\n",
       "    .dataframe tbody tr th {\n",
       "        vertical-align: top;\n",
       "    }\n",
       "\n",
       "    .dataframe thead th {\n",
       "        text-align: right;\n",
       "    }\n",
       "</style>\n",
       "<table border=\"1\" class=\"dataframe\">\n",
       "  <thead>\n",
       "    <tr style=\"text-align: right;\">\n",
       "      <th></th>\n",
       "      <th>headlines</th>\n",
       "      <th>text</th>\n",
       "    </tr>\n",
       "  </thead>\n",
       "  <tbody>\n",
       "    <tr>\n",
       "      <th>53836</th>\n",
       "      <td>Apple battery replacement may cut iPhone sales...</td>\n",
       "      <td>Apple's offer to replace batteries at $29 may ...</td>\n",
       "    </tr>\n",
       "    <tr>\n",
       "      <th>10786</th>\n",
       "      <td>2,000-year-old wine discovered from ancient to...</td>\n",
       "      <td>Archaeologists have discovered a nearly 2,000-...</td>\n",
       "    </tr>\n",
       "    <tr>\n",
       "      <th>60411</th>\n",
       "      <td>Get well soon: Taapsee to troll who slammed he...</td>\n",
       "      <td>Taapsee Pannu, while responding to a troll on ...</td>\n",
       "    </tr>\n",
       "    <tr>\n",
       "      <th>19688</th>\n",
       "      <td>Volkswagen backed Tesla's bid to go private: R...</td>\n",
       "      <td>Volkswagen was reportedly one of the companies...</td>\n",
       "    </tr>\n",
       "    <tr>\n",
       "      <th>30557</th>\n",
       "      <td>Bobby Darling's husband jailed for domestic ab...</td>\n",
       "      <td>Pakhi Sharma, formerly known as Bobby Darling,...</td>\n",
       "    </tr>\n",
       "    <tr>\n",
       "      <th>7358</th>\n",
       "      <td>Woman sues Hilton for $100mn, says hotel worke...</td>\n",
       "      <td>A Chicago woman has sued Hilton Worldwide for ...</td>\n",
       "    </tr>\n",
       "    <tr>\n",
       "      <th>45381</th>\n",
       "      <td>Raina batted vs SA like he was never out of te...</td>\n",
       "      <td>Talking about Suresh Raina, who recently made ...</td>\n",
       "    </tr>\n",
       "    <tr>\n",
       "      <th>92071</th>\n",
       "      <td>White House sidewalk to be closed to public pe...</td>\n",
       "      <td>The sidewalk along the south fence of the Whit...</td>\n",
       "    </tr>\n",
       "    <tr>\n",
       "      <th>6243</th>\n",
       "      <td>Former AMMK leader Senthil Balaji joins DMK</td>\n",
       "      <td>Amma Makkal Munnettra Kazagam (AMMK) chief TTV...</td>\n",
       "    </tr>\n",
       "    <tr>\n",
       "      <th>16345</th>\n",
       "      <td>Pablo Escobar museum shut down in Colombia</td>\n",
       "      <td>A museum dedicated to drug lord Pablo Escobar ...</td>\n",
       "    </tr>\n",
       "  </tbody>\n",
       "</table>\n",
       "</div>"
      ],
      "text/plain": [
       "                                               headlines  \\\n",
       "53836  Apple battery replacement may cut iPhone sales...   \n",
       "10786  2,000-year-old wine discovered from ancient to...   \n",
       "60411  Get well soon: Taapsee to troll who slammed he...   \n",
       "19688  Volkswagen backed Tesla's bid to go private: R...   \n",
       "30557  Bobby Darling's husband jailed for domestic ab...   \n",
       "7358   Woman sues Hilton for $100mn, says hotel worke...   \n",
       "45381  Raina batted vs SA like he was never out of te...   \n",
       "92071  White House sidewalk to be closed to public pe...   \n",
       "6243         Former AMMK leader Senthil Balaji joins DMK   \n",
       "16345         Pablo Escobar museum shut down in Colombia   \n",
       "\n",
       "                                                    text  \n",
       "53836  Apple's offer to replace batteries at $29 may ...  \n",
       "10786  Archaeologists have discovered a nearly 2,000-...  \n",
       "60411  Taapsee Pannu, while responding to a troll on ...  \n",
       "19688  Volkswagen was reportedly one of the companies...  \n",
       "30557  Pakhi Sharma, formerly known as Bobby Darling,...  \n",
       "7358   A Chicago woman has sued Hilton Worldwide for ...  \n",
       "45381  Talking about Suresh Raina, who recently made ...  \n",
       "92071  The sidewalk along the south fence of the Whit...  \n",
       "6243   Amma Makkal Munnettra Kazagam (AMMK) chief TTV...  \n",
       "16345  A museum dedicated to drug lord Pablo Escobar ...  "
      ]
     },
     "execution_count": 17,
     "metadata": {},
     "output_type": "execute_result"
    }
   ],
   "source": [
    "data.sample(10)"
   ]
  },
  {
   "cell_type": "markdown",
   "id": "9cdb26b5",
   "metadata": {},
   "source": [
    "- News 데이터와 헤드라인을 불러와 sample 을 확인합니다."
   ]
  },
  {
   "cell_type": "code",
   "execution_count": 18,
   "id": "fd03e60e",
   "metadata": {},
   "outputs": [
    {
     "name": "stdout",
     "output_type": "stream",
     "text": [
      "전체 샘플수 : 98401\n"
     ]
    }
   ],
   "source": [
    "print('전체 샘플수 :', len(data))"
   ]
  },
  {
   "cell_type": "markdown",
   "id": "713234f3",
   "metadata": {},
   "source": [
    "### 데이터 전처리"
   ]
  },
  {
   "cell_type": "code",
   "execution_count": 19,
   "id": "16b3a6b0",
   "metadata": {},
   "outputs": [
    {
     "name": "stdout",
     "output_type": "stream",
     "text": [
      "Text 열에서 중복을 배제한 유일한 샘플의 수 : 98360\n",
      "Headlines 열에서 중복을 배제한 유일한 샘플의 수 : 98280\n"
     ]
    }
   ],
   "source": [
    "print('Text 열에서 중복을 배제한 유일한 샘플의 수 :', data['text'].nunique())\n",
    "print('Headlines 열에서 중복을 배제한 유일한 샘플의 수 :', data['headlines'].nunique())"
   ]
  },
  {
   "cell_type": "markdown",
   "id": "61c1579e",
   "metadata": {},
   "source": [
    "- Text 에서 중복을 제외한다면, 98360 개\n",
    "- Headlines 에서 중복을 제외한다면, 98280 개"
   ]
  },
  {
   "cell_type": "code",
   "execution_count": 20,
   "id": "5b4ba5a6",
   "metadata": {},
   "outputs": [
    {
     "name": "stdout",
     "output_type": "stream",
     "text": [
      "전체 샘플수 : 98360\n"
     ]
    }
   ],
   "source": [
    "data.drop_duplicates(subset = ['text'], inplace=True)\n",
    "print('전체 샘플수 :', len(data))"
   ]
  },
  {
   "cell_type": "markdown",
   "id": "a77cc633",
   "metadata": {},
   "source": [
    "- text 열에서 중복을 제거합니다.\n",
    "- headlines 는 해당 기사에 대한 요약이므로 중복될 수 있습니다."
   ]
  },
  {
   "cell_type": "code",
   "execution_count": 21,
   "id": "68b0ec6e",
   "metadata": {},
   "outputs": [
    {
     "name": "stdout",
     "output_type": "stream",
     "text": [
      "headlines    0\n",
      "text         0\n",
      "dtype: int64\n"
     ]
    }
   ],
   "source": [
    "print(data.isnull().sum())"
   ]
  },
  {
   "cell_type": "markdown",
   "id": "81e54f88",
   "metadata": {},
   "source": [
    "- 데이터에 null 값이 존재하는지 확인합니다."
   ]
  },
  {
   "cell_type": "code",
   "execution_count": 22,
   "id": "fea43200",
   "metadata": {},
   "outputs": [
    {
     "name": "stdout",
     "output_type": "stream",
     "text": [
      "정규화 사전의 수:  120\n"
     ]
    }
   ],
   "source": [
    "contractions = {\"ain't\": \"is not\", \"aren't\": \"are not\",\"can't\": \"cannot\", \"'cause\": \"because\", \"could've\": \"could have\", \"couldn't\": \"could not\",\n",
    "                           \"didn't\": \"did not\",  \"doesn't\": \"does not\", \"don't\": \"do not\", \"hadn't\": \"had not\", \"hasn't\": \"has not\", \"haven't\": \"have not\",\n",
    "                           \"he'd\": \"he would\",\"he'll\": \"he will\", \"he's\": \"he is\", \"how'd\": \"how did\", \"how'd'y\": \"how do you\", \"how'll\": \"how will\", \"how's\": \"how is\",\n",
    "                           \"I'd\": \"I would\", \"I'd've\": \"I would have\", \"I'll\": \"I will\", \"I'll've\": \"I will have\",\"I'm\": \"I am\", \"I've\": \"I have\", \"i'd\": \"i would\",\n",
    "                           \"i'd've\": \"i would have\", \"i'll\": \"i will\",  \"i'll've\": \"i will have\",\"i'm\": \"i am\", \"i've\": \"i have\", \"isn't\": \"is not\", \"it'd\": \"it would\",\n",
    "                           \"it'd've\": \"it would have\", \"it'll\": \"it will\", \"it'll've\": \"it will have\",\"it's\": \"it is\", \"let's\": \"let us\", \"ma'am\": \"madam\",\n",
    "                           \"mayn't\": \"may not\", \"might've\": \"might have\",\"mightn't\": \"might not\",\"mightn't've\": \"might not have\", \"must've\": \"must have\",\n",
    "                           \"mustn't\": \"must not\", \"mustn't've\": \"must not have\", \"needn't\": \"need not\", \"needn't've\": \"need not have\",\"o'clock\": \"of the clock\",\n",
    "                           \"oughtn't\": \"ought not\", \"oughtn't've\": \"ought not have\", \"shan't\": \"shall not\", \"sha'n't\": \"shall not\", \"shan't've\": \"shall not have\",\n",
    "                           \"she'd\": \"she would\", \"she'd've\": \"she would have\", \"she'll\": \"she will\", \"she'll've\": \"she will have\", \"she's\": \"she is\",\n",
    "                           \"should've\": \"should have\", \"shouldn't\": \"should not\", \"shouldn't've\": \"should not have\", \"so've\": \"so have\",\"so's\": \"so as\",\n",
    "                           \"this's\": \"this is\",\"that'd\": \"that would\", \"that'd've\": \"that would have\", \"that's\": \"that is\", \"there'd\": \"there would\",\n",
    "                           \"there'd've\": \"there would have\", \"there's\": \"there is\", \"here's\": \"here is\",\"they'd\": \"they would\", \"they'd've\": \"they would have\",\n",
    "                           \"they'll\": \"they will\", \"they'll've\": \"they will have\", \"they're\": \"they are\", \"they've\": \"they have\", \"to've\": \"to have\",\n",
    "                           \"wasn't\": \"was not\", \"we'd\": \"we would\", \"we'd've\": \"we would have\", \"we'll\": \"we will\", \"we'll've\": \"we will have\", \"we're\": \"we are\",\n",
    "                           \"we've\": \"we have\", \"weren't\": \"were not\", \"what'll\": \"what will\", \"what'll've\": \"what will have\", \"what're\": \"what are\",\n",
    "                           \"what's\": \"what is\", \"what've\": \"what have\", \"when's\": \"when is\", \"when've\": \"when have\", \"where'd\": \"where did\", \"where's\": \"where is\",\n",
    "                           \"where've\": \"where have\", \"who'll\": \"who will\", \"who'll've\": \"who will have\", \"who's\": \"who is\", \"who've\": \"who have\",\n",
    "                           \"why's\": \"why is\", \"why've\": \"why have\", \"will've\": \"will have\", \"won't\": \"will not\", \"won't've\": \"will not have\",\n",
    "                           \"would've\": \"would have\", \"wouldn't\": \"would not\", \"wouldn't've\": \"would not have\", \"y'all\": \"you all\",\n",
    "                           \"y'all'd\": \"you all would\",\"y'all'd've\": \"you all would have\",\"y'all're\": \"you all are\",\"y'all've\": \"you all have\",\n",
    "                           \"you'd\": \"you would\", \"you'd've\": \"you would have\", \"you'll\": \"you will\", \"you'll've\": \"you will have\",\n",
    "                           \"you're\": \"you are\", \"you've\": \"you have\"}\n",
    "\n",
    "print(\"정규화 사전의 수: \", len(contractions))"
   ]
  },
  {
   "cell_type": "markdown",
   "id": "b586c5dd",
   "metadata": {},
   "source": [
    "- 텍스트 정규화를 위한 사전을 구성하였습니다.\n",
    "- 같은 의미를 가진 다른 표현들을 하나의 단어로 간주할 수 있도록 하기 위함입니다."
   ]
  },
  {
   "cell_type": "code",
   "execution_count": 23,
   "id": "1de307fc",
   "metadata": {},
   "outputs": [
    {
     "name": "stdout",
     "output_type": "stream",
     "text": [
      "불용어 개수 : 179\n",
      "['i', 'me', 'my', 'myself', 'we', 'our', 'ours', 'ourselves', 'you', \"you're\", \"you've\", \"you'll\", \"you'd\", 'your', 'yours', 'yourself', 'yourselves', 'he', 'him', 'his', 'himself', 'she', \"she's\", 'her', 'hers', 'herself', 'it', \"it's\", 'its', 'itself', 'they', 'them', 'their', 'theirs', 'themselves', 'what', 'which', 'who', 'whom', 'this', 'that', \"that'll\", 'these', 'those', 'am', 'is', 'are', 'was', 'were', 'be', 'been', 'being', 'have', 'has', 'had', 'having', 'do', 'does', 'did', 'doing', 'a', 'an', 'the', 'and', 'but', 'if', 'or', 'because', 'as', 'until', 'while', 'of', 'at', 'by', 'for', 'with', 'about', 'against', 'between', 'into', 'through', 'during', 'before', 'after', 'above', 'below', 'to', 'from', 'up', 'down', 'in', 'out', 'on', 'off', 'over', 'under', 'again', 'further', 'then', 'once', 'here', 'there', 'when', 'where', 'why', 'how', 'all', 'any', 'both', 'each', 'few', 'more', 'most', 'other', 'some', 'such', 'no', 'nor', 'not', 'only', 'own', 'same', 'so', 'than', 'too', 'very', 's', 't', 'can', 'will', 'just', 'don', \"don't\", 'should', \"should've\", 'now', 'd', 'll', 'm', 'o', 're', 've', 'y', 'ain', 'aren', \"aren't\", 'couldn', \"couldn't\", 'didn', \"didn't\", 'doesn', \"doesn't\", 'hadn', \"hadn't\", 'hasn', \"hasn't\", 'haven', \"haven't\", 'isn', \"isn't\", 'ma', 'mightn', \"mightn't\", 'mustn', \"mustn't\", 'needn', \"needn't\", 'shan', \"shan't\", 'shouldn', \"shouldn't\", 'wasn', \"wasn't\", 'weren', \"weren't\", 'won', \"won't\", 'wouldn', \"wouldn't\"]\n"
     ]
    }
   ],
   "source": [
    "print('불용어 개수 :', len(stopwords.words('english') ))\n",
    "print(stopwords.words('english'))"
   ]
  },
  {
   "cell_type": "markdown",
   "id": "1190fea1",
   "metadata": {},
   "source": [
    "- 불용어 처리를 위해 NLTK 에서 제공하는 불용어 리스트를 참조합니다."
   ]
  },
  {
   "cell_type": "code",
   "execution_count": 24,
   "id": "880d5a65",
   "metadata": {},
   "outputs": [],
   "source": [
    "def preprocess_sentence(sentence, remove_stopwords=True):\n",
    "    sentence = sentence.lower()\n",
    "    sentence = BeautifulSoup(sentence, \"lxml\").text\n",
    "    sentence = re.sub(r'\\([^)]*\\)', '', sentence)\n",
    "    sentence = re.sub('\"','', sentence)\n",
    "    sentence = ' '.join([contractions[t] if t in contractions else t for t in sentence.split(\" \")])\n",
    "    sentence = re.sub(r\"'s\\b\",\"\", sentence)\n",
    "    sentence = re.sub(\"[^a-zA-Z]\", \" \", sentence)\n",
    "    \n",
    "    if remove_stopwords:\n",
    "        tokens = ' '.join(word for word in sentence.split() if not word in stopwords.words('english') if len(word) > 1)\n",
    "\n",
    "    else:\n",
    "        tokens = ' '.join(word for word in sentence.split() if len(word) > 1)\n",
    "    return tokens"
   ]
  },
  {
   "cell_type": "markdown",
   "id": "fb5972ed",
   "metadata": {},
   "source": [
    "- 데이터 전처리를 자동화하는 함수를 정의하였습니다.\n",
    "- 문장을 영문 소문자로 변환 뒤, lxml parser 로 파싱(parsing) 해줍니다.\n",
    "- 괄호로 닫힌 내용들을 삭제합니다.\n",
    "- 큰 따옴표를 제거합니다.\n",
    "- 앞서 정의한 사전을 활용하여 텍스트를 정규화합니다.\n",
    "- 소유격을 제거합니다.\n",
    "- 알파벳 이외의 문자를 공백으로 변환합니다."
   ]
  },
  {
   "cell_type": "markdown",
   "id": "3a5904b1",
   "metadata": {},
   "source": [
    "- 불용어 처리의 경우에는 text 열에만 적용해주도록 하겠습니다.\n",
    "- headlines 는 이미 문장의 길이가 짧으며,\n",
    "- 추상적 요약 시, 자연스러운 문장을 반환하기 위해서는 불용어들이 필요하다고 판단하였습니다."
   ]
  },
  {
   "cell_type": "code",
   "execution_count": 25,
   "id": "0fcea12f",
   "metadata": {},
   "outputs": [
    {
     "name": "stdout",
     "output_type": "stream",
     "text": [
      "text:  everything bought great infact ordered twice third ordered wasfor mother father\n",
      "summary: great way to start the day\n"
     ]
    }
   ],
   "source": [
    "temp_text = 'Everything I bought was great, infact I ordered twice and the third ordered was<br />for my mother and father.'\n",
    "temp_headlines = 'Great way to start (or finish) the day!!!'\n",
    "\n",
    "print(\"text: \", preprocess_sentence(temp_text))\n",
    "print(\"summary:\", preprocess_sentence(temp_headlines, False))"
   ]
  },
  {
   "cell_type": "markdown",
   "id": "e9977125",
   "metadata": {},
   "source": [
    "- 함수가 정상적으로 작동하는지 확인해주었습니다."
   ]
  },
  {
   "cell_type": "code",
   "execution_count": 26,
   "id": "827e5cc0",
   "metadata": {},
   "outputs": [
    {
     "name": "stdout",
     "output_type": "stream",
     "text": [
      "text 전처리 후 결과:  ['saurav kant alumnus upgrad iiit pg program machine learning artificial intelligence sr systems engineer infosys almost years work experience program upgrad degree career support helped transition data scientist tech mahindra salary hike upgrad online power learning powered lakh careers', 'kunal shah credit card bill payment platform cred gave users chance win free food swiggy one year pranav kaushik delhi techie bagged reward spending cred coins users get one cred coin per rupee bill paid used avail rewards brands like ixigo bookmyshow ubereats cult fit', 'new zealand defeated india wickets fourth odi hamilton thursday win first match five match odi series india lost international match rohit sharma captaincy consecutive victories dating back march match witnessed india getting seventh lowest total odi cricket history', 'aegon life iterm insurance plan customers enjoy tax benefits premiums paid save taxes plan provides life cover age years also customers options insure critical illnesses disability accidental death benefit rider life cover age years', 'speaking sexual harassment allegations rajkumar hirani sonam kapoor said known hirani many years true metoo movement get derailed metoo movement always believe woman case need reserve judgment added hirani accused assistant worked sanju']\n"
     ]
    }
   ],
   "source": [
    "clean_text = []\n",
    "\n",
    "for s in data['text']:\n",
    "    clean_text.append(preprocess_sentence(s))\n",
    "\n",
    "print(\"text 전처리 후 결과: \", clean_text[:5])"
   ]
  },
  {
   "cell_type": "code",
   "execution_count": 27,
   "id": "97fe0c75",
   "metadata": {},
   "outputs": [
    {
     "name": "stdout",
     "output_type": "stream",
     "text": [
      "headlines 전처리 후 결과:  ['upgrad learner switches to career in ml al with salary hike', 'delhi techie wins free food from swiggy for one year on cred', 'new zealand end rohit sharma led india match winning streak', 'aegon life iterm insurance plan helps customers save tax', 'have known hirani for yrs what if metoo claims are not true sonam']\n"
     ]
    }
   ],
   "source": [
    "clean_headlines = []\n",
    "\n",
    "for s in data['headlines']:\n",
    "    clean_headlines.append(preprocess_sentence(s, False))\n",
    "\n",
    "print(\"headlines 전처리 후 결과: \", clean_headlines[:5])"
   ]
  },
  {
   "cell_type": "markdown",
   "id": "08e635c9",
   "metadata": {},
   "source": [
    "-  text 와 headlines 에 대한 문장 전처리 작업을 수행하였습니다.\n",
    "- headlines 에서는 불용어 제거를 수행하지 않았습니다."
   ]
  },
  {
   "cell_type": "code",
   "execution_count": 28,
   "id": "f87e1d06",
   "metadata": {},
   "outputs": [],
   "source": [
    "data['text'] = clean_text\n",
    "data['headlines'] = clean_headlines\n",
    "\n",
    "data.replace('', np.nan, inplace=True)"
   ]
  },
  {
   "cell_type": "markdown",
   "id": "fee3f445",
   "metadata": {},
   "source": [
    "- 전처리가 끝난 문장들을 다시 데이터프레임에 저장해주었습니다.\n",
    "- 전처리 과정에서 빈 값을 가진 데이터가 생겼을 가능성이 있습니다.\n",
    "- 따라서, 빈 값을 NaN 으로 대체하여주었습니다."
   ]
  },
  {
   "cell_type": "code",
   "execution_count": 30,
   "id": "0451114f",
   "metadata": {},
   "outputs": [
    {
     "data": {
      "text/plain": [
       "headlines    0\n",
       "text         0\n",
       "dtype: int64"
      ]
     },
     "execution_count": 30,
     "metadata": {},
     "output_type": "execute_result"
    }
   ],
   "source": [
    "data.isnull().sum()"
   ]
  },
  {
   "cell_type": "markdown",
   "id": "16fda527",
   "metadata": {},
   "source": [
    "- null 값의 개수를 조회합니다."
   ]
  },
  {
   "cell_type": "code",
   "execution_count": 33,
   "id": "8fe2cdf1",
   "metadata": {},
   "outputs": [
    {
     "name": "stdout",
     "output_type": "stream",
     "text": [
      "text의 최소 길이 : 1\n",
      "text의 최대 길이 : 60\n",
      "text의 평균 길이 : 35.09968483123221\n",
      "headlines의 최소 길이 : 1\n",
      "headlines의 최대 길이 : 16\n",
      "headlines의 평균 길이 : 9.299532330215534\n"
     ]
    },
    {
     "data": {
      "image/png": "[encoded data removed]",
      "text/plain": [
       "<Figure size 432x288 with 2 Axes>"
      ]
     },
     "metadata": {
      "needs_background": "light"
     },
     "output_type": "display_data"
    },
    {
     "data": {
      "image/png": "[encoded data removed]",
      "text/plain": [
       "<Figure size 432x288 with 1 Axes>"
      ]
     },
     "metadata": {
      "needs_background": "light"
     },
     "output_type": "display_data"
    },
    {
     "data": {
      "image/png": "[encoded data removed]",
      "text/plain": [
       "<Figure size 432x288 with 1 Axes>"
      ]
     },
     "metadata": {
      "needs_background": "light"
     },
     "output_type": "display_data"
    }
   ],
   "source": [
    "text_len = [len(s.split()) for s in data['text']]\n",
    "headlines_len = [len(s.split()) for s in data['headlines']]\n",
    "\n",
    "print('text의 최소 길이 : {}'.format(np.min(text_len)))\n",
    "print('text의 최대 길이 : {}'.format(np.max(text_len)))\n",
    "print('text의 평균 길이 : {}'.format(np.mean(text_len)))\n",
    "print('headlines의 최소 길이 : {}'.format(np.min(headlines_len)))\n",
    "print('headlines의 최대 길이 : {}'.format(np.max(headlines_len)))\n",
    "print('headlines의 평균 길이 : {}'.format(np.mean(headlines_len)))\n",
    "\n",
    "plt.subplot(1,2,1)\n",
    "plt.boxplot(text_len)\n",
    "plt.title('text')\n",
    "plt.subplot(1,2,2)\n",
    "plt.boxplot(headlines_len)\n",
    "plt.title('headlines')\n",
    "plt.tight_layout()\n",
    "plt.show()\n",
    "\n",
    "plt.title('text')\n",
    "plt.hist(text_len, bins = 40)\n",
    "plt.xlabel('length of samples')\n",
    "plt.ylabel('number of samples')\n",
    "plt.show()\n",
    "\n",
    "plt.title('headlines')\n",
    "plt.hist(headlines_len, bins = 40)\n",
    "plt.xlabel('length of samples')\n",
    "plt.ylabel('number of samples')\n",
    "plt.show()"
   ]
  },
  {
   "cell_type": "markdown",
   "id": "8cdfef35",
   "metadata": {},
   "source": [
    "- text 와 headlines 의 최대 길이를 설정하기 위해 각 컬럼의 문장 길이 분포를 시각화하였습니다.\n",
    "- text 와 headlines 의 평균 길이는 각각 35, 9 인 것을 알 수 있습니다.\n",
    "- 아래 그래프에서 text 는 대체적으로 44 이하, headlines 는 12 이하의 문장 길이를 가지고 있음을 확인할 수 있습니다."
   ]
  },
  {
   "cell_type": "code",
   "execution_count": 37,
   "id": "c4754bec",
   "metadata": {},
   "outputs": [],
   "source": [
    "text_max_len = 40\n",
    "headlines_max_len = 10"
   ]
  },
  {
   "cell_type": "markdown",
   "id": "19c92c57",
   "metadata": {},
   "source": [
    "- 따라서, text 는 40, headlines 는 10 로 최대 길이를 설정하였습니다.\n",
    "- 밑에서는 위에서 설정한 최대 길이가 적절한지 통계로 확인해보겠습니다."
   ]
  },
  {
   "cell_type": "code",
   "execution_count": 38,
   "id": "a1cc9660",
   "metadata": {},
   "outputs": [],
   "source": [
    "def below_threshold_len(max_len, nested_list):\n",
    "  cnt = 0\n",
    "  for s in nested_list:\n",
    "    if(len(s.split()) <= max_len):\n",
    "        cnt = cnt + 1\n",
    "  print('전체 샘플 중 길이가 {} 이하인 샘플의 비율: {}'.format(max_len, (cnt / len(nested_list))))"
   ]
  },
  {
   "cell_type": "markdown",
   "id": "f92bd616",
   "metadata": {},
   "source": [
    "- 최대 길이 내 데이터의 비율을 출력하는 함수를 정의하였습니다."
   ]
  },
  {
   "cell_type": "code",
   "execution_count": 39,
   "id": "c2acaab6",
   "metadata": {},
   "outputs": [
    {
     "name": "stdout",
     "output_type": "stream",
     "text": [
      "전체 샘플 중 길이가 40 이하인 샘플의 비율: 0.9238714924766165\n",
      "전체 샘플 중 길이가 10 이하인 샘플의 비율: 0.8162972753151687\n"
     ]
    }
   ],
   "source": [
    "below_threshold_len(text_max_len, data['text'])\n",
    "below_threshold_len(headlines_max_len, data['headlines'])"
   ]
  },
  {
   "cell_type": "markdown",
   "id": "54c28f50",
   "metadata": {},
   "source": [
    "- 각각 40, 10 으로 최대 길이를 설정하였을 경우, 92%, 81% 의 데이터들을 온전히 사용할 수 있습니다."
   ]
  },
  {
   "cell_type": "code",
   "execution_count": 40,
   "id": "1bf3bafa",
   "metadata": {},
   "outputs": [
    {
     "name": "stdout",
     "output_type": "stream",
     "text": [
      "전체 샘플수 : 74102\n"
     ]
    }
   ],
   "source": [
    "data = data[data['text'].apply(lambda x: len(x.split()) <= text_max_len)]\n",
    "data = data[data['headlines'].apply(lambda x: len(x.split()) <= headlines_max_len)]\n",
    "\n",
    "print('전체 샘플수 :', len(data))"
   ]
  },
  {
   "cell_type": "markdown",
   "id": "387cef85",
   "metadata": {},
   "source": [
    "- text 열에서 길이가 40 이하인 데이터를 제외하고 삭제해주었습니다.\n",
    "- headlines 열에서는 길이가 10 이하인 데이터를 제외하고 삭제해주었습니다.\n",
    "- 전체 데이터 수는 74102 개가 되었습니다."
   ]
  },
  {
   "cell_type": "markdown",
   "id": "1001c0ae",
   "metadata": {},
   "source": [
    "- seq2seq 의 training 시에는 decoder의 input과 target 을 모두 지정해주어야합니다.\n",
    "- 따라서, decoder 의 input 앞에는 'sostoken',\n",
    "- decoder 의 target 뒤에는 'eostoken' 을 추가해주도록 하겠습니다.\n",
    "- headlines 열을 사용하여야합니다."
   ]
  },
  {
   "cell_type": "code",
   "execution_count": 41,
   "id": "c93b6ded",
   "metadata": {},
   "outputs": [
    {
     "data": {
      "text/html": [
       "<div>\n",
       "<style scoped>\n",
       "    .dataframe tbody tr th:only-of-type {\n",
       "        vertical-align: middle;\n",
       "    }\n",
       "\n",
       "    .dataframe tbody tr th {\n",
       "        vertical-align: top;\n",
       "    }\n",
       "\n",
       "    .dataframe thead th {\n",
       "        text-align: right;\n",
       "    }\n",
       "</style>\n",
       "<table border=\"1\" class=\"dataframe\">\n",
       "  <thead>\n",
       "    <tr style=\"text-align: right;\">\n",
       "      <th></th>\n",
       "      <th>headlines</th>\n",
       "      <th>text</th>\n",
       "      <th>decoder_input</th>\n",
       "      <th>decoder_target</th>\n",
       "    </tr>\n",
       "  </thead>\n",
       "  <tbody>\n",
       "    <tr>\n",
       "      <th>2</th>\n",
       "      <td>new zealand end rohit sharma led india match w...</td>\n",
       "      <td>new zealand defeated india wickets fourth odi ...</td>\n",
       "      <td>sostoken new zealand end rohit sharma led indi...</td>\n",
       "      <td>new zealand end rohit sharma led india match w...</td>\n",
       "    </tr>\n",
       "    <tr>\n",
       "      <th>3</th>\n",
       "      <td>aegon life iterm insurance plan helps customer...</td>\n",
       "      <td>aegon life iterm insurance plan customers enjo...</td>\n",
       "      <td>sostoken aegon life iterm insurance plan helps...</td>\n",
       "      <td>aegon life iterm insurance plan helps customer...</td>\n",
       "    </tr>\n",
       "    <tr>\n",
       "      <th>5</th>\n",
       "      <td>rahat fateh ali khan denies getting notice for...</td>\n",
       "      <td>pakistani singer rahat fateh ali khan denied r...</td>\n",
       "      <td>sostoken rahat fateh ali khan denies getting n...</td>\n",
       "      <td>rahat fateh ali khan denies getting notice for...</td>\n",
       "    </tr>\n",
       "    <tr>\n",
       "      <th>9</th>\n",
       "      <td>cong wins ramgarh bypoll in rajasthan takes to...</td>\n",
       "      <td>congress candidate shafia zubair ramgarh assem...</td>\n",
       "      <td>sostoken cong wins ramgarh bypoll in rajasthan...</td>\n",
       "      <td>cong wins ramgarh bypoll in rajasthan takes to...</td>\n",
       "    </tr>\n",
       "    <tr>\n",
       "      <th>10</th>\n",
       "      <td>up cousins fed human excreta for friendship wi...</td>\n",
       "      <td>two minor cousins uttar pradesh gorakhpur alle...</td>\n",
       "      <td>sostoken up cousins fed human excreta for frie...</td>\n",
       "      <td>up cousins fed human excreta for friendship wi...</td>\n",
       "    </tr>\n",
       "  </tbody>\n",
       "</table>\n",
       "</div>"
      ],
      "text/plain": [
       "                                            headlines  \\\n",
       "2   new zealand end rohit sharma led india match w...   \n",
       "3   aegon life iterm insurance plan helps customer...   \n",
       "5   rahat fateh ali khan denies getting notice for...   \n",
       "9   cong wins ramgarh bypoll in rajasthan takes to...   \n",
       "10  up cousins fed human excreta for friendship wi...   \n",
       "\n",
       "                                                 text  \\\n",
       "2   new zealand defeated india wickets fourth odi ...   \n",
       "3   aegon life iterm insurance plan customers enjo...   \n",
       "5   pakistani singer rahat fateh ali khan denied r...   \n",
       "9   congress candidate shafia zubair ramgarh assem...   \n",
       "10  two minor cousins uttar pradesh gorakhpur alle...   \n",
       "\n",
       "                                        decoder_input  \\\n",
       "2   sostoken new zealand end rohit sharma led indi...   \n",
       "3   sostoken aegon life iterm insurance plan helps...   \n",
       "5   sostoken rahat fateh ali khan denies getting n...   \n",
       "9   sostoken cong wins ramgarh bypoll in rajasthan...   \n",
       "10  sostoken up cousins fed human excreta for frie...   \n",
       "\n",
       "                                       decoder_target  \n",
       "2   new zealand end rohit sharma led india match w...  \n",
       "3   aegon life iterm insurance plan helps customer...  \n",
       "5   rahat fateh ali khan denies getting notice for...  \n",
       "9   cong wins ramgarh bypoll in rajasthan takes to...  \n",
       "10  up cousins fed human excreta for friendship wi...  "
      ]
     },
     "execution_count": 41,
     "metadata": {},
     "output_type": "execute_result"
    }
   ],
   "source": [
    "data['decoder_input'] = data['headlines'].apply(lambda x: 'sostoken ' + x)\n",
    "data['decoder_target'] = data['headlines'].apply(lambda x: x + ' eostoken')\n",
    "\n",
    "data.head()"
   ]
  },
  {
   "cell_type": "code",
   "execution_count": 46,
   "id": "73c992d2",
   "metadata": {},
   "outputs": [
    {
     "data": {
      "text/plain": [
       "'new zealand end rohit sharma led india match winning streak eostoken'"
      ]
     },
     "execution_count": 46,
     "metadata": {},
     "output_type": "execute_result"
    }
   ],
   "source": [
    "data.loc[2, 'decoder_target']"
   ]
  },
  {
   "cell_type": "markdown",
   "id": "5854c6b0",
   "metadata": {},
   "source": [
    "- data 의 앞뒤로 sostoken 과 eostoken 이 잘 붙어있습니다."
   ]
  },
  {
   "cell_type": "code",
   "execution_count": 47,
   "id": "0cbf6735",
   "metadata": {},
   "outputs": [],
   "source": [
    "encoder_input = np.array(data['text'])\n",
    "decoder_input = np.array(data['decoder_input'])\n",
    "decoder_target = np.array(data['decoder_target'])"
   ]
  },
  {
   "cell_type": "markdown",
   "id": "feb0875b",
   "metadata": {},
   "source": [
    "- encoder 의 입력값, decoder 의 입력값, decoder 의 target 을 ndarray type 으로 변환하여 주었습니다."
   ]
  },
  {
   "cell_type": "markdown",
   "id": "c8ebc1c1",
   "metadata": {},
   "source": [
    "- 이제 준비된 dataset 을 train data 와 test data 로 분리하여 주겠습니다."
   ]
  },
  {
   "cell_type": "code",
   "execution_count": 48,
   "id": "df881af6",
   "metadata": {},
   "outputs": [
    {
     "name": "stdout",
     "output_type": "stream",
     "text": [
      "[66870  5641 62812 ... 42863 73116 24701]\n"
     ]
    }
   ],
   "source": [
    "indices = np.arange(encoder_input.shape[0])\n",
    "np.random.shuffle(indices)\n",
    "\n",
    "print(indices)"
   ]
  },
  {
   "cell_type": "markdown",
   "id": "39d6b0c9",
   "metadata": {},
   "source": [
    "- 데이터를 shuffling 하기 위해 random 한 정수 시퀀스를 생성해주었습니다."
   ]
  },
  {
   "cell_type": "code",
   "execution_count": 49,
   "id": "e70adb5c",
   "metadata": {},
   "outputs": [],
   "source": [
    "encoder_input = encoder_input[indices]\n",
    "decoder_input = decoder_input[indices]\n",
    "decoder_target = decoder_target[indices]"
   ]
  },
  {
   "cell_type": "markdown",
   "id": "5e87979e",
   "metadata": {},
   "source": [
    "- 정수 시퀀스를 활용하여 데이터를 shuffling 해주었습니다."
   ]
  },
  {
   "cell_type": "code",
   "execution_count": 50,
   "id": "24a91491",
   "metadata": {},
   "outputs": [
    {
     "name": "stdout",
     "output_type": "stream",
     "text": [
      "test data 개수:  14820\n"
     ]
    }
   ],
   "source": [
    "n_of_val = int(len(encoder_input) * 0.2)\n",
    "print(\"test data 개수: \", n_of_val)"
   ]
  },
  {
   "cell_type": "markdown",
   "id": "b3ed427e",
   "metadata": {},
   "source": [
    "- 8:2 의 비율로 dataset 을 분리하도록 하겠습니다.\n",
    "- 따라서, test data 의 수는 14820 개입니다."
   ]
  },
  {
   "cell_type": "code",
   "execution_count": 51,
   "id": "09e9abad",
   "metadata": {},
   "outputs": [
    {
     "name": "stdout",
     "output_type": "stream",
     "text": [
      "훈련 데이터의 개수 : 59282\n",
      "훈련 레이블의 개수 : 59282\n",
      "테스트 데이터의 개수 : 14820\n",
      "테스트 레이블의 개수 : 14820\n"
     ]
    }
   ],
   "source": [
    "encoder_input_train = encoder_input[:-n_of_val]\n",
    "decoder_input_train = decoder_input[:-n_of_val]\n",
    "decoder_target_train = decoder_target[:-n_of_val]\n",
    "\n",
    "encoder_input_test = encoder_input[-n_of_val:]\n",
    "decoder_input_test = decoder_input[-n_of_val:]\n",
    "decoder_target_test = decoder_target[-n_of_val:]\n",
    "\n",
    "print('훈련 데이터의 개수 :', len(encoder_input_train))\n",
    "print('훈련 레이블의 개수 :', len(decoder_input_train))\n",
    "print('테스트 데이터의 개수 :', len(encoder_input_test))\n",
    "print('테스트 레이블의 개수 :', len(decoder_input_test))"
   ]
  },
  {
   "cell_type": "markdown",
   "id": "44ef54ab",
   "metadata": {},
   "source": [
    "- train data 의 개수는 59282,\n",
    "- test data 의 개수는 14820 으로 분리되었습니다."
   ]
  },
  {
   "cell_type": "code",
   "execution_count": 52,
   "id": "ece930a5",
   "metadata": {},
   "outputs": [],
   "source": [
    "src_tokenizer = Tokenizer()\n",
    "src_tokenizer.fit_on_texts(encoder_input_train)"
   ]
  },
  {
   "cell_type": "markdown",
   "id": "805d2bc1",
   "metadata": {},
   "source": [
    "- encoder_input data 를 정수 인코딩한 후, model 에 입력해주어야 합니다.\n",
    "- keras 의 tokenizer 를 활용하여 encoder_input_train data 를 토큰화하고,\n",
    "- 단어집합(vocabulary) 를 생성합니다."
   ]
  },
  {
   "cell_type": "code",
   "execution_count": 53,
   "id": "5a132834",
   "metadata": {},
   "outputs": [
    {
     "name": "stdout",
     "output_type": "stream",
     "text": [
      "단어 집합(vocabulary)의 크기: 61526\n",
      "등장 빈도가 6번 이하인 희귀 단어의 수: 42220\n",
      "단어 집합에서 희귀 단어를 제외시킬 경우의 단어 집합의 크기: 19306\n",
      "단어 집합에서 희귀 단어의 비율: 68.62139583265612\n",
      "전체 등장 빈도에서 희귀 단어 등장 빈도 비율: 4.186763669011215\n"
     ]
    }
   ],
   "source": [
    "threshold = 7\n",
    "total_cnt = len(src_tokenizer.word_index)\n",
    "rare_cnt = 0\n",
    "total_freq = 0\n",
    "rare_freq = 0\n",
    "\n",
    "for key, value in src_tokenizer.word_counts.items():\n",
    "    total_freq = total_freq + value\n",
    "\n",
    "    if(value < threshold):\n",
    "        rare_cnt = rare_cnt + 1\n",
    "        rare_freq = rare_freq + value\n",
    "\n",
    "print('단어 집합(vocabulary)의 크기: {}'.format(total_cnt))\n",
    "print('등장 빈도가 {}번 이하인 희귀 단어의 수: {}'.format(threshold - 1, rare_cnt))\n",
    "print('단어 집합에서 희귀 단어를 제외시킬 경우의 단어 집합의 크기: {}'.format(total_cnt - rare_cnt))\n",
    "print(\"단어 집합에서 희귀 단어의 비율: {}\".format((rare_cnt / total_cnt) * 100))\n",
    "print(\"전체 등장 빈도에서 희귀 단어 등장 빈도 비율: {}\".format((rare_freq / total_freq) * 100))"
   ]
  },
  {
   "cell_type": "markdown",
   "id": "0507905d",
   "metadata": {},
   "source": [
    "- 생성된 vocabulary 에서 빈도수가 낮은 단어는 제외하고 사용하도록 하겠습니다.\n",
    "- total_cnt 는 단어의 총 개수입니다.\n",
    "- rare_cnt 는 threshold 보다 낮은 등장 빈도수를 가지는 단어의 총 개수입니다.\n",
    "- total_freq 는 단어의 빈도수 총합입니다.\n",
    "- rare_freq 는 threshold 보다 낮은 등장 빈도수를 가지는 단어의 빈도수 총합입니다.\n",
    "- tokenizer 의 word_counts 에는 각 단어와 단어의 빈도수가 저장되어 있습니다."
   ]
  },
  {
   "cell_type": "markdown",
   "id": "fa14a710",
   "metadata": {},
   "source": [
    "- encoder_input_train 에는 61526 개의 단어가 있습니다.\n",
    "- 그 중, 6번 이하의 등장 빈도를 가지는 단어는 42220 개로 단어집합에서 68%의 비율을 차지하고 있습니다.\n",
    "- 그러나, 실제로 6번 이하의 등장 빈도를 가지는 희귀 단어가 등장한 실제 빈도는 4.19% 밖에 되지 않습니다.\n",
    "- 따라서, 등장 빈도가 6번 이하인 단어들은 정수 인코딩에서 제외하여 training 시 사용하지 않도록 하겠습니다."
   ]
  },
  {
   "cell_type": "code",
   "execution_count": 54,
   "id": "6a462d3d",
   "metadata": {},
   "outputs": [],
   "source": [
    "src_vocab = 19000\n",
    "src_tokenizer = Tokenizer(num_words=src_vocab)\n",
    "src_tokenizer.fit_on_texts(encoder_input_train)"
   ]
  },
  {
   "cell_type": "markdown",
   "id": "698151d0",
   "metadata": {},
   "source": [
    "- 희귀 단어를 제외한 단어 집합의 크기를 약 19000으로 잡았습니다.\n",
    "- 단어장의 크기를 19000으로 설정하고 다시 단어집합을 생성해줍니다."
   ]
  },
  {
   "cell_type": "code",
   "execution_count": 55,
   "id": "8cfc5bf2",
   "metadata": {},
   "outputs": [
    {
     "name": "stdout",
     "output_type": "stream",
     "text": [
      "[[647, 380, 4873, 6987, 373, 57, 6075, 5148, 222, 16, 12, 5076, 90, 2005, 6075, 5076, 1107, 2411, 203, 8806, 4046, 295, 40, 15896, 804, 66, 6, 90, 369, 1950, 6075, 13175, 122, 3647, 13, 12, 245], [607, 2547, 8807, 52, 1, 5732, 7765, 1198, 29, 338, 133, 530, 870, 686, 3222, 445, 3247, 7624, 3160, 86, 687, 5204, 3087, 394, 29, 329, 5465, 2981, 133, 20, 1725, 607, 8, 2944, 677, 8807], [62, 237, 107, 1665, 630, 48, 719, 429, 2522, 1087, 86, 571, 148, 405, 1413, 2248, 258, 215, 2982, 4086, 62, 534, 1186, 2087]]\n"
     ]
    }
   ],
   "source": [
    "encoder_input_train = src_tokenizer.texts_to_sequences(encoder_input_train)\n",
    "encoder_input_test = src_tokenizer.texts_to_sequences(encoder_input_test)\n",
    "\n",
    "print(encoder_input_train[:3])"
   ]
  },
  {
   "cell_type": "markdown",
   "id": "ea90dead",
   "metadata": {},
   "source": [
    "- 앞서 생성한 단어장을 활용하여 encoder_input data 를 정수인코딩해주었습니다.\n",
    "- 각 문장의 token 들이 단어장의 index 를 기반으로 int type 으로 변환되었습니다."
   ]
  },
  {
   "cell_type": "code",
   "execution_count": 56,
   "id": "9baae3d4",
   "metadata": {},
   "outputs": [],
   "source": [
    "tar_tokenizer = Tokenizer()\n",
    "tar_tokenizer.fit_on_texts(decoder_input_train)"
   ]
  },
  {
   "cell_type": "markdown",
   "id": "25cd7744",
   "metadata": {},
   "source": [
    "- encoder_input data 는 단어장이 생성되었고, 정수 인코딩도 완료되었습니다.\n",
    "- decoder_input data 도 마찬가지로 단어장 생성 및 정수 인코딩을 수행하겠습니다."
   ]
  },
  {
   "cell_type": "code",
   "execution_count": 57,
   "id": "a1d9d231",
   "metadata": {},
   "outputs": [
    {
     "name": "stdout",
     "output_type": "stream",
     "text": [
      "단어 집합(vocabulary)의 크기: 27325\n",
      "등장 빈도가 5번 이하인 희귀 단어의 수: 18240\n",
      "단어 집합에서 희귀 단어를 제외시킬 경우의 단어 집합의 크기: 9085\n",
      "단어 집합에서 희귀 단어의 비율: 66.75205855443733\n",
      "전체 등장 빈도에서 희귀 단어 등장 빈도 비율: 5.964105856141929\n"
     ]
    }
   ],
   "source": [
    "threshold = 6\n",
    "total_cnt = len(tar_tokenizer.word_index)\n",
    "rare_cnt = 0\n",
    "total_freq = 0\n",
    "rare_freq = 0\n",
    "\n",
    "for key, value in tar_tokenizer.word_counts.items():\n",
    "    total_freq = total_freq + value\n",
    "\n",
    "    if(value < threshold):\n",
    "        rare_cnt = rare_cnt + 1\n",
    "        rare_freq = rare_freq + value\n",
    "\n",
    "print('단어 집합(vocabulary)의 크기: {}'.format(total_cnt))\n",
    "print('등장 빈도가 {}번 이하인 희귀 단어의 수: {}'.format(threshold - 1, rare_cnt))\n",
    "print('단어 집합에서 희귀 단어를 제외시킬 경우의 단어 집합의 크기: {}'.format(total_cnt - rare_cnt))\n",
    "print(\"단어 집합에서 희귀 단어의 비율: {}\".format((rare_cnt / total_cnt) * 100))\n",
    "print(\"전체 등장 빈도에서 희귀 단어 등장 빈도 비율: {}\".format((rare_freq / total_freq) * 100))"
   ]
  },
  {
   "cell_type": "markdown",
   "id": "b7652118",
   "metadata": {},
   "source": [
    "- decoder_input_train 은 총 27325 개의 단어로 구성되어 있습니다.\n",
    "- 이 중 등장 빈도가 5번 이하인 희귀 단어는 18240 개로 전체 단어 중 66% 의 비율을 차지하고 있습니다.\n",
    "- 그러나, 실제로 희귀 단어가 등장하는 빈도는 전체 빈도 중 약 6% 에 불과합니다.\n",
    "- 따라서, 등장 빈도 5번 이하인 단어들에 대해서만 단어장을 생성하여 training 시 반영하도록 하겠습니다."
   ]
  },
  {
   "cell_type": "code",
   "execution_count": 58,
   "id": "17fbcd0c",
   "metadata": {},
   "outputs": [],
   "source": [
    "tar_vocab = 9000\n",
    "tar_tokenizer = Tokenizer(num_words=tar_vocab)\n",
    "tar_tokenizer.fit_on_texts(decoder_input_train)\n",
    "tar_tokenizer.fit_on_texts(decoder_target_train)"
   ]
  },
  {
   "cell_type": "markdown",
   "id": "e8d6406e",
   "metadata": {},
   "source": [
    "- decoder_input_train 과 decoder_target_train을 토큰화하고 9000 개 크기의 단어장을 생성해주었습니다."
   ]
  },
  {
   "cell_type": "code",
   "execution_count": 59,
   "id": "e400eb49",
   "metadata": {},
   "outputs": [],
   "source": [
    "decoder_input_train = tar_tokenizer.texts_to_sequences(decoder_input_train)\n",
    "decoder_input_test = tar_tokenizer.texts_to_sequences(decoder_input_test)\n",
    "decoder_target_train = tar_tokenizer.texts_to_sequences(decoder_target_train)\n",
    "decoder_target_test = tar_tokenizer.texts_to_sequences(decoder_target_test)"
   ]
  },
  {
   "cell_type": "markdown",
   "id": "76bd4403",
   "metadata": {},
   "source": [
    "- decoder_input_train, test 와 decoder_target_train, test 를 앞서 생성한 단어장을 활용하여 정수 인코딩 해주었습니다."
   ]
  },
  {
   "cell_type": "code",
   "execution_count": 61,
   "id": "ea52f39c",
   "metadata": {},
   "outputs": [
    {
     "name": "stdout",
     "output_type": "stream",
     "text": [
      "input\n",
      "decoder  [[1, 4327, 19, 1127, 5677, 3, 333, 4328, 6, 262, 3454], [1, 6934, 6463, 3, 1408, 6464, 67, 541, 484, 4, 350], [1, 3838, 3238, 2414, 753, 4683, 277, 12, 2615], [1, 839, 371, 96, 15, 7555, 6935, 4, 3698], [1, 113, 2616, 1054, 1175, 12, 511, 7, 1878]]\n",
      "target\n",
      "decoder  [[4327, 19, 1127, 5677, 3, 333, 4328, 6, 262, 3454, 2], [6934, 6463, 3, 1408, 6464, 67, 541, 484, 4, 350, 2], [3838, 3238, 2414, 753, 4683, 277, 12, 2615, 2], [839, 371, 96, 15, 7555, 6935, 4, 3698, 2], [113, 2616, 1054, 1175, 12, 511, 7, 1878, 2]]\n"
     ]
    }
   ],
   "source": [
    "print('input')\n",
    "print('decoder ', decoder_input_train[:5])\n",
    "print('target')\n",
    "print('decoder ', decoder_target_train[:5])"
   ]
  },
  {
   "cell_type": "markdown",
   "id": "38e2b9dd",
   "metadata": {},
   "source": [
    "- decoder 의 input 과 target 이 정상적으로 정수 인코딩되었습니다."
   ]
  },
  {
   "cell_type": "markdown",
   "id": "e06ab33d",
   "metadata": {},
   "source": [
    "- 단어장을 생성하고 정수 인코딩을 수행하는 과정에서 빈도수가 낮은 단어들로만 이루어진 문장의 경우에는 삭제되었을 확률이 높습니다.\n",
    "- 특히나, text 열로 이루어진 encoder_input data 의 경우에는 확률이 낮지만,\n",
    "- headlines 열로 이루어진 decoder_input, decoder_target data 의 경우에는 모든 토큰이 삭제되었을 확률이 높습니다.\n",
    "- 따라서, 모든 문장이 삭제된 data 를 찾아보겠습니다."
   ]
  },
  {
   "cell_type": "code",
   "execution_count": 62,
   "id": "ab60e941",
   "metadata": {},
   "outputs": [
    {
     "name": "stdout",
     "output_type": "stream",
     "text": [
      "삭제할 훈련 데이터의 개수 : 0\n",
      "삭제할 테스트 데이터의 개수 : 0\n"
     ]
    }
   ],
   "source": [
    "drop_train = [index for index, sentence in enumerate(decoder_input_train) if len(sentence) == 1]\n",
    "drop_test = [index for index, sentence in enumerate(decoder_input_test) if len(sentence) == 1]\n",
    "\n",
    "print('삭제할 훈련 데이터의 개수 :', len(drop_train))\n",
    "print('삭제할 테스트 데이터의 개수 :', len(drop_test))"
   ]
  },
  {
   "cell_type": "markdown",
   "id": "b4afc7ec",
   "metadata": {},
   "source": [
    "- 모든 decoder_input 에는 앞서 sostoken 을 추가해주었고,\n",
    "- 모든 decoder_target 에는 eostoken 을 추가해주었으므로,\n",
    "- 빈도수가 낮아 모든 토큰이 삭제되었다고 하더라도 sostoken 과 eostoken 은 남아있을 것입니다.\n",
    "- 따라서, 문장의 길이가 1 인 데이터를 찾아보았습니다.\n",
    "- 다행히, 모든 토큰이 제거된 문장은 없습니다."
   ]
  },
  {
   "cell_type": "code",
   "execution_count": 63,
   "id": "ccbe4f3e",
   "metadata": {},
   "outputs": [],
   "source": [
    "encoder_input_train = pad_sequences(encoder_input_train, maxlen = text_max_len, padding = 'post')\n",
    "encoder_input_test = pad_sequences(encoder_input_test, maxlen = text_max_len, padding = 'post')\n",
    "decoder_input_train = pad_sequences(decoder_input_train, maxlen = headlines_max_len, padding = 'post')\n",
    "decoder_input_test = pad_sequences(decoder_input_test, maxlen = headlines_max_len, padding = 'post')\n",
    "decoder_target_train = pad_sequences(decoder_target_train, maxlen = headlines_max_len, padding = 'post')\n",
    "decoder_target_test = pad_sequences(decoder_target_test, maxlen = headlines_max_len, padding = 'post')"
   ]
  },
  {
   "cell_type": "markdown",
   "id": "624f4909",
   "metadata": {},
   "source": [
    "- 이제 모든 data 가 정수 인코딩 되었으므로, 패딩을 추가해주었습니다.\n",
    "- pad_sequences() 를 이용하면 손쉽게 원하는 위치에 패딩을 추가해줄 수 있습니다.\n",
    "- 앞서 설정한 max_len 을 기준으로 문장의 뒤에 숫자 0 을 추가하였습니다."
   ]
  },
  {
   "cell_type": "markdown",
   "id": "7043209e",
   "metadata": {},
   "source": [
    "### 모델링"
   ]
  },
  {
   "cell_type": "code",
   "execution_count": 92,
   "id": "67eb3499",
   "metadata": {},
   "outputs": [
    {
     "name": "stdout",
     "output_type": "stream",
     "text": [
      "WARNING:tensorflow:Layer lstm_19 will not use cuDNN kernels since it doesn't meet the criteria. It will use a generic GPU kernel as fallback when running on GPU.\n",
      "WARNING:tensorflow:Layer lstm_20 will not use cuDNN kernels since it doesn't meet the criteria. It will use a generic GPU kernel as fallback when running on GPU.\n",
      "WARNING:tensorflow:Layer lstm_21 will not use cuDNN kernels since it doesn't meet the criteria. It will use a generic GPU kernel as fallback when running on GPU.\n"
     ]
    }
   ],
   "source": [
    "# Encoder\n",
    "embedding_dim = 256\n",
    "hidden_size = 384\n",
    "\n",
    "# Encoder Input\n",
    "encoder_inputs = Input(shape=(text_max_len,))\n",
    "\n",
    "# Encoder Embedding Layer\n",
    "enc_emb = Embedding(src_vocab, embedding_dim)(encoder_inputs)\n",
    "\n",
    "# Encoder LSTM Layer_1\n",
    "encoder_lstm1 = LSTM(hidden_size, return_sequences=True, return_state=True,\n",
    "                     dropout=0.4, recurrent_dropout=0.4)\n",
    "encoder_output1, state_h1, state_c1 = encoder_lstm1(enc_emb)\n",
    "\n",
    "# Encoder LSTM Layer_2\n",
    "encoder_lstm2 = LSTM(hidden_size, return_sequences=True, return_state=True,\n",
    "                     dropout=0.4, recurrent_dropout=0.4)\n",
    "encoder_output2, state_h2, state_c2 = encoder_lstm2(encoder_output1)\n",
    "\n",
    "# Encoder LSTM Layer_3\n",
    "encoder_lstm3 = LSTM(hidden_size, return_sequences=True, return_state=True,\n",
    "                     dropout=0.4, recurrent_dropout=0.4)\n",
    "encoder_outputs, state_h, state_c = encoder_lstm3(encoder_output2)"
   ]
  },
  {
   "cell_type": "markdown",
   "id": "08c72819",
   "metadata": {},
   "source": [
    "- Encoder 를 모델링해주었습니다.\n",
    "- 임베딩 차원 수는 256 으로 설정해주었고, hidden state 의 크기는 512 로 설정하였습니다.\n",
    "- hidden state 는 LSTM Layer 에서 뉴런의 개수를 의미합니다.\n",
    "- 또한, Encoder 는 총 3 개의 LSTM Layer 로 구성해주었습니다.\n",
    "- 모델의 과적합을 최대한 줄여주기 위해 dropout 과 recurrent dropout 을 사용하였습니다.\n",
    "- 일반적인 dropout 은 Layer 의 weight 을 랜덤으로 생략해주지만, recurrent dropout 을 함께 사용하면, time step 마다 입력을 랜덤으로 생략할 수 있습니다.\n",
    "- 이제 Encoder 에서 3 개의 층을 통과한 출력 벡터를 Decoder 로 전달해주어야 합니다."
   ]
  },
  {
   "cell_type": "code",
   "execution_count": 93,
   "id": "d205b606",
   "metadata": {},
   "outputs": [
    {
     "name": "stdout",
     "output_type": "stream",
     "text": [
      "WARNING:tensorflow:Layer lstm_22 will not use cuDNN kernels since it doesn't meet the criteria. It will use a generic GPU kernel as fallback when running on GPU.\n"
     ]
    }
   ],
   "source": [
    "# Decoder Input\n",
    "decoder_inputs = Input(shape=(None,))\n",
    "\n",
    "# Decoder Embedding Layer\n",
    "dec_emb_layer = Embedding(tar_vocab, embedding_dim)\n",
    "dec_emb = dec_emb_layer(decoder_inputs)\n",
    "\n",
    "# Decoder LSTM Layer_1\n",
    "decoder_lstm = LSTM(hidden_size, return_sequences=True, return_state=True,\n",
    "                    dropout=0.4, recurrent_dropout=0.2)\n",
    "decoder_outputs, _, _ = decoder_lstm(dec_emb, initial_state=[state_h, state_c])"
   ]
  },
  {
   "cell_type": "markdown",
   "id": "1a124f00",
   "metadata": {},
   "source": [
    "- Decoder 를 모델링해주었습니다.\n",
    "- Decoder 에서는 LSTM Layer 1 개를 사용하였습니다.\n",
    "- Encoder 의 hidden_state 와 cell_state 를 Decoder 의 LSTM Layer 생성 시, 파라미터로 넣어주어야 합니다.\n",
    "- 이제 Attention Layer 를 결합한 Decoder 의 출력층을 설계해보겠습니다."
   ]
  },
  {
   "cell_type": "code",
   "execution_count": 94,
   "id": "975bc1e6",
   "metadata": {},
   "outputs": [],
   "source": [
    "# Attention Layer\n",
    "attn_layer = AdditiveAttention(name='attention_layer')\n",
    "attn_out = attn_layer([decoder_outputs, encoder_outputs])\n",
    "\n",
    "# Concatenate attn_out and decoder_outputs\n",
    "decoder_concat_input = Concatenate(axis=-1, name='concat_layer')([decoder_outputs, attn_out])"
   ]
  },
  {
   "cell_type": "markdown",
   "id": "a188dd5e",
   "metadata": {},
   "source": [
    "- Attention Layer 를 설계하였습니다.\n",
    "- tensorflow 에서는 Attention Function 을 API 로 제공하고 있습니다.\n",
    "- Encoder output 과 Decoder output 을 Attention Layer 로 전달하여 출력을 반환합니다.\n",
    "- 이후, Concat Layer 에서 Attention Layer 의 출력값과 Decoder 의 hidden_state 들을 연결합니다."
   ]
  },
  {
   "cell_type": "code",
   "execution_count": 95,
   "id": "49cb9658",
   "metadata": {},
   "outputs": [],
   "source": [
    "# Decoder Output Layer\n",
    "decoder_softmax_layer = Dense(tar_vocab, activation='softmax')\n",
    "decoder_softmax_outputs = decoder_softmax_layer(decoder_concat_input)"
   ]
  },
  {
   "cell_type": "markdown",
   "id": "986194d3",
   "metadata": {},
   "source": [
    "- Decoder 의 Output Layer 에서는 tar_vocab 내의 단어들 중 다음에 나올 단어들의 각 확률을 반환하는 Softmax 활성화함수를 사용하고 있습니다."
   ]
  },
  {
   "cell_type": "code",
   "execution_count": 96,
   "id": "702d442e",
   "metadata": {},
   "outputs": [
    {
     "name": "stdout",
     "output_type": "stream",
     "text": [
      "Model: \"model_6\"\n",
      "__________________________________________________________________________________________________\n",
      "Layer (type)                    Output Shape         Param #     Connected to                     \n",
      "==================================================================================================\n",
      "input_12 (InputLayer)           [(None, 40)]         0                                            \n",
      "__________________________________________________________________________________________________\n",
      "embedding_9 (Embedding)         (None, 40, 256)      4864000     input_12[0][0]                   \n",
      "__________________________________________________________________________________________________\n",
      "lstm_19 (LSTM)                  [(None, 40, 384), (N 984576      embedding_9[0][0]                \n",
      "__________________________________________________________________________________________________\n",
      "input_13 (InputLayer)           [(None, None)]       0                                            \n",
      "__________________________________________________________________________________________________\n",
      "lstm_20 (LSTM)                  [(None, 40, 384), (N 1181184     lstm_19[0][0]                    \n",
      "__________________________________________________________________________________________________\n",
      "embedding_10 (Embedding)        (None, None, 256)    2304000     input_13[0][0]                   \n",
      "__________________________________________________________________________________________________\n",
      "lstm_21 (LSTM)                  [(None, 40, 384), (N 1181184     lstm_20[0][0]                    \n",
      "__________________________________________________________________________________________________\n",
      "lstm_22 (LSTM)                  [(None, None, 384),  984576      embedding_10[0][0]               \n",
      "                                                                 lstm_21[0][1]                    \n",
      "                                                                 lstm_21[0][2]                    \n",
      "__________________________________________________________________________________________________\n",
      "attention_layer (AdditiveAttent (None, None, 384)    384         lstm_22[0][0]                    \n",
      "                                                                 lstm_21[0][0]                    \n",
      "__________________________________________________________________________________________________\n",
      "concat_layer (Concatenate)      (None, None, 768)    0           lstm_22[0][0]                    \n",
      "                                                                 attention_layer[0][0]            \n",
      "__________________________________________________________________________________________________\n",
      "dense_5 (Dense)                 (None, None, 9000)   6921000     concat_layer[0][0]               \n",
      "==================================================================================================\n",
      "Total params: 18,420,904\n",
      "Trainable params: 18,420,904\n",
      "Non-trainable params: 0\n",
      "__________________________________________________________________________________________________\n"
     ]
    }
   ],
   "source": [
    "# Define Model\n",
    "model = Model([encoder_inputs, decoder_inputs], decoder_softmax_outputs)\n",
    "model.summary()"
   ]
  },
  {
   "cell_type": "markdown",
   "id": "42032dbf",
   "metadata": {},
   "source": [
    "- 즉, Encoder 의 hidden_state 와 Decoder 의 hidden_state 들을 Attention Layer 의 Input 으로하여 리턴한 값을 예측 시에 Decoder 의 hidden_state 와 결합하여 활용하는 형태입니다. "
   ]
  },
  {
   "cell_type": "markdown",
   "id": "cfc6de65",
   "metadata": {},
   "source": [
    "### 훈련"
   ]
  },
  {
   "cell_type": "code",
   "execution_count": 97,
   "id": "ef164ede",
   "metadata": {
    "scrolled": true
   },
   "outputs": [
    {
     "name": "stdout",
     "output_type": "stream",
     "text": [
      "Epoch 1/50\n",
      "232/232 [==============================] - 140s 571ms/step - loss: 6.2271 - val_loss: 5.8140\n",
      "Epoch 2/50\n",
      "232/232 [==============================] - 132s 568ms/step - loss: 5.6264 - val_loss: 5.3702\n",
      "Epoch 3/50\n",
      "232/232 [==============================] - 131s 566ms/step - loss: 5.1799 - val_loss: 4.9996\n",
      "Epoch 4/50\n",
      "232/232 [==============================] - 131s 563ms/step - loss: 4.8380 - val_loss: 4.7850\n",
      "Epoch 5/50\n",
      "232/232 [==============================] - 132s 568ms/step - loss: 4.5659 - val_loss: 4.6278\n",
      "Epoch 6/50\n",
      "232/232 [==============================] - 131s 563ms/step - loss: 4.3354 - val_loss: 4.4910\n",
      "Epoch 7/50\n",
      "232/232 [==============================] - 132s 567ms/step - loss: 4.1348 - val_loss: 4.4123\n",
      "Epoch 8/50\n",
      "232/232 [==============================] - 131s 563ms/step - loss: 3.9535 - val_loss: 4.3272\n",
      "Epoch 9/50\n",
      "232/232 [==============================] - 131s 564ms/step - loss: 3.7906 - val_loss: 4.2692\n",
      "Epoch 10/50\n",
      "232/232 [==============================] - 131s 564ms/step - loss: 3.6442 - val_loss: 4.2214\n",
      "Epoch 11/50\n",
      "232/232 [==============================] - 131s 566ms/step - loss: 3.5118 - val_loss: 4.2031\n",
      "Epoch 12/50\n",
      "232/232 [==============================] - 130s 562ms/step - loss: 3.3891 - val_loss: 4.1713\n",
      "Epoch 13/50\n",
      "232/232 [==============================] - 131s 564ms/step - loss: 3.2741 - val_loss: 4.1600\n",
      "Epoch 14/50\n",
      "232/232 [==============================] - 131s 564ms/step - loss: 3.1686 - val_loss: 4.1452\n",
      "Epoch 15/50\n",
      "232/232 [==============================] - 131s 563ms/step - loss: 3.0698 - val_loss: 4.1454\n",
      "Epoch 16/50\n",
      "232/232 [==============================] - 131s 566ms/step - loss: 2.9806 - val_loss: 4.1445\n",
      "Epoch 17/50\n",
      "232/232 [==============================] - 131s 564ms/step - loss: 2.8945 - val_loss: 4.1435\n",
      "Epoch 18/50\n",
      "232/232 [==============================] - 132s 567ms/step - loss: 2.8104 - val_loss: 4.1480\n",
      "Epoch 19/50\n",
      "232/232 [==============================] - 131s 564ms/step - loss: 2.7342 - val_loss: 4.1532\n",
      "Epoch 00019: early stopping\n"
     ]
    }
   ],
   "source": [
    "model.compile(optimizer='rmsprop', loss='sparse_categorical_crossentropy')\n",
    "\n",
    "es = EarlyStopping(monitor='val_loss', patience=2, verbose=1)\n",
    "\n",
    "history = model.fit(x=[encoder_input_train, decoder_input_train], y=decoder_target_train,\n",
    "          validation_data=([encoder_input_test, decoder_input_test], decoder_target_test),\n",
    "          batch_size=256, callbacks=[es], epochs=50)"
   ]
  },
  {
   "cell_type": "markdown",
   "id": "42d3ab5e",
   "metadata": {},
   "source": [
    "- early stopping 은 검증 데이터의 loss 가 증가하는 현상이 2회 관측될 경우, 학습을 중단하도록 설정되어 있습니다.\n",
    "- 훈련 데이터의 loss 와 검증 데이터의 loss 를 시각화하겠습니다."
   ]
  },
  {
   "cell_type": "code",
   "execution_count": 98,
   "id": "450fec8a",
   "metadata": {},
   "outputs": [
    {
     "data": {
      "image/png": "[encoded data removed]",
      "text/plain": [
       "<Figure size 432x288 with 1 Axes>"
      ]
     },
     "metadata": {
      "needs_background": "light"
     },
     "output_type": "display_data"
    }
   ],
   "source": [
    "plt.plot(history.history['loss'], label='train')\n",
    "plt.plot(history.history['val_loss'], label='test')\n",
    "plt.legend()\n",
    "plt.show()"
   ]
  },
  {
   "cell_type": "markdown",
   "id": "b86c9e10",
   "metadata": {},
   "source": [
    "### 테스트"
   ]
  },
  {
   "cell_type": "markdown",
   "id": "0b347806",
   "metadata": {},
   "source": [
    "- 학습이 종료되었으므로, 훈련된 모델을 테스트해보도록 하겠습니다."
   ]
  },
  {
   "cell_type": "code",
   "execution_count": 103,
   "id": "079ed09a",
   "metadata": {},
   "outputs": [],
   "source": [
    "src_index_to_word = src_tokenizer.index_word\n",
    "tar_word_to_index = tar_tokenizer.word_index\n",
    "tar_index_to_word = tar_tokenizer.index_word"
   ]
  },
  {
   "cell_type": "markdown",
   "id": "a4cc2aba",
   "metadata": {},
   "source": [
    "- 테스트 시에는 정수 인코딩된 데이터들을 실제 문장 데이터로 복원해주어야 합니다.\n",
    "- 따라서, 3 개의 사전을 준비해두겠습니다."
   ]
  },
  {
   "cell_type": "markdown",
   "id": "cc5da83f",
   "metadata": {},
   "source": [
    "- 테스트 시 사용할 모델은 훈련 시 설계했던 모델과 달라 별도로 구현해주어야 합니다.\n",
    "- 훈련 시 설계했던 모델은 decoder 의 Input 에 정답이 되는 target data 를 같이 넣어주어 출력과 한 번에 비교할 수 있었지만,\n",
    "- 실제 테스트 시에는 정답이 되는 문장이 없으므로, 생성해내야할 문장의 길이만큼 Decoder 가 반복적으로 동작하여야 하기 때문입니다."
   ]
  },
  {
   "cell_type": "code",
   "execution_count": 104,
   "id": "22782697",
   "metadata": {},
   "outputs": [],
   "source": [
    "# Encoder\n",
    "encoder_model = Model(inputs=encoder_inputs, outputs=[encoder_outputs, state_h, state_c])\n",
    "\n",
    "# state Tensor\n",
    "decoder_state_input_h = Input(shape=(hidden_size,))\n",
    "decoder_state_input_c = Input(shape=(hidden_size,))\n",
    "\n",
    "dec_emb2 = dec_emb_layer(decoder_inputs)\n",
    "\n",
    "decoder_outputs2, state_h2, state_c2 = decoder_lstm(dec_emb2, initial_state=[decoder_state_input_h, decoder_state_input_c])"
   ]
  },
  {
   "cell_type": "markdown",
   "id": "1e4b50d3",
   "metadata": {},
   "source": [
    "- decoder_state_input_h 와 decoder_state_input_c 는 이전 시점의 hidden_state 와 cell_state 를 저장하는 텐서입니다.\n",
    "- 문장의 다음 단어를 예측하기 위해서 initial_state 를 이전 시점의 hidden_state 와 cell_state 로 설정합니다.\n",
    "- 훈련 시와는 달리 LSTM Layer 가 리턴하는 hidden_state 와 cell_state 를 계속 활용합니다."
   ]
  },
  {
   "cell_type": "code",
   "execution_count": 105,
   "id": "de891881",
   "metadata": {},
   "outputs": [],
   "source": [
    "# Attention Function\n",
    "decoder_hidden_state_input = Input(shape=(text_max_len, hidden_size))\n",
    "attn_out_inf = attn_layer([decoder_outputs2, decoder_hidden_state_input])\n",
    "decoder_inf_concat = Concatenate(axis=-1, name='concat')([decoder_outputs2, attn_out_inf])\n",
    "\n",
    "# Decoder Output Layer\n",
    "decoder_outputs2 = decoder_softmax_layer(decoder_inf_concat) \n",
    "\n",
    "# Define Decoder Model\n",
    "decoder_model = Model(\n",
    "    [decoder_inputs] + [decoder_hidden_state_input, decoder_state_input_h, decoder_state_input_c],\n",
    "    [decoder_outputs2] + [state_h2, state_c2])"
   ]
  },
  {
   "cell_type": "markdown",
   "id": "7c5ab8c1",
   "metadata": {},
   "source": [
    "- Attention Layer 를 설계해주었습니다.\n",
    "- Attention Layer 의 Output 과 Decoder 의 Output 을 결합하여 결과값을 리턴합니다.\n",
    "- Decoder 의 최종 Output 은 Softmax 활성화함수를 통과합니다."
   ]
  },
  {
   "cell_type": "code",
   "execution_count": 106,
   "id": "7a18fac1",
   "metadata": {},
   "outputs": [],
   "source": [
    "def decode_sequence(input_seq):\n",
    "    e_out, e_h, e_c = encoder_model.predict(input_seq)\n",
    "\n",
    "    target_seq = np.zeros((1,1))\n",
    "    target_seq[0, 0] = tar_word_to_index['sostoken']\n",
    "\n",
    "    stop_condition = False\n",
    "    decoded_sentence = ''\n",
    "    while not stop_condition:\n",
    "\n",
    "        output_tokens, h, c = decoder_model.predict([target_seq] + [e_out, e_h, e_c])\n",
    "        sampled_token_index = np.argmax(output_tokens[0, -1, :])\n",
    "        sampled_token = tar_index_to_word[sampled_token_index]\n",
    "\n",
    "        if (sampled_token != 'eostoken'):\n",
    "            decoded_sentence += ' ' + sampled_token\n",
    "\n",
    "        if (sampled_token == 'eostoken'  or len(decoded_sentence.split()) >= (headlines_max_len - 1)):\n",
    "            stop_condition = True\n",
    "\n",
    "        target_seq = np.zeros((1,1))\n",
    "        target_seq[0, 0] = sampled_token_index\n",
    "\n",
    "        e_h, e_c = h, c\n",
    "\n",
    "    return decoded_sentence"
   ]
  },
  {
   "cell_type": "markdown",
   "id": "731d8794",
   "metadata": {},
   "source": [
    "- 단어 시퀀스를 완성하는 함수를 정의하였습니다.\n",
    "- 입력값으로부터 Encoder 의 output 과 states 를 얻습니다.\n",
    "- target_seq 에 sostoken 을 생성합니다.\n",
    "- while 반복문에서는 stop_condition 이 True 가 될 때까지 루프를 반복합니다.\n",
    "- stop_condition 은 eostoken 이 생성되거나, 문장의 길이가 앞서 설정한 max_len 을 넘어가게 되면 True 로 바뀝니다.\n",
    "- while 반복문 내에서는 Encoder 로 부터 얻은 output 과 states 앞에 sostoken 이 담긴 target_seq 를 붙여 Decoder Model 로 전달합니다.\n",
    "- Decoder Model 에서는 output 과 states 를 반환합니다.\n",
    "- Decoder Model 에서 Softmax 를 통과하여 나온 Output 중에서 가장 큰 확률을 가지는 단어의 인덱스를 argmax 로 선택합니다.\n",
    "- 선택된 인덱스를 미리 만든 사전을 활용하여 단어로 매핑합니다.\n",
    "- 매핑된 단어가 eostoken 이 아니라면, decoded_sentence 에 누적됩니다.\n",
    "- 이후, target_seq 을 다시 초기화하고, sostoken 이 아닌 앞서 예측한 단어의 인덱스로 업데이트합니다.\n",
    "- Decoder Model 에서 나온 states 값으로 업데이트합니다.\n",
    "- 위에서 업데이트해준 target_seq 와 states 값을 활용해 Decoder 에 다시 넣어줍니다.\n",
    "- 모든 루프가 종료되면, decoded_sentence 를 반환합니다."
   ]
  },
  {
   "cell_type": "code",
   "execution_count": 107,
   "id": "6c64ffb2",
   "metadata": {},
   "outputs": [],
   "source": [
    "def seq2text(input_seq):\n",
    "    temp = ''\n",
    "    for i in input_seq:\n",
    "        if (i != 0):\n",
    "            temp = temp + src_index_to_word[i] + ' '\n",
    "    return temp\n",
    "\n",
    "\n",
    "def seq2headlines(input_seq):\n",
    "    temp = ''\n",
    "    for i in input_seq:\n",
    "        if ((i != 0 and i != tar_word_to_index['sostoken']) and i != tar_word_to_index['eostoken']):\n",
    "            temp = temp + tar_index_to_word[i] + ' '\n",
    "    return temp"
   ]
  },
  {
   "cell_type": "markdown",
   "id": "6429f8dc",
   "metadata": {},
   "source": [
    "- text와 headlines의 정수형 시퀀스를 문자형 시퀀스로 변환하는 함수를 정의하였습니다.\n",
    "- text 변환 시, pad 를 제외하고 변환하여 temp 에 누적합니다.\n",
    "- headlines 변환 시, pad, sostoken, eostoken 을 제외하고 변환하여 temp 에 누적합니다."
   ]
  },
  {
   "cell_type": "code",
   "execution_count": 108,
   "id": "95b4e75d",
   "metadata": {},
   "outputs": [
    {
     "name": "stdout",
     "output_type": "stream",
     "text": [
      "text : uber board member addressing employees tuesday said real change rarely happens without catalyst crisis new uber emerge empathy collaboration remarks came amid uber releasing report investigation sexism sexual harassment uber \n",
      "real_headlines : new uber will emerge out of crisis board member \n",
      "pred_headlines :  uber to recall for all time in uber dara\n",
      "\n",
      "\n",
      "text : facebook page outgoing french president francois hacked hackers posted event urging people come farewell party may finally waiting years celebrate properly come caption read event reportedly visible hour \n",
      "real_headlines : hackers post farewell event on french prez hacked fb page \n",
      "pred_headlines :  facebook removes ads from posting news of news\n",
      "\n",
      "\n",
      "text : afghanistan officials stated eight people lost lives wounded multiple explosions hit cricket match country eastern nangarhar province attack occurred players hundreds spectators gathered night time tournament provincial capital jalalabad outfit claimed responsibility attack far \n",
      "real_headlines : blasts kills eight people at cricket match in afghanistan \n",
      "pred_headlines :  afghanistan kills afghan after death in afghanistan\n",
      "\n",
      "\n",
      "text : actor shah rukh khan recently photo anushka sharma instagram caption going report stalking photo earlier shared anushka pointing window caption read spot srk vanity van studio \n",
      "real_headlines : am going to report anushka for stalking me jokes srk \n",
      "pred_headlines :  anushka shares pic with srk anushka\n",
      "\n",
      "\n",
      "text : iran judiciary confirmed member country nuclear agreement negotiators team sentenced five years prison spying reportedly involved financial aspects agreement iran nuclear deal us world powers led lifting sanctions return curbing nuclear programme \n",
      "real_headlines : iran confirms nuclear jailed for spying \n",
      "pred_headlines :  iran pledges to iran nuclear deal\n",
      "\n",
      "\n",
      "text : singer suchitra tweet referred morning azaan played loudspeakers extreme imposed came home aggressive ear call azaan nothing dumb extreme imposed read singer full tweet earlier singer sonu nigam also tweeted azaan calling forced \n",
      "real_headlines : extreme imposed singer on azaan \n",
      "pred_headlines :  tv show singer singh slams twitter over tweet\n",
      "\n",
      "\n",
      "text : reserve bank india mandated commerce firms settle seller payments within two days date completion transaction comes india online vendors association filed complaint august alleging commerce firms delayed payments sellers currently majority companies reportedly take days settle payments \n",
      "real_headlines : commerce firms must settle seller payments in days rbi \n",
      "pred_headlines :  rbi approves probe sexual harassment by firms\n",
      "\n",
      "\n",
      "text : supreme court friday dismissed plea seeking nod terminating week old pregnancy year old rape victim sc made decision taking note medical report stating abortion neither good girl foetus prohibited terminate pregnancy india weeks without court permission \n",
      "real_headlines : sc denies abortion to week pregnant yr old rape victim \n",
      "pred_headlines :  sc allows woman to abort week old foetus\n",
      "\n",
      "\n",
      "text : library us canada border world library operate two countries built international border canadian wife american merchant free library opera house allows americans canadians enter without passport interestingly two different entrances countries \n",
      "real_headlines : border library in two countries at once \n",
      "pred_headlines :  us to become world most powerful\n",
      "\n",
      "\n",
      "text : american model chrissy recently asked american airlines could carry emotional support flight tweeting please help added okay following american airlines transportation security administration responded later tweeted picture dish captioning made \n",
      "real_headlines : model requests to carry emotional support food on plane \n",
      "pred_headlines :  airline is not virgin any flight says branson\n",
      "\n",
      "\n",
      "text : oneplus announced opening offline store jayanagar th block bengaluru july first customers store get free oneplus marvel avengers iron man case free oneplus branded shirts students win back school kit purchase customers bring friend eligible free oneplus accessories \n",
      "real_headlines : oneplus to open offline store in bengaluru on july \n",
      "pred_headlines :  oneplus launches its first ever store\n",
      "\n",
      "\n",
      "text : shares jet airways monday rallied much amid reports founder chairman naresh goyal likely step cash strapped airline board goyal would stake reports added etihad airline second largest shareholder may raise stake currently owns reports said \n",
      "real_headlines : jet airways rises post reports of chairman down \n",
      "pred_headlines :  jet airways denies reports of buying stake in reports\n",
      "\n",
      "\n",
      "text : people twenty countries raised lakh three year old mumbai girl cancer treatment sum total cost surgery raised days crowd funding project know people ever forget efforts help save daughter life girl father said \n",
      "real_headlines : people raise lakh for yr old cancer treatment \n",
      "pred_headlines :  lakh lakh lakh each year old cancer in mumbai\n",
      "\n",
      "\n",
      "text : female supporter northeast united fc heckled fc fans teams indian super league match chennai thursday videos fans mocking female fan surfaced online northeast united fc owner john abraham called incident deeply disturbing said fake supporters punished \n",
      "real_headlines : female fan heckled by supporters during match \n",
      "pred_headlines :  fans wear dressing to attend fans match\n",
      "\n",
      "\n",
      "text : prisoner shot premises delhi rohini court saturday succumbed injuries later day attacker mohit opened fire prisoner produced court hearing police said prisoner identified rajesh criminal arrested december murder charges \n",
      "real_headlines : prisoner shot dead inside court in delhi \n",
      "pred_headlines :  delhi court dies after blast at delhi court\n",
      "\n",
      "\n",
      "text : test sachin tendulkar made international debut november telecast live india neither covered radio doordarshan broadcast first two india pakistan tests ninth lok sabha elections held around time sachin dismissed waqar younis also making debut \n",
      "real_headlines : sachin debut was not in india due to elections \n",
      "pred_headlines :  sachin tendulkar to play in india on september\n",
      "\n",
      "\n",
      "text : minister state human resource development singh recent education meeting said laws motion much discovered newton asserting traditional knowledge must incorporated curriculum singh reportedly also suggested compliance educational buildings important learning \n",
      "real_headlines : laws of motion before newton mos hrd \n",
      "pred_headlines :  govt should be among top rank in sports minister\n",
      "\n",
      "\n",
      "text : indira gandhi institute medical sciences patna thursday made marital declaration form changing virgin option unmarried earlier bihar health minister defined virgin unmarried woman consider term objectionable institute however faced strong backlash asking new recruits declare virginity form \n",
      "real_headlines : virgin now to unmarried in form \n",
      "pred_headlines :  lord ganesha should be removed from mental health minister\n",
      "\n",
      "\n",
      "text : communist party india kerala unit mla pk accused allegedly sexually harassing woman youth leader misbehaving cpi general secretary sitaram yechury reportedly forwarded complaint state committee take necessary action seems conspiracy end political career said allegations \n",
      "real_headlines : cpi mla accused of sexual harassment \n",
      "pred_headlines :  kerala church priest accused of rape accused in kerala\n",
      "\n",
      "\n",
      "text : police blamed rats disappearance haul drugs warehouse nagpur railway station rats huge menace keep plastic containing marijuana alcohol bottles senior official said liquor marijuana warehouse nabbed smugglers \n",
      "real_headlines : cops blame rats for missing marijuana haul at nagpur station \n",
      "pred_headlines :  police station found in old water\n",
      "\n",
      "\n",
      "text : former argentine footballer diego maradona feeling well briefly hospitalised internal bleeding maradona argentina scheduled arrive mexico saturday coaching second division club de expected maradona would appear team first game season saturday \n",
      "real_headlines : maradona recovering after for internal bleeding \n",
      "pred_headlines :  former wwe champ scores from wwe wwe title\n",
      "\n",
      "\n",
      "text : uk based researchers created graphene concrete drastically reduced carbon footprint conventional concrete production methods including graphene world second strongest material form carbon amount materials required make concrete reduced around lead kg tonne reduction carbon emissions noted researchers \n",
      "real_headlines : green concrete made using world nd strongest material \n"
     ]
    },
    {
     "name": "stdout",
     "output_type": "stream",
     "text": [
      "pred_headlines :  scientists make electronics carbon carbon by\n",
      "\n",
      "\n",
      "text : four people killed least civilians injured wednesday terrorist ploughed car pedestrians attempt attack uk parliament incident first mass casualty terrorist attack britain decade use vehicles attack civilians observed several recent islamic state attacks \n",
      "real_headlines : killed injured in terror attack on uk parliament \n",
      "pred_headlines :  killed injured in terror attack in afghanistan\n",
      "\n",
      "\n",
      "text : speaking literature festival organised hindu gujarat mla jignesh mevani monday criticised pm narendra modi saying pm able perform become symbol grand failure adding pm modi actually boring mevani said modiji retire go himalayas \n",
      "real_headlines : pm modi has become symbol of grand failure jignesh mevani \n",
      "pred_headlines :  pm modi is an of the most popular pm\n",
      "\n",
      "\n",
      "text : video groom pakistan imitating wwe wrestler entering wedding gone viral man wore black hat long robe like wwe wrestler attire carried replica wwe belt interestingly pakistani man entered wedding wwe wrestler triple last year \n",
      "real_headlines : pakistani groom enters his wedding in the style \n",
      "pred_headlines :  groom gets married at wedding after getting mom hailey\n",
      "\n",
      "\n",
      "text : indian navy rescued four crew members stuck waters raj bhavan mumbai monday night run rocks low tide begun flood following crew members rescued indian navy helicopter taken ins medical help \n",
      "real_headlines : indian navy rescues stranded off mumbai coast \n",
      "pred_headlines :  navy rescues rescue from rescue from rescue\n",
      "\n",
      "\n",
      "text : nasa dawn mission dwarf planet lying mars jupiter found minerals surface ancient oceans planet study suggests crust represents ocean layer beneath crust could liquid signature previous studies estimated holds water earth weight \n",
      "real_headlines : nasa finds ancient ocean at dwarf planet \n",
      "pred_headlines :  nasa captures jupiter of jupiter moon\n",
      "\n",
      "\n",
      "text : us house speaker paul ryan claimed car eaten animals referring instance family ate wiring suburban rendered car useless ryan said taken shelter car parked mother house state \n",
      "real_headlines : us house speaker claims ate his car \n",
      "pred_headlines :  us judge drives pet suv with police\n",
      "\n",
      "\n",
      "text : pakistan finance minister umar saturday said country approached international monetary fund bailout programme last time pakistan reportedly request bailout package billion deal country financial crisis th imf bailout since late \n",
      "real_headlines : imf for loan for the last time says pakistan \n",
      "pred_headlines :  pakistan bailout bailout bailout bailout for imf india\n",
      "\n",
      "\n",
      "text : average temperature us risen rapidly drastically since recent decades warmest past years according draft federal government report cited new york times notably us president recently withdrew country paris climate deal previously called global warming chinese hoax \n",
      "real_headlines : govt report finds climate change impact on us nyt \n",
      "pred_headlines :  rupee closes over gdp to hit low low report\n",
      "\n",
      "\n",
      "text : karnataka bjp chief bs yeddyurappa slammed congress president rahul gandhi reportedly visiting temple eating chicken congress repeatedly hurting hindu sentiments looking everyone equally tweeted also hit cm siddaramaiah last year visited eating fish \n",
      "real_headlines : bjp slams rahul for visiting temple after eating chicken \n",
      "pred_headlines :  bjp leader rahul gandhi calls bjp leader\n",
      "\n",
      "\n",
      "text : google launched ai based program thailand help screen diabetic cause permanent blindness program accuracy rate analyses eye screen results assess patients risk vision loss google said life sciences division working launching program india \n",
      "real_headlines : google launches ai tool to screen for eye disease \n",
      "pred_headlines :  google maps shows google maps in maps\n",
      "\n",
      "\n",
      "text : turkish president recep tayyip erdo accused us giving weapons ammunition terrorist organisations free said us actions pose direct threat turkey security earlier year turkey launched operation olive branch us backed kurdish militia syria considers terrorists \n",
      "real_headlines : us gives weapons to terrorist for free turkey \n",
      "pred_headlines :  us prez calls turkey for supporting attacks in us\n",
      "\n",
      "\n",
      "text : csk shane watson took balls open account slammed ball hundred srh ipl final sunday year old became first overseas player overall second slam hundred ipl final third player virat kohli chris gayle hit least four ipl tons \n",
      "real_headlines : watson takes balls to hit st run slams ball hundred \n",
      "pred_headlines :  david warner smashes his first ever hundred\n",
      "\n",
      "\n",
      "text : technology giant google planning software update fix sound issues reported users pixel company community manager said comes users reported hearing clicking sounds high pitched noises pixel devices update made available coming weeks manager added \n",
      "real_headlines : google plans update to fix pixel sound issues \n",
      "pred_headlines :  google faces pixel xl users in hours report\n",
      "\n",
      "\n",
      "text : earthquake magnitude struck southern coast mexico today us geological survey said epicentre kilometres west city depth kilometres two people confirmed dead tsunami warning issued seven countries including mexico guatemala \n",
      "real_headlines : magnitude quake hits mexico tsunami alert in nations \n",
      "pred_headlines :  mexico earthquake hit by after earthquake hit by\n",
      "\n",
      "\n",
      "text : tamil nadu court tuesday sentenced former government school headmaster years jail sexually abusing girl students awarded five years abusing five girls belonging scheduled caste two years abusing others accused suspected sexually abused boys girls school \n",
      "real_headlines : tn headmaster gets yr jail for sexually abusing girls \n",
      "pred_headlines :  convicts get life term for raping minor girl\n",
      "\n",
      "\n",
      "text : air india largest pilot union wednesday asked centre clear salary arrears privatisation national carrier indian commercial pilots association demanded illegally withheld flying allowances related allowances air india resorted salary cuts part turnaround plan reportedly owes crore employees \n",
      "real_headlines : clear salary before privatisation air india pilots \n",
      "pred_headlines :  air india chief allowance from air india privatisation\n",
      "\n",
      "\n",
      "text : one jawan killed two jawans injured terrorists attacked crpf training centre jammu kashmir pulwama district early hours sunday terrorists hurled grenades opened fire enter training centre stating attack conducted crpf said similar attack could happen camps also \n",
      "real_headlines : jawan killed in terrorist attack on crpf camp in \n",
      "pred_headlines :  jawan martyred in terror attack on army camp\n",
      "\n",
      "\n",
      "text : india trade deficit widened four month high billion may government data showed friday oil imports year year billion due surge international crude prices exports may rose billion imports billion \n",
      "real_headlines : india trade deficit hits month high of bn in may \n",
      "pred_headlines :  india trade deficit widens to bn in april\n",
      "\n",
      "\n",
      "text : norway wednesday became world first country shut national fm network completing transition digital radio transition allow better sound quality greater number channels functions cost eight times lower fm radio according authorities transition concerns national radio channels \n",
      "real_headlines : norway becomes st nation to shut national on fm \n",
      "pred_headlines :  world first carbon emissions to get carbon\n",
      "\n",
      "\n",
      "text : slamming bjp leader bs yeddyurappa allegedly trying create unrest malicious propaganda former karnataka cm hd deve gowda said separate north karnataka happen lifetime son lifetime statement came amid committee fighting separate statehood north karnataka called day long bandh districts \n",
      "real_headlines : separate north taka not during my lifetime \n",
      "pred_headlines :  cong will not be used to karnataka cm siddaramaiah\n",
      "\n",
      "\n",
      "text : condemning recent instances vandalism leaders statues various states vice president venkaiah naidu wednesday termed incidents mad shameful told rajya sabha appropriate authorities take firm action guilty two statues communist icon lenin toppled tripura leader statue vandalised tamil nadu \n",
      "real_headlines : statues of leaders shameful vice president \n",
      "pred_headlines :  vp naidu calls for vice president naidu\n",
      "\n",
      "\n",
      "text : uttar pradesh bjp mp kamlesh paswan others booked various charges including rioting criminal conspiracy quarrel land dispute gorakhpur according police adding paswan accused ordering demolition construction boundary wall one party police said involvement subject investigation \n",
      "real_headlines : uttar pradesh bjp mp booked for criminal conspiracy \n"
     ]
    },
    {
     "name": "stdout",
     "output_type": "stream",
     "text": [
      "pred_headlines :  bjp mp booked for attacking anti corruption charges\n",
      "\n",
      "\n",
      "text : demanding caste survey conducted across gujarat patidar leader hardik patel said withdraw reservation agitation survey states patidar community rich supreme court given regarding permissible levels reservation state hardik added said get employed \n",
      "real_headlines : will end protests if survey reveals are rich patel \n",
      "pred_headlines :  up govt to prove hardik patel\n",
      "\n",
      "\n",
      "text : bjp mla op sharma suspended remaining budget session delhi assembly using derogatory language house sharma protesting presence disqualified aap mla transport minister kailash gahlot assembly many aap mlas including gahlot disqualified january holding offices profit \n",
      "real_headlines : delhi bjp mla suspended from budget session \n",
      "pred_headlines :  congress mla suspended from delhi assembly over protests\n",
      "\n",
      "\n",
      "text : villager allegedly killed naxals thursday suspicion police chhattisgarh district police registered case regard meanwhile joint operation launched jharkhand police crpf recovered massive cache arms naxal hideout jharkhand district thursday \n",
      "real_headlines : naxals kill on suspicion of being police \n",
      "pred_headlines :  maoists killed in encounter in assam\n",
      "\n",
      "\n",
      "text : india nominee bhandari elected last seat international court justice monday britain withdrew candidate bhandari votes general assembly votes security council th round voting clear majority first rounds \n",
      "real_headlines : india nominee re elected as icj judge \n",
      "pred_headlines :  what is the youngest indian cricketer\n",
      "\n",
      "\n",
      "text : afghanistan spinner rashid khan turned years old thursday set record number international wickets teenager rashid picked international wickets turning lies ahead likes former pakistan captain waqar younis former pakistan spinner mushtaq \n",
      "real_headlines : rashid khan sets record for most int wickets as teenager \n",
      "pred_headlines :  rashid khan takes wickets in int cricket match\n",
      "\n",
      "\n",
      "text : according reports new censor board chief prasoon joshi decision examining committee give cuts hollywood film cleared without cuts upcoming horror film given certificate examining committee reportedly cut bloody visuals abusive words including ck \n",
      "real_headlines : prasoon passes abuses in it with certificate reports \n",
      "pred_headlines :  censor board demands removal of reports of film reports\n",
      "\n",
      "\n"
     ]
    }
   ],
   "source": [
    "for i in range(50, 100):\n",
    "    print(\"text :\", seq2text(encoder_input_test[i]))\n",
    "    print(\"real_headlines :\", seq2headlines(decoder_input_test[i]))\n",
    "    print(\"pred_headlines :\", decode_sequence(encoder_input_test[i].reshape(1, text_max_len)))\n",
    "    print(\"\\n\")"
   ]
  },
  {
   "cell_type": "markdown",
   "id": "79f684df",
   "metadata": {},
   "source": [
    "# 1.2) Source Code"
   ]
  },
  {
   "cell_type": "code",
   "execution_count": 109,
   "id": "3a02291b",
   "metadata": {},
   "outputs": [],
   "source": [
    "from summa.summarizer import summarize"
   ]
  }
 ],
 "metadata": {
  "kernelspec": {
   "display_name": "Python 3 (ipykernel)",
   "language": "python",
   "name": "python3"
  },
  "language_info": {
   "codemirror_mode": {
    "name": "ipython",
    "version": 3
   },
   "file_extension": ".py",
   "mimetype": "text/x-python",
   "name": "python",
   "nbconvert_exporter": "python",
   "pygments_lexer": "ipython3",
   "version": "3.9.7"
  }
 },
 "nbformat": 4,
 "nbformat_minor": 5
}
