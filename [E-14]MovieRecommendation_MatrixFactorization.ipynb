{
 "cells": [
  {
   "cell_type": "markdown",
   "id": "63dbd1c0",
   "metadata": {},
   "source": [
    "# Source Code"
   ]
  },
  {
   "cell_type": "code",
   "execution_count": 19,
   "id": "e929b7f9",
   "metadata": {},
   "outputs": [],
   "source": [
    "import os\n",
    "import pandas as pd\n",
    "from scipy.sparse import csr_matrix\n",
    "from implicit.als import AlternatingLeastSquares\n",
    "import numpy as np"
   ]
  },
  {
   "cell_type": "markdown",
   "id": "462bcc80",
   "metadata": {},
   "source": [
    "### Load Data"
   ]
  },
  {
   "cell_type": "code",
   "execution_count": 2,
   "id": "b1d0427d",
   "metadata": {},
   "outputs": [
    {
     "data": {
      "text/html": [
       "<div>\n",
       "<style scoped>\n",
       "    .dataframe tbody tr th:only-of-type {\n",
       "        vertical-align: middle;\n",
       "    }\n",
       "\n",
       "    .dataframe tbody tr th {\n",
       "        vertical-align: top;\n",
       "    }\n",
       "\n",
       "    .dataframe thead th {\n",
       "        text-align: right;\n",
       "    }\n",
       "</style>\n",
       "<table border=\"1\" class=\"dataframe\">\n",
       "  <thead>\n",
       "    <tr style=\"text-align: right;\">\n",
       "      <th></th>\n",
       "      <th>user_id</th>\n",
       "      <th>movie_id</th>\n",
       "      <th>ratings</th>\n",
       "      <th>timestamp</th>\n",
       "    </tr>\n",
       "  </thead>\n",
       "  <tbody>\n",
       "    <tr>\n",
       "      <th>0</th>\n",
       "      <td>1</td>\n",
       "      <td>1193</td>\n",
       "      <td>5</td>\n",
       "      <td>978300760</td>\n",
       "    </tr>\n",
       "    <tr>\n",
       "      <th>1</th>\n",
       "      <td>1</td>\n",
       "      <td>661</td>\n",
       "      <td>3</td>\n",
       "      <td>978302109</td>\n",
       "    </tr>\n",
       "    <tr>\n",
       "      <th>2</th>\n",
       "      <td>1</td>\n",
       "      <td>914</td>\n",
       "      <td>3</td>\n",
       "      <td>978301968</td>\n",
       "    </tr>\n",
       "    <tr>\n",
       "      <th>3</th>\n",
       "      <td>1</td>\n",
       "      <td>3408</td>\n",
       "      <td>4</td>\n",
       "      <td>978300275</td>\n",
       "    </tr>\n",
       "    <tr>\n",
       "      <th>4</th>\n",
       "      <td>1</td>\n",
       "      <td>2355</td>\n",
       "      <td>5</td>\n",
       "      <td>978824291</td>\n",
       "    </tr>\n",
       "  </tbody>\n",
       "</table>\n",
       "</div>"
      ],
      "text/plain": [
       "   user_id  movie_id  ratings  timestamp\n",
       "0        1      1193        5  978300760\n",
       "1        1       661        3  978302109\n",
       "2        1       914        3  978301968\n",
       "3        1      3408        4  978300275\n",
       "4        1      2355        5  978824291"
      ]
     },
     "execution_count": 2,
     "metadata": {},
     "output_type": "execute_result"
    }
   ],
   "source": [
    "rating_file_path=os.getenv('HOME') + '/aiffel/recommendata_iu/data/ml-1m/ratings.dat'\n",
    "ratings_cols = ['user_id', 'movie_id', 'ratings', 'timestamp']\n",
    "ratings = pd.read_csv(rating_file_path, sep='::', names=ratings_cols, engine='python', encoding = \"ISO-8859-1\")\n",
    "\n",
    "orginal_data_size = len(ratings)\n",
    "ratings.head()"
   ]
  },
  {
   "cell_type": "code",
   "execution_count": 3,
   "id": "5b10ea06",
   "metadata": {},
   "outputs": [
    {
     "data": {
      "text/html": [
       "<div>\n",
       "<style scoped>\n",
       "    .dataframe tbody tr th:only-of-type {\n",
       "        vertical-align: middle;\n",
       "    }\n",
       "\n",
       "    .dataframe tbody tr th {\n",
       "        vertical-align: top;\n",
       "    }\n",
       "\n",
       "    .dataframe thead th {\n",
       "        text-align: right;\n",
       "    }\n",
       "</style>\n",
       "<table border=\"1\" class=\"dataframe\">\n",
       "  <thead>\n",
       "    <tr style=\"text-align: right;\">\n",
       "      <th></th>\n",
       "      <th>movie_id</th>\n",
       "      <th>title</th>\n",
       "      <th>genre</th>\n",
       "    </tr>\n",
       "  </thead>\n",
       "  <tbody>\n",
       "    <tr>\n",
       "      <th>0</th>\n",
       "      <td>1</td>\n",
       "      <td>Toy Story (1995)</td>\n",
       "      <td>Animation|Children's|Comedy</td>\n",
       "    </tr>\n",
       "    <tr>\n",
       "      <th>1</th>\n",
       "      <td>2</td>\n",
       "      <td>Jumanji (1995)</td>\n",
       "      <td>Adventure|Children's|Fantasy</td>\n",
       "    </tr>\n",
       "    <tr>\n",
       "      <th>2</th>\n",
       "      <td>3</td>\n",
       "      <td>Grumpier Old Men (1995)</td>\n",
       "      <td>Comedy|Romance</td>\n",
       "    </tr>\n",
       "    <tr>\n",
       "      <th>3</th>\n",
       "      <td>4</td>\n",
       "      <td>Waiting to Exhale (1995)</td>\n",
       "      <td>Comedy|Drama</td>\n",
       "    </tr>\n",
       "    <tr>\n",
       "      <th>4</th>\n",
       "      <td>5</td>\n",
       "      <td>Father of the Bride Part II (1995)</td>\n",
       "      <td>Comedy</td>\n",
       "    </tr>\n",
       "  </tbody>\n",
       "</table>\n",
       "</div>"
      ],
      "text/plain": [
       "   movie_id                               title                         genre\n",
       "0         1                    Toy Story (1995)   Animation|Children's|Comedy\n",
       "1         2                      Jumanji (1995)  Adventure|Children's|Fantasy\n",
       "2         3             Grumpier Old Men (1995)                Comedy|Romance\n",
       "3         4            Waiting to Exhale (1995)                  Comedy|Drama\n",
       "4         5  Father of the Bride Part II (1995)                        Comedy"
      ]
     },
     "execution_count": 3,
     "metadata": {},
     "output_type": "execute_result"
    }
   ],
   "source": [
    "movie_file_path=os.getenv('HOME') + '/aiffel/recommendata_iu/data/ml-1m/movies.dat'\n",
    "cols = ['movie_id', 'title', 'genre'] \n",
    "movies = pd.read_csv(movie_file_path, sep='::', names=cols, engine='python', encoding='ISO-8859-1')\n",
    "movies.head()"
   ]
  },
  {
   "cell_type": "markdown",
   "id": "5eea6234",
   "metadata": {},
   "source": [
    "### Data Preprocessing"
   ]
  },
  {
   "cell_type": "code",
   "execution_count": 4,
   "id": "10e60aef",
   "metadata": {},
   "outputs": [
    {
     "name": "stdout",
     "output_type": "stream",
     "text": [
      "orginal_data_size: 1000209, filtered_data_size: 836478\n",
      "Ratio of Remaining Data is 83.63%\n"
     ]
    }
   ],
   "source": [
    "ratings = ratings[ratings['ratings']>=3]\n",
    "filtered_data_size = len(ratings)\n",
    "\n",
    "print(f'orginal_data_size: {orginal_data_size}, filtered_data_size: {filtered_data_size}')\n",
    "print(f'Ratio of Remaining Data is {filtered_data_size / orginal_data_size:.2%}')"
   ]
  },
  {
   "cell_type": "markdown",
   "id": "3fd8c7d7",
   "metadata": {},
   "source": [
    "- ratings 가 3 미만인 데이터는 고려하지 않기 위해 제거합니다."
   ]
  },
  {
   "cell_type": "code",
   "execution_count": 5,
   "id": "3dc8a3b6",
   "metadata": {},
   "outputs": [],
   "source": [
    "ratings.rename(columns={'ratings':'counts'}, inplace=True)"
   ]
  },
  {
   "cell_type": "markdown",
   "id": "7e5ebc75",
   "metadata": {},
   "source": [
    "- ratings 를 시청 횟수로 간주하고, 컬럼명을 변경해주었습니다."
   ]
  },
  {
   "cell_type": "code",
   "execution_count": 6,
   "id": "a89c831c",
   "metadata": {},
   "outputs": [],
   "source": [
    "del ratings['timestamp']\n",
    "del movies['genre']"
   ]
  },
  {
   "cell_type": "markdown",
   "id": "4b7cdbb3",
   "metadata": {},
   "source": [
    "- timestamp 열을 사용하지 않기 위해 삭제해주었습니다.\n",
    "- genre 열을 사용하지 않기 위해 삭제해주었습니다."
   ]
  },
  {
   "cell_type": "code",
   "execution_count": 7,
   "id": "93873bfa",
   "metadata": {
    "scrolled": true
   },
   "outputs": [
    {
     "data": {
      "text/html": [
       "<div>\n",
       "<style scoped>\n",
       "    .dataframe tbody tr th:only-of-type {\n",
       "        vertical-align: middle;\n",
       "    }\n",
       "\n",
       "    .dataframe tbody tr th {\n",
       "        vertical-align: top;\n",
       "    }\n",
       "\n",
       "    .dataframe thead th {\n",
       "        text-align: right;\n",
       "    }\n",
       "</style>\n",
       "<table border=\"1\" class=\"dataframe\">\n",
       "  <thead>\n",
       "    <tr style=\"text-align: right;\">\n",
       "      <th></th>\n",
       "      <th>user_id</th>\n",
       "      <th>counts</th>\n",
       "      <th>title</th>\n",
       "    </tr>\n",
       "  </thead>\n",
       "  <tbody>\n",
       "    <tr>\n",
       "      <th>0</th>\n",
       "      <td>1</td>\n",
       "      <td>5</td>\n",
       "      <td>One Flew Over the Cuckoo's Nest (1975)</td>\n",
       "    </tr>\n",
       "    <tr>\n",
       "      <th>1</th>\n",
       "      <td>1</td>\n",
       "      <td>3</td>\n",
       "      <td>James and the Giant Peach (1996)</td>\n",
       "    </tr>\n",
       "    <tr>\n",
       "      <th>2</th>\n",
       "      <td>1</td>\n",
       "      <td>3</td>\n",
       "      <td>My Fair Lady (1964)</td>\n",
       "    </tr>\n",
       "    <tr>\n",
       "      <th>3</th>\n",
       "      <td>1</td>\n",
       "      <td>4</td>\n",
       "      <td>Erin Brockovich (2000)</td>\n",
       "    </tr>\n",
       "    <tr>\n",
       "      <th>4</th>\n",
       "      <td>1</td>\n",
       "      <td>5</td>\n",
       "      <td>Bug's Life, A (1998)</td>\n",
       "    </tr>\n",
       "    <tr>\n",
       "      <th>...</th>\n",
       "      <td>...</td>\n",
       "      <td>...</td>\n",
       "      <td>...</td>\n",
       "    </tr>\n",
       "    <tr>\n",
       "      <th>836473</th>\n",
       "      <td>6040</td>\n",
       "      <td>3</td>\n",
       "      <td>Platoon (1986)</td>\n",
       "    </tr>\n",
       "    <tr>\n",
       "      <th>836474</th>\n",
       "      <td>6040</td>\n",
       "      <td>5</td>\n",
       "      <td>Crying Game, The (1992)</td>\n",
       "    </tr>\n",
       "    <tr>\n",
       "      <th>836475</th>\n",
       "      <td>6040</td>\n",
       "      <td>5</td>\n",
       "      <td>Welcome to the Dollhouse (1995)</td>\n",
       "    </tr>\n",
       "    <tr>\n",
       "      <th>836476</th>\n",
       "      <td>6040</td>\n",
       "      <td>4</td>\n",
       "      <td>Sophie's Choice (1982)</td>\n",
       "    </tr>\n",
       "    <tr>\n",
       "      <th>836477</th>\n",
       "      <td>6040</td>\n",
       "      <td>4</td>\n",
       "      <td>E.T. the Extra-Terrestrial (1982)</td>\n",
       "    </tr>\n",
       "  </tbody>\n",
       "</table>\n",
       "<p>836478 rows × 3 columns</p>\n",
       "</div>"
      ],
      "text/plain": [
       "        user_id  counts                                   title\n",
       "0             1       5  One Flew Over the Cuckoo's Nest (1975)\n",
       "1             1       3        James and the Giant Peach (1996)\n",
       "2             1       3                     My Fair Lady (1964)\n",
       "3             1       4                  Erin Brockovich (2000)\n",
       "4             1       5                    Bug's Life, A (1998)\n",
       "...         ...     ...                                     ...\n",
       "836473     6040       3                          Platoon (1986)\n",
       "836474     6040       5                 Crying Game, The (1992)\n",
       "836475     6040       5         Welcome to the Dollhouse (1995)\n",
       "836476     6040       4                  Sophie's Choice (1982)\n",
       "836477     6040       4       E.T. the Extra-Terrestrial (1982)\n",
       "\n",
       "[836478 rows x 3 columns]"
      ]
     },
     "execution_count": 7,
     "metadata": {},
     "output_type": "execute_result"
    }
   ],
   "source": [
    "data = pd.merge(ratings, movies, how='left', on='movie_id')\n",
    "del data['movie_id']\n",
    "\n",
    "data"
   ]
  },
  {
   "cell_type": "markdown",
   "id": "13fdd3d4",
   "metadata": {},
   "source": [
    "- movie_id 를 기준으로 두 데이터프레임을 left merge 해주었습니다.\n",
    "- 이후, movie_id 컬럼을 제거해주었습니다."
   ]
  },
  {
   "cell_type": "markdown",
   "id": "e971fadf",
   "metadata": {},
   "source": [
    "### Analysis"
   ]
  },
  {
   "cell_type": "markdown",
   "id": "6bdbffb2",
   "metadata": {},
   "source": [
    "- 유니크한 영화의 수"
   ]
  },
  {
   "cell_type": "code",
   "execution_count": 8,
   "id": "9917245f",
   "metadata": {},
   "outputs": [
    {
     "data": {
      "text/plain": [
       "3628"
      ]
     },
     "execution_count": 8,
     "metadata": {},
     "output_type": "execute_result"
    }
   ],
   "source": [
    "ratings['movie_id'].nunique()"
   ]
  },
  {
   "cell_type": "markdown",
   "id": "f5a7b1e2",
   "metadata": {},
   "source": [
    "- 유니크한 사용자의 수"
   ]
  },
  {
   "cell_type": "code",
   "execution_count": 9,
   "id": "4a7c6e18",
   "metadata": {},
   "outputs": [
    {
     "data": {
      "text/plain": [
       "6039"
      ]
     },
     "execution_count": 9,
     "metadata": {},
     "output_type": "execute_result"
    }
   ],
   "source": [
    "ratings['user_id'].nunique()"
   ]
  },
  {
   "cell_type": "markdown",
   "id": "90cecc8a",
   "metadata": {},
   "source": [
    "- 가장 인기있는 영화 30 개"
   ]
  },
  {
   "cell_type": "code",
   "execution_count": 10,
   "id": "fea7be4c",
   "metadata": {
    "scrolled": true
   },
   "outputs": [
    {
     "data": {
      "text/plain": [
       "movie_id\n",
       "2858    3211\n",
       "260     2910\n",
       "1196    2885\n",
       "1210    2716\n",
       "2028    2561\n",
       "589     2509\n",
       "593     2498\n",
       "1198    2473\n",
       "1270    2460\n",
       "2571    2434\n",
       "480     2413\n",
       "2762    2385\n",
       "608     2371\n",
       "110     2314\n",
       "1580    2297\n",
       "527     2257\n",
       "1197    2252\n",
       "2396    2213\n",
       "1617    2210\n",
       "318     2194\n",
       "858     2167\n",
       "1265    2121\n",
       "1097    2102\n",
       "2997    2066\n",
       "2716    2051\n",
       "296     2030\n",
       "356     2022\n",
       "1240    2019\n",
       "1       2000\n",
       "457     1941\n",
       "Name: user_id, dtype: int64"
      ]
     },
     "execution_count": 10,
     "metadata": {},
     "output_type": "execute_result"
    }
   ],
   "source": [
    "top_movie = ratings.groupby('movie_id')['user_id'].count()\n",
    "top_movie.sort_values(ascending=False).head(30)"
   ]
  },
  {
   "cell_type": "markdown",
   "id": "0165c15d",
   "metadata": {},
   "source": [
    "- 사용자별 시청한 영화의 수"
   ]
  },
  {
   "cell_type": "code",
   "execution_count": 11,
   "id": "3ba576c2",
   "metadata": {},
   "outputs": [
    {
     "data": {
      "text/plain": [
       "count    6039.000000\n",
       "mean      138.512668\n",
       "std       156.241599\n",
       "min         1.000000\n",
       "25%        38.000000\n",
       "50%        81.000000\n",
       "75%       177.000000\n",
       "max      1968.000000\n",
       "Name: movie_id, dtype: float64"
      ]
     },
     "execution_count": 11,
     "metadata": {},
     "output_type": "execute_result"
    }
   ],
   "source": [
    "user_count = ratings.groupby('user_id')['movie_id'].count()\n",
    "user_count.describe()"
   ]
  },
  {
   "cell_type": "markdown",
   "id": "3625e84c",
   "metadata": {},
   "source": [
    "### Set User Preference"
   ]
  },
  {
   "cell_type": "code",
   "execution_count": 12,
   "id": "2adb53c0",
   "metadata": {
    "scrolled": false
   },
   "outputs": [
    {
     "data": {
      "text/html": [
       "<div>\n",
       "<style scoped>\n",
       "    .dataframe tbody tr th:only-of-type {\n",
       "        vertical-align: middle;\n",
       "    }\n",
       "\n",
       "    .dataframe tbody tr th {\n",
       "        vertical-align: top;\n",
       "    }\n",
       "\n",
       "    .dataframe thead th {\n",
       "        text-align: right;\n",
       "    }\n",
       "</style>\n",
       "<table border=\"1\" class=\"dataframe\">\n",
       "  <thead>\n",
       "    <tr style=\"text-align: right;\">\n",
       "      <th></th>\n",
       "      <th>user_id</th>\n",
       "      <th>counts</th>\n",
       "      <th>title</th>\n",
       "    </tr>\n",
       "  </thead>\n",
       "  <tbody>\n",
       "    <tr>\n",
       "      <th>836473</th>\n",
       "      <td>6040</td>\n",
       "      <td>3</td>\n",
       "      <td>Platoon (1986)</td>\n",
       "    </tr>\n",
       "    <tr>\n",
       "      <th>836474</th>\n",
       "      <td>6040</td>\n",
       "      <td>5</td>\n",
       "      <td>Crying Game, The (1992)</td>\n",
       "    </tr>\n",
       "    <tr>\n",
       "      <th>836475</th>\n",
       "      <td>6040</td>\n",
       "      <td>5</td>\n",
       "      <td>Welcome to the Dollhouse (1995)</td>\n",
       "    </tr>\n",
       "    <tr>\n",
       "      <th>836476</th>\n",
       "      <td>6040</td>\n",
       "      <td>4</td>\n",
       "      <td>Sophie's Choice (1982)</td>\n",
       "    </tr>\n",
       "    <tr>\n",
       "      <th>836477</th>\n",
       "      <td>6040</td>\n",
       "      <td>4</td>\n",
       "      <td>E.T. the Extra-Terrestrial (1982)</td>\n",
       "    </tr>\n",
       "    <tr>\n",
       "      <th>836478</th>\n",
       "      <td>Lee</td>\n",
       "      <td>5</td>\n",
       "      <td>Jurassic Park (1993)</td>\n",
       "    </tr>\n",
       "    <tr>\n",
       "      <th>836479</th>\n",
       "      <td>Lee</td>\n",
       "      <td>5</td>\n",
       "      <td>Sixth Sense, The (1999)</td>\n",
       "    </tr>\n",
       "    <tr>\n",
       "      <th>836480</th>\n",
       "      <td>Lee</td>\n",
       "      <td>5</td>\n",
       "      <td>Saving Private Ryan (1998)</td>\n",
       "    </tr>\n",
       "    <tr>\n",
       "      <th>836481</th>\n",
       "      <td>Lee</td>\n",
       "      <td>5</td>\n",
       "      <td>Die Hard (1988)</td>\n",
       "    </tr>\n",
       "    <tr>\n",
       "      <th>836482</th>\n",
       "      <td>Lee</td>\n",
       "      <td>5</td>\n",
       "      <td>Mission: Impossible (1996)</td>\n",
       "    </tr>\n",
       "  </tbody>\n",
       "</table>\n",
       "</div>"
      ],
      "text/plain": [
       "       user_id  counts                              title\n",
       "836473    6040       3                     Platoon (1986)\n",
       "836474    6040       5            Crying Game, The (1992)\n",
       "836475    6040       5    Welcome to the Dollhouse (1995)\n",
       "836476    6040       4             Sophie's Choice (1982)\n",
       "836477    6040       4  E.T. the Extra-Terrestrial (1982)\n",
       "836478     Lee       5               Jurassic Park (1993)\n",
       "836479     Lee       5            Sixth Sense, The (1999)\n",
       "836480     Lee       5         Saving Private Ryan (1998)\n",
       "836481     Lee       5                    Die Hard (1988)\n",
       "836482     Lee       5         Mission: Impossible (1996)"
      ]
     },
     "execution_count": 12,
     "metadata": {},
     "output_type": "execute_result"
    }
   ],
   "source": [
    "my_favorite = ['Jurassic Park (1993)', 'Sixth Sense, The (1999)',\n",
    "               'Saving Private Ryan (1998)', 'Die Hard (1988)',\n",
    "               'Mission: Impossible (1996)']\n",
    "\n",
    "my_movies = pd.DataFrame({'user_id':['Lee']*5,\n",
    "                          'counts':[5]*5,\n",
    "                          'title': my_favorite})\n",
    "\n",
    "data = data.append(my_movies, ignore_index=True)\n",
    "\n",
    "data.tail(10)"
   ]
  },
  {
   "cell_type": "markdown",
   "id": "ff4f116a",
   "metadata": {},
   "source": [
    "- 5 개 영화에 모두 5 점을 부여하였습니다."
   ]
  },
  {
   "cell_type": "code",
   "execution_count": 13,
   "id": "8bfcf3f3",
   "metadata": {},
   "outputs": [],
   "source": [
    "user_id = data['user_id'].unique()\n",
    "\n",
    "user_id_dict = {user_id:idx for idx, user_id in enumerate(user_id)}\n",
    "\n",
    "data['user_id'] = data['user_id'].map(lambda x: user_id_dict[x])"
   ]
  },
  {
   "cell_type": "markdown",
   "id": "d7459a70",
   "metadata": {},
   "source": [
    "- user_id 를 인덱싱하고, data 에 적용해줍니다."
   ]
  },
  {
   "cell_type": "code",
   "execution_count": 14,
   "id": "274aeb52",
   "metadata": {},
   "outputs": [],
   "source": [
    "movie_id = data['title'].unique()\n",
    "\n",
    "movie_id_dict = {title:idx for idx, title in enumerate(movie_id)}\n",
    "\n",
    "data['title'] = data['title'].map(lambda x: movie_id_dict[x])"
   ]
  },
  {
   "cell_type": "markdown",
   "id": "4fabc1d3",
   "metadata": {},
   "source": [
    "- title 을 인덱싱하고, data 에 적용해줍니다."
   ]
  },
  {
   "cell_type": "code",
   "execution_count": 15,
   "id": "cdd73885",
   "metadata": {},
   "outputs": [
    {
     "data": {
      "text/html": [
       "<div>\n",
       "<style scoped>\n",
       "    .dataframe tbody tr th:only-of-type {\n",
       "        vertical-align: middle;\n",
       "    }\n",
       "\n",
       "    .dataframe tbody tr th {\n",
       "        vertical-align: top;\n",
       "    }\n",
       "\n",
       "    .dataframe thead th {\n",
       "        text-align: right;\n",
       "    }\n",
       "</style>\n",
       "<table border=\"1\" class=\"dataframe\">\n",
       "  <thead>\n",
       "    <tr style=\"text-align: right;\">\n",
       "      <th></th>\n",
       "      <th>user_id</th>\n",
       "      <th>counts</th>\n",
       "      <th>title</th>\n",
       "    </tr>\n",
       "  </thead>\n",
       "  <tbody>\n",
       "    <tr>\n",
       "      <th>0</th>\n",
       "      <td>0</td>\n",
       "      <td>5</td>\n",
       "      <td>0</td>\n",
       "    </tr>\n",
       "    <tr>\n",
       "      <th>1</th>\n",
       "      <td>0</td>\n",
       "      <td>3</td>\n",
       "      <td>1</td>\n",
       "    </tr>\n",
       "    <tr>\n",
       "      <th>2</th>\n",
       "      <td>0</td>\n",
       "      <td>3</td>\n",
       "      <td>2</td>\n",
       "    </tr>\n",
       "    <tr>\n",
       "      <th>3</th>\n",
       "      <td>0</td>\n",
       "      <td>4</td>\n",
       "      <td>3</td>\n",
       "    </tr>\n",
       "    <tr>\n",
       "      <th>4</th>\n",
       "      <td>0</td>\n",
       "      <td>5</td>\n",
       "      <td>4</td>\n",
       "    </tr>\n",
       "    <tr>\n",
       "      <th>...</th>\n",
       "      <td>...</td>\n",
       "      <td>...</td>\n",
       "      <td>...</td>\n",
       "    </tr>\n",
       "    <tr>\n",
       "      <th>836478</th>\n",
       "      <td>6039</td>\n",
       "      <td>5</td>\n",
       "      <td>107</td>\n",
       "    </tr>\n",
       "    <tr>\n",
       "      <th>836479</th>\n",
       "      <td>6039</td>\n",
       "      <td>5</td>\n",
       "      <td>38</td>\n",
       "    </tr>\n",
       "    <tr>\n",
       "      <th>836480</th>\n",
       "      <td>6039</td>\n",
       "      <td>5</td>\n",
       "      <td>48</td>\n",
       "    </tr>\n",
       "    <tr>\n",
       "      <th>836481</th>\n",
       "      <td>6039</td>\n",
       "      <td>5</td>\n",
       "      <td>194</td>\n",
       "    </tr>\n",
       "    <tr>\n",
       "      <th>836482</th>\n",
       "      <td>6039</td>\n",
       "      <td>5</td>\n",
       "      <td>58</td>\n",
       "    </tr>\n",
       "  </tbody>\n",
       "</table>\n",
       "<p>836483 rows × 3 columns</p>\n",
       "</div>"
      ],
      "text/plain": [
       "        user_id  counts  title\n",
       "0             0       5      0\n",
       "1             0       3      1\n",
       "2             0       3      2\n",
       "3             0       4      3\n",
       "4             0       5      4\n",
       "...         ...     ...    ...\n",
       "836478     6039       5    107\n",
       "836479     6039       5     38\n",
       "836480     6039       5     48\n",
       "836481     6039       5    194\n",
       "836482     6039       5     58\n",
       "\n",
       "[836483 rows x 3 columns]"
      ]
     },
     "execution_count": 15,
     "metadata": {},
     "output_type": "execute_result"
    }
   ],
   "source": [
    "# Test\n",
    "data"
   ]
  },
  {
   "cell_type": "markdown",
   "id": "4a4b45a4",
   "metadata": {},
   "source": [
    "### CSR Matrix"
   ]
  },
  {
   "cell_type": "code",
   "execution_count": 18,
   "id": "13ed65ca",
   "metadata": {},
   "outputs": [
    {
     "data": {
      "text/plain": [
       "<6040x3628 sparse matrix of type '<class 'numpy.int64'>'\n",
       "\twith 836483 stored elements in Compressed Sparse Row format>"
      ]
     },
     "execution_count": 18,
     "metadata": {},
     "output_type": "execute_result"
    }
   ],
   "source": [
    "num_user = data['user_id'].nunique()\n",
    "num_title = data['title'].nunique()\n",
    "\n",
    "csr_data = csr_matrix((data.counts, (data.user_id, data.title)), shape=(num_user, num_title))\n",
    "\n",
    "csr_data"
   ]
  },
  {
   "cell_type": "markdown",
   "id": "ee7673f1",
   "metadata": {},
   "source": [
    "### Modeling & Training"
   ]
  },
  {
   "cell_type": "code",
   "execution_count": 20,
   "id": "4c24b217",
   "metadata": {},
   "outputs": [],
   "source": [
    "os.environ['OPENBLAS_NUM_THREADS']='1'\n",
    "os.environ['KMP_DUPLICATE_LIB_OK']='True'\n",
    "os.environ['MKL_NUM_THREADS']='1'"
   ]
  },
  {
   "cell_type": "code",
   "execution_count": 21,
   "id": "147de6fe",
   "metadata": {},
   "outputs": [],
   "source": [
    "als_model = AlternatingLeastSquares(factors=100, regularization=0.01, use_gpu=False, iterations=15, dtype=np.float32)"
   ]
  },
  {
   "cell_type": "code",
   "execution_count": 22,
   "id": "1953a4c0",
   "metadata": {},
   "outputs": [
    {
     "data": {
      "text/plain": [
       "<3628x6040 sparse matrix of type '<class 'numpy.int64'>'\n",
       "\twith 836483 stored elements in Compressed Sparse Column format>"
      ]
     },
     "execution_count": 22,
     "metadata": {},
     "output_type": "execute_result"
    }
   ],
   "source": [
    "csr_data_transpose = csr_data.T\n",
    "csr_data_transpose"
   ]
  },
  {
   "cell_type": "code",
   "execution_count": 23,
   "id": "a8ed9ac0",
   "metadata": {},
   "outputs": [
    {
     "data": {
      "application/vnd.jupyter.widget-view+json": {
       "model_id": "9c79f45d8e34468683742d84852c598b",
       "version_major": 2,
       "version_minor": 0
      },
      "text/plain": [
       "  0%|          | 0/15 [00:00<?, ?it/s]"
      ]
     },
     "metadata": {},
     "output_type": "display_data"
    }
   ],
   "source": [
    "als_model.fit(csr_data_transpose)"
   ]
  },
  {
   "cell_type": "markdown",
   "id": "e036542b",
   "metadata": {},
   "source": [
    "### Evaluate"
   ]
  },
  {
   "cell_type": "markdown",
   "id": "e49f54a0",
   "metadata": {},
   "source": [
    "- my_favorite\n",
    "    - 'Jurassic Park (1993)' \n",
    "    - 'Sixth Sense, The (1999)',\n",
    "    - 'Saving Private Ryan (1998)' \n",
    "    - 'Die Hard (1988)',\n",
    "    - 'Mission: Impossible (1996)'"
   ]
  },
  {
   "cell_type": "code",
   "execution_count": 38,
   "id": "b135a6df",
   "metadata": {},
   "outputs": [],
   "source": [
    "def dot_product(my_favorite):\n",
    "    preferences = []\n",
    "    lee_vector = als_model.user_factors[user_id_dict['Lee']]\n",
    "    for movie in my_favorite:\n",
    "        movie_vector = als_model.item_factors[movie_id_dict[movie]]\n",
    "        preference = np.dot(lee_vector, movie_vector)\n",
    "        preferences.append(preference)\n",
    "        print(f\"movie: {movie} --> preference: {preference}\")\n",
    "    \n",
    "    return preferences"
   ]
  },
  {
   "cell_type": "code",
   "execution_count": 39,
   "id": "40e463f5",
   "metadata": {},
   "outputs": [
    {
     "name": "stdout",
     "output_type": "stream",
     "text": [
      "movie: Jurassic Park (1993) --> preference: 0.5575769543647766\n",
      "movie: Sixth Sense, The (1999) --> preference: 0.5560243129730225\n",
      "movie: Saving Private Ryan (1998) --> preference: 0.5561578869819641\n",
      "movie: Die Hard (1988) --> preference: 0.36002877354621887\n",
      "movie: Mission: Impossible (1996) --> preference: 0.45148298144340515\n"
     ]
    },
    {
     "data": {
      "text/plain": [
       "[0.55757695, 0.5560243, 0.5561579, 0.36002877, 0.45148298]"
      ]
     },
     "execution_count": 39,
     "metadata": {},
     "output_type": "execute_result"
    }
   ],
   "source": [
    "dot_product(my_favorite)"
   ]
  },
  {
   "cell_type": "markdown",
   "id": "70028d73",
   "metadata": {},
   "source": [
    "- my_favorite 에 대한 'Lee' 사용자의 선호도가 위와 같이 도출되었습니다.\n",
    "<br>\n",
    "<br>\n",
    "- 모든 시청횟수를 5 로 주었지만, 약 0.5 의 선호도가 도출되고 있습니다.\n",
    "<br>\n",
    "<br>\n",
    "- 모델 학습이 부족하다고 판단되어 iterations 와 factors 의 수를 늘려보도록 하겠습니다."
   ]
  },
  {
   "cell_type": "markdown",
   "id": "f746036e",
   "metadata": {},
   "source": [
    "### Modeling & Training"
   ]
  },
  {
   "cell_type": "code",
   "execution_count": 40,
   "id": "b7a94706",
   "metadata": {},
   "outputs": [],
   "source": [
    "als_model = AlternatingLeastSquares(factors=200, regularization=0.02, use_gpu=False, iterations=30, dtype=np.float32)"
   ]
  },
  {
   "cell_type": "code",
   "execution_count": 41,
   "id": "3e9fdb05",
   "metadata": {},
   "outputs": [
    {
     "data": {
      "application/vnd.jupyter.widget-view+json": {
       "model_id": "ac13476dd61c43d3ad157a3656bfc8d8",
       "version_major": 2,
       "version_minor": 0
      },
      "text/plain": [
       "  0%|          | 0/30 [00:00<?, ?it/s]"
      ]
     },
     "metadata": {},
     "output_type": "display_data"
    }
   ],
   "source": [
    "als_model.fit(csr_data_transpose)"
   ]
  },
  {
   "cell_type": "markdown",
   "id": "d5f91c9d",
   "metadata": {},
   "source": [
    "### Evaluate"
   ]
  },
  {
   "cell_type": "code",
   "execution_count": 42,
   "id": "3923956c",
   "metadata": {},
   "outputs": [
    {
     "name": "stdout",
     "output_type": "stream",
     "text": [
      "movie: Jurassic Park (1993) --> preference: 0.7367327809333801\n",
      "movie: Sixth Sense, The (1999) --> preference: 0.8288918137550354\n",
      "movie: Saving Private Ryan (1998) --> preference: 0.8103535175323486\n",
      "movie: Die Hard (1988) --> preference: 0.49985459446907043\n",
      "movie: Mission: Impossible (1996) --> preference: 0.643250048160553\n"
     ]
    },
    {
     "data": {
      "text/plain": [
       "[0.7367328, 0.8288918, 0.8103535, 0.4998546, 0.64325005]"
      ]
     },
     "execution_count": 42,
     "metadata": {},
     "output_type": "execute_result"
    }
   ],
   "source": [
    "dot_product(my_favorite)"
   ]
  },
  {
   "cell_type": "markdown",
   "id": "a493312e",
   "metadata": {},
   "source": [
    "- 다이하드와 미션임파서블에 대한 선호도는 아직 낮지만, 다른 영화들의 선호도는 높게 도출되었습니다."
   ]
  },
  {
   "cell_type": "code",
   "execution_count": 43,
   "id": "6b7efa76",
   "metadata": {},
   "outputs": [],
   "source": [
    "movie_list = [\"My Fair Lady (1964)\", \"Bug's Life, A (1998)\", \"E.T. the Extra-Terrestrial (1982)\"]"
   ]
  },
  {
   "cell_type": "code",
   "execution_count": 44,
   "id": "0d7d2fa1",
   "metadata": {},
   "outputs": [
    {
     "name": "stdout",
     "output_type": "stream",
     "text": [
      "movie: My Fair Lady (1964) --> preference: -0.011374170891940594\n",
      "movie: Bug's Life, A (1998) --> preference: -0.08798056840896606\n",
      "movie: E.T. the Extra-Terrestrial (1982) --> preference: -0.00992459524422884\n"
     ]
    },
    {
     "data": {
      "text/plain": [
       "[-0.011374171, -0.08798057, -0.009924595]"
      ]
     },
     "execution_count": 44,
     "metadata": {},
     "output_type": "execute_result"
    }
   ],
   "source": [
    "dot_product(movie_list)"
   ]
  },
  {
   "cell_type": "markdown",
   "id": "96cd57d9",
   "metadata": {},
   "source": [
    "- 이번에는 my_favorite 과는 비교적 다른 장르의 영화에 대해 모델이 예측한 선호도를 확인해보았습니다.\n",
    "<br>\n",
    "<br>\n",
    "- 로맨스, 애니메이션, 판타지와 같은 장르에 대해서는 음수값의 선호도가 도출되었습니다."
   ]
  },
  {
   "cell_type": "markdown",
   "id": "3463e17f",
   "metadata": {},
   "source": [
    "### Similar Movies"
   ]
  },
  {
   "cell_type": "code",
   "execution_count": 47,
   "id": "cb44956f",
   "metadata": {},
   "outputs": [],
   "source": [
    "id_movie_dict = {idx:movie for movie, idx in movie_id_dict.items()}"
   ]
  },
  {
   "cell_type": "code",
   "execution_count": 48,
   "id": "d9f66b3d",
   "metadata": {},
   "outputs": [],
   "source": [
    "def get_similar_movie(movie:str):\n",
    "    movie_id = movie_id_dict[movie]\n",
    "    similar_movie = als_model.similar_items(movie_id)\n",
    "    similar_movie = [id_movie_dict[i[0]] for i in similar_movie]\n",
    "    return similar_movie"
   ]
  },
  {
   "cell_type": "code",
   "execution_count": 49,
   "id": "d75ccf07",
   "metadata": {},
   "outputs": [
    {
     "data": {
      "text/plain": [
       "['Die Hard (1988)',\n",
       " 'Terminator, The (1984)',\n",
       " 'Indiana Jones and the Last Crusade (1989)',\n",
       " 'Fugitive, The (1993)',\n",
       " 'Die Hard 2 (1990)',\n",
       " 'Predator (1987)',\n",
       " 'Rocky (1976)',\n",
       " 'Lethal Weapon (1987)',\n",
       " 'Raiders of the Lost Ark (1981)',\n",
       " 'Untouchables, The (1987)']"
      ]
     },
     "execution_count": 49,
     "metadata": {},
     "output_type": "execute_result"
    }
   ],
   "source": [
    "get_similar_movie('Die Hard (1988)')"
   ]
  },
  {
   "cell_type": "markdown",
   "id": "6ac41166",
   "metadata": {},
   "source": [
    "- 이번에는 영화 다이하드와 유사한 영화들을 추출해보았습니다.\n",
    "<br>\n",
    "<br>\n",
    "- 터미네이터, 인디애나 존스, 도망자, 다이하드 2, 프레데터 등 액션 및 스릴러 영화들이 정확하게 추출되었습니다."
   ]
  },
  {
   "cell_type": "markdown",
   "id": "a45b23f9",
   "metadata": {},
   "source": [
    "### Recommend movies to User"
   ]
  },
  {
   "cell_type": "code",
   "execution_count": 50,
   "id": "58845839",
   "metadata": {
    "scrolled": true
   },
   "outputs": [
    {
     "data": {
      "text/plain": [
       "[(141, 0.44540688),\n",
       " (92, 0.2967397),\n",
       " (82, 0.28643933),\n",
       " (200, 0.264119),\n",
       " (87, 0.25722253),\n",
       " (172, 0.25443366),\n",
       " (124, 0.22357167),\n",
       " (121, 0.22002989),\n",
       " (648, 0.21641351),\n",
       " (120, 0.21604922),\n",
       " (175, 0.21193206),\n",
       " (131, 0.20669541),\n",
       " (746, 0.18848243),\n",
       " (75, 0.17130333),\n",
       " (23, 0.1687147),\n",
       " (220, 0.15545706),\n",
       " (233, 0.15454194),\n",
       " (116, 0.15327546),\n",
       " (248, 0.15081534),\n",
       " (15, 0.14645037)]"
      ]
     },
     "execution_count": 50,
     "metadata": {},
     "output_type": "execute_result"
    }
   ],
   "source": [
    "user = user_id_dict['Lee']\n",
    "\n",
    "movies_recommend = als_model.recommend(user, csr_data, N=20, filter_already_liked_items=True)\n",
    "movies_recommend"
   ]
  },
  {
   "cell_type": "code",
   "execution_count": 51,
   "id": "a1f55bf3",
   "metadata": {
    "scrolled": true
   },
   "outputs": [
    {
     "data": {
      "text/plain": [
       "['Fugitive, The (1993)',\n",
       " 'Terminator 2: Judgment Day (1991)',\n",
       " 'Lost World: Jurassic Park, The (1997)',\n",
       " 'Terminator, The (1984)',\n",
       " 'Braveheart (1995)',\n",
       " 'Indiana Jones and the Last Crusade (1989)',\n",
       " 'Matrix, The (1999)',\n",
       " 'Silence of the Lambs, The (1991)',\n",
       " 'Lethal Weapon (1987)',\n",
       " 'Raiders of the Lost Ark (1981)',\n",
       " 'Men in Black (1997)',\n",
       " 'Rocky (1976)',\n",
       " 'Perfect Storm, The (2000)',\n",
       " 'Hunt for Red October, The (1990)',\n",
       " \"Schindler's List (1993)\",\n",
       " 'Seven (Se7en) (1995)',\n",
       " 'Usual Suspects, The (1995)',\n",
       " 'Dances with Wolves (1990)',\n",
       " 'Good Will Hunting (1997)',\n",
       " 'Airplane! (1980)']"
      ]
     },
     "execution_count": 51,
     "metadata": {},
     "output_type": "execute_result"
    }
   ],
   "source": [
    "movies_recommend = [id_movie_dict[i[0]] for i in movies_recommend]\n",
    "movies_recommend"
   ]
  },
  {
   "cell_type": "markdown",
   "id": "5a6e6a42",
   "metadata": {},
   "source": [
    "- 20 개의 영화들이 추천되었습니다.\n",
    "<br>\n",
    "<br>\n",
    "- 각 영화들이 대체적으로 액션 및 스릴러 장르에 포함되고 있음을 알 수 있습니다.\n",
    "<br>\n",
    "<br>\n",
    "- 하지만, 예측된 선호도는 0.2 에서 0.1 사이로 낮은 선호도를 보여주고 있습니다.\n",
    "<br>\n",
    "<br>\n",
    "- - 특정 영화들에 대해 과적합이 발생하면서, 기타 다른 영화들에 대한 기여도가 대체적으로 대폭 감소하여 영화들의 장르는 정확하게 도출되었지만 선호도는 낮게 예측된 것으로 판단됩니다.\n",
    "<br>\n",
    "<br>\n",
    "- 가장 밑에서 두 번째에 위치한 '굿 윌 헌팅' 에 대해 추천 기여도를 확인해보겠습니다."
   ]
  },
  {
   "cell_type": "code",
   "execution_count": 55,
   "id": "793e71d1",
   "metadata": {},
   "outputs": [],
   "source": [
    "goodWillHunting = movie_id_dict['Good Will Hunting (1997)']\n",
    "explain = als_model.explain(user, csr_data, itemid=goodWillHunting)"
   ]
  },
  {
   "cell_type": "code",
   "execution_count": 56,
   "id": "349d452d",
   "metadata": {},
   "outputs": [
    {
     "data": {
      "text/plain": [
       "[('Saving Private Ryan (1998)', 0.07366990212595911),\n",
       " ('Sixth Sense, The (1999)', 0.05650416401215226),\n",
       " ('Jurassic Park (1993)', 0.020327236886619228),\n",
       " ('Mission: Impossible (1996)', 0.011865145279231847),\n",
       " ('Die Hard (1988)', -0.012576364458786262)]"
      ]
     },
     "execution_count": 56,
     "metadata": {},
     "output_type": "execute_result"
    }
   ],
   "source": [
    "explain = [(id_movie_dict[i[0]], i[1]) for i in explain[1]]\n",
    "explain"
   ]
  },
  {
   "cell_type": "markdown",
   "id": "ed4cfa61",
   "metadata": {},
   "source": [
    "- 영화 '라이언 일병 구하기' 와 '식스 센스' 가 가장 높은 기여도를 보여주었습니다."
   ]
  },
  {
   "cell_type": "markdown",
   "id": "7c5923b1",
   "metadata": {},
   "source": [
    "# Retrospection"
   ]
  },
  {
   "cell_type": "markdown",
   "id": "bb4510ad",
   "metadata": {},
   "source": [
    "<h2 style=\"font-style:italic\">2022.03.01 - [E-14]MovieRecommendation_MatrixFactorization</h2>\n",
    "\n",
    "> 이번 프로젝트에서는 Matrix Factorization 기반의 모델을 활용하여 CSRMatrix 를 구축해 간단한 영화 추천 시스템을 구현해보았습니다. 아래에서는 프로젝트에 대한 회고를 기록하였습니다.\n",
    "***"
   ]
  },
  {
   "cell_type": "markdown",
   "id": "5875317e",
   "metadata": {},
   "source": [
    "- 간단한 추천 시스템을 구현해보면서 왜 수많은 애플리케이션들이 사용자의 선호도 조사에 노력을 기울이고, 리뷰 수집에 시간과 돈을 들이는지 이해할 수 있게 되었습니다.\n",
    "<br>\n",
    "<br>\n",
    "- 현 프로젝트에서는 사용자의 선호 영화 다섯 가지에 대한 데이터를 입력받았고, 이를 통해 학습하여 결과를 도출하였습니다. 하지만 실무에서는 수많은 데이터에 대해 학습을 수행하고 성공적인 결과를 도출하여야 합니다. 따라서, 데이터의 특성은 그만큼 다양할 것이고, 사용자 개개인의 선호도도 각기 다를 것입니다. 이러한 상황에서 추천 시스템의 준수한 성능을 위해서는 사용자의 리뷰 데이터가 가장 필수적입니다.\n",
    "<br>\n",
    "<br>\n",
    "- 이 뿐 아니라, 사용자의 리뷰 데이터나 직접적인 선호도에 대한 조사 결과는 explicit 한 특성을 가지고 있습니다. 이는 클릭 수나 플레이 횟수, 플레이 시간 등과 같이 implicit 한 데이터에 비해서 사용자의 취향을 정확하고 정교하게 표현할 수 있습니다. 따라서, 추천 시스템의 성능을 최대화하기 위해서는 이러한 explicit 한 데이터의 수집이 가장 중요할 것으로 판단됩니다.\n",
    "<br>\n",
    "<br>\n",
    "- 하지만 실제로, 사용자의 explicit 데이터를 수집하는 작업보다는 implicit 데이터를 수집하는 작업이 비교적 수월할 것이라고 생각합니다. 직접적인 리뷰 및 선호도 조사를 자주 수행할 수 없으며, 대부분의 사용자들이 이러한 설문과정에 대해 매번 성실하게 답변하기는 어렵기 때문입니다. 따라서, implicit 데이터가 사용자의 취향을 간접적으로 파악할 수 있는 지표로서 아주 효율적으로 활용될 수 있으며, 이를 통해 explicit 데이터로부터 얻을 수 없는 인사이트를 도출할 수 있다고 생각합니다.\n",
    "<br>\n",
    "<br>\n",
    "- 물론, 이러한 implicit 데이터를 분석하고 이로부터 특정한 인사이트를 도출해내는 방법은 그리 쉽지 않습니다. 예를 들어, 특정 영화를 한 번만 시청한 유저가 있을 때, 유저가 해당 영화를 선호하는지 혹은 선호하지 않는 것인지 판단하기에 기준의 설정이 주관적일 수 밖에 없다는 문제가 있습니다. 따라서, 특정 알고리즘이나 모델을 설계하는 데 있어 데이터의 특성들을 어떠한 기준을 두고 분석할 것인지에 대해 많은 경험과 고민이 필요할 것입니다."
   ]
  },
  {
   "cell_type": "markdown",
   "id": "f44abe3d",
   "metadata": {},
   "source": [
    "<br>\n",
    "<br>\n",
    "\n",
    "- 이번 프로젝트에서는 행렬 분해(Matrix Factorization)모델을 사용하였습니다. 이는 m 명의 유저들이 n 개의 아이템에 대해 평가한 데이터인 m x n 사이즈의 평가 행렬을 m x k 와 k x n 의 행렬의 곱으로 분해하여 나타낸다는 아이디어입니다.\n",
    "<br>\n",
    "<br>\n",
    "- 이러한 MF 모델을 사용할 경우, 계산량을 효율적으로 줄일 수 있고 문제를 세부적으로 분해하여 바라볼 수 있으며 성능 또한 준수한 시스템을 성공적으로 구축해낼 수 있습니다.\n",
    "<br>\n",
    "<br>\n",
    "- 이 때, 분해된 각 행렬의 특정 원소 간 내적이 특정 유저의 특정 아이템에 대한 선호도를 나타내게 되는데, 모델은 분해된 행렬의 원소들을 파라미터로 하여 변경해나가면서 원소 간 내적 결과와 실제 유저의 선호 데이터 간 손실을 최소화하는 방향으로 학습해 나가게 됩니다.\n",
    "<br>\n",
    "<br>\n",
    "- 물론, MF 모델 이외에도 현재 추천 시스템에 사용되고 있는 모델들은 아주 다양할 것입니다. 이러한 모델들과 알고리즘에 대해 더욱 다양하게 학습하고 싶습니다."
   ]
  },
  {
   "cell_type": "markdown",
   "id": "51804cd2",
   "metadata": {},
   "source": [
    "<br>\n",
    "<br>\n",
    "\n",
    "- CSR Matrix 는 앞서 구축한 평가행렬의 대부분의 원소가 0 임에 따라 메모리 낭비가 발생하는 문제점을 해결하기 위해 활용할 수 있는 데이터 구조입니다.\n",
    "<br>\n",
    "<br>\n",
    "- CSR Matrix 의 원리인 data, indices, indptr 는 각각 0 이 아닌 원소, 열 정보, 행 정보 를 표현합니다. 따라서, 이 세가지 데이터만 가지고 있다면 충분히 원본 행렬을 복원해낼 수 있습니다.\n",
    "<br>\n",
    "<br>\n",
    "- 사실, 처음에는 이러한 CSR Matrix 의 구조와 원리가 쉽게 이해되지 않았습니다. 하지만, 직접 data, indices, indptr 데이터를 가지고 원본 행렬을 복원해보는 연습을 수행하면서 그 원리와 구조가 머리에 들어오기 시작했습니다.\n",
    "<br>\n",
    "<br>\n",
    "- 이를 통해, 메모리나 계산량과 같이 성능에 큰 영향을 미칠 수 있는 다양한 문제점들을 자료 구조와 알고리즘 등으로 해결해낼 수 있다는 것을 다시금 느낄 수 있었습니다. 따라서, 자료 구조, 알고리즘에 대한 학습을 게을리해서는 안된다는 생각이 들게 되었습니다."
   ]
  }
 ],
 "metadata": {
  "kernelspec": {
   "display_name": "Python 3 (ipykernel)",
   "language": "python",
   "name": "python3"
  },
  "language_info": {
   "codemirror_mode": {
    "name": "ipython",
    "version": 3
   },
   "file_extension": ".py",
   "mimetype": "text/x-python",
   "name": "python",
   "nbconvert_exporter": "python",
   "pygments_lexer": "ipython3",
   "version": "3.9.7"
  }
 },
 "nbformat": 4,
 "nbformat_minor": 5
}
