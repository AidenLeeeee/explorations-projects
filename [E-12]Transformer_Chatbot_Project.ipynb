{
 "cells": [
  {
   "cell_type": "code",
   "execution_count": 1,
   "id": "419a31e6",
   "metadata": {},
   "outputs": [],
   "source": [
    "import tensorflow as tf\n",
    "import tensorflow_datasets as tfds\n",
    "import os\n",
    "import re\n",
    "import numpy as np\n",
    "import matplotlib.pyplot as plt\n",
    "import pandas as pd\n",
    "import tensorflow_datasets as tfds"
   ]
  },
  {
   "cell_type": "markdown",
   "id": "75f8d92a",
   "metadata": {},
   "source": [
    "# Source Code"
   ]
  },
  {
   "cell_type": "markdown",
   "id": "3d902021",
   "metadata": {},
   "source": [
    "### Load Data"
   ]
  },
  {
   "cell_type": "code",
   "execution_count": 2,
   "id": "d7d87e66",
   "metadata": {
    "scrolled": true
   },
   "outputs": [
    {
     "data": {
      "text/html": [
       "<div>\n",
       "<style scoped>\n",
       "    .dataframe tbody tr th:only-of-type {\n",
       "        vertical-align: middle;\n",
       "    }\n",
       "\n",
       "    .dataframe tbody tr th {\n",
       "        vertical-align: top;\n",
       "    }\n",
       "\n",
       "    .dataframe thead th {\n",
       "        text-align: right;\n",
       "    }\n",
       "</style>\n",
       "<table border=\"1\" class=\"dataframe\">\n",
       "  <thead>\n",
       "    <tr style=\"text-align: right;\">\n",
       "      <th></th>\n",
       "      <th>Q</th>\n",
       "      <th>A</th>\n",
       "      <th>label</th>\n",
       "    </tr>\n",
       "  </thead>\n",
       "  <tbody>\n",
       "    <tr>\n",
       "      <th>0</th>\n",
       "      <td>12시 땡!</td>\n",
       "      <td>하루가 또 가네요.</td>\n",
       "      <td>0</td>\n",
       "    </tr>\n",
       "    <tr>\n",
       "      <th>1</th>\n",
       "      <td>1지망 학교 떨어졌어</td>\n",
       "      <td>위로해 드립니다.</td>\n",
       "      <td>0</td>\n",
       "    </tr>\n",
       "    <tr>\n",
       "      <th>2</th>\n",
       "      <td>3박4일 놀러가고 싶다</td>\n",
       "      <td>여행은 언제나 좋죠.</td>\n",
       "      <td>0</td>\n",
       "    </tr>\n",
       "    <tr>\n",
       "      <th>3</th>\n",
       "      <td>3박4일 정도 놀러가고 싶다</td>\n",
       "      <td>여행은 언제나 좋죠.</td>\n",
       "      <td>0</td>\n",
       "    </tr>\n",
       "    <tr>\n",
       "      <th>4</th>\n",
       "      <td>PPL 심하네</td>\n",
       "      <td>눈살이 찌푸려지죠.</td>\n",
       "      <td>0</td>\n",
       "    </tr>\n",
       "  </tbody>\n",
       "</table>\n",
       "</div>"
      ],
      "text/plain": [
       "                 Q            A  label\n",
       "0           12시 땡!   하루가 또 가네요.      0\n",
       "1      1지망 학교 떨어졌어    위로해 드립니다.      0\n",
       "2     3박4일 놀러가고 싶다  여행은 언제나 좋죠.      0\n",
       "3  3박4일 정도 놀러가고 싶다  여행은 언제나 좋죠.      0\n",
       "4          PPL 심하네   눈살이 찌푸려지죠.      0"
      ]
     },
     "execution_count": 2,
     "metadata": {},
     "output_type": "execute_result"
    }
   ],
   "source": [
    "file_path = '~/aiffel/transformer_chatbot/data/ChatbotData.csv'\n",
    "\n",
    "data = pd.read_csv(file_path)\n",
    "data.head()"
   ]
  },
  {
   "cell_type": "markdown",
   "id": "0b1cd645",
   "metadata": {},
   "source": [
    "### Data Preprocessing"
   ]
  },
  {
   "cell_type": "markdown",
   "id": "c7d726f4",
   "metadata": {},
   "source": [
    "- missing value"
   ]
  },
  {
   "cell_type": "code",
   "execution_count": 3,
   "id": "e236a6d1",
   "metadata": {
    "scrolled": true
   },
   "outputs": [
    {
     "data": {
      "text/plain": [
       "Q        0\n",
       "A        0\n",
       "label    0\n",
       "dtype: int64"
      ]
     },
     "execution_count": 3,
     "metadata": {},
     "output_type": "execute_result"
    }
   ],
   "source": [
    "data.isna().sum()"
   ]
  },
  {
   "cell_type": "markdown",
   "id": "2d560940",
   "metadata": {},
   "source": [
    "- preprocessing"
   ]
  },
  {
   "cell_type": "code",
   "execution_count": 4,
   "id": "76a3cf95",
   "metadata": {},
   "outputs": [],
   "source": [
    "def preprocess_sentence(sentence):\n",
    "    sentence = sentence.lower().strip()\n",
    "    \n",
    "    sentence = re.sub(r\"([?.!,])\", r\" \\1 \", sentence)\n",
    "    sentence = re.sub(r\"[^a-zA-Z가-힣0-9?.!,]+\", \" \", sentence)\n",
    "    sentence = re.sub(r'[\" \"]+', \" \", sentence)\n",
    "    sentence = sentence.strip()\n",
    "    \n",
    "    return sentence"
   ]
  },
  {
   "cell_type": "code",
   "execution_count": 5,
   "id": "59677c55",
   "metadata": {},
   "outputs": [],
   "source": [
    "def load_conversations():\n",
    "    inputs = []\n",
    "    outputs = []\n",
    "    \n",
    "    for i in range(len(data)):\n",
    "        inputs.append(preprocess_sentence(data['Q'].values[i]))\n",
    "        outputs.append(preprocess_sentence(data['A'].values[i]))\n",
    "    \n",
    "    return inputs, outputs"
   ]
  },
  {
   "cell_type": "code",
   "execution_count": 6,
   "id": "db96ab17",
   "metadata": {
    "scrolled": true
   },
   "outputs": [
    {
     "name": "stdout",
     "output_type": "stream",
     "text": [
      "질문 수 : 11823\n",
      "답변 수 : 11823\n"
     ]
    }
   ],
   "source": [
    "questions, answers = load_conversations()\n",
    "\n",
    "print(\"질문 수 : {}\".format(len(questions)))\n",
    "print(\"답변 수 : {}\".format(len(answers)))"
   ]
  },
  {
   "cell_type": "code",
   "execution_count": 7,
   "id": "68458963",
   "metadata": {
    "scrolled": true
   },
   "outputs": [
    {
     "name": "stdout",
     "output_type": "stream",
     "text": [
      "Q1. 12시 땡 !\n",
      "A1. 하루가 또 가네요 .\n",
      "----------------------------------------\n",
      "Q2. 1지망 학교 떨어졌어\n",
      "A2. 위로해 드립니다 .\n",
      "----------------------------------------\n",
      "Q3. 3박4일 놀러가고 싶다\n",
      "A3. 여행은 언제나 좋죠 .\n",
      "----------------------------------------\n",
      "Q4. 3박4일 정도 놀러가고 싶다\n",
      "A4. 여행은 언제나 좋죠 .\n",
      "----------------------------------------\n",
      "Q5. ppl 심하네\n",
      "A5. 눈살이 찌푸려지죠 .\n",
      "----------------------------------------\n",
      "Q6. sd카드 망가졌어\n",
      "A6. 다시 새로 사는 게 마음 편해요 .\n",
      "----------------------------------------\n",
      "Q7. sd카드 안돼\n",
      "A7. 다시 새로 사는 게 마음 편해요 .\n",
      "----------------------------------------\n",
      "Q8. sns 맞팔 왜 안하지\n",
      "A8. 잘 모르고 있을 수도 있어요 .\n",
      "----------------------------------------\n",
      "Q9. sns 시간낭비인 거 아는데 매일 하는 중\n",
      "A9. 시간을 정하고 해보세요 .\n",
      "----------------------------------------\n",
      "Q10. sns 시간낭비인데 자꾸 보게됨\n",
      "A10. 시간을 정하고 해보세요 .\n",
      "----------------------------------------\n"
     ]
    }
   ],
   "source": [
    "for i in range(10):\n",
    "    print(f\"Q{i+1}.\", questions[i])\n",
    "    print(f\"A{i+1}.\", answers[i])\n",
    "    print('-'*40)"
   ]
  },
  {
   "cell_type": "markdown",
   "id": "74be3928",
   "metadata": {},
   "source": [
    "### SubwordTextEncoder"
   ]
  },
  {
   "cell_type": "markdown",
   "id": "0cb8d640",
   "metadata": {},
   "source": [
    "- tokenize"
   ]
  },
  {
   "cell_type": "code",
   "execution_count": 8,
   "id": "e0e783d3",
   "metadata": {},
   "outputs": [],
   "source": [
    "tokenizer = tfds.deprecated.text.SubwordTextEncoder.build_from_corpus(questions + answers, \n",
    "                                                                      target_vocab_size=2**13)"
   ]
  },
  {
   "cell_type": "code",
   "execution_count": 9,
   "id": "4671c71c",
   "metadata": {},
   "outputs": [],
   "source": [
    "START_TOKEN, END_TOKEN = [tokenizer.vocab_size], [tokenizer.vocab_size + 1]"
   ]
  },
  {
   "cell_type": "code",
   "execution_count": 10,
   "id": "2695647b",
   "metadata": {},
   "outputs": [
    {
     "name": "stdout",
     "output_type": "stream",
     "text": [
      "START_TOKEN의 번호 : [8162]\n",
      "END_TOKEN의 번호 : [8163]\n"
     ]
    }
   ],
   "source": [
    "print('START_TOKEN의 번호 :' ,[tokenizer.vocab_size])\n",
    "print('END_TOKEN의 번호 :' ,[tokenizer.vocab_size + 1])"
   ]
  },
  {
   "cell_type": "code",
   "execution_count": 11,
   "id": "12ed197e",
   "metadata": {},
   "outputs": [
    {
     "name": "stdout",
     "output_type": "stream",
     "text": [
      "8164\n"
     ]
    }
   ],
   "source": [
    "VOCAB_SIZE = tokenizer.vocab_size + 2\n",
    "print(VOCAB_SIZE)"
   ]
  },
  {
   "cell_type": "code",
   "execution_count": 12,
   "id": "478f2468",
   "metadata": {
    "scrolled": true
   },
   "outputs": [
    {
     "name": "stdout",
     "output_type": "stream",
     "text": [
      "Q1. [7901, 4198, 3050, 41]\n",
      "A1. [3837, 74, 7880, 1]\n",
      "----------------------------------------\n",
      "Q2. [7955, 47, 916, 7938, 994, 1714]\n",
      "A2. [1827, 5493, 1]\n",
      "----------------------------------------\n",
      "Q3. [7957, 1432, 4646, 7938, 3642, 67]\n",
      "A3. [3390, 773, 130, 1]\n",
      "----------------------------------------\n",
      "Q4. [7957, 1432, 4646, 7938, 1291, 3642, 67]\n",
      "A4. [3390, 773, 130, 1]\n",
      "----------------------------------------\n",
      "Q5. [8018, 8018, 8014, 7938, 4181]\n",
      "A5. [981, 2296, 1491, 2180, 5461, 50, 1]\n",
      "----------------------------------------\n",
      "Q6. [8021, 8006, 2188, 916, 78, 817]\n",
      "A6. [69, 2062, 455, 5, 137, 2184, 17, 1]\n",
      "----------------------------------------\n",
      "Q7. [8021, 8006, 2188, 201]\n",
      "A7. [69, 2062, 455, 5, 137, 2184, 17, 1]\n",
      "----------------------------------------\n",
      "Q8. [1946, 644, 1125, 7938, 66, 5110]\n",
      "A8. [14, 1890, 29, 71, 25, 1]\n",
      "----------------------------------------\n",
      "Q9. [1946, 778, 7598, 172, 8, 2562, 435, 48, 203]\n",
      "A9. [349, 3977, 16, 32, 1]\n",
      "----------------------------------------\n",
      "Q10. [1946, 778, 7598, 204, 84, 184, 351, 1255]\n",
      "A10. [349, 3977, 16, 32, 1]\n",
      "----------------------------------------\n"
     ]
    }
   ],
   "source": [
    "for i in range(10):\n",
    "    print(f\"Q{i+1}.\", tokenizer.encode(questions[i]))\n",
    "    print(f\"A{i+1}.\", tokenizer.encode(answers[i]))\n",
    "    print('-'*40)"
   ]
  },
  {
   "cell_type": "code",
   "execution_count": 13,
   "id": "304a9c32",
   "metadata": {
    "scrolled": true
   },
   "outputs": [
    {
     "name": "stdout",
     "output_type": "stream",
     "text": [
      "questions 최소길이 1\n",
      "questions 최대길이 21\n",
      "questions 평균길이 5.484986889960247\n",
      "answers 최소길이 1\n",
      "answers 최대길이 29\n",
      "answers 평균길이 5.818404804195213\n"
     ]
    },
    {
     "data": {
      "image/png": "[encoded data removed]",
      "text/plain": [
       "<Figure size 432x288 with 2 Axes>"
      ]
     },
     "metadata": {
      "needs_background": "light"
     },
     "output_type": "display_data"
    },
    {
     "data": {
      "image/png": "[encoded data removed]",
      "text/plain": [
       "<Figure size 432x288 with 1 Axes>"
      ]
     },
     "metadata": {
      "needs_background": "light"
     },
     "output_type": "display_data"
    },
    {
     "data": {
      "image/png": "[encoded data removed]",
      "text/plain": [
       "<Figure size 432x288 with 1 Axes>"
      ]
     },
     "metadata": {
      "needs_background": "light"
     },
     "output_type": "display_data"
    }
   ],
   "source": [
    "q_len = [len(tokenizer.encode(questions[i])) for i in range(len(questions))]\n",
    "a_len = [len(tokenizer.encode(answers[i])) for i in range(len(answers))]\n",
    "\n",
    "print(\"questions 최소길이\", np.min(q_len))\n",
    "print(\"questions 최대길이\", np.max(q_len))\n",
    "print(\"questions 평균길이\", np.mean(q_len))\n",
    "print(\"answers 최소길이\", np.min(a_len))\n",
    "print(\"answers 최대길이\", np.max(a_len))\n",
    "print(\"answers 평균길이\", np.mean(a_len))\n",
    "\n",
    "plt.subplot(1, 2, 1)\n",
    "plt.boxplot(q_len)\n",
    "plt.title('questions')\n",
    "plt.subplot(1, 2, 2)\n",
    "plt.boxplot(a_len)\n",
    "plt.title('answers')\n",
    "plt.tight_layout()\n",
    "plt.show()\n",
    "\n",
    "plt.title('questions')\n",
    "plt.hist(q_len, bins = 40)\n",
    "plt.xlabel('length of questions')\n",
    "plt.ylabel('number of questions')\n",
    "plt.show()\n",
    "\n",
    "plt.title('answers')\n",
    "plt.hist(a_len, bins = 60)\n",
    "plt.xlabel('length of questions')\n",
    "plt.ylabel('number of questions')\n",
    "plt.show()"
   ]
  },
  {
   "cell_type": "markdown",
   "id": "1a0748db",
   "metadata": {},
   "source": [
    "- word embedding & padding"
   ]
  },
  {
   "cell_type": "code",
   "execution_count": 14,
   "id": "a88d1ba0",
   "metadata": {},
   "outputs": [],
   "source": [
    "MAX_LENGTH = 15"
   ]
  },
  {
   "cell_type": "code",
   "execution_count": 15,
   "id": "c6cc9a48",
   "metadata": {},
   "outputs": [],
   "source": [
    "def tokenize_and_filter(inputs, outputs):\n",
    "    tokenized_inputs, tokenized_outputs = [], []\n",
    "    \n",
    "    for (sentence1, sentence2) in zip(inputs, outputs):\n",
    "        sentence1 = START_TOKEN + tokenizer.encode(sentence1) + END_TOKEN\n",
    "        sentence2 = START_TOKEN + tokenizer.encode(sentence2) + END_TOKEN\n",
    "        \n",
    "        if len(sentence1) <= MAX_LENGTH and len(sentence2) <= MAX_LENGTH:\n",
    "            tokenized_inputs.append(sentence1)\n",
    "            tokenized_outputs.append(sentence2)\n",
    "    \n",
    "    tokenized_inputs = tf.keras.preprocessing.sequence.pad_sequences(\n",
    "                        tokenized_inputs, maxlen=MAX_LENGTH, padding='post')\n",
    "    tokenized_outputs = tf.keras.preprocessing.sequence.pad_sequences(\n",
    "                        tokenized_outputs, maxlen=MAX_LENGTH, padding='post')\n",
    "    \n",
    "    return tokenized_inputs, tokenized_outputs"
   ]
  },
  {
   "cell_type": "code",
   "execution_count": 16,
   "id": "f3e99073",
   "metadata": {},
   "outputs": [
    {
     "name": "stdout",
     "output_type": "stream",
     "text": [
      "단어장 크기: 8164\n",
      "필터링 후 questions 개수: 11571\n",
      "필터링 후 answers 개수: 11571\n"
     ]
    }
   ],
   "source": [
    "questions, answers = tokenize_and_filter(questions, answers)\n",
    "\n",
    "print('단어장 크기:', VOCAB_SIZE)\n",
    "print('필터링 후 questions 개수:', len(questions))\n",
    "print('필터링 후 answers 개수:', len(answers))"
   ]
  },
  {
   "cell_type": "markdown",
   "id": "6dfcee95",
   "metadata": {},
   "source": [
    "- build tf.dataset"
   ]
  },
  {
   "cell_type": "code",
   "execution_count": 17,
   "id": "2d51a682",
   "metadata": {},
   "outputs": [],
   "source": [
    "BATCH_SIZE = 64\n",
    "BUFFER_SIZE = 12000\n",
    "\n",
    "dataset = tf.data.Dataset.from_tensor_slices((\n",
    "            {\n",
    "                'inputs': questions,\n",
    "                'dec_inputs': answers[:, :-1]\n",
    "            },\n",
    "            {\n",
    "                'outputs': answers[:, 1:]\n",
    "            }\n",
    "))\n",
    "\n",
    "dataset = dataset.cache()\n",
    "dataset = dataset.shuffle(BUFFER_SIZE)\n",
    "dataset = dataset.batch(BATCH_SIZE)\n",
    "dataset = dataset.prefetch(tf.data.experimental.AUTOTUNE)"
   ]
  },
  {
   "cell_type": "markdown",
   "id": "3cfba1f2",
   "metadata": {},
   "source": [
    "### Modeling"
   ]
  },
  {
   "cell_type": "markdown",
   "id": "eac94765",
   "metadata": {},
   "source": [
    "- PositionalEncoding"
   ]
  },
  {
   "cell_type": "code",
   "execution_count": 18,
   "id": "14b83b7e",
   "metadata": {},
   "outputs": [],
   "source": [
    "class PositionalEncoding(tf.keras.layers.Layer):\n",
    "    \n",
    "    def __init__(self, position, d_model):\n",
    "        super(PositionalEncoding, self).__init__()\n",
    "        self.pos_encoding = self.positional_encoding(position, d_model)\n",
    "        \n",
    "    def get_angles(self, position, i, d_model):\n",
    "        angles = 1 / tf.pow(10000, (2 * (i // 2)) / tf.cast(d_model, tf.float32))\n",
    "        return position * angles\n",
    "    \n",
    "    def positional_encoding(self, position, d_model):\n",
    "        angle_rads = self.get_angles(\n",
    "            position = tf.range(position, dtype=tf.float32)[:, tf.newaxis],\n",
    "            i = tf.range(d_model, dtype=tf.float32)[tf.newaxis, :],\n",
    "            d_model=d_model)\n",
    "        \n",
    "        sines = tf.math.sin(angle_rads[:, 0::2])\n",
    "        cosines = tf.math.cos(angle_rads[:, 1::2])\n",
    "        \n",
    "        pos_encoding = tf.stack([sines, cosines], axis=0)\n",
    "        pos_encoding = tf.transpose(pos_encoding, [1, 2, 0])\n",
    "        pos_encoding = tf.reshape(pos_encoding, [position, d_model])\n",
    "        \n",
    "        pos_encoding = pos_encoding[tf.newaxis, ...]\n",
    "        \n",
    "        return tf.cast(pos_encoding, tf.float32)\n",
    "    \n",
    "    def call(self, inputs):\n",
    "        return inputs + self.pos_encoding[:, :tf.shape(inputs)[1], :]"
   ]
  },
  {
   "cell_type": "markdown",
   "id": "4476cd90",
   "metadata": {},
   "source": [
    "- Attention"
   ]
  },
  {
   "cell_type": "code",
   "execution_count": 19,
   "id": "0a97836f",
   "metadata": {},
   "outputs": [],
   "source": [
    "def scaled_dot_product_attention(query, key, value, mask):\n",
    "    matmul_qk = tf.matmul(query, key, transpose_b=True)\n",
    "    \n",
    "    depth = tf.cast(tf.shape(key)[-1], tf.float32)\n",
    "    logits = matmul_qk / tf.math.sqrt(depth)\n",
    "    \n",
    "    if mask is not None:\n",
    "        logits += (mask * -1e9)\n",
    "        \n",
    "    attention_weights = tf.nn.softmax(logits, axis=-1)\n",
    "    \n",
    "    output = tf.matmul(attention_weights, value)\n",
    "    \n",
    "    return output"
   ]
  },
  {
   "cell_type": "code",
   "execution_count": 20,
   "id": "e6cbf528",
   "metadata": {},
   "outputs": [],
   "source": [
    "class MultiHeadAttention(tf.keras.layers.Layer):\n",
    "    \n",
    "    def __init__(self, d_model, num_heads, name='multi_head_attention'):\n",
    "        super(MultiHeadAttention, self).__init__(name=name)\n",
    "        self.num_heads = num_heads\n",
    "        self.d_model = d_model\n",
    "        \n",
    "        assert d_model % self.num_heads == 0\n",
    "        \n",
    "        self.depth = d_model // self.num_heads\n",
    "        \n",
    "        self.query_dense = tf.keras.layers.Dense(units=d_model)\n",
    "        self.key_dense = tf.keras.layers.Dense(units=d_model)\n",
    "        self.value_dense = tf.keras.layers.Dense(units=d_model)\n",
    "        \n",
    "        self.dense = tf.keras.layers.Dense(units=d_model)\n",
    "        \n",
    "    def split_heads(self, inputs, batch_size):\n",
    "        inputs = tf.reshape(\n",
    "            inputs, shape=(batch_size, -1, self.num_heads, self.depth))\n",
    "        return tf.transpose(inputs, perm=[0, 2, 1, 3])\n",
    "    \n",
    "    def call(self, inputs):\n",
    "        query, key, value, mask = inputs['query'], inputs['key'], inputs['value'], inputs['mask']\n",
    "        batch_size = tf.shape(query)[0]\n",
    "        \n",
    "        query = self.query_dense(query)\n",
    "        key = self.key_dense(key)\n",
    "        value = self.value_dense(value)\n",
    "        \n",
    "        query = self.split_heads(query, batch_size)\n",
    "        key = self.split_heads(key, batch_size)\n",
    "        value = self.split_heads(value, batch_size)\n",
    "        \n",
    "        scaled_attention = scaled_dot_product_attention(query, key, value, mask)\n",
    "        \n",
    "        scaled_attention = tf.transpose(scaled_attention, perm=[0, 2, 1, 3])\n",
    "        \n",
    "        concat_attention = tf.reshape(scaled_attention,\n",
    "                                      (batch_size, -1, self.d_model))\n",
    "        \n",
    "        outputs = self.dense(concat_attention)\n",
    "        \n",
    "        return outputs"
   ]
  },
  {
   "cell_type": "markdown",
   "id": "9c289663",
   "metadata": {},
   "source": [
    "- padding_masking"
   ]
  },
  {
   "cell_type": "code",
   "execution_count": 21,
   "id": "213b5528",
   "metadata": {},
   "outputs": [],
   "source": [
    "def create_padding_mask(x):\n",
    "    mask = tf.cast(tf.math.equal(x, 0), tf.float32)\n",
    "    \n",
    "    return mask[:, tf.newaxis, tf.newaxis, :]"
   ]
  },
  {
   "cell_type": "markdown",
   "id": "82504fa0",
   "metadata": {},
   "source": [
    "- look-ahead_masking + padding_masking"
   ]
  },
  {
   "cell_type": "code",
   "execution_count": 22,
   "id": "3534b32f",
   "metadata": {},
   "outputs": [],
   "source": [
    "def create_look_ahead_mask(x):\n",
    "    seq_len = tf.shape(x)[1]\n",
    "    look_ahead_mask = 1 - tf.linalg.band_part(tf.ones((seq_len, seq_len)), -1, 0)\n",
    "    padding_mask = create_padding_mask(x)\n",
    "    \n",
    "    return tf.maximum(look_ahead_mask, padding_mask)"
   ]
  },
  {
   "cell_type": "markdown",
   "id": "945e7d0a",
   "metadata": {},
   "source": [
    "- encoder"
   ]
  },
  {
   "cell_type": "code",
   "execution_count": 23,
   "id": "3c8ad430",
   "metadata": {},
   "outputs": [],
   "source": [
    "def encoder_layer(units, d_model, num_heads, dropout, name='encoder_layer'):\n",
    "    inputs = tf.keras.Input(shape=(None, d_model), name='inputs')\n",
    "    \n",
    "    padding_mask = tf.keras.Input(shape=(1, 1, None), name='padding_mask')\n",
    "    \n",
    "    attention = MultiHeadAttention(\n",
    "                d_model, num_heads, name='attention')({\n",
    "                'query': inputs,\n",
    "                'key': inputs,\n",
    "                'value': inputs,\n",
    "                'mask': padding_mask\n",
    "    })\n",
    "    \n",
    "    attention = tf.keras.layers.Dropout(rate=dropout)(attention)\n",
    "    attention = tf.keras.layers.LayerNormalization(\n",
    "                epsilon=1e-6)(inputs + attention)\n",
    "    \n",
    "    outputs = tf.keras.layers.Dense(units=units, activation='relu')(attention)\n",
    "    outputs = tf.keras.layers.Dense(units=d_model)(outputs)\n",
    "    \n",
    "    outputs = tf.keras.layers.Dropout(rate=dropout)(outputs)\n",
    "    outputs = tf.keras.layers.LayerNormalization(\n",
    "                epsilon=1e-6)(attention + outputs)\n",
    "    \n",
    "    return tf.keras.Model(inputs=[inputs, padding_mask], outputs=outputs, name=name)"
   ]
  },
  {
   "cell_type": "code",
   "execution_count": 24,
   "id": "2e0686bc",
   "metadata": {},
   "outputs": [],
   "source": [
    "def encoder(vocab_size,\n",
    "            num_layers,\n",
    "            units,\n",
    "            d_model,\n",
    "            num_heads,\n",
    "            dropout,\n",
    "            name='encoder'):\n",
    "    inputs = tf.keras.Input(shape=(None,), name='inputs')\n",
    "    \n",
    "    padding_mask = tf.keras.Input(shape=(1, 1, None), name='padding_mask')\n",
    "    \n",
    "    embeddings = tf.keras.layers.Embedding(vocab_size, d_model)(inputs)\n",
    "    embeddings *= tf.math.sqrt(tf.cast(d_model, tf.float32))\n",
    "    \n",
    "    embeddings = PositionalEncoding(vocab_size, d_model)(embeddings)\n",
    "    \n",
    "    outputs = tf.keras.layers.Dropout(rate=dropout)(embeddings)\n",
    "    \n",
    "    for i in range(num_layers):\n",
    "        outputs = encoder_layer(\n",
    "                    units=units,\n",
    "                    d_model=d_model,\n",
    "                    num_heads=num_heads,\n",
    "                    dropout=dropout,\n",
    "                    name='encoder_layer_{}'.format(i))([outputs, padding_mask])\n",
    "        \n",
    "    return tf.keras.Model(\n",
    "            inputs=[inputs, padding_mask], outputs=outputs, name=name)"
   ]
  },
  {
   "cell_type": "markdown",
   "id": "11435eb2",
   "metadata": {},
   "source": [
    "- decoder"
   ]
  },
  {
   "cell_type": "code",
   "execution_count": 25,
   "id": "5e4e8383",
   "metadata": {},
   "outputs": [],
   "source": [
    "def decoder_layer(units, d_model, num_heads, dropout, name='decoder_layer'):\n",
    "    inputs = tf.keras.Input(shape=(None, d_model), name='inputs')\n",
    "    enc_outputs = tf.keras.Input(shape=(None, d_model), name=\"encoder_outputs\")\n",
    "    look_ahead_mask = tf.keras.Input(shape=(1, None, None), name=\"look_ahead_mask\")\n",
    "    padding_mask = tf.keras.Input(shape=(1, 1, None), name='padding_mask')\n",
    "    \n",
    "    attention1 = MultiHeadAttention(\n",
    "                    d_model, num_heads, name='attention_1')(inputs={\n",
    "                        'query': inputs,\n",
    "                        'key': inputs,\n",
    "                        'value': inputs,\n",
    "                        'mask': look_ahead_mask\n",
    "                    })\n",
    "    \n",
    "    attention1 = tf.keras.layers.LayerNormalization(epsilon=1e-6)(attention1 + inputs)\n",
    "    \n",
    "    attention2 = MultiHeadAttention(\n",
    "                    d_model, num_heads, name='attention_2')(inputs={\n",
    "                        'query': attention1,\n",
    "                        'key': enc_outputs,\n",
    "                        'value': enc_outputs,\n",
    "                        'mask': padding_mask\n",
    "                    })\n",
    "    \n",
    "    attention2 = tf.keras.layers.Dropout(rate=dropout)(attention2)\n",
    "    attention2 = tf.keras.layers.LayerNormalization(\n",
    "                epsilon=1e-6)(attention2 + attention1)\n",
    "    \n",
    "    outputs = tf.keras.layers.Dense(units=units, activation='relu')(attention2)\n",
    "    outputs = tf.keras.layers.Dense(units=d_model)(outputs)\n",
    "    \n",
    "    outputs = tf.keras.layers.Dropout(rate=dropout)(outputs)\n",
    "    outputs = tf.keras.layers.LayerNormalization(epsilon=1e-6)(outputs + attention2)\n",
    "    \n",
    "    return tf.keras.Model(\n",
    "            inputs=[inputs, enc_outputs, look_ahead_mask, padding_mask],\n",
    "            outputs=outputs,\n",
    "            name=name)"
   ]
  },
  {
   "cell_type": "code",
   "execution_count": 26,
   "id": "9baf6eec",
   "metadata": {},
   "outputs": [],
   "source": [
    "def decoder(vocab_size,\n",
    "            num_layers,\n",
    "            units,\n",
    "            d_model,\n",
    "            num_heads,\n",
    "            dropout,\n",
    "            name='decoder'):\n",
    "    inputs = tf.keras.Input(shape=(None,), name='inputs')\n",
    "    enc_outputs = tf.keras.Input(shape=(None, d_model), name='encoder_outputs')\n",
    "    look_ahead_mask = tf.keras.Input(shape=(1, None, None), name='look_ahead_mask')\n",
    "    \n",
    "    padding_mask = tf.keras.Input(shape=(1, 1, None), name='padding_mask')\n",
    "    \n",
    "    embeddings = tf.keras.layers.Embedding(vocab_size, d_model)(inputs)\n",
    "    embeddings *= tf.math.sqrt(tf.cast(d_model, tf.float32))\n",
    "    \n",
    "    embeddings = PositionalEncoding(vocab_size, d_model)(embeddings)\n",
    "    \n",
    "    outputs = tf.keras.layers.Dropout(rate=dropout)(embeddings)\n",
    "    \n",
    "    for i in range(num_layers):\n",
    "        outputs = decoder_layer(\n",
    "                    units=units,\n",
    "                    d_model=d_model,\n",
    "                    num_heads=num_heads,\n",
    "                    dropout=dropout,\n",
    "                    name='decoder_layer_{}'.format(i))(\n",
    "        inputs=[outputs, enc_outputs, look_ahead_mask, padding_mask])\n",
    "        \n",
    "    return tf.keras.Model(\n",
    "            inputs=[inputs, enc_outputs, look_ahead_mask, padding_mask],\n",
    "            outputs=outputs,\n",
    "            name=name)"
   ]
  },
  {
   "cell_type": "markdown",
   "id": "5157cbc4",
   "metadata": {},
   "source": [
    "- transformer"
   ]
  },
  {
   "cell_type": "code",
   "execution_count": 27,
   "id": "61da43f7",
   "metadata": {},
   "outputs": [],
   "source": [
    "def transformer(vocab_size,\n",
    "                num_layers,\n",
    "                units,\n",
    "                d_model,\n",
    "                num_heads,\n",
    "                dropout,\n",
    "                name=\"transformer\"):\n",
    "    inputs = tf.keras.Input(shape=(None,), name='inputs')\n",
    "    dec_inputs = tf.keras.Input(shape=(None,), name='dec_inputs')\n",
    "    \n",
    "    enc_padding_mask = tf.keras.layers.Lambda(\n",
    "                        create_padding_mask, \n",
    "                        output_shape=(1, 1, None),\n",
    "                        name='enc_padding_mask')(inputs)\n",
    "    \n",
    "    look_ahead_mask = tf.keras.layers.Lambda(\n",
    "                        create_look_ahead_mask,\n",
    "                        output_shape=(1, None, None),\n",
    "                        name='look_ahead_mask')(dec_inputs)\n",
    "    \n",
    "    dec_padding_mask = tf.keras.layers.Lambda(\n",
    "                        create_padding_mask, output_shape=(1, 1, None),\n",
    "                        name='dec_padding_mask')(inputs)\n",
    "    \n",
    "    # encoder\n",
    "    enc_outputs = encoder(\n",
    "                  vocab_size=vocab_size,\n",
    "                  num_layers=num_layers,\n",
    "                  units=units,\n",
    "                  d_model=d_model,\n",
    "                  num_heads=num_heads,\n",
    "                  dropout=dropout\n",
    "                )(inputs=[inputs, enc_padding_mask])\n",
    "    \n",
    "    # decoder\n",
    "    dec_outputs = decoder(\n",
    "                  vocab_size=vocab_size,\n",
    "                  num_layers=num_layers,\n",
    "                  units=units,\n",
    "                  d_model=d_model,\n",
    "                  num_heads=num_heads,\n",
    "                  dropout=dropout\n",
    "                )(inputs=[dec_inputs, enc_outputs, look_ahead_mask, dec_padding_mask])\n",
    "    \n",
    "    # fc layer\n",
    "    outputs = tf.keras.layers.Dense(units=vocab_size, name='outputs')(dec_outputs)\n",
    "    \n",
    "    return tf.keras.Model(inputs=[inputs, dec_inputs], outputs=outputs, name=name)"
   ]
  },
  {
   "cell_type": "code",
   "execution_count": 28,
   "id": "d52947ab",
   "metadata": {
    "scrolled": true
   },
   "outputs": [
    {
     "name": "stdout",
     "output_type": "stream",
     "text": [
      "Model: \"transformer\"\n",
      "__________________________________________________________________________________________________\n",
      "Layer (type)                    Output Shape         Param #     Connected to                     \n",
      "==================================================================================================\n",
      "inputs (InputLayer)             [(None, None)]       0                                            \n",
      "__________________________________________________________________________________________________\n",
      "dec_inputs (InputLayer)         [(None, None)]       0                                            \n",
      "__________________________________________________________________________________________________\n",
      "enc_padding_mask (Lambda)       (None, 1, 1, None)   0           inputs[0][0]                     \n",
      "__________________________________________________________________________________________________\n",
      "encoder (Functional)            (None, None, 256)    4198400     inputs[0][0]                     \n",
      "                                                                 enc_padding_mask[0][0]           \n",
      "__________________________________________________________________________________________________\n",
      "look_ahead_mask (Lambda)        (None, 1, None, None 0           dec_inputs[0][0]                 \n",
      "__________________________________________________________________________________________________\n",
      "dec_padding_mask (Lambda)       (None, 1, 1, None)   0           inputs[0][0]                     \n",
      "__________________________________________________________________________________________________\n",
      "decoder (Functional)            (None, None, 256)    5253120     dec_inputs[0][0]                 \n",
      "                                                                 encoder[0][0]                    \n",
      "                                                                 look_ahead_mask[0][0]            \n",
      "                                                                 dec_padding_mask[0][0]           \n",
      "__________________________________________________________________________________________________\n",
      "outputs (Dense)                 (None, None, 8164)   2098148     decoder[0][0]                    \n",
      "==================================================================================================\n",
      "Total params: 11,549,668\n",
      "Trainable params: 11,549,668\n",
      "Non-trainable params: 0\n",
      "__________________________________________________________________________________________________\n"
     ]
    }
   ],
   "source": [
    "tf.keras.backend.clear_session()\n",
    "\n",
    "NUM_LAYERS = 4\n",
    "D_MODEL = 256\n",
    "NUM_HEADS = 8\n",
    "UNITS = 512\n",
    "DROPOUT = 0.1\n",
    "\n",
    "model = transformer(\n",
    "    vocab_size=VOCAB_SIZE,\n",
    "    num_layers=NUM_LAYERS,\n",
    "    units=UNITS,\n",
    "    d_model=D_MODEL,\n",
    "    num_heads=NUM_HEADS,\n",
    "    dropout=DROPOUT)\n",
    "\n",
    "model.summary()"
   ]
  },
  {
   "cell_type": "markdown",
   "id": "d72d4b25",
   "metadata": {},
   "source": [
    "- loss function"
   ]
  },
  {
   "cell_type": "code",
   "execution_count": 29,
   "id": "9ee00309",
   "metadata": {},
   "outputs": [],
   "source": [
    "def loss_function(y_true, y_pred):\n",
    "    y_true = tf.reshape(y_true, shape=(-1, MAX_LENGTH - 1))\n",
    "    \n",
    "    loss = tf.keras.losses.SparseCategoricalCrossentropy(\n",
    "            from_logits=True, reduction='none')(y_true, y_pred)\n",
    "    \n",
    "    mask = tf.cast(tf.not_equal(y_true, 0), tf.float32)\n",
    "    loss = tf.multiply(loss, mask)\n",
    "\n",
    "    return tf.reduce_mean(loss)"
   ]
  },
  {
   "cell_type": "markdown",
   "id": "f5bb7eef",
   "metadata": {},
   "source": [
    "- Custom Learning Rate Scheduling"
   ]
  },
  {
   "cell_type": "code",
   "execution_count": 30,
   "id": "ca855c7e",
   "metadata": {},
   "outputs": [],
   "source": [
    "class CustomSchedule(tf.keras.optimizers.schedules.LearningRateSchedule):\n",
    "\n",
    "    def __init__(self, d_model, warmup_steps=4000):\n",
    "        super(CustomSchedule, self).__init__()\n",
    "\n",
    "        self.d_model = d_model\n",
    "        self.d_model = tf.cast(self.d_model, tf.float32)\n",
    "\n",
    "        self.warmup_steps = warmup_steps\n",
    "\n",
    "    def __call__(self, step):\n",
    "        arg1 = tf.math.rsqrt(step)\n",
    "        arg2 = step * (self.warmup_steps**-1.5)\n",
    "\n",
    "        return tf.math.rsqrt(self.d_model) * tf.math.minimum(arg1, arg2)"
   ]
  },
  {
   "cell_type": "markdown",
   "id": "6f67b85b",
   "metadata": {},
   "source": [
    "- compile"
   ]
  },
  {
   "cell_type": "code",
   "execution_count": 31,
   "id": "c58926b1",
   "metadata": {},
   "outputs": [],
   "source": [
    "learning_rate = CustomSchedule(D_MODEL)\n",
    "\n",
    "optimizer = tf.keras.optimizers.Adam(\n",
    "            learning_rate, beta_1=0.9, beta_2=0.98, epsilon=1e-9)\n",
    "\n",
    "def accuracy(y_true, y_pred):\n",
    "    y_true = tf.reshape(y_true, shape=(-1, MAX_LENGTH - 1))\n",
    "    return tf.keras.metrics.sparse_categorical_accuracy(y_true, y_pred)\n",
    "\n",
    "model.compile(optimizer=optimizer, loss=loss_function, metrics=[accuracy])"
   ]
  },
  {
   "cell_type": "markdown",
   "id": "2e6ba18f",
   "metadata": {},
   "source": [
    "### Training"
   ]
  },
  {
   "cell_type": "code",
   "execution_count": 32,
   "id": "9b287d08",
   "metadata": {
    "scrolled": true
   },
   "outputs": [
    {
     "name": "stdout",
     "output_type": "stream",
     "text": [
      "Epoch 1/50\n",
      "181/181 [==============================] - 29s 52ms/step - loss: 3.9148 - accuracy: 0.0639\n",
      "Epoch 2/50\n",
      "181/181 [==============================] - 9s 52ms/step - loss: 3.2077 - accuracy: 0.1322\n",
      "Epoch 3/50\n",
      "181/181 [==============================] - 9s 52ms/step - loss: 2.7301 - accuracy: 0.1402\n",
      "Epoch 4/50\n",
      "181/181 [==============================] - 9s 52ms/step - loss: 2.5354 - accuracy: 0.1487\n",
      "Epoch 5/50\n",
      "181/181 [==============================] - 9s 52ms/step - loss: 2.4065 - accuracy: 0.1562\n",
      "Epoch 6/50\n",
      "181/181 [==============================] - 9s 52ms/step - loss: 2.2847 - accuracy: 0.1623\n",
      "Epoch 7/50\n",
      "181/181 [==============================] - 9s 52ms/step - loss: 2.1464 - accuracy: 0.1725\n",
      "Epoch 8/50\n",
      "181/181 [==============================] - 9s 52ms/step - loss: 1.9883 - accuracy: 0.1858\n",
      "Epoch 9/50\n",
      "181/181 [==============================] - 9s 52ms/step - loss: 1.8162 - accuracy: 0.2030\n",
      "Epoch 10/50\n",
      "181/181 [==============================] - 10s 53ms/step - loss: 1.6271 - accuracy: 0.2237\n",
      "Epoch 11/50\n",
      "181/181 [==============================] - 9s 52ms/step - loss: 1.4351 - accuracy: 0.2467\n",
      "Epoch 12/50\n",
      "181/181 [==============================] - 9s 52ms/step - loss: 1.2471 - accuracy: 0.2702\n",
      "Epoch 13/50\n",
      "181/181 [==============================] - 9s 52ms/step - loss: 1.0674 - accuracy: 0.2931\n",
      "Epoch 14/50\n",
      "181/181 [==============================] - 9s 52ms/step - loss: 0.9026 - accuracy: 0.3144\n",
      "Epoch 15/50\n",
      "181/181 [==============================] - 9s 52ms/step - loss: 0.7547 - accuracy: 0.3348\n",
      "Epoch 16/50\n",
      "181/181 [==============================] - 10s 52ms/step - loss: 0.6294 - accuracy: 0.3520\n",
      "Epoch 17/50\n",
      "181/181 [==============================] - 9s 52ms/step - loss: 0.5289 - accuracy: 0.3666\n",
      "Epoch 18/50\n",
      "181/181 [==============================] - 9s 52ms/step - loss: 0.4450 - accuracy: 0.3805\n",
      "Epoch 19/50\n",
      "181/181 [==============================] - 9s 52ms/step - loss: 0.3780 - accuracy: 0.3917\n",
      "Epoch 20/50\n",
      "181/181 [==============================] - 9s 52ms/step - loss: 0.3258 - accuracy: 0.4003\n",
      "Epoch 21/50\n",
      "181/181 [==============================] - 9s 52ms/step - loss: 0.2917 - accuracy: 0.4069\n",
      "Epoch 22/50\n",
      "181/181 [==============================] - 10s 53ms/step - loss: 0.2618 - accuracy: 0.4116\n",
      "Epoch 23/50\n",
      "181/181 [==============================] - 9s 52ms/step - loss: 0.2416 - accuracy: 0.4158\n",
      "Epoch 24/50\n",
      "181/181 [==============================] - 10s 53ms/step - loss: 0.2054 - accuracy: 0.4244\n",
      "Epoch 25/50\n",
      "181/181 [==============================] - 10s 53ms/step - loss: 0.1802 - accuracy: 0.4304\n",
      "Epoch 26/50\n",
      "181/181 [==============================] - 9s 52ms/step - loss: 0.1577 - accuracy: 0.4364\n",
      "Epoch 27/50\n",
      "181/181 [==============================] - 9s 52ms/step - loss: 0.1412 - accuracy: 0.4396\n",
      "Epoch 28/50\n",
      "181/181 [==============================] - 9s 52ms/step - loss: 0.1260 - accuracy: 0.4440\n",
      "Epoch 29/50\n",
      "181/181 [==============================] - 9s 52ms/step - loss: 0.1107 - accuracy: 0.4478\n",
      "Epoch 30/50\n",
      "181/181 [==============================] - 9s 52ms/step - loss: 0.1032 - accuracy: 0.4490\n",
      "Epoch 31/50\n",
      "181/181 [==============================] - 9s 52ms/step - loss: 0.0919 - accuracy: 0.4524\n",
      "Epoch 32/50\n",
      "181/181 [==============================] - 9s 52ms/step - loss: 0.0868 - accuracy: 0.4534\n",
      "Epoch 33/50\n",
      "181/181 [==============================] - 9s 52ms/step - loss: 0.0806 - accuracy: 0.4556\n",
      "Epoch 34/50\n",
      "181/181 [==============================] - 9s 52ms/step - loss: 0.0754 - accuracy: 0.4570\n",
      "Epoch 35/50\n",
      "181/181 [==============================] - 9s 52ms/step - loss: 0.0692 - accuracy: 0.4588\n",
      "Epoch 36/50\n",
      "181/181 [==============================] - 9s 52ms/step - loss: 0.0655 - accuracy: 0.4596\n",
      "Epoch 37/50\n",
      "181/181 [==============================] - 9s 52ms/step - loss: 0.0613 - accuracy: 0.4608\n",
      "Epoch 38/50\n",
      "181/181 [==============================] - 9s 52ms/step - loss: 0.0546 - accuracy: 0.4623\n",
      "Epoch 39/50\n",
      "181/181 [==============================] - 9s 52ms/step - loss: 0.0550 - accuracy: 0.4623\n",
      "Epoch 40/50\n",
      "181/181 [==============================] - 9s 52ms/step - loss: 0.0521 - accuracy: 0.4629\n",
      "Epoch 41/50\n",
      "181/181 [==============================] - 9s 52ms/step - loss: 0.0484 - accuracy: 0.4639\n",
      "Epoch 42/50\n",
      "181/181 [==============================] - 9s 52ms/step - loss: 0.0453 - accuracy: 0.4648\n",
      "Epoch 43/50\n",
      "181/181 [==============================] - 9s 52ms/step - loss: 0.0431 - accuracy: 0.4657\n",
      "Epoch 44/50\n",
      "181/181 [==============================] - 9s 52ms/step - loss: 0.0415 - accuracy: 0.4661\n",
      "Epoch 45/50\n",
      "181/181 [==============================] - 9s 52ms/step - loss: 0.0386 - accuracy: 0.4665\n",
      "Epoch 46/50\n",
      "181/181 [==============================] - 9s 52ms/step - loss: 0.0359 - accuracy: 0.4674\n",
      "Epoch 47/50\n",
      "181/181 [==============================] - 9s 52ms/step - loss: 0.0367 - accuracy: 0.4672\n",
      "Epoch 48/50\n",
      "181/181 [==============================] - 9s 52ms/step - loss: 0.0350 - accuracy: 0.4677\n",
      "Epoch 49/50\n",
      "181/181 [==============================] - 9s 52ms/step - loss: 0.0318 - accuracy: 0.4684\n",
      "Epoch 50/50\n",
      "181/181 [==============================] - 9s 52ms/step - loss: 0.0322 - accuracy: 0.4682\n"
     ]
    }
   ],
   "source": [
    "EPOCHS = 50\n",
    "history = model.fit(dataset, epochs=EPOCHS, verbose=1)"
   ]
  },
  {
   "cell_type": "code",
   "execution_count": 33,
   "id": "2577488d",
   "metadata": {},
   "outputs": [
    {
     "data": {
      "text/plain": [
       "[<matplotlib.lines.Line2D at 0x7f6ff0307df0>]"
      ]
     },
     "execution_count": 33,
     "metadata": {},
     "output_type": "execute_result"
    },
    {
     "data": {
      "image/png": "[encoded data removed]",
      "text/plain": [
       "<Figure size 432x288 with 2 Axes>"
      ]
     },
     "metadata": {
      "needs_background": "light"
     },
     "output_type": "display_data"
    }
   ],
   "source": [
    "plt.subplot(1, 2, 1)\n",
    "plt.plot(history.history['loss'], label='train loss')\n",
    "plt.subplot(1, 2, 2)\n",
    "plt.plot(history.history['accuracy'], label='train accuracy')"
   ]
  },
  {
   "cell_type": "markdown",
   "id": "7dbb5756",
   "metadata": {},
   "source": [
    "- 총 50 EPOCH 를 학습시킨 그래프입니다.\n",
    "<br>\n",
    "<br>\n",
    "- loss 가 안정적으로 줄어들고 있음을 확인할 수 있습니다.\n",
    "<br>\n",
    "<br>\n",
    "- accuracy 또한 증가하고 있음을 알 수 있습니다."
   ]
  },
  {
   "cell_type": "markdown",
   "id": "51cd3da8",
   "metadata": {},
   "source": [
    "### Evaluate"
   ]
  },
  {
   "cell_type": "code",
   "execution_count": 34,
   "id": "c9d4c35f",
   "metadata": {},
   "outputs": [],
   "source": [
    "def decoder_inference(sentence):\n",
    "    sentence = preprocess_sentence(sentence)\n",
    "    \n",
    "    sentence = tf.expand_dims(\n",
    "                START_TOKEN + tokenizer.encode(sentence) + END_TOKEN, axis=0)\n",
    "    \n",
    "    output_sequence = tf.expand_dims(START_TOKEN, 0)\n",
    "    \n",
    "    # Inference\n",
    "    for i in range(MAX_LENGTH):\n",
    "        predictions = model(inputs=[sentence, output_sequence], training=False)\n",
    "        predictions = predictions[:, -1:, :]\n",
    "        \n",
    "        predicted_id = tf.cast(tf.argmax(predictions, axis=-1), tf.int32)\n",
    "        \n",
    "        if tf.equal(predicted_id, END_TOKEN[0]):\n",
    "            break\n",
    "            \n",
    "        output_sequence = tf.concat([output_sequence, predicted_id], axis=-1)\n",
    "        \n",
    "    return tf.squeeze(output_sequence, axis=0)"
   ]
  },
  {
   "cell_type": "code",
   "execution_count": 35,
   "id": "0975e9a5",
   "metadata": {},
   "outputs": [],
   "source": [
    "def sentence_generation(sentence):\n",
    "    prediction = decoder_inference(sentence)\n",
    "    \n",
    "    predicted_sentence = tokenizer.decode(\n",
    "      [i for i in prediction if i < tokenizer.vocab_size])\n",
    "\n",
    "    print('입력 : {}'.format(sentence))\n",
    "    print('출력 : {}'.format(predicted_sentence))\n",
    "\n",
    "    return predicted_sentence"
   ]
  },
  {
   "cell_type": "code",
   "execution_count": 36,
   "id": "65e2fc09",
   "metadata": {},
   "outputs": [
    {
     "name": "stdout",
     "output_type": "stream",
     "text": [
      "입력 : 안녕?\n",
      "출력 : 안녕하세요 .\n"
     ]
    },
    {
     "data": {
      "text/plain": [
       "'안녕하세요 .'"
      ]
     },
     "execution_count": 36,
     "metadata": {},
     "output_type": "execute_result"
    }
   ],
   "source": [
    "sentence_generation('안녕?')"
   ]
  },
  {
   "cell_type": "code",
   "execution_count": 37,
   "id": "2801167b",
   "metadata": {
    "scrolled": true
   },
   "outputs": [
    {
     "name": "stdout",
     "output_type": "stream",
     "text": [
      "입력 : 안녕\n",
      "출력 : 안녕하세요 .\n"
     ]
    },
    {
     "data": {
      "text/plain": [
       "'안녕하세요 .'"
      ]
     },
     "execution_count": 37,
     "metadata": {},
     "output_type": "execute_result"
    }
   ],
   "source": [
    "sentence_generation('안녕')"
   ]
  },
  {
   "cell_type": "code",
   "execution_count": 38,
   "id": "a0eab7ba",
   "metadata": {},
   "outputs": [
    {
     "name": "stdout",
     "output_type": "stream",
     "text": [
      "입력 : 밥 먹었어?\n",
      "출력 : 저는 배터리가 밥이예요 .\n"
     ]
    },
    {
     "data": {
      "text/plain": [
       "'저는 배터리가 밥이예요 .'"
      ]
     },
     "execution_count": 38,
     "metadata": {},
     "output_type": "execute_result"
    }
   ],
   "source": [
    "sentence_generation('밥 먹었어?')"
   ]
  },
  {
   "cell_type": "code",
   "execution_count": 39,
   "id": "29d6247c",
   "metadata": {},
   "outputs": [
    {
     "name": "stdout",
     "output_type": "stream",
     "text": [
      "입력 : 심심해\n",
      "출력 : 친구들과 연락해보세요 .\n"
     ]
    },
    {
     "data": {
      "text/plain": [
       "'친구들과 연락해보세요 .'"
      ]
     },
     "execution_count": 39,
     "metadata": {},
     "output_type": "execute_result"
    }
   ],
   "source": [
    "sentence_generation('심심해')"
   ]
  },
  {
   "cell_type": "code",
   "execution_count": 40,
   "id": "aae4e658",
   "metadata": {},
   "outputs": [
    {
     "name": "stdout",
     "output_type": "stream",
     "text": [
      "입력 : 뭐해?\n",
      "출력 : 냉장고 파먹기 해보세요 .\n"
     ]
    },
    {
     "data": {
      "text/plain": [
       "'냉장고 파먹기 해보세요 .'"
      ]
     },
     "execution_count": 40,
     "metadata": {},
     "output_type": "execute_result"
    }
   ],
   "source": [
    "sentence_generation('뭐해?')"
   ]
  },
  {
   "cell_type": "code",
   "execution_count": 44,
   "id": "728e981b",
   "metadata": {},
   "outputs": [
    {
     "name": "stdout",
     "output_type": "stream",
     "text": [
      "입력 : 너 이름이 뭐야?\n",
      "출력 : 위로봇이요 .\n"
     ]
    },
    {
     "data": {
      "text/plain": [
       "'위로봇이요 .'"
      ]
     },
     "execution_count": 44,
     "metadata": {},
     "output_type": "execute_result"
    }
   ],
   "source": [
    "sentence_generation('너 이름이 뭐야?')"
   ]
  },
  {
   "cell_type": "code",
   "execution_count": 45,
   "id": "f95524df",
   "metadata": {},
   "outputs": [
    {
     "name": "stdout",
     "output_type": "stream",
     "text": [
      "입력 : 뭐하고 있어?\n",
      "출력 : 저랑 놀아요 .\n"
     ]
    },
    {
     "data": {
      "text/plain": [
       "'저랑 놀아요 .'"
      ]
     },
     "execution_count": 45,
     "metadata": {},
     "output_type": "execute_result"
    }
   ],
   "source": [
    "sentence_generation('뭐하고 있어?')"
   ]
  },
  {
   "cell_type": "code",
   "execution_count": 47,
   "id": "74ce4a3d",
   "metadata": {},
   "outputs": [
    {
     "name": "stdout",
     "output_type": "stream",
     "text": [
      "입력 : 지금 기분이 어때?\n",
      "출력 : 네 연락해보세요 .\n"
     ]
    },
    {
     "data": {
      "text/plain": [
       "'네 연락해보세요 .'"
      ]
     },
     "execution_count": 47,
     "metadata": {},
     "output_type": "execute_result"
    }
   ],
   "source": [
    "sentence_generation('지금 기분이 어때?')"
   ]
  },
  {
   "cell_type": "markdown",
   "id": "a7ea07b6",
   "metadata": {},
   "source": [
    "- 안정적으로 학습된 모델에 다양한 입력값을 넣어 출력을 확인해보았습니다.\n",
    "<br>\n",
    "<br>\n",
    "- 인사말과 같은 기본적인 질문에는 정확한 답변을 얻을 수 있었습니다.\n",
    "<br>\n",
    "<br>\n",
    "- 하지만, '뭐해?' '뭐하고 있어?' '지금 기분이 어때?' 와 같은 현재 상황에 대한 질문에는 정확한 답변을 얻을 수 없었습니다.\n",
    "<br>\n",
    "<br>\n",
    "- 또한, '냉장고 파먹기' 와 같이 모델이 생성해내는 단어에는 일반적이지 않은 조합의 단어들도 확인되었습니다."
   ]
  },
  {
   "cell_type": "markdown",
   "id": "6a728014",
   "metadata": {},
   "source": [
    "# Retrospection"
   ]
  },
  {
   "cell_type": "markdown",
   "id": "08f1e5c1",
   "metadata": {},
   "source": [
    "<h2 style=\"font-style:italic\">2022.02.18 - [E-12]Transformer_Chatbot_Project</h2>\n",
    "\n",
    "> 이번 프로젝트에서는 Attention 을 기반으로 한 Transformer 모델을 활용하여 간단한 챗봇을 구현해보았습니다. 아래에서는 프로젝트를 진행하면서 어려웠던 점이나 알게된 점, 아직도 모호한 점들에 대해서 회고해보도록 하겠습니다.\n",
    "***"
   ]
  },
  {
   "cell_type": "markdown",
   "id": "d2f3be3d",
   "metadata": {},
   "source": [
    "**어려웠던 점**\n",
    "<br>\n",
    "<br>\n",
    "- 프로젝트를 진행하면서 가장 어려웠던 점은 Transformer 모델의 구조와 원리에 관한 이해였습니다. 여타 RNN 이나 LSTM 의 Layer 들과는 다르게, Attention Layer 만으로 문장을 생성해낸다는 점이 직관적으로 이해하기에 쉽지 않았던 것 같습니다.\n",
    "<br>\n",
    "<br>\n",
    "- Attention Layer 만을 활용하여 학습하기 때문에 문장 내 토큰들을 순서대로 입력받지 않고, 한 번에 입력받는 Input 에 대한 개념도 어렵게 느껴졌습니다. 하지만 이후, Positional Encoding 을 통해 위치 정보를 더해주는 작업을 이해하고 나서는 납득이 되었습니다.\n",
    "<br>\n",
    "<br>\n",
    "- 세 개의 Attention Layer 중, Decoder 의 Self-Attention Layer 가 왜 필요한지에 대해 의문을 가지게 되었습니다. 물론, Encoder 의 Self-Attention 이 입력된 문장들의 단어 간 유사도를 측정하여 문맥 정보를 반영하기 위해서 사용되는 것과 같은 맥락으로 Decoder 또한 생성해낸 단어들 간 유사도를 측정하기 위함이라는 것에 대해서는 이해하였습니다. 다만, Decoder 가 생성해낸 문장의 문맥 정보를 파악하기 위해 Attention Layer 를 가지게 되는 것이라면, Encoder-Decoder-Attention Layer 만으로 충분히 자연스러운 문장을 생성해낼 수 있지 않을까라는 생각이 들었습니다."
   ]
  },
  {
   "cell_type": "markdown",
   "id": "cb68c67c",
   "metadata": {},
   "source": [
    "**알게된 점**\n",
    "<br>\n",
    "<br>\n",
    "- RNN 에서 LSTM 으로, Attention 에서 Transformer 로 진화해오던 각각의 과정들을 이해할 수 있게 되었습니다. 장기의존성 문제를 해결하기 위해 LSTM 이 제안되고, LSTM 에서 더 나은 성능을 위해 문맥 정보를 반영할 수 있는 Attention이 추가되었으며 이제 Attention 만을 활용해서도 더 나은 성능의 자연어 처리 모델을 구현해낼 수 있는 Transformer 까지, 전체적인 과정에 대해 알 수 있게 되었습니다.\n",
    "<br>\n",
    "<br>\n",
    "- Encoder 와 Decoder 의 마스킹 기법에 대해 알게 되었습니다. Decoder 에서는 Encoder 와 다르게, 생성해내는 각 토큰들이 이후의 토큰과의 문맥 정보를 반영하여 결정된다면 이는 일종의 '치팅' 으로 학습될 수 있기 때문에 이후 토큰들에 대한 문맥 정보를 마스킹해준다는 것에 대해 이해하였습니다. 따라서, Encoder 에서는 무의미한 정보인 pad 에 대해서만 마스킹하고, Decoder 에서는 Look-Ahead-Masking 을 통해 미래의 토큰들에 대해 마스킹해주는 것입니다.\n",
    "<br>\n",
    "<br>\n",
    "- 추가적으로, Positional Encoding 에서 각 문장 내 단어들의 위치 정보를 부여하는 과정을 보면 sin 및 cosine 함수를 사용하는 모습을 확인할 수 있었습니다. 프로젝트 진행 중 이 부분에 대해서 의문이 있었는데, 논문을 확인해보면 이는 sin 함수 그래프와 cosine 함수 그래프의 주기성을 활용하여 문장의 순서 정보를 함께 학습할 수 있도록 하기 위해서라는 말이 있었습니다. 또한, 주기성을 가지는 그래프라면 sin 혹은 cosine 함수를 사용하지 않아도 가능하고 실제로 다른 주기성을 가지는 그래프를 활용하여 학습시켜본 결과, sin 과 cosine 함수를 사용하였을 때와 유의미한 성능 차이가 발생하지 않았다고 합니다. 따라서, 주기성을 가지는 다른 함수들을 사용하여도 가능하다고 합니다."
   ]
  },
  {
   "cell_type": "markdown",
   "id": "29e3ff78",
   "metadata": {},
   "source": [
    "**모호한 점**\n",
    "<br>\n",
    "<br>\n",
    "- 앞서 언급했었던 Decoder 의 Self-Attention Layer 의 필요성에 대해 아직 의문이 남아있습니다. 이는 Decoder 에서의 Self-Attention Layer 의 역할에 대해 아직 정확하게 이해하지 못하였기 때문에 의문이 풀리지 않은 것이라고 생각합니다. 이에 대한 추가적인 학습이 필요할 것 같습니다.\n",
    "<br>\n",
    "<br>\n",
    "- 각 Attention Layer 에서 Query 와 Key 를 곱한 뒤, Normalize 하고 이를 Softmax 에 넣어 logit 에서 Attention 값으로 변환해주는 과정에 대해서는 이해할 수 있었습니다. 다만, 이러한 값을 왜 Value 값과 곱해주는지에 대해 의문이 남아있습니다. 현재로서는 Softmax 를 통해 도출된 확률값을 문장에 곱해줌으로서, 영향력을 가지는 단어들에 대해서 가중치를 부여하기 위해서라는 생각이 들었습니다. 하지만, 아직 정확하지 않아 Attention Layer 에 대한 추가적인 학습이 필요할 것으로 사료됩니다.\n",
    "<br>\n",
    "<br>\n",
    "- 또한, Attention 을 수행할 때, Multi Head 를 사용하는 이유에 대해서 그 원리가 잘 이해되지 않는 것 같습니다. Multi Head 를 사용할 경우, 문장의 각각 서로 다른 부분에서 각 영향력과 유사도를 확인할 수 있기 때문에 나중에 이를 합쳐주어 더 나은 성능을 기대할 수 있는 것으로 알고 있습니다. 하지만, 문장의 서로 다른 부분에서 다른 관점으로 영향력을 계산하는 과정이 직관적으로 이해될 뿐, 그것이 실제로 가능한 이유에 대해서 궁금증이 해소되지 않았습니다."
   ]
  }
 ],
 "metadata": {
  "kernelspec": {
   "display_name": "Python 3 (ipykernel)",
   "language": "python",
   "name": "python3"
  },
  "language_info": {
   "codemirror_mode": {
    "name": "ipython",
    "version": 3
   },
   "file_extension": ".py",
   "mimetype": "text/x-python",
   "name": "python",
   "nbconvert_exporter": "python",
   "pygments_lexer": "ipython3",
   "version": "3.9.7"
  }
 },
 "nbformat": 4,
 "nbformat_minor": 5
}
