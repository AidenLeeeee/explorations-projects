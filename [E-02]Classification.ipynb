{
 "cells": [
  {
   "cell_type": "markdown",
   "id": "6ded14fa",
   "metadata": {},
   "source": [
    "# 1. Source Code (load_digits)\n",
    "***"
   ]
  },
  {
   "cell_type": "code",
   "execution_count": 2,
   "id": "f8882ea1",
   "metadata": {},
   "outputs": [],
   "source": [
    "from sklearn.datasets import load_digits\n",
    "from sklearn.model_selection import train_test_split\n",
    "from sklearn.metrics import classification_report"
   ]
  },
  {
   "cell_type": "code",
   "execution_count": 10,
   "id": "c887eaa4",
   "metadata": {},
   "outputs": [
    {
     "name": "stdout",
     "output_type": "stream",
     "text": [
      "['DESCR', 'data', 'feature_names', 'frame', 'images', 'target', 'target_names']\n"
     ]
    }
   ],
   "source": [
    "# 데이터 준비\n",
    "digits = load_digits()\n",
    "\n",
    "# 데이터 구성 확인\n",
    "print(dir(digits))"
   ]
  },
  {
   "cell_type": "code",
   "execution_count": 58,
   "id": "92c8dedc",
   "metadata": {
    "scrolled": true
   },
   "outputs": [
    {
     "name": "stdout",
     "output_type": "stream",
     "text": [
      "(1797, 64)\n",
      "[[ 0.  0.  5. 13.  9.  1.  0.  0.]\n",
      " [ 0.  0. 13. 15. 10. 15.  5.  0.]\n",
      " [ 0.  3. 15.  2.  0. 11.  8.  0.]\n",
      " [ 0.  4. 12.  0.  0.  8.  8.  0.]\n",
      " [ 0.  5.  8.  0.  0.  9.  8.  0.]\n",
      " [ 0.  4. 11.  0.  1. 12.  7.  0.]\n",
      " [ 0.  2. 14.  5. 10. 12.  0.  0.]\n",
      " [ 0.  0.  6. 13. 10.  0.  0.  0.]]\n",
      "\n",
      "(1797,)\n",
      "[0 1 2 3 4 5 6 7 8 9 0 1 2 3 4 5 6 7 8 9]\n",
      "\n",
      "[0 1 2 3 4 5 6 7 8 9]\n"
     ]
    }
   ],
   "source": [
    "# x_data 를 digits_data 에 지정\n",
    "digits_data = digits.data\n",
    "\n",
    "# x_data Test\n",
    "print(digits_data.shape)\n",
    "print(digits_data[0].reshape(8, 8))    # 이미지이므로 8 x 8 로 reshape 해주었다.\n",
    "print()\n",
    "\n",
    "# y_data 를 digits_label 에 지정\n",
    "digits_label = digits.target\n",
    "\n",
    "# y_data Test\n",
    "print(digits_label.shape)\n",
    "print(digits_label[:20])\n",
    "print()\n",
    "\n",
    "# Target Names 출력 (0 ~ 9 까지 10 개의 Class)\n",
    "print(digits.target_names)"
   ]
  },
  {
   "cell_type": "code",
   "execution_count": 21,
   "id": "ab368627",
   "metadata": {
    "scrolled": true
   },
   "outputs": [
    {
     "name": "stdout",
     "output_type": "stream",
     "text": [
      ".. _digits_dataset:\n",
      "\n",
      "Optical recognition of handwritten digits dataset\n",
      "--------------------------------------------------\n",
      "\n",
      "**Data Set Characteristics:**\n",
      "\n",
      "    :Number of Instances: 1797\n",
      "    :Number of Attributes: 64\n",
      "    :Attribute Information: 8x8 image of integer pixels in the range 0..16.\n",
      "    :Missing Attribute Values: None\n",
      "    :Creator: E. Alpaydin (alpaydin '@' boun.edu.tr)\n",
      "    :Date: July; 1998\n",
      "\n",
      "This is a copy of the test set of the UCI ML hand-written digits datasets\n",
      "https://archive.ics.uci.edu/ml/datasets/Optical+Recognition+of+Handwritten+Digits\n",
      "\n",
      "The data set contains images of hand-written digits: 10 classes where\n",
      "each class refers to a digit.\n",
      "\n",
      "Preprocessing programs made available by NIST were used to extract\n",
      "normalized bitmaps of handwritten digits from a preprinted form. From a\n",
      "total of 43 people, 30 contributed to the training set and different 13\n",
      "to the test set. 32x32 bitmaps are divided into nonoverlapping blocks of\n",
      "4x4 and the number of on pixels are counted in each block. This generates\n",
      "an input matrix of 8x8 where each element is an integer in the range\n",
      "0..16. This reduces dimensionality and gives invariance to small\n",
      "distortions.\n",
      "\n",
      "For info on NIST preprocessing routines, see M. D. Garris, J. L. Blue, G.\n",
      "T. Candela, D. L. Dimmick, J. Geist, P. J. Grother, S. A. Janet, and C.\n",
      "L. Wilson, NIST Form-Based Handprint Recognition System, NISTIR 5469,\n",
      "1994.\n",
      "\n",
      ".. topic:: References\n",
      "\n",
      "  - C. Kaynak (1995) Methods of Combining Multiple Classifiers and Their\n",
      "    Applications to Handwritten Digit Recognition, MSc Thesis, Institute of\n",
      "    Graduate Studies in Science and Engineering, Bogazici University.\n",
      "  - E. Alpaydin, C. Kaynak (1998) Cascading Classifiers, Kybernetika.\n",
      "  - Ken Tang and Ponnuthurai N. Suganthan and Xi Yao and A. Kai Qin.\n",
      "    Linear dimensionalityreduction using relevance weighted LDA. School of\n",
      "    Electrical and Electronic Engineering Nanyang Technological University.\n",
      "    2005.\n",
      "  - Claudio Gentile. A New Approximate Maximal Margin Classification\n",
      "    Algorithm. NIPS. 2000.\n",
      "\n"
     ]
    }
   ],
   "source": [
    "# data describe\n",
    "print(digits.DESCR)"
   ]
  },
  {
   "cell_type": "code",
   "execution_count": 28,
   "id": "8f753cff",
   "metadata": {},
   "outputs": [
    {
     "name": "stdout",
     "output_type": "stream",
     "text": [
      "X_train 개수: 1437  |  X_test 개수: 360\n",
      "y_train 개수: 1437  |  y_test 개수: 360\n"
     ]
    }
   ],
   "source": [
    "# data split (train, test)\n",
    "X_train, X_test, y_train, y_test = train_test_split(digits_data,\n",
    "                                                    digits_label,\n",
    "                                                    test_size=0.2,\n",
    "                                                    random_state=10)\n",
    "\n",
    "# split data Test\n",
    "print('X_train 개수: {}  |  X_test 개수: {}'.format(len(X_train), len(X_test)))\n",
    "print('y_train 개수: {}  |  y_test 개수: {}'.format(len(y_train), len(y_test)))"
   ]
  },
  {
   "cell_type": "markdown",
   "id": "9d19bf6b",
   "metadata": {},
   "source": [
    "***\n",
    "#### Decision Tree"
   ]
  },
  {
   "cell_type": "code",
   "execution_count": 29,
   "id": "74c27f7c",
   "metadata": {},
   "outputs": [
    {
     "name": "stdout",
     "output_type": "stream",
     "text": [
      "              precision    recall  f1-score   support\n",
      "\n",
      "           0       1.00      0.92      0.96        37\n",
      "           1       0.83      0.88      0.86        34\n",
      "           2       0.85      0.82      0.84        34\n",
      "           3       0.80      0.90      0.85        40\n",
      "           4       0.76      0.76      0.76        34\n",
      "           5       0.91      0.91      0.91        32\n",
      "           6       0.89      0.89      0.89        37\n",
      "           7       0.95      0.90      0.92        40\n",
      "           8       0.77      0.73      0.75        33\n",
      "           9       0.85      0.87      0.86        39\n",
      "\n",
      "    accuracy                           0.86       360\n",
      "   macro avg       0.86      0.86      0.86       360\n",
      "weighted avg       0.86      0.86      0.86       360\n",
      "\n"
     ]
    }
   ],
   "source": [
    "from sklearn.tree import DecisionTreeClassifier\n",
    "# Model 생성\n",
    "decision_tree = DecisionTreeClassifier(random_state=32)\n",
    "\n",
    "# training\n",
    "decision_tree.fit(X_train, y_train)\n",
    "\n",
    "# Prediction\n",
    "y_pred = decision_tree.predict(X_test)\n",
    "\n",
    "# confusion matrix and accuracy\n",
    "print(classification_report(y_test, y_pred))"
   ]
  },
  {
   "cell_type": "markdown",
   "id": "cb550da1",
   "metadata": {},
   "source": [
    "- precision 은 차례대로 [1.00, 0.83, 0.85, 0.80, 0.76, 0.91, 0.89, 0.95, 0.77, 0.85]\n",
    "- recall 은 차례대로 [0.92, 0.88, 0.82, 0.90, 0.76, 0.91, 0.89, 0.90, 0.73, 0.87]\n",
    "- 총 accuracy 는 0.86"
   ]
  },
  {
   "cell_type": "markdown",
   "id": "2825909a",
   "metadata": {},
   "source": [
    "***\n",
    "#### Random Forest"
   ]
  },
  {
   "cell_type": "code",
   "execution_count": 30,
   "id": "4d772c44",
   "metadata": {},
   "outputs": [
    {
     "name": "stdout",
     "output_type": "stream",
     "text": [
      "              precision    recall  f1-score   support\n",
      "\n",
      "           0       1.00      0.97      0.99        37\n",
      "           1       0.97      0.94      0.96        34\n",
      "           2       0.92      1.00      0.96        34\n",
      "           3       0.95      0.97      0.96        40\n",
      "           4       0.94      0.94      0.94        34\n",
      "           5       0.94      0.97      0.95        32\n",
      "           6       1.00      1.00      1.00        37\n",
      "           7       0.93      0.97      0.95        40\n",
      "           8       0.97      0.88      0.92        33\n",
      "           9       0.97      0.92      0.95        39\n",
      "\n",
      "    accuracy                           0.96       360\n",
      "   macro avg       0.96      0.96      0.96       360\n",
      "weighted avg       0.96      0.96      0.96       360\n",
      "\n"
     ]
    }
   ],
   "source": [
    "from sklearn.ensemble import RandomForestClassifier\n",
    "# Model 생성\n",
    "random_forest = RandomForestClassifier(random_state=32)\n",
    "\n",
    "# training\n",
    "random_forest.fit(X_train, y_train)\n",
    "\n",
    "# Prediction\n",
    "y_pred = random_forest.predict(X_test)\n",
    "\n",
    "# confusion matrix and accuracy\n",
    "print(classification_report(y_test, y_pred))"
   ]
  },
  {
   "cell_type": "markdown",
   "id": "cfcfb69e",
   "metadata": {},
   "source": [
    "- precision 은 차례대로 [1.00, 0.97, 0.92, 0.95, 0.94, 0.94, 1.00, 0.93, 0.97, 0.97]\n",
    "- recall 은 차례대로 [0.97, 0.94, 1.00, 0.97, 0.94, 0.97, 1.00, 0.97, 0.88, 0.92]\n",
    "- 총 accuracy 는 0.96"
   ]
  },
  {
   "cell_type": "markdown",
   "id": "69843f63",
   "metadata": {},
   "source": [
    "***\n",
    "#### SVM"
   ]
  },
  {
   "cell_type": "code",
   "execution_count": 31,
   "id": "d6540e93",
   "metadata": {},
   "outputs": [
    {
     "name": "stdout",
     "output_type": "stream",
     "text": [
      "              precision    recall  f1-score   support\n",
      "\n",
      "           0       1.00      1.00      1.00        37\n",
      "           1       0.97      1.00      0.99        34\n",
      "           2       0.97      1.00      0.99        34\n",
      "           3       1.00      0.97      0.99        40\n",
      "           4       1.00      0.94      0.97        34\n",
      "           5       0.97      1.00      0.98        32\n",
      "           6       1.00      1.00      1.00        37\n",
      "           7       1.00      1.00      1.00        40\n",
      "           8       0.91      0.97      0.94        33\n",
      "           9       1.00      0.95      0.97        39\n",
      "\n",
      "    accuracy                           0.98       360\n",
      "   macro avg       0.98      0.98      0.98       360\n",
      "weighted avg       0.98      0.98      0.98       360\n",
      "\n"
     ]
    }
   ],
   "source": [
    "from sklearn import svm\n",
    "# Model 생성\n",
    "svm_model = svm.SVC()\n",
    "\n",
    "# training\n",
    "svm_model.fit(X_train, y_train)\n",
    "\n",
    "# Prediction\n",
    "y_pred = svm_model.predict(X_test)\n",
    "\n",
    "# confusion matrix and accuracy\n",
    "print(classification_report(y_test, y_pred))"
   ]
  },
  {
   "cell_type": "markdown",
   "id": "68a10499",
   "metadata": {},
   "source": [
    "- precision 은 차례대로 [1.00, 0.97, 0.97, 1.00, 1.00, 0.97, 1.00, 1.00, 0.91, 1.00]\n",
    "- recall 은 차례대로 [1.00, 1.00, 1.00, 0.97, 0.94, 1.00, 1.00, 1.00, 0.97, 0.95]\n",
    "- 총 accuracy 는 0.98"
   ]
  },
  {
   "cell_type": "markdown",
   "id": "05cee91d",
   "metadata": {},
   "source": [
    "***\n",
    "#### SGD Classifier"
   ]
  },
  {
   "cell_type": "code",
   "execution_count": 38,
   "id": "efa2a922",
   "metadata": {
    "scrolled": true
   },
   "outputs": [
    {
     "name": "stdout",
     "output_type": "stream",
     "text": [
      "              precision    recall  f1-score   support\n",
      "\n",
      "           0       1.00      0.97      0.99        37\n",
      "           1       0.82      0.91      0.86        34\n",
      "           2       0.97      1.00      0.99        34\n",
      "           3       0.95      0.97      0.96        40\n",
      "           4       0.89      0.91      0.90        34\n",
      "           5       0.96      0.81      0.88        32\n",
      "           6       1.00      0.97      0.99        37\n",
      "           7       0.97      0.97      0.97        40\n",
      "           8       0.81      0.88      0.84        33\n",
      "           9       0.94      0.87      0.91        39\n",
      "\n",
      "    accuracy                           0.93       360\n",
      "   macro avg       0.93      0.93      0.93       360\n",
      "weighted avg       0.93      0.93      0.93       360\n",
      "\n"
     ]
    }
   ],
   "source": [
    "from sklearn.linear_model import SGDClassifier\n",
    "# Model 생성\n",
    "sgd_model = SGDClassifier()\n",
    "\n",
    "# training\n",
    "sgd_model.fit(X_train, y_train)\n",
    "\n",
    "# Prediction\n",
    "y_pred = sgd_model.predict(X_test)\n",
    "\n",
    "# confusion matrix and accuracy\n",
    "print(classification_report(y_test, y_pred))"
   ]
  },
  {
   "cell_type": "markdown",
   "id": "7e54da13",
   "metadata": {},
   "source": [
    "- precision 은 차례대로 [1.00, 0.82, 0.97, 0.95, 0.89, 0.96, 1.00, 0.97, 0.81, 0.94]\n",
    "- recall 은 차례대로 [0.97, 0.91, 1.00, 0.97, 0.91, 0.81, 0.97, 0.97, 0.88, 0.87]\n",
    "- 총 accuracy 는 0.93"
   ]
  },
  {
   "cell_type": "markdown",
   "id": "0d2cf9cd",
   "metadata": {},
   "source": [
    "***\n",
    "#### Logistic Regression"
   ]
  },
  {
   "cell_type": "code",
   "execution_count": 49,
   "id": "d3e48b38",
   "metadata": {
    "scrolled": false
   },
   "outputs": [
    {
     "name": "stdout",
     "output_type": "stream",
     "text": [
      "              precision    recall  f1-score   support\n",
      "\n",
      "           0       1.00      1.00      1.00        37\n",
      "           1       0.91      0.91      0.91        34\n",
      "           2       0.92      1.00      0.96        34\n",
      "           3       0.97      0.95      0.96        40\n",
      "           4       0.94      0.94      0.94        34\n",
      "           5       0.94      0.94      0.94        32\n",
      "           6       0.97      0.97      0.97        37\n",
      "           7       0.97      0.95      0.96        40\n",
      "           8       0.89      0.94      0.91        33\n",
      "           9       1.00      0.92      0.96        39\n",
      "\n",
      "    accuracy                           0.95       360\n",
      "   macro avg       0.95      0.95      0.95       360\n",
      "weighted avg       0.95      0.95      0.95       360\n",
      "\n"
     ]
    }
   ],
   "source": [
    "from sklearn.linear_model import LogisticRegression\n",
    "# Model 생성\n",
    "logistic_model = LogisticRegression(solver='lbfgs', max_iter=3000)\n",
    "\n",
    "# training\n",
    "logistic_model.fit(X_train, y_train)\n",
    "\n",
    "# Prediction\n",
    "y_pred = logistic_model.predict(X_test)\n",
    "\n",
    "# confusion matrix and accuracy\n",
    "print(classification_report(y_test, y_pred))"
   ]
  },
  {
   "cell_type": "markdown",
   "id": "2ec0df54",
   "metadata": {},
   "source": [
    "- precision 은 차례대로 [1.00, 0.91, 0.92, 0.97, 0.94, 0.94, 0.97, 0.97, 0.89, 1.00]\n",
    "- recall 은 차례대로 [1.00, 0.91, 1.00, 0.95, 0.94, 0.94, 0.97, 0.95, 0.94, 0.92]\n",
    "- 총 accuracy 는 0.95"
   ]
  },
  {
   "cell_type": "markdown",
   "id": "03f80662",
   "metadata": {},
   "source": [
    "***\n",
    "#### Model 평가\n",
    "- 5 개의 Model로 0 ~ 9 의 손글씨를 분류해보았습니다.\n",
    "- 그 중 Decision Tree 의 accuracy 가 0.86 으로 가장 낮았고,\n",
    "- SVM 의 accuracy 가 0.98 로 가장 높았습니다.\n",
    "- Random Forest 는 0.96 으로 두 번째로 높은 accuracy 를 보여주었습니다.\n",
    "\n",
    "#### sklearn.metrics\n",
    "- 손글씨 분류기는 0 ~ 9 의 10 가지의 class 로 분류하는 모델입니다.\n",
    "- 따라서, 0 이 아니지만, 0 으로 예측하는 경우(FP),\n",
    "- 실제로 0 이지만, 0 이 아니라고 예측하는 경우(FN) 모두 중요하다고 생각되었습니다.\n",
    "- 저는 위와 같은 이유로 모델 성능 측정 지표로 f1-score 를 선택하였고,\n",
    "- f1-score 평균이 가장 높은 SVM 모델이 가장 성능이 좋았다고 생각합니다.\n",
    "***"
   ]
  },
  {
   "cell_type": "markdown",
   "id": "01694916",
   "metadata": {},
   "source": [
    "# 2. Source Code (load_wine)\n",
    "***"
   ]
  },
  {
   "cell_type": "code",
   "execution_count": 50,
   "id": "877e1138",
   "metadata": {},
   "outputs": [],
   "source": [
    "from sklearn.datasets import load_wine\n",
    "from sklearn.model_selection import train_test_split\n",
    "from sklearn.metrics import classification_report"
   ]
  },
  {
   "cell_type": "code",
   "execution_count": 51,
   "id": "410020e8",
   "metadata": {},
   "outputs": [
    {
     "name": "stdout",
     "output_type": "stream",
     "text": [
      "['DESCR', 'data', 'feature_names', 'frame', 'target', 'target_names']\n"
     ]
    }
   ],
   "source": [
    "# 데이터 준비\n",
    "wines = load_wine()\n",
    "\n",
    "# 데이터 구성 확인\n",
    "print(dir(wines))"
   ]
  },
  {
   "cell_type": "code",
   "execution_count": 64,
   "id": "5d8f5c38",
   "metadata": {},
   "outputs": [
    {
     "name": "stdout",
     "output_type": "stream",
     "text": [
      "(178, 13)\n",
      "[1.423e+01 1.710e+00 2.430e+00 1.560e+01 1.270e+02 2.800e+00 3.060e+00\n",
      " 2.800e-01 2.290e+00 5.640e+00 1.040e+00 3.920e+00 1.065e+03]\n",
      "\n",
      "(178,)\n",
      "0\n",
      "\n",
      "['alcohol', 'malic_acid', 'ash', 'alcalinity_of_ash', 'magnesium', 'total_phenols', 'flavanoids', 'nonflavanoid_phenols', 'proanthocyanins', 'color_intensity', 'hue', 'od280/od315_of_diluted_wines', 'proline']\n",
      "\n",
      "['class_0' 'class_1' 'class_2']\n"
     ]
    }
   ],
   "source": [
    "# x_data 를 wine_data 에 지정\n",
    "wine_data = wines.data\n",
    "print(wine_data.shape)\n",
    "print(wine_data[0])\n",
    "print()\n",
    "\n",
    "# y_data 를 wine_label 에 지정\n",
    "wine_label = wines.target\n",
    "print(wine_label.shape)\n",
    "print(wine_label[0])\n",
    "print()\n",
    "\n",
    "# features 의 종류 확인 (wine 특징 13 features)\n",
    "print(wines.feature_names)\n",
    "print()\n",
    "\n",
    "# label 의 종류 확인 (0, 1, 2 의 3 classes)\n",
    "print(wines.target_names)"
   ]
  },
  {
   "cell_type": "code",
   "execution_count": 65,
   "id": "eb4ac4d0",
   "metadata": {
    "scrolled": true
   },
   "outputs": [
    {
     "name": "stdout",
     "output_type": "stream",
     "text": [
      ".. _wine_dataset:\n",
      "\n",
      "Wine recognition dataset\n",
      "------------------------\n",
      "\n",
      "**Data Set Characteristics:**\n",
      "\n",
      "    :Number of Instances: 178 (50 in each of three classes)\n",
      "    :Number of Attributes: 13 numeric, predictive attributes and the class\n",
      "    :Attribute Information:\n",
      " \t\t- Alcohol\n",
      " \t\t- Malic acid\n",
      " \t\t- Ash\n",
      "\t\t- Alcalinity of ash  \n",
      " \t\t- Magnesium\n",
      "\t\t- Total phenols\n",
      " \t\t- Flavanoids\n",
      " \t\t- Nonflavanoid phenols\n",
      " \t\t- Proanthocyanins\n",
      "\t\t- Color intensity\n",
      " \t\t- Hue\n",
      " \t\t- OD280/OD315 of diluted wines\n",
      " \t\t- Proline\n",
      "\n",
      "    - class:\n",
      "            - class_0\n",
      "            - class_1\n",
      "            - class_2\n",
      "\t\t\n",
      "    :Summary Statistics:\n",
      "    \n",
      "    ============================= ==== ===== ======= =====\n",
      "                                   Min   Max   Mean     SD\n",
      "    ============================= ==== ===== ======= =====\n",
      "    Alcohol:                      11.0  14.8    13.0   0.8\n",
      "    Malic Acid:                   0.74  5.80    2.34  1.12\n",
      "    Ash:                          1.36  3.23    2.36  0.27\n",
      "    Alcalinity of Ash:            10.6  30.0    19.5   3.3\n",
      "    Magnesium:                    70.0 162.0    99.7  14.3\n",
      "    Total Phenols:                0.98  3.88    2.29  0.63\n",
      "    Flavanoids:                   0.34  5.08    2.03  1.00\n",
      "    Nonflavanoid Phenols:         0.13  0.66    0.36  0.12\n",
      "    Proanthocyanins:              0.41  3.58    1.59  0.57\n",
      "    Colour Intensity:              1.3  13.0     5.1   2.3\n",
      "    Hue:                          0.48  1.71    0.96  0.23\n",
      "    OD280/OD315 of diluted wines: 1.27  4.00    2.61  0.71\n",
      "    Proline:                       278  1680     746   315\n",
      "    ============================= ==== ===== ======= =====\n",
      "\n",
      "    :Missing Attribute Values: None\n",
      "    :Class Distribution: class_0 (59), class_1 (71), class_2 (48)\n",
      "    :Creator: R.A. Fisher\n",
      "    :Donor: Michael Marshall (MARSHALL%PLU@io.arc.nasa.gov)\n",
      "    :Date: July, 1988\n",
      "\n",
      "This is a copy of UCI ML Wine recognition datasets.\n",
      "https://archive.ics.uci.edu/ml/machine-learning-databases/wine/wine.data\n",
      "\n",
      "The data is the results of a chemical analysis of wines grown in the same\n",
      "region in Italy by three different cultivators. There are thirteen different\n",
      "measurements taken for different constituents found in the three types of\n",
      "wine.\n",
      "\n",
      "Original Owners: \n",
      "\n",
      "Forina, M. et al, PARVUS - \n",
      "An Extendible Package for Data Exploration, Classification and Correlation. \n",
      "Institute of Pharmaceutical and Food Analysis and Technologies,\n",
      "Via Brigata Salerno, 16147 Genoa, Italy.\n",
      "\n",
      "Citation:\n",
      "\n",
      "Lichman, M. (2013). UCI Machine Learning Repository\n",
      "[https://archive.ics.uci.edu/ml]. Irvine, CA: University of California,\n",
      "School of Information and Computer Science. \n",
      "\n",
      ".. topic:: References\n",
      "\n",
      "  (1) S. Aeberhard, D. Coomans and O. de Vel, \n",
      "  Comparison of Classifiers in High Dimensional Settings, \n",
      "  Tech. Rep. no. 92-02, (1992), Dept. of Computer Science and Dept. of  \n",
      "  Mathematics and Statistics, James Cook University of North Queensland. \n",
      "  (Also submitted to Technometrics). \n",
      "\n",
      "  The data was used with many others for comparing various \n",
      "  classifiers. The classes are separable, though only RDA \n",
      "  has achieved 100% correct classification. \n",
      "  (RDA : 100%, QDA 99.4%, LDA 98.9%, 1NN 96.1% (z-transformed data)) \n",
      "  (All results using the leave-one-out technique) \n",
      "\n",
      "  (2) S. Aeberhard, D. Coomans and O. de Vel, \n",
      "  \"THE CLASSIFICATION PERFORMANCE OF RDA\" \n",
      "  Tech. Rep. no. 92-01, (1992), Dept. of Computer Science and Dept. of \n",
      "  Mathematics and Statistics, James Cook University of North Queensland. \n",
      "  (Also submitted to Journal of Chemometrics).\n",
      "\n"
     ]
    }
   ],
   "source": [
    "# data describe\n",
    "print(wines.DESCR)"
   ]
  },
  {
   "cell_type": "code",
   "execution_count": 66,
   "id": "5e3510b4",
   "metadata": {
    "scrolled": true
   },
   "outputs": [
    {
     "name": "stdout",
     "output_type": "stream",
     "text": [
      "X_train 개수: 142  |  X_test 개수: 36\n",
      "y_train 개수: 142  |  y_test 개수: 36\n"
     ]
    }
   ],
   "source": [
    "# data split (train, test)\n",
    "X_train, X_test, y_train, y_test = train_test_split(wine_data,\n",
    "                                                    wine_label,\n",
    "                                                    test_size=0.2,\n",
    "                                                    random_state=10)\n",
    "\n",
    "# split data Test\n",
    "print('X_train 개수: {}  |  X_test 개수: {}'.format(len(X_train), len(X_test)))\n",
    "print('y_train 개수: {}  |  y_test 개수: {}'.format(len(y_train), len(y_test)))"
   ]
  },
  {
   "cell_type": "markdown",
   "id": "b02ba01e",
   "metadata": {},
   "source": [
    "***\n",
    "#### Decision Tree"
   ]
  },
  {
   "cell_type": "code",
   "execution_count": 67,
   "id": "e7ff8eae",
   "metadata": {},
   "outputs": [
    {
     "name": "stdout",
     "output_type": "stream",
     "text": [
      "              precision    recall  f1-score   support\n",
      "\n",
      "           0       1.00      1.00      1.00        10\n",
      "           1       1.00      0.89      0.94        18\n",
      "           2       0.80      1.00      0.89         8\n",
      "\n",
      "    accuracy                           0.94        36\n",
      "   macro avg       0.93      0.96      0.94        36\n",
      "weighted avg       0.96      0.94      0.95        36\n",
      "\n"
     ]
    }
   ],
   "source": [
    "from sklearn.tree import DecisionTreeClassifier\n",
    "# Model 생성\n",
    "decision_tree = DecisionTreeClassifier(random_state=32)\n",
    "\n",
    "# training\n",
    "decision_tree.fit(X_train, y_train)\n",
    "\n",
    "# Prediction\n",
    "y_pred = decision_tree.predict(X_test)\n",
    "\n",
    "# confusion matrix and accuracy\n",
    "print(classification_report(y_test, y_pred))"
   ]
  },
  {
   "cell_type": "markdown",
   "id": "a0c6e318",
   "metadata": {},
   "source": [
    "- precision 은 차례대로 [1.00, 1.00, 0.80]\n",
    "- recall 은 차례대로 [1.00, 0.89, 1.00]\n",
    "- 총 accuracy 는 0.94"
   ]
  },
  {
   "cell_type": "markdown",
   "id": "f907f7de",
   "metadata": {},
   "source": [
    "***\n",
    "#### Random Forest"
   ]
  },
  {
   "cell_type": "code",
   "execution_count": 68,
   "id": "49c36719",
   "metadata": {},
   "outputs": [
    {
     "name": "stdout",
     "output_type": "stream",
     "text": [
      "              precision    recall  f1-score   support\n",
      "\n",
      "           0       1.00      1.00      1.00        10\n",
      "           1       1.00      0.89      0.94        18\n",
      "           2       0.80      1.00      0.89         8\n",
      "\n",
      "    accuracy                           0.94        36\n",
      "   macro avg       0.93      0.96      0.94        36\n",
      "weighted avg       0.96      0.94      0.95        36\n",
      "\n"
     ]
    }
   ],
   "source": [
    "from sklearn.ensemble import RandomForestClassifier\n",
    "# Model 생성\n",
    "random_forest = RandomForestClassifier(random_state=32)\n",
    "\n",
    "# training\n",
    "random_forest.fit(X_train, y_train)\n",
    "\n",
    "# Prediction\n",
    "y_pred = random_forest.predict(X_test)\n",
    "\n",
    "# confusion matrix and accuracy\n",
    "print(classification_report(y_test, y_pred))"
   ]
  },
  {
   "cell_type": "markdown",
   "id": "7fdbb2a1",
   "metadata": {},
   "source": [
    "- precision 은 차례대로 [1.00, 1.00, 0.80]\n",
    "- recall 은 차례대로 [1.00, 0.89, 1.00]\n",
    "- 총 accuracy 는 0.94"
   ]
  },
  {
   "cell_type": "markdown",
   "id": "a43bec10",
   "metadata": {},
   "source": [
    "***\n",
    "#### SVM"
   ]
  },
  {
   "cell_type": "code",
   "execution_count": 76,
   "id": "d11aed54",
   "metadata": {},
   "outputs": [
    {
     "name": "stdout",
     "output_type": "stream",
     "text": [
      "              precision    recall  f1-score   support\n",
      "\n",
      "           0       0.88      0.70      0.78        10\n",
      "           1       0.81      0.72      0.76        18\n",
      "           2       0.42      0.62      0.50         8\n",
      "\n",
      "    accuracy                           0.69        36\n",
      "   macro avg       0.70      0.68      0.68        36\n",
      "weighted avg       0.74      0.69      0.71        36\n",
      "\n"
     ]
    }
   ],
   "source": [
    "from sklearn import svm\n",
    "# Model 생성\n",
    "svm_model = svm.SVC()\n",
    "\n",
    "# training\n",
    "svm_model.fit(X_train, y_train)\n",
    "\n",
    "# Prediction\n",
    "y_pred = svm_model.predict(X_test)\n",
    "\n",
    "# confusion matrix and accuracy\n",
    "print(classification_report(y_test, y_pred))"
   ]
  },
  {
   "cell_type": "markdown",
   "id": "81be6ad9",
   "metadata": {},
   "source": [
    "- precision 은 차례대로 [0.88, 0.81, 0.42]\n",
    "- recall 은 차례대로 [0.70, 0.72, 0.62]\n",
    "- 총 accuracy 는 0.69"
   ]
  },
  {
   "cell_type": "markdown",
   "id": "269d4616",
   "metadata": {},
   "source": [
    "***\n",
    "#### SGD Classifier"
   ]
  },
  {
   "cell_type": "code",
   "execution_count": 82,
   "id": "06ec82bf",
   "metadata": {
    "scrolled": false
   },
   "outputs": [
    {
     "name": "stdout",
     "output_type": "stream",
     "text": [
      "              precision    recall  f1-score   support\n",
      "\n",
      "           0       0.50      0.90      0.64        10\n",
      "           1       0.85      0.61      0.71        18\n",
      "           2       0.40      0.25      0.31         8\n",
      "\n",
      "    accuracy                           0.61        36\n",
      "   macro avg       0.58      0.59      0.55        36\n",
      "weighted avg       0.65      0.61      0.60        36\n",
      "\n"
     ]
    }
   ],
   "source": [
    "from sklearn.linear_model import SGDClassifier\n",
    "# Model 생성\n",
    "sgd_model = SGDClassifier()\n",
    "\n",
    "# training\n",
    "sgd_model.fit(X_train, y_train)\n",
    "\n",
    "# Prediction\n",
    "y_pred = sgd_model.predict(X_test)\n",
    "\n",
    "# confusion matrix and accuracy\n",
    "print(classification_report(y_test, y_pred))"
   ]
  },
  {
   "cell_type": "markdown",
   "id": "75a96a8e",
   "metadata": {},
   "source": [
    "- precision 은 차례대로 [0.50, 0.85, 0.40]\n",
    "- recall 은 차례대로 [0.90, 0.61, 0.25]\n",
    "- 총 accuracy 는 0.61"
   ]
  },
  {
   "cell_type": "markdown",
   "id": "252a3a97",
   "metadata": {},
   "source": [
    "***\n",
    "#### Logistic Regression"
   ]
  },
  {
   "cell_type": "code",
   "execution_count": 84,
   "id": "b7169076",
   "metadata": {
    "scrolled": false
   },
   "outputs": [
    {
     "name": "stdout",
     "output_type": "stream",
     "text": [
      "              precision    recall  f1-score   support\n",
      "\n",
      "           0       1.00      1.00      1.00        10\n",
      "           1       1.00      0.89      0.94        18\n",
      "           2       0.80      1.00      0.89         8\n",
      "\n",
      "    accuracy                           0.94        36\n",
      "   macro avg       0.93      0.96      0.94        36\n",
      "weighted avg       0.96      0.94      0.95        36\n",
      "\n"
     ]
    }
   ],
   "source": [
    "from sklearn.linear_model import LogisticRegression\n",
    "# Model 생성\n",
    "logistic_model = LogisticRegression(solver='lbfgs', max_iter=3000)\n",
    "\n",
    "# training\n",
    "logistic_model.fit(X_train, y_train)\n",
    "\n",
    "# Prediction\n",
    "y_pred = logistic_model.predict(X_test)\n",
    "\n",
    "# confusion matrix and accuracy\n",
    "print(classification_report(y_test, y_pred))"
   ]
  },
  {
   "cell_type": "markdown",
   "id": "ae6414cb",
   "metadata": {},
   "source": [
    "- precision 은 차례대로 [1.00, 1.00, 0.80]\n",
    "- recall 은 차례대로 [1.00, 0.89, 1.00]\n",
    "- 총 accuracy 는 0.94"
   ]
  },
  {
   "cell_type": "markdown",
   "id": "528458d1",
   "metadata": {},
   "source": [
    "***\n",
    "#### Model 평가\n",
    "- 5 개의 Model로 0 ~ 2 의 3 가지 와인 클래스를 분류하는 모델을 작성해보았습니다.\n",
    "- SGD Classifier 가 accuracy 0.61 로 가장 정확도가 낮았고,\n",
    "- 그 중, 손글씨 분류에서 가장 좋은 성능을 보여주었던 SVM 모델의 accuracy 가 0.69 로 현저히 낮아졌습니다.\n",
    "- SVM 모델이 데이터를 고차원으로 변환하는 과정에서 적은 수의 클래스가 오히려 역효과를 낸 것으로 보입니다.\n",
    "- 반면, Decision Tree, Random Forest, Logistic Regression 의 accuracy 는 0.94 로 준수한 성능이었습니다.\n",
    "\n",
    "#### sklearn.metrics\n",
    "- 와인 분류 또한, 손글씨 분류와 마찬가지로 오차행렬에서의 구분과는 무관하게 전체적인 성능이 중요하다고 생각합니다.\n",
    "- 따라서, 준수한 성능을 보여준 Decision Tree, Random Forest, Logistic Regression 모두 각각의 수치가 같으므로\n",
    "- SVM, SGD Classifier 를 제외한 나머지 3 개의 모델이 성능이 좋았다고 생각합니다.\n",
    "***"
   ]
  },
  {
   "cell_type": "markdown",
   "id": "c5587ac0",
   "metadata": {},
   "source": [
    "# 3. Source Code (load_breast_cancer)\n",
    "***"
   ]
  },
  {
   "cell_type": "code",
   "execution_count": 85,
   "id": "df5bbb1e",
   "metadata": {},
   "outputs": [],
   "source": [
    "from sklearn.datasets import load_breast_cancer\n",
    "from sklearn.model_selection import train_test_split\n",
    "from sklearn.metrics import classification_report"
   ]
  },
  {
   "cell_type": "code",
   "execution_count": 86,
   "id": "97b3d063",
   "metadata": {},
   "outputs": [
    {
     "name": "stdout",
     "output_type": "stream",
     "text": [
      "['DESCR', 'data', 'data_module', 'feature_names', 'filename', 'frame', 'target', 'target_names']\n"
     ]
    }
   ],
   "source": [
    "# 데이터 준비\n",
    "breast_cancer = load_breast_cancer()\n",
    "\n",
    "# 데이터 구성 확인\n",
    "print(dir(breast_cancer))"
   ]
  },
  {
   "cell_type": "code",
   "execution_count": 88,
   "id": "3b2a9e3c",
   "metadata": {
    "scrolled": false
   },
   "outputs": [
    {
     "name": "stdout",
     "output_type": "stream",
     "text": [
      "(569, 30)\n",
      "[1.799e+01 1.038e+01 1.228e+02 1.001e+03 1.184e-01 2.776e-01 3.001e-01\n",
      " 1.471e-01 2.419e-01 7.871e-02 1.095e+00 9.053e-01 8.589e+00 1.534e+02\n",
      " 6.399e-03 4.904e-02 5.373e-02 1.587e-02 3.003e-02 6.193e-03 2.538e+01\n",
      " 1.733e+01 1.846e+02 2.019e+03 1.622e-01 6.656e-01 7.119e-01 2.654e-01\n",
      " 4.601e-01 1.189e-01]\n",
      "\n",
      "(569,)\n",
      "0\n",
      "\n",
      "['mean radius' 'mean texture' 'mean perimeter' 'mean area'\n",
      " 'mean smoothness' 'mean compactness' 'mean concavity'\n",
      " 'mean concave points' 'mean symmetry' 'mean fractal dimension'\n",
      " 'radius error' 'texture error' 'perimeter error' 'area error'\n",
      " 'smoothness error' 'compactness error' 'concavity error'\n",
      " 'concave points error' 'symmetry error' 'fractal dimension error'\n",
      " 'worst radius' 'worst texture' 'worst perimeter' 'worst area'\n",
      " 'worst smoothness' 'worst compactness' 'worst concavity'\n",
      " 'worst concave points' 'worst symmetry' 'worst fractal dimension']\n",
      "\n",
      "['malignant' 'benign']\n"
     ]
    }
   ],
   "source": [
    "# x_data 를 breast_cancer_data 에 지정\n",
    "breast_cancer_data = breast_cancer.data\n",
    "print(breast_cancer_data.shape)\n",
    "print(breast_cancer_data[0])\n",
    "print()\n",
    "\n",
    "# y_data 를 breast_cancer_label 에 지정\n",
    "breast_cancer_label = breast_cancer.target\n",
    "print(breast_cancer_label.shape)\n",
    "print(breast_cancer_label[0])\n",
    "print()\n",
    "\n",
    "# features 의 종류 확인 (breast_cancer 특징 30 개의 features)\n",
    "print(breast_cancer.feature_names)\n",
    "print()\n",
    "\n",
    "# label 의 종류 확인 (0, 1 의 2 classes)\n",
    "print(breast_cancer.target_names)"
   ]
  },
  {
   "cell_type": "code",
   "execution_count": 89,
   "id": "4b381cd9",
   "metadata": {
    "scrolled": true
   },
   "outputs": [
    {
     "name": "stdout",
     "output_type": "stream",
     "text": [
      ".. _breast_cancer_dataset:\n",
      "\n",
      "Breast cancer wisconsin (diagnostic) dataset\n",
      "--------------------------------------------\n",
      "\n",
      "**Data Set Characteristics:**\n",
      "\n",
      "    :Number of Instances: 569\n",
      "\n",
      "    :Number of Attributes: 30 numeric, predictive attributes and the class\n",
      "\n",
      "    :Attribute Information:\n",
      "        - radius (mean of distances from center to points on the perimeter)\n",
      "        - texture (standard deviation of gray-scale values)\n",
      "        - perimeter\n",
      "        - area\n",
      "        - smoothness (local variation in radius lengths)\n",
      "        - compactness (perimeter^2 / area - 1.0)\n",
      "        - concavity (severity of concave portions of the contour)\n",
      "        - concave points (number of concave portions of the contour)\n",
      "        - symmetry\n",
      "        - fractal dimension (\"coastline approximation\" - 1)\n",
      "\n",
      "        The mean, standard error, and \"worst\" or largest (mean of the three\n",
      "        worst/largest values) of these features were computed for each image,\n",
      "        resulting in 30 features.  For instance, field 0 is Mean Radius, field\n",
      "        10 is Radius SE, field 20 is Worst Radius.\n",
      "\n",
      "        - class:\n",
      "                - WDBC-Malignant\n",
      "                - WDBC-Benign\n",
      "\n",
      "    :Summary Statistics:\n",
      "\n",
      "    ===================================== ====== ======\n",
      "                                           Min    Max\n",
      "    ===================================== ====== ======\n",
      "    radius (mean):                        6.981  28.11\n",
      "    texture (mean):                       9.71   39.28\n",
      "    perimeter (mean):                     43.79  188.5\n",
      "    area (mean):                          143.5  2501.0\n",
      "    smoothness (mean):                    0.053  0.163\n",
      "    compactness (mean):                   0.019  0.345\n",
      "    concavity (mean):                     0.0    0.427\n",
      "    concave points (mean):                0.0    0.201\n",
      "    symmetry (mean):                      0.106  0.304\n",
      "    fractal dimension (mean):             0.05   0.097\n",
      "    radius (standard error):              0.112  2.873\n",
      "    texture (standard error):             0.36   4.885\n",
      "    perimeter (standard error):           0.757  21.98\n",
      "    area (standard error):                6.802  542.2\n",
      "    smoothness (standard error):          0.002  0.031\n",
      "    compactness (standard error):         0.002  0.135\n",
      "    concavity (standard error):           0.0    0.396\n",
      "    concave points (standard error):      0.0    0.053\n",
      "    symmetry (standard error):            0.008  0.079\n",
      "    fractal dimension (standard error):   0.001  0.03\n",
      "    radius (worst):                       7.93   36.04\n",
      "    texture (worst):                      12.02  49.54\n",
      "    perimeter (worst):                    50.41  251.2\n",
      "    area (worst):                         185.2  4254.0\n",
      "    smoothness (worst):                   0.071  0.223\n",
      "    compactness (worst):                  0.027  1.058\n",
      "    concavity (worst):                    0.0    1.252\n",
      "    concave points (worst):               0.0    0.291\n",
      "    symmetry (worst):                     0.156  0.664\n",
      "    fractal dimension (worst):            0.055  0.208\n",
      "    ===================================== ====== ======\n",
      "\n",
      "    :Missing Attribute Values: None\n",
      "\n",
      "    :Class Distribution: 212 - Malignant, 357 - Benign\n",
      "\n",
      "    :Creator:  Dr. William H. Wolberg, W. Nick Street, Olvi L. Mangasarian\n",
      "\n",
      "    :Donor: Nick Street\n",
      "\n",
      "    :Date: November, 1995\n",
      "\n",
      "This is a copy of UCI ML Breast Cancer Wisconsin (Diagnostic) datasets.\n",
      "https://goo.gl/U2Uwz2\n",
      "\n",
      "Features are computed from a digitized image of a fine needle\n",
      "aspirate (FNA) of a breast mass.  They describe\n",
      "characteristics of the cell nuclei present in the image.\n",
      "\n",
      "Separating plane described above was obtained using\n",
      "Multisurface Method-Tree (MSM-T) [K. P. Bennett, \"Decision Tree\n",
      "Construction Via Linear Programming.\" Proceedings of the 4th\n",
      "Midwest Artificial Intelligence and Cognitive Science Society,\n",
      "pp. 97-101, 1992], a classification method which uses linear\n",
      "programming to construct a decision tree.  Relevant features\n",
      "were selected using an exhaustive search in the space of 1-4\n",
      "features and 1-3 separating planes.\n",
      "\n",
      "The actual linear program used to obtain the separating plane\n",
      "in the 3-dimensional space is that described in:\n",
      "[K. P. Bennett and O. L. Mangasarian: \"Robust Linear\n",
      "Programming Discrimination of Two Linearly Inseparable Sets\",\n",
      "Optimization Methods and Software 1, 1992, 23-34].\n",
      "\n",
      "This database is also available through the UW CS ftp server:\n",
      "\n",
      "ftp ftp.cs.wisc.edu\n",
      "cd math-prog/cpo-dataset/machine-learn/WDBC/\n",
      "\n",
      ".. topic:: References\n",
      "\n",
      "   - W.N. Street, W.H. Wolberg and O.L. Mangasarian. Nuclear feature extraction \n",
      "     for breast tumor diagnosis. IS&T/SPIE 1993 International Symposium on \n",
      "     Electronic Imaging: Science and Technology, volume 1905, pages 861-870,\n",
      "     San Jose, CA, 1993.\n",
      "   - O.L. Mangasarian, W.N. Street and W.H. Wolberg. Breast cancer diagnosis and \n",
      "     prognosis via linear programming. Operations Research, 43(4), pages 570-577, \n",
      "     July-August 1995.\n",
      "   - W.H. Wolberg, W.N. Street, and O.L. Mangasarian. Machine learning techniques\n",
      "     to diagnose breast cancer from fine-needle aspirates. Cancer Letters 77 (1994) \n",
      "     163-171.\n"
     ]
    }
   ],
   "source": [
    "# data describe\n",
    "print(breast_cancer.DESCR)"
   ]
  },
  {
   "cell_type": "code",
   "execution_count": 90,
   "id": "b9d799e4",
   "metadata": {},
   "outputs": [
    {
     "name": "stdout",
     "output_type": "stream",
     "text": [
      "X_train 개수: 455  |  X_test 개수: 114\n",
      "y_train 개수: 455  |  y_test 개수: 114\n"
     ]
    }
   ],
   "source": [
    "# data split (train, test)\n",
    "X_train, X_test, y_train, y_test = train_test_split(breast_cancer_data,\n",
    "                                                    breast_cancer_label,\n",
    "                                                    test_size=0.2,\n",
    "                                                    random_state=10)\n",
    "\n",
    "# split data Test\n",
    "print('X_train 개수: {}  |  X_test 개수: {}'.format(len(X_train), len(X_test)))\n",
    "print('y_train 개수: {}  |  y_test 개수: {}'.format(len(y_train), len(y_test)))"
   ]
  },
  {
   "cell_type": "markdown",
   "id": "e34a9f8c",
   "metadata": {},
   "source": [
    "***\n",
    "#### Decision Tree"
   ]
  },
  {
   "cell_type": "code",
   "execution_count": 92,
   "id": "b0df6098",
   "metadata": {},
   "outputs": [
    {
     "name": "stdout",
     "output_type": "stream",
     "text": [
      "              precision    recall  f1-score   support\n",
      "\n",
      "           0       0.82      0.95      0.88        39\n",
      "           1       0.97      0.89      0.93        75\n",
      "\n",
      "    accuracy                           0.91       114\n",
      "   macro avg       0.90      0.92      0.91       114\n",
      "weighted avg       0.92      0.91      0.91       114\n",
      "\n"
     ]
    }
   ],
   "source": [
    "from sklearn.tree import DecisionTreeClassifier\n",
    "# Model 생성\n",
    "decision_tree = DecisionTreeClassifier(random_state=32)\n",
    "\n",
    "# training\n",
    "decision_tree.fit(X_train, y_train)\n",
    "\n",
    "# Prediction\n",
    "y_pred = decision_tree.predict(X_test)\n",
    "\n",
    "# confusion matrix and accuracy\n",
    "print(classification_report(y_test, y_pred))"
   ]
  },
  {
   "cell_type": "markdown",
   "id": "976eaa40",
   "metadata": {},
   "source": [
    "- precision 은 차례대로 [0.82, 0.97]\n",
    "- recall 은 차례대로 [0.95, 0.89]\n",
    "- 총 accuracy 는 0.91"
   ]
  },
  {
   "cell_type": "markdown",
   "id": "95545d81",
   "metadata": {},
   "source": [
    "***\n",
    "#### Random Forest"
   ]
  },
  {
   "cell_type": "code",
   "execution_count": 93,
   "id": "bf510308",
   "metadata": {},
   "outputs": [
    {
     "name": "stdout",
     "output_type": "stream",
     "text": [
      "              precision    recall  f1-score   support\n",
      "\n",
      "           0       0.95      1.00      0.97        39\n",
      "           1       1.00      0.97      0.99        75\n",
      "\n",
      "    accuracy                           0.98       114\n",
      "   macro avg       0.98      0.99      0.98       114\n",
      "weighted avg       0.98      0.98      0.98       114\n",
      "\n"
     ]
    }
   ],
   "source": [
    "from sklearn.ensemble import RandomForestClassifier\n",
    "# Model 생성\n",
    "random_forest = RandomForestClassifier(random_state=32)\n",
    "\n",
    "# training\n",
    "random_forest.fit(X_train, y_train)\n",
    "\n",
    "# Prediction\n",
    "y_pred = random_forest.predict(X_test)\n",
    "\n",
    "# confusion matrix and accuracy\n",
    "print(classification_report(y_test, y_pred))"
   ]
  },
  {
   "cell_type": "markdown",
   "id": "4682dc4e",
   "metadata": {},
   "source": [
    "- precision 은 차례대로 [0.95, 1.00]\n",
    "- recall 은 차례대로 [1.00, 0.97]\n",
    "- 총 accuracy 는 0.98"
   ]
  },
  {
   "cell_type": "markdown",
   "id": "716e017a",
   "metadata": {},
   "source": [
    "***\n",
    "#### SVM"
   ]
  },
  {
   "cell_type": "code",
   "execution_count": 94,
   "id": "b70715ea",
   "metadata": {},
   "outputs": [
    {
     "name": "stdout",
     "output_type": "stream",
     "text": [
      "              precision    recall  f1-score   support\n",
      "\n",
      "           0       0.94      0.82      0.88        39\n",
      "           1       0.91      0.97      0.94        75\n",
      "\n",
      "    accuracy                           0.92       114\n",
      "   macro avg       0.93      0.90      0.91       114\n",
      "weighted avg       0.92      0.92      0.92       114\n",
      "\n"
     ]
    }
   ],
   "source": [
    "from sklearn import svm\n",
    "# Model 생성\n",
    "svm_model = svm.SVC()\n",
    "\n",
    "# training\n",
    "svm_model.fit(X_train, y_train)\n",
    "\n",
    "# Prediction\n",
    "y_pred = svm_model.predict(X_test)\n",
    "\n",
    "# confusion matrix and accuracy\n",
    "print(classification_report(y_test, y_pred))"
   ]
  },
  {
   "cell_type": "markdown",
   "id": "231e3cc5",
   "metadata": {},
   "source": [
    "- precision 은 차례대로 [0.94, 0.91]\n",
    "- recall 은 차례대로 [0.82, 0.97]\n",
    "- 총 accuracy 는 0.92"
   ]
  },
  {
   "cell_type": "markdown",
   "id": "dbf11ba6",
   "metadata": {},
   "source": [
    "***\n",
    "#### SGD Classifier"
   ]
  },
  {
   "cell_type": "code",
   "execution_count": 95,
   "id": "f1a303e8",
   "metadata": {},
   "outputs": [
    {
     "name": "stdout",
     "output_type": "stream",
     "text": [
      "              precision    recall  f1-score   support\n",
      "\n",
      "           0       0.94      0.77      0.85        39\n",
      "           1       0.89      0.97      0.93        75\n",
      "\n",
      "    accuracy                           0.90       114\n",
      "   macro avg       0.91      0.87      0.89       114\n",
      "weighted avg       0.91      0.90      0.90       114\n",
      "\n"
     ]
    }
   ],
   "source": [
    "from sklearn.linear_model import SGDClassifier\n",
    "# Model 생성\n",
    "sgd_model = SGDClassifier()\n",
    "\n",
    "# training\n",
    "sgd_model.fit(X_train, y_train)\n",
    "\n",
    "# Prediction\n",
    "y_pred = sgd_model.predict(X_test)\n",
    "\n",
    "# confusion matrix and accuracy\n",
    "print(classification_report(y_test, y_pred))"
   ]
  },
  {
   "cell_type": "markdown",
   "id": "d3bc32fb",
   "metadata": {},
   "source": [
    "- precision 은 차례대로 [0.94, 0.89]\n",
    "- recall 은 차례대로 [0.77, 0.97]\n",
    "- 총 accuracy 는 0.90"
   ]
  },
  {
   "cell_type": "markdown",
   "id": "4d5f04cd",
   "metadata": {},
   "source": [
    "***\n",
    "#### Logistic Regression"
   ]
  },
  {
   "cell_type": "code",
   "execution_count": 96,
   "id": "37e00667",
   "metadata": {},
   "outputs": [
    {
     "name": "stdout",
     "output_type": "stream",
     "text": [
      "              precision    recall  f1-score   support\n",
      "\n",
      "           0       0.90      0.97      0.94        39\n",
      "           1       0.99      0.95      0.97        75\n",
      "\n",
      "    accuracy                           0.96       114\n",
      "   macro avg       0.95      0.96      0.95       114\n",
      "weighted avg       0.96      0.96      0.96       114\n",
      "\n"
     ]
    }
   ],
   "source": [
    "from sklearn.linear_model import LogisticRegression\n",
    "# Model 생성\n",
    "logistic_model = LogisticRegression(solver='lbfgs', max_iter=3000)\n",
    "\n",
    "# training\n",
    "logistic_model.fit(X_train, y_train)\n",
    "\n",
    "# Prediction\n",
    "y_pred = logistic_model.predict(X_test)\n",
    "\n",
    "# confusion matrix and accuracy\n",
    "print(classification_report(y_test, y_pred))"
   ]
  },
  {
   "cell_type": "markdown",
   "id": "61f3693f",
   "metadata": {},
   "source": [
    "- precision 은 차례대로 [0.90, 0.99]\n",
    "- recall 은 차례대로 [0.97, 0.95]\n",
    "- 총 accuracy 는 0.96"
   ]
  },
  {
   "cell_type": "markdown",
   "id": "e49c715b",
   "metadata": {},
   "source": [
    "***\n",
    "#### Model 평가\n",
    "- 5 개의 Model로 0, 1의 2 클래스의 유방암 여부를 예측해보았습니다.\n",
    "- 그 중, Random Forest 의 accuracy 가 0.98 로 가장 높게 측정되었습니다.\n",
    "- 두 번째로는 Logistic Regression 이 accuracy 0.96 으로 높았습니다.\n",
    "- SGD Classifier 는 0.90 의 accuracy 로 가장 성능이 낮게 측정되었습니다.\n",
    "\n",
    "#### sklearn.metrics\n",
    "- 유방암 여부를 예측하는 모델에서는 양성(positive)환자를 음성(negative)으로 측정하여서는 안됩니다.\n",
    "- 따라서, FN(False Negative)를 최소화하여야 합니다.\n",
    "- 이는 Precision 수치보다는 Recall 의 수치가 더 중요함을 의미합니다.\n",
    "- Random Forest 는 Recall 수치와 accuracy 가 모두 0.98 로 아주 높게 측정되었으므로,\n",
    "- Random Forest 모델이 유방암 여부 예측 모델로서 가장 적합하다고 사료됩니다.\n",
    "***"
   ]
  }
 ],
 "metadata": {
  "kernelspec": {
   "display_name": "Python 3 (ipykernel)",
   "language": "python",
   "name": "python3"
  },
  "language_info": {
   "codemirror_mode": {
    "name": "ipython",
    "version": 3
   },
   "file_extension": ".py",
   "mimetype": "text/x-python",
   "name": "python",
   "nbconvert_exporter": "python",
   "pygments_lexer": "ipython3",
   "version": "3.9.7"
  }
 },
 "nbformat": 4,
 "nbformat_minor": 5
}
