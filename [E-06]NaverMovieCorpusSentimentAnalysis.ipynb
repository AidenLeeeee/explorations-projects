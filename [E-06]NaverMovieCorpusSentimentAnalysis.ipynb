{
 "cells": [
  {
   "cell_type": "markdown",
   "id": "07b34998",
   "metadata": {},
   "source": [
    "# 1.1) Source Code"
   ]
  },
  {
   "cell_type": "code",
   "execution_count": 1,
   "id": "b95bd41d",
   "metadata": {},
   "outputs": [],
   "source": [
    "import numpy as np\n",
    "import tensorflow as tf\n",
    "import os\n",
    "import pandas as pd\n",
    "from konlpy.tag import Mecab\n",
    "import numpy as np\n",
    "from collections import Counter\n",
    "import matplotlib.pyplot as plt\n",
    "from gensim.models.keyedvectors import Word2VecKeyedVectors\n",
    "from gensim.models import Word2Vec\n",
    "from tensorflow.keras.initializers import Constant"
   ]
  },
  {
   "cell_type": "markdown",
   "id": "da999233",
   "metadata": {},
   "source": [
    "### 데이터 준비"
   ]
  },
  {
   "cell_type": "code",
   "execution_count": 2,
   "id": "85e62eab",
   "metadata": {},
   "outputs": [],
   "source": [
    "train_data = pd.read_table('~/aiffel/sentiment_classification/data/ratings_train.txt')\n",
    "test_data = pd.read_table('~/aiffel/sentiment_classification/data/ratings_test.txt')"
   ]
  },
  {
   "cell_type": "markdown",
   "id": "75ef4063",
   "metadata": {},
   "source": [
    "- train_data 와 test_data 를 준비합니다"
   ]
  },
  {
   "cell_type": "code",
   "execution_count": 3,
   "id": "4448a700",
   "metadata": {
    "scrolled": true
   },
   "outputs": [
    {
     "data": {
      "text/html": [
       "<div>\n",
       "<style scoped>\n",
       "    .dataframe tbody tr th:only-of-type {\n",
       "        vertical-align: middle;\n",
       "    }\n",
       "\n",
       "    .dataframe tbody tr th {\n",
       "        vertical-align: top;\n",
       "    }\n",
       "\n",
       "    .dataframe thead th {\n",
       "        text-align: right;\n",
       "    }\n",
       "</style>\n",
       "<table border=\"1\" class=\"dataframe\">\n",
       "  <thead>\n",
       "    <tr style=\"text-align: right;\">\n",
       "      <th></th>\n",
       "      <th>id</th>\n",
       "      <th>document</th>\n",
       "      <th>label</th>\n",
       "    </tr>\n",
       "  </thead>\n",
       "  <tbody>\n",
       "    <tr>\n",
       "      <th>0</th>\n",
       "      <td>6270596</td>\n",
       "      <td>굳 ㅋ</td>\n",
       "      <td>1</td>\n",
       "    </tr>\n",
       "    <tr>\n",
       "      <th>1</th>\n",
       "      <td>9274899</td>\n",
       "      <td>GDNTOPCLASSINTHECLUB</td>\n",
       "      <td>0</td>\n",
       "    </tr>\n",
       "    <tr>\n",
       "      <th>2</th>\n",
       "      <td>8544678</td>\n",
       "      <td>뭐야 이 평점들은.... 나쁘진 않지만 10점 짜리는 더더욱 아니잖아</td>\n",
       "      <td>0</td>\n",
       "    </tr>\n",
       "    <tr>\n",
       "      <th>3</th>\n",
       "      <td>6825595</td>\n",
       "      <td>지루하지는 않은데 완전 막장임... 돈주고 보기에는....</td>\n",
       "      <td>0</td>\n",
       "    </tr>\n",
       "    <tr>\n",
       "      <th>4</th>\n",
       "      <td>6723715</td>\n",
       "      <td>3D만 아니었어도 별 다섯 개 줬을텐데.. 왜 3D로 나와서 제 심기를 불편하게 하죠??</td>\n",
       "      <td>0</td>\n",
       "    </tr>\n",
       "  </tbody>\n",
       "</table>\n",
       "</div>"
      ],
      "text/plain": [
       "        id                                           document  label\n",
       "0  6270596                                                굳 ㅋ      1\n",
       "1  9274899                               GDNTOPCLASSINTHECLUB      0\n",
       "2  8544678             뭐야 이 평점들은.... 나쁘진 않지만 10점 짜리는 더더욱 아니잖아      0\n",
       "3  6825595                   지루하지는 않은데 완전 막장임... 돈주고 보기에는....      0\n",
       "4  6723715  3D만 아니었어도 별 다섯 개 줬을텐데.. 왜 3D로 나와서 제 심기를 불편하게 하죠??      0"
      ]
     },
     "execution_count": 3,
     "metadata": {},
     "output_type": "execute_result"
    }
   ],
   "source": [
    "test_data.head()"
   ]
  },
  {
   "cell_type": "markdown",
   "id": "b106cfaf",
   "metadata": {},
   "source": [
    "***"
   ]
  },
  {
   "cell_type": "markdown",
   "id": "11c4430a",
   "metadata": {},
   "source": [
    "### 사용 함수"
   ]
  },
  {
   "cell_type": "code",
   "execution_count": 4,
   "id": "35076f61",
   "metadata": {},
   "outputs": [],
   "source": [
    "tokenizer = Mecab()\n",
    "stopwords = ['의','가','이','은','들','는','좀','잘','걍','과','도','를','으로','자','에','와','한','하다']\n",
    "\n",
    "def load_data(train_data, test_data, num_words=10000):\n",
    "    # 중복 데이터 및 결측치 제거\n",
    "    train_data.drop_duplicates(subset=['document'], inplace=True)\n",
    "    train_data = train_data.dropna(how='any')\n",
    "    test_data.drop_duplicates(subset=['document'], inplace=True)\n",
    "    test_data = test_data.dropna(how='any')\n",
    "    \n",
    "    X_train = []\n",
    "    for sentence in train_data['document']:\n",
    "        temp_X = tokenizer.morphs(sentence)    # 토큰화\n",
    "        temp_X = [word for word in temp_X if word not in stopwords]    # 불용어 제거\n",
    "        X_train.append(temp_X)\n",
    "    \n",
    "    X_test = []\n",
    "    for sentence in test_data['document']:\n",
    "        temp_X = tokenizer.morphs(sentence)    # 토큰화\n",
    "        temp_X = [word for word in temp_X if word not in stopwords]    # 불용어 제거\n",
    "        X_test.append(temp_X)\n",
    "        \n",
    "    words = np.concatenate(X_train).tolist()    # X_train 을 list 로 변환\n",
    "    counter = Counter(words)    # 각 단어의 개수를 count\n",
    "    counter = counter.most_common(10000-4)    # 가장 개수가 많은 9996 개의 단어 추출 \n",
    "    vocab = ['<PAD>', '<BOS>', '<UNK>', '<UNUSED>'] + [key for key, _ in counter]    # 10000 개의 단어를 vocab 리스트에 저장\n",
    "    word_to_index = {word:index for index, word in enumerate(vocab)}    # 단어장 생성\n",
    "    \n",
    "    def wordlist_to_indexlist(wordlist):\n",
    "        return [word_to_index[word] if word in word_to_index else word_to_index['<UNK>'] for word in wordlist]\n",
    "    \n",
    "    X_train = list(map(wordlist_to_indexlist, X_train))\n",
    "    X_test = list(map(wordlist_to_indexlist, X_test))\n",
    "    \n",
    "    return X_train, np.array(list(train_data['label'])), X_test, np.array(list(test_data['label'])), word_to_index"
   ]
  },
  {
   "cell_type": "markdown",
   "id": "8f1f4eee",
   "metadata": {},
   "source": [
    "- load_data() 는 불러온 dataset 의 document 컬럼에서 중복값 및 결측값을 제거합니다.\n",
    "- 이후, 각 문장을 토큰화하고 stopwords 내 단어는 제거합니다.\n",
    "- 또한, Counter() 를 사용해 중복되는 단어를 제외하고 단어장을 생성합니다.\n",
    "- dataset 의 문장들을 단어장을 활용해 텐서로 변환해줍니다.\n",
    "- dataset 의 label 컬럼은 0 과 1의 target 변수이므로, y 가 됩니다.\n",
    "- 결론적으로, 텐서로 변환된 문장들(X_train, X_test), 라벨(y_train, y_test), 단어장(word_to_index) 를 반환합니다."
   ]
  },
  {
   "cell_type": "code",
   "execution_count": 5,
   "id": "2a74886d",
   "metadata": {},
   "outputs": [],
   "source": [
    "def get_encoded_sentence(sentence, word_to_index):\n",
    "    return [word_to_index['<BOS>']]+[word_to_index[word] if word in word_to_index else word_to_index['<UNK>'] for word in sentence.split()]"
   ]
  },
  {
   "cell_type": "markdown",
   "id": "60113e9c",
   "metadata": {},
   "source": [
    "- 문장 1 개를 단어장과 함께 인자로 주면, 텐서로 변환해주는 함수입니다.\n",
    "- 문장의 앞에 \\'\\<BOS>' 를 추가합니다."
   ]
  },
  {
   "cell_type": "code",
   "execution_count": 6,
   "id": "1e30740e",
   "metadata": {},
   "outputs": [],
   "source": [
    "def get_encoded_sentences(sentences, word_to_index):\n",
    "    return [get_encoded_sentence(sentence, word_to_index) for sentence in sentences]"
   ]
  },
  {
   "cell_type": "markdown",
   "id": "b4833aba",
   "metadata": {},
   "source": [
    "- 여러 개의 문장 리스트를 한 번에 텐서로 변환해주는 함수입니다.\n",
    "- 문장의 앞에 \\'\\<BOS>' 를 추가합니다."
   ]
  },
  {
   "cell_type": "code",
   "execution_count": 7,
   "id": "536858a8",
   "metadata": {},
   "outputs": [],
   "source": [
    "def get_decoded_sentence(encoded_sentence, index_to_word):\n",
    "    return ' '.join(index_to_word[index] if index in index_to_word else '<UNK>' for index in encoded_sentence)"
   ]
  },
  {
   "cell_type": "markdown",
   "id": "c117142d",
   "metadata": {},
   "source": [
    "- 텐서로 변환된 문장을 다시 복원하는 함수입니다."
   ]
  },
  {
   "cell_type": "code",
   "execution_count": 8,
   "id": "1e284d3c",
   "metadata": {},
   "outputs": [],
   "source": [
    "def get_decoded_sentences(encoded_sentences, index_to_word):\n",
    "    return [get_decoded_sentence(encoded_sentence, index_to_word) for encoded_sentence in encoded_sentences]"
   ]
  },
  {
   "cell_type": "markdown",
   "id": "1958e7ae",
   "metadata": {},
   "source": [
    "- 여러 개의 텐서 문장을 다시 복원하는 함수입니다."
   ]
  },
  {
   "cell_type": "markdown",
   "id": "29f2f6a9",
   "metadata": {},
   "source": [
    "***"
   ]
  },
  {
   "cell_type": "markdown",
   "id": "c865bd39",
   "metadata": {},
   "source": [
    "### 데이터 전처리"
   ]
  },
  {
   "cell_type": "code",
   "execution_count": 9,
   "id": "a9ed5337",
   "metadata": {},
   "outputs": [],
   "source": [
    "X_train, y_train, X_test, y_test, word_to_index = load_data(train_data, test_data)"
   ]
  },
  {
   "cell_type": "markdown",
   "id": "f1cf2f7a",
   "metadata": {},
   "source": [
    "- 앞서 정의한 load_data() 로 X_train, y_train, X_test, y_test, 단어장을 생성합니다."
   ]
  },
  {
   "cell_type": "code",
   "execution_count": 10,
   "id": "f1100909",
   "metadata": {},
   "outputs": [
    {
     "name": "stdout",
     "output_type": "stream",
     "text": [
      "len(X_train) 146182\n",
      "len(y_train) 146182\n",
      "len(X_test) 49157\n",
      "len(y_test) 49157\n",
      "len(word_to_index) 10000\n"
     ]
    }
   ],
   "source": [
    "print(\"len(X_train)\", len(X_train))\n",
    "print(\"len(y_train)\", len(y_train))\n",
    "print(\"len(X_test)\", len(X_test))\n",
    "print(\"len(y_test)\", len(y_test))\n",
    "print(\"len(word_to_index)\", len(word_to_index))"
   ]
  },
  {
   "cell_type": "markdown",
   "id": "487ebbed",
   "metadata": {},
   "source": [
    "- X_train 과 X_test 는 Tensor 형태의 문장입니다.\n",
    "- y_train 과 y_test 는 0 과 1의 라벨입니다."
   ]
  },
  {
   "cell_type": "code",
   "execution_count": 11,
   "id": "7f1a1246",
   "metadata": {},
   "outputs": [
    {
     "name": "stdout",
     "output_type": "stream",
     "text": [
      "word_to_index['<PAD>'] = 0\n",
      "word_to_index['<BOS>'] = 1\n",
      "word_to_index['<UNK>'] = 2\n",
      "word_to_index['<UNUSED>'] = 3\n"
     ]
    }
   ],
   "source": [
    "# Test\n",
    "print(\"word_to_index['<PAD>'] =\", word_to_index['<PAD>'])\n",
    "print(\"word_to_index['<BOS>'] =\", word_to_index['<BOS>'])\n",
    "print(\"word_to_index['<UNK>'] =\", word_to_index['<UNK>'])\n",
    "print(\"word_to_index['<UNUSED>'] =\", word_to_index['<UNUSED>'])"
   ]
  },
  {
   "cell_type": "markdown",
   "id": "9f6478f2",
   "metadata": {},
   "source": [
    "- word_to_index 에는 pad 와 bos, unk 가 이미 정의되어 있습니다."
   ]
  },
  {
   "cell_type": "code",
   "execution_count": 12,
   "id": "5e469b23",
   "metadata": {},
   "outputs": [
    {
     "name": "stdout",
     "output_type": "stream",
     "text": [
      "<PAD>\n",
      "0\n",
      "<BOS>\n",
      "1\n",
      "10000\n",
      "10000\n"
     ]
    }
   ],
   "source": [
    "index_to_word = {index:word for word, index in word_to_index.items()}\n",
    "\n",
    "# Test\n",
    "print(index_to_word[0])\n",
    "print(word_to_index['<PAD>'])\n",
    "print(index_to_word[1])\n",
    "print(word_to_index['<BOS>'])\n",
    "print(len(word_to_index))\n",
    "print(len(index_to_word))"
   ]
  },
  {
   "cell_type": "markdown",
   "id": "99657222",
   "metadata": {},
   "source": [
    "- word_to_index 를 활용하여 index_to_word 를 생성합니다."
   ]
  },
  {
   "cell_type": "code",
   "execution_count": 13,
   "id": "e7bce642",
   "metadata": {},
   "outputs": [
    {
     "name": "stdout",
     "output_type": "stream",
     "text": [
      "[32, 74, 919, 4, 4, 39, 228, 20, 33, 748]\n",
      "라벨: 0\n",
      "[8409, 158, 3925, 4, 4, 298, 94, 17, 6, 4, 4, 58, 3479]\n",
      "라벨: 0\n",
      "[832, 130]\n",
      "라벨: 1\n",
      "[96, 8, 15, 44, 231, 137, 357, 129, 4, 11, 153, 54, 7, 10, 42, 4, 70]\n",
      "라벨: 0\n"
     ]
    }
   ],
   "source": [
    "print(X_train[0])\n",
    "print('라벨:', y_train[0])\n",
    "\n",
    "print(X_train[3])\n",
    "print('라벨:', y_train[3])\n",
    "\n",
    "print(X_test[0])\n",
    "print('라벨:', y_test[0])\n",
    "\n",
    "print(X_test[3])\n",
    "print('라벨:', y_test[3])"
   ]
  },
  {
   "cell_type": "markdown",
   "id": "a048bde4",
   "metadata": {},
   "source": [
    "- 텐서로 변환된 문장 앞에 pad 를 추가해주어야 합니다."
   ]
  },
  {
   "cell_type": "code",
   "execution_count": 14,
   "id": "48638f73",
   "metadata": {
    "scrolled": true
   },
   "outputs": [
    {
     "name": "stdout",
     "output_type": "stream",
     "text": [
      "아 더 빙 . . 진짜 짜증 나 네요 목소리\n",
      "굳 ㅋ\n"
     ]
    }
   ],
   "source": [
    "print(get_decoded_sentence(X_train[0], index_to_word))\n",
    "print(get_decoded_sentence(X_test[0], index_to_word))"
   ]
  },
  {
   "cell_type": "markdown",
   "id": "40b838ba",
   "metadata": {},
   "source": [
    "- 위와 같이, 텐서 문장들을 다시 decode 해주겠습니다."
   ]
  },
  {
   "cell_type": "code",
   "execution_count": 15,
   "id": "e0f1e5f2",
   "metadata": {},
   "outputs": [
    {
     "name": "stdout",
     "output_type": "stream",
     "text": [
      "아 더 빙 . . 진짜 짜증 나 네요 목소리\n",
      "굳 ㅋ\n"
     ]
    }
   ],
   "source": [
    "X_train = get_decoded_sentences(X_train, index_to_word)\n",
    "X_test = get_decoded_sentences(X_test, index_to_word)\n",
    "\n",
    "# Test\n",
    "print(X_train[0])\n",
    "print(X_test[0])"
   ]
  },
  {
   "cell_type": "code",
   "execution_count": 16,
   "id": "a61f8c69",
   "metadata": {},
   "outputs": [
    {
     "name": "stdout",
     "output_type": "stream",
     "text": [
      "[1, 8409, 158, 3925, 4, 4, 298, 94, 17, 6, 4, 4, 58, 3479]\n",
      "[1, 96, 8, 15, 44, 231, 137, 357, 129, 4, 11, 153, 54, 7, 10, 42, 4, 70]\n"
     ]
    }
   ],
   "source": [
    "X_train = get_encoded_sentences(X_train, word_to_index)\n",
    "X_test = get_encoded_sentences(X_test, word_to_index)\n",
    "\n",
    "# Test\n",
    "print(X_train[3])\n",
    "print(X_test[3])"
   ]
  },
  {
   "cell_type": "markdown",
   "id": "a47cc5b1",
   "metadata": {},
   "source": [
    "- 이제 X_train 과 X_test 의 모든 문장의 앞에 pad 가 추가되었습니다."
   ]
  },
  {
   "cell_type": "code",
   "execution_count": 17,
   "id": "50360417",
   "metadata": {
    "scrolled": true
   },
   "outputs": [
    {
     "name": "stdout",
     "output_type": "stream",
     "text": [
      "문장길이 평균: 16.96940191154864\n",
      "문장길이 최대: 117\n",
      "문장길이 표준편차: 12.843571191092\n",
      "pad_sequences maxlen: 42\n",
      "전체 문장의 약 93.43%가 maxlen 설정값 이내에 포함됩니다.\n"
     ]
    }
   ],
   "source": [
    "total_data_text = list(X_train) + list(X_test)\n",
    "\n",
    "num_tokens = [len(tokens) for tokens in total_data_text]\n",
    "num_tokens = np.array(num_tokens)\n",
    "\n",
    "print('문장길이 평균:', np.mean(num_tokens))\n",
    "print('문장길이 최대:', np.max(num_tokens))\n",
    "print('문장길이 표준편차:', np.std(num_tokens))\n",
    "\n",
    "max_tokens = np.mean(num_tokens) + np.std(num_tokens)*2\n",
    "maxlen = int(max_tokens)\n",
    "\n",
    "print('pad_sequences maxlen:', maxlen)\n",
    "print('전체 문장의 약 {:.2f}%가 maxlen 설정값 이내에 포함됩니다.'.format((np.sum(num_tokens < max_tokens) / len(num_tokens)*100)))"
   ]
  },
  {
   "cell_type": "markdown",
   "id": "d2b12347",
   "metadata": {},
   "source": [
    "- 각 문장의 길이 평균에 표준편차*2 를 더한 maxlen 을 계산하였습니다.\n",
    "- 문장의 길이를 42 로 맞출 경우, 전체 데이터의 약 93% 를 온전히 사용할 수 있습니다."
   ]
  },
  {
   "cell_type": "code",
   "execution_count": 18,
   "id": "41b05656",
   "metadata": {},
   "outputs": [
    {
     "name": "stdout",
     "output_type": "stream",
     "text": [
      "(146182, 42)\n",
      "(49157, 42)\n"
     ]
    }
   ],
   "source": [
    "X_train = tf.keras.preprocessing.sequence.pad_sequences(X_train,\n",
    "                                                       value=word_to_index['<PAD>'],\n",
    "                                                       padding='pre',\n",
    "                                                       maxlen=maxlen)\n",
    "\n",
    "X_test = tf.keras.preprocessing.sequence.pad_sequences(X_test,\n",
    "                                                       value=word_to_index['<PAD>'],\n",
    "                                                       padding='pre',\n",
    "                                                       maxlen=maxlen)\n",
    "\n",
    "print(X_train.shape)\n",
    "print(X_test.shape)"
   ]
  },
  {
   "cell_type": "markdown",
   "id": "bf1b3dc6",
   "metadata": {},
   "source": [
    "- 각 문장의 길이를 42 로 통일하고, 빈 공간에는 문장의 앞에 PAD 를 채워주었습니다."
   ]
  },
  {
   "cell_type": "code",
   "execution_count": 19,
   "id": "909c3a8c",
   "metadata": {},
   "outputs": [
    {
     "name": "stdout",
     "output_type": "stream",
     "text": [
      "[  0   0   0   0   0   0   0   0   0   0   0   0   0   0   0   0   0   0\n",
      "   0   0   0   0   0   0   0   0   0   0   0   0   0   1  32  74 919   4\n",
      "   4  39 228  20  33 748]\n",
      "[  0   0   0   0   0   0   0   0   0   0   0   0   0   0   0   0   0   0\n",
      "   0   0   0   0   0   0   0   0   0   0   0   0   0   0   0   0   0   0\n",
      "   0   0   0   1 832 130]\n"
     ]
    }
   ],
   "source": [
    "# Test\n",
    "print(X_train[0])\n",
    "print(X_test[0])"
   ]
  },
  {
   "cell_type": "markdown",
   "id": "29890189",
   "metadata": {},
   "source": [
    "***"
   ]
  },
  {
   "cell_type": "markdown",
   "id": "720c0b4f",
   "metadata": {},
   "source": [
    "### 모델링(CNN)"
   ]
  },
  {
   "cell_type": "code",
   "execution_count": 20,
   "id": "f4cce2a1",
   "metadata": {},
   "outputs": [
    {
     "name": "stdout",
     "output_type": "stream",
     "text": [
      "Model: \"sequential\"\n",
      "_________________________________________________________________\n",
      "Layer (type)                 Output Shape              Param #   \n",
      "=================================================================\n",
      "embedding (Embedding)        (None, None, 100)         1000000   \n",
      "_________________________________________________________________\n",
      "conv1d (Conv1D)              (None, None, 16)          11216     \n",
      "_________________________________________________________________\n",
      "max_pooling1d (MaxPooling1D) (None, None, 16)          0         \n",
      "_________________________________________________________________\n",
      "conv1d_1 (Conv1D)            (None, None, 16)          1808      \n",
      "_________________________________________________________________\n",
      "global_max_pooling1d (Global (None, 16)                0         \n",
      "_________________________________________________________________\n",
      "dense (Dense)                (None, 8)                 136       \n",
      "_________________________________________________________________\n",
      "dense_1 (Dense)              (None, 1)                 9         \n",
      "=================================================================\n",
      "Total params: 1,013,169\n",
      "Trainable params: 1,013,169\n",
      "Non-trainable params: 0\n",
      "_________________________________________________________________\n"
     ]
    }
   ],
   "source": [
    "vocab_size = 10000\n",
    "word_vector_dim = 100\n",
    "\n",
    "model = tf.keras.Sequential()\n",
    "model.add(tf.keras.layers.Embedding(vocab_size, word_vector_dim, input_shape=(None,)))\n",
    "model.add(tf.keras.layers.Conv1D(16, 7, activation='relu'))\n",
    "model.add(tf.keras.layers.MaxPooling1D(5))\n",
    "model.add(tf.keras.layers.Conv1D(16, 7, activation='relu'))\n",
    "model.add(tf.keras.layers.GlobalMaxPooling1D())\n",
    "model.add(tf.keras.layers.Dense(8, activation='relu'))\n",
    "model.add(tf.keras.layers.Dense(1, activation='sigmoid'))\n",
    "\n",
    "model.summary()"
   ]
  },
  {
   "cell_type": "markdown",
   "id": "aa7bc0d7",
   "metadata": {},
   "source": [
    "- Model 은 1D CNN 을 사용해보겠습니다."
   ]
  },
  {
   "cell_type": "code",
   "execution_count": 21,
   "id": "02f5f066",
   "metadata": {},
   "outputs": [
    {
     "name": "stdout",
     "output_type": "stream",
     "text": [
      "(146182, 42)\n",
      "(146182,)\n"
     ]
    }
   ],
   "source": [
    "print(X_train.shape)\n",
    "print(y_train.shape)"
   ]
  },
  {
   "cell_type": "code",
   "execution_count": 22,
   "id": "6159b1b7",
   "metadata": {},
   "outputs": [
    {
     "name": "stdout",
     "output_type": "stream",
     "text": [
      "X_val.shape: (36182, 42)\n",
      "y_val.shape: (36182,)\n",
      "partial_X_train.shape: (110000, 42)\n",
      "partial_y_train.shape: (110000,)\n"
     ]
    }
   ],
   "source": [
    "X_val = X_train[:36182]\n",
    "y_val = y_train[:36182]\n",
    "\n",
    "partial_X_train = X_train[36182:]\n",
    "partial_y_train = y_train[36182:]\n",
    "\n",
    "# Test\n",
    "print(\"X_val.shape:\", X_val.shape)\n",
    "print(\"y_val.shape:\", y_val.shape)\n",
    "print(\"partial_X_train.shape:\", partial_X_train.shape)\n",
    "print(\"partial_y_train.shape:\", partial_y_train.shape)"
   ]
  },
  {
   "cell_type": "markdown",
   "id": "5b0b2731",
   "metadata": {},
   "source": [
    "- validation data 는 각각 36182 개의 data 로 설정해주었습니다.\n",
    "- train data 는 110000 개의 data 로 설정해주었습니다."
   ]
  },
  {
   "cell_type": "code",
   "execution_count": 23,
   "id": "6f5b6fcd",
   "metadata": {
    "scrolled": true
   },
   "outputs": [
    {
     "name": "stdout",
     "output_type": "stream",
     "text": [
      "Epoch 1/15\n",
      "215/215 [==============================] - 5s 7ms/step - loss: 0.5445 - accuracy: 0.7397 - val_loss: 0.3881 - val_accuracy: 0.8302\n",
      "Epoch 2/15\n",
      "215/215 [==============================] - 1s 5ms/step - loss: 0.3357 - accuracy: 0.8550 - val_loss: 0.3522 - val_accuracy: 0.8433\n",
      "Epoch 3/15\n",
      "215/215 [==============================] - 1s 5ms/step - loss: 0.2751 - accuracy: 0.8870 - val_loss: 0.3579 - val_accuracy: 0.8455\n",
      "Epoch 4/15\n",
      "215/215 [==============================] - 1s 5ms/step - loss: 0.2172 - accuracy: 0.9153 - val_loss: 0.3858 - val_accuracy: 0.8396\n",
      "Epoch 5/15\n",
      "215/215 [==============================] - 1s 5ms/step - loss: 0.1581 - accuracy: 0.9418 - val_loss: 0.4356 - val_accuracy: 0.8371\n",
      "Epoch 6/15\n",
      "215/215 [==============================] - 1s 5ms/step - loss: 0.1126 - accuracy: 0.9607 - val_loss: 0.5180 - val_accuracy: 0.8326\n",
      "Epoch 7/15\n",
      "215/215 [==============================] - 1s 5ms/step - loss: 0.0825 - accuracy: 0.9720 - val_loss: 0.5736 - val_accuracy: 0.8309\n",
      "Epoch 8/15\n",
      "215/215 [==============================] - 1s 5ms/step - loss: 0.0638 - accuracy: 0.9789 - val_loss: 0.6231 - val_accuracy: 0.8260\n",
      "Epoch 9/15\n",
      "215/215 [==============================] - 1s 5ms/step - loss: 0.0524 - accuracy: 0.9833 - val_loss: 0.6802 - val_accuracy: 0.8248\n",
      "Epoch 10/15\n",
      "215/215 [==============================] - 1s 5ms/step - loss: 0.0447 - accuracy: 0.9859 - val_loss: 0.7411 - val_accuracy: 0.8252\n",
      "Epoch 11/15\n",
      "215/215 [==============================] - 1s 5ms/step - loss: 0.0400 - accuracy: 0.9873 - val_loss: 0.7993 - val_accuracy: 0.8235\n",
      "Epoch 12/15\n",
      "215/215 [==============================] - 1s 5ms/step - loss: 0.0368 - accuracy: 0.9882 - val_loss: 0.8406 - val_accuracy: 0.8255\n",
      "Epoch 13/15\n",
      "215/215 [==============================] - 1s 5ms/step - loss: 0.0342 - accuracy: 0.9891 - val_loss: 0.8925 - val_accuracy: 0.8248\n",
      "Epoch 14/15\n",
      "215/215 [==============================] - 1s 5ms/step - loss: 0.0331 - accuracy: 0.9894 - val_loss: 0.9738 - val_accuracy: 0.8235\n",
      "Epoch 15/15\n",
      "215/215 [==============================] - 1s 5ms/step - loss: 0.0320 - accuracy: 0.9895 - val_loss: 1.0166 - val_accuracy: 0.8215\n"
     ]
    }
   ],
   "source": [
    "model.compile(optimizer='adam',\n",
    "             loss='binary_crossentropy',\n",
    "             metrics=['accuracy'])\n",
    "\n",
    "EPOCHS = 15\n",
    "\n",
    "history = model.fit(partial_X_train,\n",
    "                    partial_y_train,\n",
    "                    epochs=EPOCHS,\n",
    "                    batch_size=512,\n",
    "                    validation_data=(X_val, y_val),\n",
    "                    verbose=1)"
   ]
  },
  {
   "cell_type": "markdown",
   "id": "2e005a67",
   "metadata": {},
   "source": [
    "***"
   ]
  },
  {
   "cell_type": "markdown",
   "id": "378b6f16",
   "metadata": {},
   "source": [
    "### 결과 예측 및 시각화"
   ]
  },
  {
   "cell_type": "code",
   "execution_count": 24,
   "id": "01e8be3f",
   "metadata": {},
   "outputs": [
    {
     "name": "stdout",
     "output_type": "stream",
     "text": [
      "1537/1537 - 2s - loss: 1.0531 - accuracy: 0.8159\n",
      "[1.053060531616211, 0.8158960342407227]\n"
     ]
    }
   ],
   "source": [
    "results = model.evaluate(X_test, y_test, verbose=2)\n",
    "print(results)"
   ]
  },
  {
   "cell_type": "code",
   "execution_count": 25,
   "id": "97fc084d",
   "metadata": {},
   "outputs": [
    {
     "name": "stdout",
     "output_type": "stream",
     "text": [
      "dict_keys(['loss', 'accuracy', 'val_loss', 'val_accuracy'])\n"
     ]
    }
   ],
   "source": [
    "history_dict = history.history\n",
    "print(history_dict.keys())"
   ]
  },
  {
   "cell_type": "markdown",
   "id": "2c619cdb",
   "metadata": {},
   "source": [
    "- history 를 활용하여 그래프를 그려보도록 하겠습니다."
   ]
  },
  {
   "cell_type": "code",
   "execution_count": 26,
   "id": "96e8c1b5",
   "metadata": {},
   "outputs": [
    {
     "data": {
      "image/png": "[encoded data removed]",
      "text/plain": [
       "<Figure size 432x288 with 1 Axes>"
      ]
     },
     "metadata": {
      "needs_background": "light"
     },
     "output_type": "display_data"
    }
   ],
   "source": [
    "acc = history_dict['accuracy']\n",
    "val_acc = history_dict['val_accuracy']\n",
    "loss = history_dict['loss']\n",
    "val_loss = history_dict['val_loss']\n",
    "\n",
    "epochs = range(1, len(acc) + 1)\n",
    "\n",
    "plt.plot(epochs, loss, 'bo', label='Training loss')\n",
    "plt.plot(epochs, val_loss, 'b', label='Validation loss')\n",
    "\n",
    "plt.title('Training and validation loss')\n",
    "plt.xlabel('Epochs')\n",
    "plt.ylabel('Loss')\n",
    "plt.legend()\n",
    "\n",
    "plt.show()"
   ]
  },
  {
   "cell_type": "markdown",
   "id": "abb49b58",
   "metadata": {},
   "source": [
    "- 학습이 효율적으로 진행되지 않고 있음을 알 수 있습니다."
   ]
  },
  {
   "cell_type": "code",
   "execution_count": 27,
   "id": "17bd9134",
   "metadata": {},
   "outputs": [
    {
     "data": {
      "image/png": "[encoded data removed]",
      "text/plain": [
       "<Figure size 432x288 with 1 Axes>"
      ]
     },
     "metadata": {
      "needs_background": "light"
     },
     "output_type": "display_data"
    }
   ],
   "source": [
    "plt.clf()\n",
    "\n",
    "plt.plot(epochs, acc, 'bo', label='Training acc')\n",
    "plt.plot(epochs, val_acc, 'b', label='Validation acc')\n",
    "plt.title('Training and validation accuracy')\n",
    "plt.xlabel('Epochs')\n",
    "plt.ylabel('Accuracy')\n",
    "plt.legend()\n",
    "\n",
    "plt.show()"
   ]
  },
  {
   "cell_type": "markdown",
   "id": "a5d1cac3",
   "metadata": {},
   "source": [
    "- Accuracy 또한 성능이 좋지 않음을 쉽게 알 수 있습니다."
   ]
  },
  {
   "cell_type": "markdown",
   "id": "fec53e81",
   "metadata": {},
   "source": [
    "***"
   ]
  },
  {
   "cell_type": "markdown",
   "id": "9c00e8ad",
   "metadata": {},
   "source": [
    "### 모델링(RNN)"
   ]
  },
  {
   "cell_type": "code",
   "execution_count": 101,
   "id": "03a8ab1b",
   "metadata": {},
   "outputs": [
    {
     "name": "stdout",
     "output_type": "stream",
     "text": [
      "Model: \"sequential_10\"\n",
      "_________________________________________________________________\n",
      "Layer (type)                 Output Shape              Param #   \n",
      "=================================================================\n",
      "embedding_10 (Embedding)     (None, None, 100)         1000000   \n",
      "_________________________________________________________________\n",
      "lstm_4 (LSTM)                (None, 128)               117248    \n",
      "_________________________________________________________________\n",
      "dense_20 (Dense)             (None, 16)                2064      \n",
      "_________________________________________________________________\n",
      "dense_21 (Dense)             (None, 1)                 17        \n",
      "=================================================================\n",
      "Total params: 1,119,329\n",
      "Trainable params: 1,119,329\n",
      "Non-trainable params: 0\n",
      "_________________________________________________________________\n"
     ]
    }
   ],
   "source": [
    "vocab_size = 10000\n",
    "word_vector_dim = 100 \n",
    "\n",
    "model = tf.keras.Sequential()\n",
    "model.add(tf.keras.layers.Embedding(vocab_size, word_vector_dim, input_shape=(None,)))\n",
    "model.add(tf.keras.layers.LSTM(128))\n",
    "model.add(tf.keras.layers.Dense(16, activation='relu'))\n",
    "model.add(tf.keras.layers.Dense(1, activation='sigmoid'))\n",
    "\n",
    "model.summary()"
   ]
  },
  {
   "cell_type": "markdown",
   "id": "54d366f2",
   "metadata": {},
   "source": [
    "- 이번에는 RNN 의 LSTM 을 활용해보도록 하겠습니다."
   ]
  },
  {
   "cell_type": "code",
   "execution_count": 102,
   "id": "5088a765",
   "metadata": {
    "scrolled": true
   },
   "outputs": [
    {
     "name": "stdout",
     "output_type": "stream",
     "text": [
      "(146182, 42)\n",
      "(146182,)\n"
     ]
    }
   ],
   "source": [
    "print(X_train.shape)\n",
    "print(y_train.shape)"
   ]
  },
  {
   "cell_type": "code",
   "execution_count": 103,
   "id": "61f8dd3a",
   "metadata": {},
   "outputs": [
    {
     "name": "stdout",
     "output_type": "stream",
     "text": [
      "X_val.shape: (36182, 42)\n",
      "y_val.shape: (36182,)\n",
      "partial_X_train.shape: (110000, 42)\n",
      "partial_y_train.shape: (110000,)\n"
     ]
    }
   ],
   "source": [
    "X_val = X_train[:36182]\n",
    "y_val = y_train[:36182]\n",
    "\n",
    "partial_X_train = X_train[36182:]\n",
    "partial_y_train = y_train[36182:]\n",
    "\n",
    "# Test\n",
    "print(\"X_val.shape:\", X_val.shape)\n",
    "print(\"y_val.shape:\", y_val.shape)\n",
    "print(\"partial_X_train.shape:\", partial_X_train.shape)\n",
    "print(\"partial_y_train.shape:\", partial_y_train.shape)"
   ]
  },
  {
   "cell_type": "markdown",
   "id": "31cd68fd",
   "metadata": {},
   "source": [
    "- 데이터는 이전과 동일하게 준비하였습니다."
   ]
  },
  {
   "cell_type": "code",
   "execution_count": 104,
   "id": "34a2be42",
   "metadata": {
    "scrolled": true
   },
   "outputs": [
    {
     "name": "stdout",
     "output_type": "stream",
     "text": [
      "Epoch 1/10\n",
      "215/215 [==============================] - 4s 13ms/step - loss: 0.4357 - accuracy: 0.7979 - val_loss: 0.3492 - val_accuracy: 0.8472\n",
      "Epoch 2/10\n",
      "215/215 [==============================] - 2s 11ms/step - loss: 0.3248 - accuracy: 0.8610 - val_loss: 0.3402 - val_accuracy: 0.8516\n",
      "Epoch 3/10\n",
      "215/215 [==============================] - 2s 11ms/step - loss: 0.2925 - accuracy: 0.8757 - val_loss: 0.3333 - val_accuracy: 0.8555\n",
      "Epoch 4/10\n",
      "215/215 [==============================] - 2s 11ms/step - loss: 0.2651 - accuracy: 0.8894 - val_loss: 0.3408 - val_accuracy: 0.8564\n",
      "Epoch 5/10\n",
      "215/215 [==============================] - 2s 11ms/step - loss: 0.2409 - accuracy: 0.9001 - val_loss: 0.3476 - val_accuracy: 0.8557\n",
      "Epoch 6/10\n",
      "215/215 [==============================] - 2s 11ms/step - loss: 0.2166 - accuracy: 0.9117 - val_loss: 0.3776 - val_accuracy: 0.8535\n",
      "Epoch 7/10\n",
      "215/215 [==============================] - 2s 11ms/step - loss: 0.1953 - accuracy: 0.9208 - val_loss: 0.4135 - val_accuracy: 0.8529\n",
      "Epoch 8/10\n",
      "215/215 [==============================] - 2s 11ms/step - loss: 0.1753 - accuracy: 0.9291 - val_loss: 0.4369 - val_accuracy: 0.8499\n",
      "Epoch 9/10\n",
      "215/215 [==============================] - 2s 11ms/step - loss: 0.1603 - accuracy: 0.9345 - val_loss: 0.4675 - val_accuracy: 0.8487\n",
      "Epoch 10/10\n",
      "215/215 [==============================] - 2s 11ms/step - loss: 0.1452 - accuracy: 0.9404 - val_loss: 0.5104 - val_accuracy: 0.8472\n"
     ]
    }
   ],
   "source": [
    "model.compile(optimizer='adam',\n",
    "             loss='binary_crossentropy',\n",
    "             metrics=['accuracy'])\n",
    "\n",
    "EPOCHS = 10\n",
    "\n",
    "history = model.fit(partial_X_train,\n",
    "                    partial_y_train,\n",
    "                    epochs=EPOCHS,\n",
    "                    batch_size=512,\n",
    "                    validation_data=(X_val, y_val),\n",
    "                    verbose=1)"
   ]
  },
  {
   "cell_type": "markdown",
   "id": "8425a4ed",
   "metadata": {},
   "source": [
    "***"
   ]
  },
  {
   "cell_type": "markdown",
   "id": "92af9e72",
   "metadata": {},
   "source": [
    "### 결과 예측 및 시각화"
   ]
  },
  {
   "cell_type": "code",
   "execution_count": 105,
   "id": "cacd9e53",
   "metadata": {},
   "outputs": [
    {
     "name": "stdout",
     "output_type": "stream",
     "text": [
      "1537/1537 - 3s - loss: 0.5133 - accuracy: 0.8440\n",
      "[0.5132989287376404, 0.8440099954605103]\n"
     ]
    }
   ],
   "source": [
    "results = model.evaluate(X_test, y_test, verbose=2)\n",
    "print(results)"
   ]
  },
  {
   "cell_type": "code",
   "execution_count": 106,
   "id": "0dbc2aee",
   "metadata": {},
   "outputs": [
    {
     "name": "stdout",
     "output_type": "stream",
     "text": [
      "dict_keys(['loss', 'accuracy', 'val_loss', 'val_accuracy'])\n"
     ]
    }
   ],
   "source": [
    "history_dict = history.history\n",
    "print(history_dict.keys())"
   ]
  },
  {
   "cell_type": "code",
   "execution_count": 107,
   "id": "ae1897fd",
   "metadata": {
    "scrolled": true
   },
   "outputs": [
    {
     "data": {
      "image/png": "[encoded data removed]",
      "text/plain": [
       "<Figure size 432x288 with 1 Axes>"
      ]
     },
     "metadata": {
      "needs_background": "light"
     },
     "output_type": "display_data"
    }
   ],
   "source": [
    "acc = history_dict['accuracy']\n",
    "val_acc = history_dict['val_accuracy']\n",
    "loss = history_dict['loss']\n",
    "val_loss = history_dict['val_loss']\n",
    "\n",
    "epochs = range(1, len(acc) + 1)\n",
    "\n",
    "plt.plot(epochs, loss, 'bo', label='Training loss')\n",
    "plt.plot(epochs, val_loss, 'b', label='Validation loss')\n",
    "\n",
    "plt.title('Training and validation loss')\n",
    "plt.xlabel('Epochs')\n",
    "plt.ylabel('Loss')\n",
    "plt.legend()\n",
    "\n",
    "plt.show()"
   ]
  },
  {
   "cell_type": "markdown",
   "id": "93d967c9",
   "metadata": {},
   "source": [
    "- LGBM 모델 또한 성능이 학습이 정상적으로 진행되지 않음을 알 수 있습니다."
   ]
  },
  {
   "cell_type": "code",
   "execution_count": 108,
   "id": "db4e652c",
   "metadata": {},
   "outputs": [
    {
     "data": {
      "image/png": "[encoded data removed]",
      "text/plain": [
       "<Figure size 432x288 with 1 Axes>"
      ]
     },
     "metadata": {
      "needs_background": "light"
     },
     "output_type": "display_data"
    }
   ],
   "source": [
    "plt.clf()\n",
    "\n",
    "plt.plot(epochs, acc, 'bo', label='Training acc')\n",
    "plt.plot(epochs, val_acc, 'b', label='Validation acc')\n",
    "plt.title('Training and validation accuracy')\n",
    "plt.xlabel('Epochs')\n",
    "plt.ylabel('Accuracy')\n",
    "plt.legend()\n",
    "\n",
    "plt.show()"
   ]
  },
  {
   "cell_type": "markdown",
   "id": "45f2cf39",
   "metadata": {},
   "source": [
    "- Accuracy 또한 증가하지 않고 있습니다."
   ]
  },
  {
   "cell_type": "markdown",
   "id": "5956568a",
   "metadata": {},
   "source": [
    "***"
   ]
  },
  {
   "cell_type": "markdown",
   "id": "a299ba7f",
   "metadata": {},
   "source": [
    "### 모델링(GlobalMaxPooling1D)"
   ]
  },
  {
   "cell_type": "code",
   "execution_count": 63,
   "id": "7f7097ae",
   "metadata": {},
   "outputs": [
    {
     "name": "stdout",
     "output_type": "stream",
     "text": [
      "Model: \"sequential_5\"\n",
      "_________________________________________________________________\n",
      "Layer (type)                 Output Shape              Param #   \n",
      "=================================================================\n",
      "embedding_5 (Embedding)      (None, None, 200)         2000000   \n",
      "_________________________________________________________________\n",
      "global_max_pooling1d_4 (Glob (None, 200)               0         \n",
      "_________________________________________________________________\n",
      "dense_10 (Dense)             (None, 16)                3216      \n",
      "_________________________________________________________________\n",
      "dense_11 (Dense)             (None, 1)                 17        \n",
      "=================================================================\n",
      "Total params: 2,003,233\n",
      "Trainable params: 2,003,233\n",
      "Non-trainable params: 0\n",
      "_________________________________________________________________\n"
     ]
    }
   ],
   "source": [
    "vocab_size = 10000\n",
    "word_vector_dim = 200 \n",
    "\n",
    "model = tf.keras.Sequential()\n",
    "model.add(tf.keras.layers.Embedding(vocab_size, word_vector_dim, input_shape=(None,)))\n",
    "model.add(tf.keras.layers.GlobalMaxPooling1D())\n",
    "model.add(tf.keras.layers.Dense(16, activation='relu'))\n",
    "model.add(tf.keras.layers.Dense(1, activation='sigmoid'))\n",
    "\n",
    "model.summary()"
   ]
  },
  {
   "cell_type": "code",
   "execution_count": 64,
   "id": "77722a32",
   "metadata": {},
   "outputs": [
    {
     "name": "stdout",
     "output_type": "stream",
     "text": [
      "(146182, 42)\n",
      "(146182,)\n"
     ]
    }
   ],
   "source": [
    "print(X_train.shape)\n",
    "print(y_train.shape)"
   ]
  },
  {
   "cell_type": "code",
   "execution_count": 65,
   "id": "4b778100",
   "metadata": {},
   "outputs": [
    {
     "name": "stdout",
     "output_type": "stream",
     "text": [
      "X_val.shape: (36182, 42)\n",
      "y_val.shape: (36182,)\n",
      "partial_X_train.shape: (110000, 42)\n",
      "partial_y_train.shape: (110000,)\n"
     ]
    }
   ],
   "source": [
    "X_val = X_train[:36182]\n",
    "y_val = y_train[:36182]\n",
    "\n",
    "partial_X_train = X_train[36182:]\n",
    "partial_y_train = y_train[36182:]\n",
    "\n",
    "# Test\n",
    "print(\"X_val.shape:\", X_val.shape)\n",
    "print(\"y_val.shape:\", y_val.shape)\n",
    "print(\"partial_X_train.shape:\", partial_X_train.shape)\n",
    "print(\"partial_y_train.shape:\", partial_y_train.shape)"
   ]
  },
  {
   "cell_type": "markdown",
   "id": "49e3bf13",
   "metadata": {},
   "source": [
    "- 이전과 동일하게 데이터를 준비해주도록 하겠습니다."
   ]
  },
  {
   "cell_type": "code",
   "execution_count": 66,
   "id": "f081ce34",
   "metadata": {
    "scrolled": true
   },
   "outputs": [
    {
     "name": "stdout",
     "output_type": "stream",
     "text": [
      "Epoch 1/10\n",
      "215/215 [==============================] - 2s 5ms/step - loss: 0.4957 - accuracy: 0.7686 - val_loss: 0.3500 - val_accuracy: 0.8473\n",
      "Epoch 2/10\n",
      "215/215 [==============================] - 1s 5ms/step - loss: 0.3154 - accuracy: 0.8661 - val_loss: 0.3339 - val_accuracy: 0.8550\n",
      "Epoch 3/10\n",
      "215/215 [==============================] - 1s 5ms/step - loss: 0.2651 - accuracy: 0.8919 - val_loss: 0.3418 - val_accuracy: 0.8549\n",
      "Epoch 4/10\n",
      "215/215 [==============================] - 1s 4ms/step - loss: 0.2230 - accuracy: 0.9136 - val_loss: 0.3568 - val_accuracy: 0.8533\n",
      "Epoch 5/10\n",
      "215/215 [==============================] - 1s 5ms/step - loss: 0.1801 - accuracy: 0.9339 - val_loss: 0.3836 - val_accuracy: 0.8513\n",
      "Epoch 6/10\n",
      "215/215 [==============================] - 1s 4ms/step - loss: 0.1370 - accuracy: 0.9533 - val_loss: 0.4200 - val_accuracy: 0.8498\n",
      "Epoch 7/10\n",
      "215/215 [==============================] - 1s 5ms/step - loss: 0.0982 - accuracy: 0.9704 - val_loss: 0.4632 - val_accuracy: 0.8459\n",
      "Epoch 8/10\n",
      "215/215 [==============================] - 1s 5ms/step - loss: 0.0676 - accuracy: 0.9817 - val_loss: 0.5088 - val_accuracy: 0.8437\n",
      "Epoch 9/10\n",
      "215/215 [==============================] - 1s 5ms/step - loss: 0.0466 - accuracy: 0.9884 - val_loss: 0.5512 - val_accuracy: 0.8431\n",
      "Epoch 10/10\n",
      "215/215 [==============================] - 1s 5ms/step - loss: 0.0325 - accuracy: 0.9922 - val_loss: 0.5940 - val_accuracy: 0.8410\n"
     ]
    }
   ],
   "source": [
    "model.compile(optimizer='adam',\n",
    "             loss='binary_crossentropy',\n",
    "             metrics=['accuracy'])\n",
    "\n",
    "EPOCHS = 10\n",
    "\n",
    "history = model.fit(partial_X_train,\n",
    "                    partial_y_train,\n",
    "                    epochs=EPOCHS,\n",
    "                    batch_size=512,\n",
    "                    validation_data=(X_val, y_val),\n",
    "                    verbose=1)"
   ]
  },
  {
   "cell_type": "markdown",
   "id": "abc8e96c",
   "metadata": {},
   "source": [
    "***"
   ]
  },
  {
   "cell_type": "markdown",
   "id": "2b4292dc",
   "metadata": {},
   "source": [
    "### 결과 예측 및 시각화"
   ]
  },
  {
   "cell_type": "code",
   "execution_count": 67,
   "id": "1de5c3cc",
   "metadata": {},
   "outputs": [
    {
     "name": "stdout",
     "output_type": "stream",
     "text": [
      "1537/1537 - 2s - loss: 0.6059 - accuracy: 0.8356\n",
      "[0.6058588624000549, 0.8356083631515503]\n"
     ]
    }
   ],
   "source": [
    "results = model.evaluate(X_test, y_test, verbose=2)\n",
    "print(results)"
   ]
  },
  {
   "cell_type": "code",
   "execution_count": 68,
   "id": "d778a251",
   "metadata": {},
   "outputs": [
    {
     "name": "stdout",
     "output_type": "stream",
     "text": [
      "dict_keys(['loss', 'accuracy', 'val_loss', 'val_accuracy'])\n"
     ]
    }
   ],
   "source": [
    "history_dict = history.history\n",
    "print(history_dict.keys())"
   ]
  },
  {
   "cell_type": "code",
   "execution_count": 69,
   "id": "58319984",
   "metadata": {},
   "outputs": [
    {
     "data": {
      "image/png": "[encoded data removed]",
      "text/plain": [
       "<Figure size 432x288 with 1 Axes>"
      ]
     },
     "metadata": {
      "needs_background": "light"
     },
     "output_type": "display_data"
    }
   ],
   "source": [
    "acc = history_dict['accuracy']\n",
    "val_acc = history_dict['val_accuracy']\n",
    "loss = history_dict['loss']\n",
    "val_loss = history_dict['val_loss']\n",
    "\n",
    "epochs = range(1, len(acc) + 1)\n",
    "\n",
    "plt.plot(epochs, loss, 'bo', label='Training loss')\n",
    "plt.plot(epochs, val_loss, 'b', label='Validation loss')\n",
    "\n",
    "plt.title('Training and validation loss')\n",
    "plt.xlabel('Epochs')\n",
    "plt.ylabel('Loss')\n",
    "plt.legend()\n",
    "\n",
    "plt.show()"
   ]
  },
  {
   "cell_type": "code",
   "execution_count": 70,
   "id": "2e8ed2f7",
   "metadata": {},
   "outputs": [
    {
     "data": {
      "image/png": "[encoded data removed]",
      "text/plain": [
       "<Figure size 432x288 with 1 Axes>"
      ]
     },
     "metadata": {
      "needs_background": "light"
     },
     "output_type": "display_data"
    }
   ],
   "source": [
    "plt.clf()\n",
    "\n",
    "plt.plot(epochs, acc, 'bo', label='Training acc')\n",
    "plt.plot(epochs, val_acc, 'b', label='Validation acc')\n",
    "plt.title('Training and validation accuracy')\n",
    "plt.xlabel('Epochs')\n",
    "plt.ylabel('Accuracy')\n",
    "plt.legend()\n",
    "\n",
    "plt.show()"
   ]
  },
  {
   "cell_type": "markdown",
   "id": "2ec0bd53",
   "metadata": {},
   "source": [
    "- CNN, LGBM, GlobalMaxPooling 세 모델 모두 저조한 성능을 보여주었습니다.\n",
    "- 밑에서는 GlobalMaxPooling Model 에서 학습된 워드 벡터를 활용해 유사도를 측정해보겠습니다."
   ]
  },
  {
   "cell_type": "markdown",
   "id": "75287ed7",
   "metadata": {},
   "source": [
    "***"
   ]
  },
  {
   "cell_type": "markdown",
   "id": "321eae5f",
   "metadata": {},
   "source": [
    "### GlobalMaxPooling 단어 유사도 측정 (Non-Pretrained)"
   ]
  },
  {
   "cell_type": "code",
   "execution_count": 71,
   "id": "c7767cd4",
   "metadata": {},
   "outputs": [
    {
     "name": "stdout",
     "output_type": "stream",
     "text": [
      "(10000, 200)\n"
     ]
    }
   ],
   "source": [
    "embedding_layer = model.layers[0]\n",
    "weights = embedding_layer.get_weights()[0]\n",
    "print(weights.shape)"
   ]
  },
  {
   "cell_type": "markdown",
   "id": "33fcd4fc",
   "metadata": {},
   "source": [
    "- embedding layer 에서 학습된 weight 을 불러옵니다."
   ]
  },
  {
   "cell_type": "code",
   "execution_count": 72,
   "id": "d19423ce",
   "metadata": {},
   "outputs": [],
   "source": [
    "word2vec_file_path = os.getenv('HOME')+'/aiffel/sentiment_classification/data/word2vec.txt'\n",
    "f = open(word2vec_file_path, 'w')\n",
    "f.write('{} {}\\n'.format(vocab_size-4, word_vector_dim))\n",
    " \n",
    "vectors = model.get_weights()[0]\n",
    "for i in range(4,vocab_size):\n",
    "    f.write('{} {}\\n'.format(index_to_word[i], ' '.join(map(str, list(vectors[i, :])))))\n",
    "f.close()"
   ]
  },
  {
   "cell_type": "markdown",
   "id": "b6c58997",
   "metadata": {},
   "source": [
    "- 각 단어의 벡터를 특수문자 4개를 제외하고 파일로 저장합니다."
   ]
  },
  {
   "cell_type": "code",
   "execution_count": 73,
   "id": "68278521",
   "metadata": {
    "scrolled": true
   },
   "outputs": [
    {
     "data": {
      "text/plain": [
       "array([-9.12655517e-02, -1.35704160e-01,  5.06590419e-02, -7.70442560e-03,\n",
       "       -7.34942928e-02, -6.10525683e-02, -1.50803640e-01, -6.58003166e-02,\n",
       "       -3.02985683e-02,  3.21159102e-02, -3.81114036e-02, -1.00938573e-01,\n",
       "       -7.59329349e-02, -1.21194318e-01,  2.23400377e-04, -9.20874253e-02,\n",
       "       -1.04147978e-01,  1.39616534e-01, -9.97068062e-02,  1.52085930e-01,\n",
       "       -1.39308572e-02, -1.03687845e-01,  6.27857521e-02,  6.74448907e-02,\n",
       "       -1.74733214e-02, -3.18529718e-02, -1.02607705e-01, -7.50585571e-02,\n",
       "        3.35333459e-02, -1.65483002e-02,  1.80874914e-01,  6.17588386e-02,\n",
       "        6.81344047e-02, -9.74009931e-02, -2.71253311e-03,  4.64053592e-03,\n",
       "       -7.92868882e-02,  8.12322125e-02,  7.91658685e-02,  2.66115330e-02,\n",
       "        8.50881562e-02, -1.67241674e-02,  6.85513159e-03,  4.98218872e-02,\n",
       "       -1.26748189e-01, -8.17184001e-02, -1.02100544e-01, -2.18729265e-02,\n",
       "        9.41389948e-02, -4.24837843e-02,  2.71356646e-02,  4.74903062e-02,\n",
       "       -6.85254857e-02, -1.80689879e-02,  5.54866120e-02, -8.46542194e-02,\n",
       "        5.76104373e-02, -5.12767918e-02, -9.65719447e-02,  3.31992060e-02,\n",
       "       -9.92946774e-02, -2.37485599e-02, -1.08276889e-01, -2.94815581e-02,\n",
       "       -8.05693790e-02, -5.09250015e-02, -7.87482485e-02,  4.80179600e-02,\n",
       "       -3.29722315e-02, -1.12709571e-02, -6.93677664e-02,  1.49566203e-01,\n",
       "       -1.33281857e-01, -1.12143666e-01,  1.32881850e-01, -6.32412881e-02,\n",
       "       -7.70698041e-02,  9.02570784e-04, -4.68283240e-03, -1.09475099e-01,\n",
       "        7.82689638e-03,  1.54191479e-01, -4.47348133e-02, -1.15298182e-01,\n",
       "       -3.33532728e-02,  1.06890909e-02,  1.07616425e-01, -8.99089202e-02,\n",
       "       -4.07233126e-02,  6.79598451e-02,  1.43804938e-01, -8.74317959e-02,\n",
       "       -1.11506507e-01,  1.46381825e-01, -7.69781917e-02, -2.89373752e-02,\n",
       "        5.92488348e-02, -7.85384476e-02,  9.38276052e-02, -7.31915236e-02,\n",
       "       -1.14192739e-01, -1.25959307e-01, -2.84813680e-02,  3.62185501e-02,\n",
       "        1.19998023e-01,  5.39703444e-02, -6.77005351e-02, -3.52427363e-02,\n",
       "       -1.13540299e-01, -1.13148846e-01, -9.05127171e-03, -7.41243586e-02,\n",
       "        1.80045396e-01,  1.12402430e-02, -1.01915881e-01,  2.70016678e-02,\n",
       "        3.23505556e-05,  6.58659562e-02, -1.30306408e-01,  1.19727947e-01,\n",
       "        1.04293734e-01, -5.89622930e-02, -4.82246652e-02,  4.89644073e-02,\n",
       "        4.84518521e-02, -8.40557739e-02, -4.60645594e-02,  2.47589834e-02,\n",
       "        1.77586421e-01, -4.04575542e-02, -1.13519216e-02, -1.02731355e-01,\n",
       "        8.02643448e-02, -2.72252411e-03, -4.93697263e-02, -1.03477381e-01,\n",
       "       -9.74840373e-02,  1.40032053e-01,  3.35567221e-02, -1.23768590e-01,\n",
       "        5.63418530e-02,  6.98510706e-02,  2.10122410e-02,  3.84302847e-02,\n",
       "       -2.03818735e-03, -6.32945299e-02, -2.11530365e-02, -2.43587140e-02,\n",
       "        1.05611056e-01,  5.77871837e-02, -6.46728426e-02, -7.51101747e-02,\n",
       "        7.76883215e-02,  1.18052825e-01, -8.94039422e-02, -1.28749162e-02,\n",
       "        2.02324800e-02, -6.40468821e-02, -2.23720390e-02, -4.79861461e-02,\n",
       "       -9.50749144e-02, -4.66474593e-02,  1.86136246e-01, -1.81654468e-02,\n",
       "       -8.91889632e-02,  7.40990266e-02,  1.46783397e-01, -1.02853529e-01,\n",
       "        1.29019693e-01,  1.10298744e-03,  5.17632961e-02, -1.13931723e-01,\n",
       "       -3.14975083e-02, -6.15746435e-03, -1.47398505e-02, -1.04192689e-01,\n",
       "        7.47193629e-03,  8.86415169e-02, -1.18924526e-03, -1.30396858e-02,\n",
       "       -4.74535227e-02, -1.23291001e-01, -5.61580136e-02, -2.22058054e-02,\n",
       "        6.49858639e-02, -3.02636269e-02,  1.12184763e-01, -9.80856866e-02,\n",
       "       -4.79985699e-02, -6.73683584e-02, -1.17398292e-01,  3.08464877e-02,\n",
       "       -7.25254640e-02, -7.29655325e-02, -5.78997321e-02,  2.20627431e-03,\n",
       "        1.21336043e-01,  6.79428279e-02, -4.33667982e-03,  2.04958394e-02],\n",
       "      dtype=float32)"
      ]
     },
     "execution_count": 73,
     "metadata": {},
     "output_type": "execute_result"
    }
   ],
   "source": [
    "word_vectors = Word2VecKeyedVectors.load_word2vec_format(word2vec_file_path, binary=False)\n",
    "vector = word_vectors['굳']\n",
    "vector"
   ]
  },
  {
   "cell_type": "code",
   "execution_count": 74,
   "id": "e76c3cbc",
   "metadata": {
    "scrolled": false
   },
   "outputs": [
    {
     "data": {
      "text/plain": [
       "[('귀여움', 0.3358725905418396),\n",
       " ('부담없이', 0.3333151340484619),\n",
       " ('해요', 0.3137018084526062),\n",
       " ('객관적으로', 0.30611735582351685),\n",
       " ('주제가', 0.3047097623348236),\n",
       " ('아플', 0.30398181080818176),\n",
       " ('백', 0.2997032403945923),\n",
       " ('중학교', 0.29949820041656494),\n",
       " ('바랍니다', 0.29941603541374207),\n",
       " ('긔', 0.29913926124572754)]"
      ]
     },
     "execution_count": 74,
     "metadata": {},
     "output_type": "execute_result"
    }
   ],
   "source": [
    "word_vectors.similar_by_word(\"굳\")"
   ]
  },
  {
   "cell_type": "markdown",
   "id": "26c39de3",
   "metadata": {},
   "source": [
    "- \"굳\" 과 유사도가 높은 단어들을 출력해보았습니다.\n",
    "- 유사한 단어들을 잘찾아내었다고 생각되지 않습니다."
   ]
  },
  {
   "cell_type": "markdown",
   "id": "ada6582f",
   "metadata": {},
   "source": [
    "***"
   ]
  },
  {
   "cell_type": "markdown",
   "id": "2b756b38",
   "metadata": {},
   "source": [
    "### Pre-trained Model (CNN)"
   ]
  },
  {
   "cell_type": "code",
   "execution_count": 75,
   "id": "6bd5dd2c",
   "metadata": {
    "scrolled": true
   },
   "outputs": [
    {
     "name": "stderr",
     "output_type": "stream",
     "text": [
      "/tmp/ipykernel_530/1635053418.py:3: DeprecationWarning: Call to deprecated `__getitem__` (Method will be removed in 4.0.0, use self.wv.__getitem__() instead).\n",
      "  vector = word2vec['사랑']\n"
     ]
    },
    {
     "data": {
      "text/plain": [
       "array([-1.3740246 , -1.7353463 ,  3.3915305 , -2.569253  , -1.4016607 ,\n",
       "        1.4556127 ,  0.9414557 ,  1.9207907 ,  0.16471806,  0.4838317 ,\n",
       "       -0.8547181 ,  2.0879807 ,  0.86741775,  0.87539405, -0.09962013,\n",
       "        0.22928311, -1.1858722 ,  0.00858838,  1.4999928 , -0.16196461,\n",
       "       -0.35184434, -0.92390764,  1.0849575 ,  0.3025011 ,  2.7021565 ,\n",
       "       -1.0263684 ,  0.32864776, -0.76589465, -2.510981  , -0.66225356,\n",
       "        2.8434615 ,  0.50130975, -1.021874  , -1.4366034 ,  1.1110784 ,\n",
       "        0.5812605 , -0.5830406 , -0.5785423 ,  1.3634988 ,  2.3074338 ,\n",
       "       -1.4314893 ,  0.45745876,  1.1073523 , -3.2135262 , -0.2898375 ,\n",
       "       -1.1622221 ,  1.2369208 , -0.7622987 , -0.37757635,  1.1376442 ,\n",
       "        0.01065568, -0.69105595,  1.5159112 ,  1.1534518 , -1.0119992 ,\n",
       "       -0.5757404 ,  1.1349088 , -1.1289831 ,  0.13004152,  2.0451715 ,\n",
       "       -0.23940353,  1.3604902 ,  0.72700524,  0.32545742,  1.0612459 ,\n",
       "        0.42252553,  1.1442151 ,  2.8774905 ,  2.4377263 , -1.340305  ,\n",
       "        0.12629706, -0.07772489, -0.59053177, -0.19007324,  0.1396541 ,\n",
       "       -1.8655105 ,  0.9401054 ,  0.5150856 ,  0.7795373 , -0.86505556,\n",
       "        0.11842118, -1.8303713 ,  1.337177  , -1.0102932 , -0.37180334,\n",
       "        0.00893255, -0.49141577, -1.05802   , -2.5987291 ,  0.9731856 ,\n",
       "        0.34080654, -2.5973568 ,  1.0046519 , -1.3914212 , -0.6504351 ,\n",
       "       -0.9010805 , -1.1341541 ,  0.75565654,  1.2941337 ,  0.0880572 ,\n",
       "       -1.0341461 , -0.1750075 , -0.01880708, -1.0835075 , -2.0333962 ,\n",
       "        1.1372623 ,  1.0626172 , -1.8369784 , -2.2662086 , -3.382057  ,\n",
       "        1.6751666 , -0.2988223 , -0.25563756, -1.5594274 ,  0.6313433 ,\n",
       "       -1.2667153 , -1.6857744 , -1.0949599 ,  0.7742313 , -0.6095523 ,\n",
       "        3.19503   ,  0.13200459,  1.7937473 , -2.8782516 ,  1.3821276 ,\n",
       "        2.2895143 ,  0.0741943 , -0.41046414,  1.438796  ,  0.19373988,\n",
       "        1.4294034 ,  1.5025262 ,  1.4849502 ,  1.5754777 ,  2.7793512 ,\n",
       "       -0.6885003 , -0.30154693, -1.708323  ,  1.1030879 , -2.2597387 ,\n",
       "        1.1909146 ,  2.4399316 ,  0.3990314 ,  0.904154  ,  0.5454401 ,\n",
       "       -1.3235748 , -0.64812386,  0.22390233,  0.9657619 , -0.47360668,\n",
       "       -0.10278235, -1.0679734 , -0.91414386,  0.92069   ,  0.3549338 ,\n",
       "        0.32858834,  0.84870636,  3.596926  , -1.6651102 ,  0.23658653,\n",
       "        1.0515738 ,  0.40531915, -0.773514  , -0.93460965, -0.3946274 ,\n",
       "       -1.5657727 ,  1.183652  ,  2.5277    ,  0.57700926,  1.7051374 ,\n",
       "       -1.8249958 , -2.0328498 ,  0.6617798 ,  0.85747904,  0.31782728,\n",
       "       -1.1660796 ,  0.32923874,  2.2055087 , -0.12782003,  2.0455444 ,\n",
       "       -0.1724252 ,  0.46001154,  1.559042  , -1.6152996 , -0.84242785,\n",
       "        0.7553168 ,  0.39734274,  0.07714175,  0.05610155,  0.32837135,\n",
       "        1.0220716 ,  1.3816743 ,  0.8049544 ,  0.28728685, -0.97610044,\n",
       "        0.8861181 , -0.01250968, -1.4845604 , -1.5236791 , -1.5451258 ],\n",
       "      dtype=float32)"
      ]
     },
     "execution_count": 75,
     "metadata": {},
     "output_type": "execute_result"
    }
   ],
   "source": [
    "word2vec_path = os.getenv('HOME')+'/aiffel/sentiment_classification/data/ko.bin'\n",
    "word2vec = Word2Vec.load(word2vec_path)\n",
    "vector = word2vec['사랑']\n",
    "vector"
   ]
  },
  {
   "cell_type": "code",
   "execution_count": 227,
   "id": "e9b41438",
   "metadata": {},
   "outputs": [
    {
     "name": "stderr",
     "output_type": "stream",
     "text": [
      "/tmp/ipykernel_530/1360476464.py:1: DeprecationWarning: Call to deprecated `similar_by_word` (Method will be removed in 4.0.0, use self.wv.similar_by_word() instead).\n",
      "  word2vec.similar_by_word(\"사랑\")\n"
     ]
    },
    {
     "data": {
      "text/plain": [
       "[('슬픔', 0.7216662764549255),\n",
       " ('행복', 0.6759077310562134),\n",
       " ('절망', 0.6468985080718994),\n",
       " ('기쁨', 0.6458414196968079),\n",
       " ('이별', 0.6334798336029053),\n",
       " ('추억', 0.6320937275886536),\n",
       " ('인생', 0.6216273307800293),\n",
       " ('애정', 0.6206069588661194),\n",
       " ('연인', 0.6186063289642334),\n",
       " ('유혹', 0.5965287685394287)]"
      ]
     },
     "execution_count": 227,
     "metadata": {},
     "output_type": "execute_result"
    }
   ],
   "source": [
    "word2vec.similar_by_word(\"사랑\")"
   ]
  },
  {
   "cell_type": "markdown",
   "id": "ec5e87e2",
   "metadata": {},
   "source": [
    "- 사전학습된 임베딩 벡터로 \"사랑\"과 유사한 단어들을 추출해보았습니다.\n",
    "- 확실히 이전 GlobalMaxPooling 보다 유사도가 높은 단어들이 추출되었습니다."
   ]
  },
  {
   "cell_type": "code",
   "execution_count": 77,
   "id": "4320e072",
   "metadata": {},
   "outputs": [
    {
     "name": "stdout",
     "output_type": "stream",
     "text": [
      "(200,)\n",
      "(200,)\n"
     ]
    },
    {
     "name": "stderr",
     "output_type": "stream",
     "text": [
      "/tmp/ipykernel_530/3738736718.py:1: DeprecationWarning: Call to deprecated `__getitem__` (Method will be removed in 4.0.0, use self.wv.__getitem__() instead).\n",
      "  print(word2vec[\"사랑\"].shape)\n",
      "/tmp/ipykernel_530/3738736718.py:2: DeprecationWarning: Call to deprecated `__getitem__` (Method will be removed in 4.0.0, use self.wv.__getitem__() instead).\n",
      "  print(word2vec[\"죽음\"].shape)\n"
     ]
    }
   ],
   "source": [
    "print(word2vec[\"사랑\"].shape)\n",
    "print(word2vec[\"죽음\"].shape)"
   ]
  },
  {
   "cell_type": "markdown",
   "id": "677ac6dd",
   "metadata": {},
   "source": [
    "- 사전학습된 워드 벡터의 차원수는 200 임을 알 수 있습니다."
   ]
  },
  {
   "cell_type": "code",
   "execution_count": 78,
   "id": "55f9cc5d",
   "metadata": {
    "scrolled": true
   },
   "outputs": [
    {
     "name": "stderr",
     "output_type": "stream",
     "text": [
      "/tmp/ipykernel_530/2448617487.py:6: DeprecationWarning: Call to deprecated `__contains__` (Method will be removed in 4.0.0, use self.wv.__contains__() instead).\n",
      "  if index_to_word[i] in word2vec:\n",
      "/tmp/ipykernel_530/2448617487.py:7: DeprecationWarning: Call to deprecated `__getitem__` (Method will be removed in 4.0.0, use self.wv.__getitem__() instead).\n",
      "  embedding_matrix[i] = word2vec[index_to_word[i]]\n"
     ]
    }
   ],
   "source": [
    "vocab_size = 10000\n",
    "word_vector_dim = 200\n",
    "embedding_matrix = np.random.rand(vocab_size, word_vector_dim)\n",
    "\n",
    "for i in range(4,vocab_size):\n",
    "    if index_to_word[i] in word2vec:\n",
    "        embedding_matrix[i] = word2vec[index_to_word[i]]"
   ]
  },
  {
   "cell_type": "markdown",
   "id": "35f8d4a1",
   "metadata": {},
   "source": [
    "- 사전학습 워드 벡터에서 단어장의 단어들을 찾아 embedding_matrix 에 넣습니다."
   ]
  },
  {
   "cell_type": "code",
   "execution_count": 79,
   "id": "f16f1381",
   "metadata": {
    "scrolled": true
   },
   "outputs": [
    {
     "name": "stdout",
     "output_type": "stream",
     "text": [
      "Model: \"sequential_6\"\n",
      "_________________________________________________________________\n",
      "Layer (type)                 Output Shape              Param #   \n",
      "=================================================================\n",
      "embedding_6 (Embedding)      (None, 42, 200)           2000000   \n",
      "_________________________________________________________________\n",
      "conv1d_4 (Conv1D)            (None, 36, 16)            22416     \n",
      "_________________________________________________________________\n",
      "max_pooling1d_2 (MaxPooling1 (None, 7, 16)             0         \n",
      "_________________________________________________________________\n",
      "conv1d_5 (Conv1D)            (None, 1, 16)             1808      \n",
      "_________________________________________________________________\n",
      "global_max_pooling1d_5 (Glob (None, 16)                0         \n",
      "_________________________________________________________________\n",
      "dense_12 (Dense)             (None, 8)                 136       \n",
      "_________________________________________________________________\n",
      "dense_13 (Dense)             (None, 1)                 9         \n",
      "=================================================================\n",
      "Total params: 2,024,369\n",
      "Trainable params: 2,024,369\n",
      "Non-trainable params: 0\n",
      "_________________________________________________________________\n"
     ]
    }
   ],
   "source": [
    "model = tf.keras.Sequential()\n",
    "model.add(tf.keras.layers.Embedding(vocab_size, \n",
    "                                 word_vector_dim, \n",
    "                                 embeddings_initializer=Constant(embedding_matrix),\n",
    "                                 input_length=maxlen, \n",
    "                                 trainable=True))\n",
    "model.add(tf.keras.layers.Conv1D(16, 7, activation='relu'))\n",
    "model.add(tf.keras.layers.MaxPooling1D(5))\n",
    "model.add(tf.keras.layers.Conv1D(16, 7, activation='relu'))\n",
    "model.add(tf.keras.layers.GlobalMaxPooling1D())\n",
    "model.add(tf.keras.layers.Dense(8, activation='relu'))\n",
    "model.add(tf.keras.layers.Dense(1, activation='sigmoid')) \n",
    "\n",
    "model.summary()"
   ]
  },
  {
   "cell_type": "code",
   "execution_count": 80,
   "id": "3ae705a2",
   "metadata": {},
   "outputs": [
    {
     "name": "stdout",
     "output_type": "stream",
     "text": [
      "X_val.shape: (36182, 42)\n",
      "y_val.shape: (36182,)\n",
      "partial_X_train.shape: (110000, 42)\n",
      "partial_y_train.shape: (110000,)\n"
     ]
    }
   ],
   "source": [
    "X_val = X_train[:36182]\n",
    "y_val = y_train[:36182]\n",
    "\n",
    "partial_X_train = X_train[36182:]\n",
    "partial_y_train = y_train[36182:]\n",
    "\n",
    "# Test\n",
    "print(\"X_val.shape:\", X_val.shape)\n",
    "print(\"y_val.shape:\", y_val.shape)\n",
    "print(\"partial_X_train.shape:\", partial_X_train.shape)\n",
    "print(\"partial_y_train.shape:\", partial_y_train.shape)"
   ]
  },
  {
   "cell_type": "markdown",
   "id": "67b0fdde",
   "metadata": {},
   "source": [
    "- 동일한 데이터를 준비해주었습니다."
   ]
  },
  {
   "cell_type": "code",
   "execution_count": 81,
   "id": "8ff2839f",
   "metadata": {
    "scrolled": true
   },
   "outputs": [
    {
     "name": "stdout",
     "output_type": "stream",
     "text": [
      "Epoch 1/20\n",
      "215/215 [==============================] - 2s 8ms/step - loss: 0.5749 - accuracy: 0.6819 - val_loss: 0.4606 - val_accuracy: 0.7835\n",
      "Epoch 2/20\n",
      "215/215 [==============================] - 1s 7ms/step - loss: 0.4128 - accuracy: 0.8123 - val_loss: 0.3922 - val_accuracy: 0.8236\n",
      "Epoch 3/20\n",
      "215/215 [==============================] - 1s 7ms/step - loss: 0.3458 - accuracy: 0.8501 - val_loss: 0.3802 - val_accuracy: 0.8278\n",
      "Epoch 4/20\n",
      "215/215 [==============================] - 1s 7ms/step - loss: 0.3083 - accuracy: 0.8682 - val_loss: 0.3694 - val_accuracy: 0.8363\n",
      "Epoch 5/20\n",
      "215/215 [==============================] - 1s 7ms/step - loss: 0.2786 - accuracy: 0.8848 - val_loss: 0.3726 - val_accuracy: 0.8369\n",
      "Epoch 6/20\n",
      "215/215 [==============================] - 1s 7ms/step - loss: 0.2533 - accuracy: 0.8968 - val_loss: 0.3874 - val_accuracy: 0.8349\n",
      "Epoch 7/20\n",
      "215/215 [==============================] - 1s 7ms/step - loss: 0.2301 - accuracy: 0.9086 - val_loss: 0.4071 - val_accuracy: 0.8341\n",
      "Epoch 8/20\n",
      "215/215 [==============================] - 1s 7ms/step - loss: 0.2074 - accuracy: 0.9199 - val_loss: 0.4352 - val_accuracy: 0.8299\n",
      "Epoch 9/20\n",
      "215/215 [==============================] - 1s 7ms/step - loss: 0.1841 - accuracy: 0.9298 - val_loss: 0.4631 - val_accuracy: 0.8297\n",
      "Epoch 10/20\n",
      "215/215 [==============================] - 1s 7ms/step - loss: 0.1623 - accuracy: 0.9398 - val_loss: 0.4759 - val_accuracy: 0.8255\n",
      "Epoch 11/20\n",
      "215/215 [==============================] - 1s 7ms/step - loss: 0.1415 - accuracy: 0.9491 - val_loss: 0.5238 - val_accuracy: 0.8249\n",
      "Epoch 12/20\n",
      "215/215 [==============================] - 1s 7ms/step - loss: 0.1247 - accuracy: 0.9553 - val_loss: 0.5958 - val_accuracy: 0.8255\n",
      "Epoch 13/20\n",
      "215/215 [==============================] - 1s 7ms/step - loss: 0.1085 - accuracy: 0.9624 - val_loss: 0.6470 - val_accuracy: 0.8215\n",
      "Epoch 14/20\n",
      "215/215 [==============================] - 1s 7ms/step - loss: 0.0975 - accuracy: 0.9664 - val_loss: 0.6923 - val_accuracy: 0.8174\n",
      "Epoch 15/20\n",
      "215/215 [==============================] - 1s 7ms/step - loss: 0.0890 - accuracy: 0.9691 - val_loss: 0.7132 - val_accuracy: 0.8193\n",
      "Epoch 16/20\n",
      "215/215 [==============================] - 1s 7ms/step - loss: 0.0763 - accuracy: 0.9745 - val_loss: 0.7803 - val_accuracy: 0.8183\n",
      "Epoch 17/20\n",
      "215/215 [==============================] - 1s 7ms/step - loss: 0.0726 - accuracy: 0.9752 - val_loss: 0.7931 - val_accuracy: 0.8186\n",
      "Epoch 18/20\n",
      "215/215 [==============================] - 1s 7ms/step - loss: 0.0634 - accuracy: 0.9786 - val_loss: 0.8310 - val_accuracy: 0.8185\n",
      "Epoch 19/20\n",
      "215/215 [==============================] - 1s 7ms/step - loss: 0.0604 - accuracy: 0.9796 - val_loss: 0.8984 - val_accuracy: 0.8189\n",
      "Epoch 20/20\n",
      "215/215 [==============================] - 1s 7ms/step - loss: 0.0601 - accuracy: 0.9790 - val_loss: 0.9197 - val_accuracy: 0.8178\n"
     ]
    }
   ],
   "source": [
    "model.compile(optimizer='adam',\n",
    "              loss='binary_crossentropy',\n",
    "              metrics=['accuracy'])\n",
    "              \n",
    "EPOCHS = 20 \n",
    "\n",
    "history = model.fit(partial_X_train,\n",
    "                    partial_y_train,\n",
    "                    epochs=EPOCHS,\n",
    "                    batch_size=512,\n",
    "                    validation_data=(X_val, y_val),\n",
    "                    verbose=1)"
   ]
  },
  {
   "cell_type": "markdown",
   "id": "9babffc1",
   "metadata": {},
   "source": [
    "***"
   ]
  },
  {
   "cell_type": "markdown",
   "id": "8dea814e",
   "metadata": {},
   "source": [
    "### 결과 예측 및 시각화"
   ]
  },
  {
   "cell_type": "code",
   "execution_count": 82,
   "id": "52977e57",
   "metadata": {},
   "outputs": [
    {
     "name": "stdout",
     "output_type": "stream",
     "text": [
      "1537/1537 - 2s - loss: 0.9362 - accuracy: 0.8143\n"
     ]
    }
   ],
   "source": [
    "results = model.evaluate(X_test,  y_test, verbose=2)"
   ]
  },
  {
   "cell_type": "code",
   "execution_count": 83,
   "id": "8279914e",
   "metadata": {},
   "outputs": [
    {
     "data": {
      "image/png": "[encoded data removed]",
      "text/plain": [
       "<Figure size 432x288 with 1 Axes>"
      ]
     },
     "metadata": {
      "needs_background": "light"
     },
     "output_type": "display_data"
    }
   ],
   "source": [
    "acc = history_dict['accuracy']\n",
    "val_acc = history_dict['val_accuracy']\n",
    "loss = history_dict['loss']\n",
    "val_loss = history_dict['val_loss']\n",
    "\n",
    "epochs = range(1, len(acc) + 1)\n",
    "\n",
    "plt.plot(epochs, loss, 'bo', label='Training loss')\n",
    "plt.plot(epochs, val_loss, 'b', label='Validation loss')\n",
    "\n",
    "plt.title('Training and validation loss')\n",
    "plt.xlabel('Epochs')\n",
    "plt.ylabel('Loss')\n",
    "plt.legend()\n",
    "\n",
    "plt.show()"
   ]
  },
  {
   "cell_type": "code",
   "execution_count": 84,
   "id": "54fbf17f",
   "metadata": {},
   "outputs": [
    {
     "data": {
      "image/png": "[encoded data removed]",
      "text/plain": [
       "<Figure size 432x288 with 1 Axes>"
      ]
     },
     "metadata": {
      "needs_background": "light"
     },
     "output_type": "display_data"
    }
   ],
   "source": [
    "plt.clf()\n",
    "\n",
    "plt.plot(epochs, acc, 'bo', label='Training acc')\n",
    "plt.plot(epochs, val_acc, 'b', label='Validation acc')\n",
    "plt.title('Training and validation accuracy')\n",
    "plt.xlabel('Epochs')\n",
    "plt.ylabel('Accuracy')\n",
    "plt.legend()\n",
    "\n",
    "plt.show()"
   ]
  },
  {
   "cell_type": "markdown",
   "id": "45d1a58d",
   "metadata": {},
   "source": [
    "- CNN 에서는 사전학습 모델을 사용하지 않았을 때와 사전학습 모델을 사용하였을 때의 성능 차이가 크지 않음을 알 수 있었습니다."
   ]
  },
  {
   "cell_type": "markdown",
   "id": "ec232290",
   "metadata": {},
   "source": [
    "***"
   ]
  },
  {
   "cell_type": "markdown",
   "id": "87d8be27",
   "metadata": {},
   "source": [
    "### Pre-trained Model (RNN)"
   ]
  },
  {
   "cell_type": "code",
   "execution_count": 93,
   "id": "97fbab30",
   "metadata": {},
   "outputs": [],
   "source": [
    "word2vec_path = os.getenv('HOME')+'/aiffel/sentiment_classification/data/ko.bin'\n",
    "word2vec = Word2Vec.load(word2vec_path)"
   ]
  },
  {
   "cell_type": "markdown",
   "id": "3bc57b57",
   "metadata": {},
   "source": [
    "- RNN 에서 사용할 한국어 워드임베딩 파일을 다시 불러와주도록 하겠습니다."
   ]
  },
  {
   "cell_type": "code",
   "execution_count": 94,
   "id": "cfe4f4bb",
   "metadata": {},
   "outputs": [
    {
     "name": "stderr",
     "output_type": "stream",
     "text": [
      "/tmp/ipykernel_530/2448617487.py:6: DeprecationWarning: Call to deprecated `__contains__` (Method will be removed in 4.0.0, use self.wv.__contains__() instead).\n",
      "  if index_to_word[i] in word2vec:\n",
      "/tmp/ipykernel_530/2448617487.py:7: DeprecationWarning: Call to deprecated `__getitem__` (Method will be removed in 4.0.0, use self.wv.__getitem__() instead).\n",
      "  embedding_matrix[i] = word2vec[index_to_word[i]]\n"
     ]
    }
   ],
   "source": [
    "vocab_size = 10000\n",
    "word_vector_dim = 200\n",
    "embedding_matrix = np.random.rand(vocab_size, word_vector_dim)\n",
    "\n",
    "for i in range(4,vocab_size):\n",
    "    if index_to_word[i] in word2vec:\n",
    "        embedding_matrix[i] = word2vec[index_to_word[i]]"
   ]
  },
  {
   "cell_type": "markdown",
   "id": "8946c0c5",
   "metadata": {},
   "source": [
    "- 한국어 임베딩 벡터에서 워드 벡터를 가져와 embedding matrix 에 넣어주었습니다."
   ]
  },
  {
   "cell_type": "code",
   "execution_count": 95,
   "id": "003f370c",
   "metadata": {
    "scrolled": true
   },
   "outputs": [
    {
     "name": "stdout",
     "output_type": "stream",
     "text": [
      "Model: \"sequential_9\"\n",
      "_________________________________________________________________\n",
      "Layer (type)                 Output Shape              Param #   \n",
      "=================================================================\n",
      "embedding_9 (Embedding)      (None, 42, 200)           2000000   \n",
      "_________________________________________________________________\n",
      "lstm_3 (LSTM)                (None, 128)               168448    \n",
      "_________________________________________________________________\n",
      "dense_18 (Dense)             (None, 8)                 1032      \n",
      "_________________________________________________________________\n",
      "dense_19 (Dense)             (None, 1)                 9         \n",
      "=================================================================\n",
      "Total params: 2,169,489\n",
      "Trainable params: 2,169,489\n",
      "Non-trainable params: 0\n",
      "_________________________________________________________________\n"
     ]
    }
   ],
   "source": [
    "model = tf.keras.Sequential()\n",
    "model.add(tf.keras.layers.Embedding(vocab_size, \n",
    "                                 word_vector_dim, \n",
    "                                 embeddings_initializer=Constant(embedding_matrix),\n",
    "                                 input_length=maxlen, \n",
    "                                 trainable=True))\n",
    "model.add(tf.keras.layers.LSTM(128))\n",
    "model.add(tf.keras.layers.Dense(8, activation='relu'))\n",
    "model.add(tf.keras.layers.Dense(1, activation='sigmoid'))\n",
    "\n",
    "model.summary()"
   ]
  },
  {
   "cell_type": "markdown",
   "id": "a0aec32d",
   "metadata": {},
   "source": [
    "- 사전학습 워드 임베딩을 RNN Model 에 적용시켜보겠습니다."
   ]
  },
  {
   "cell_type": "code",
   "execution_count": 96,
   "id": "c7ff0120",
   "metadata": {},
   "outputs": [
    {
     "name": "stdout",
     "output_type": "stream",
     "text": [
      "X_val.shape: (36182, 42)\n",
      "y_val.shape: (36182,)\n",
      "partial_X_train.shape: (110000, 42)\n",
      "partial_y_train.shape: (110000,)\n"
     ]
    }
   ],
   "source": [
    "X_val = X_train[:36182]\n",
    "y_val = y_train[:36182]\n",
    "\n",
    "partial_X_train = X_train[36182:]\n",
    "partial_y_train = y_train[36182:]\n",
    "\n",
    "# Test\n",
    "print(\"X_val.shape:\", X_val.shape)\n",
    "print(\"y_val.shape:\", y_val.shape)\n",
    "print(\"partial_X_train.shape:\", partial_X_train.shape)\n",
    "print(\"partial_y_train.shape:\", partial_y_train.shape)"
   ]
  },
  {
   "cell_type": "markdown",
   "id": "5c767a0c",
   "metadata": {},
   "source": [
    "- 데이터도 동일하게 준비해주었습니다."
   ]
  },
  {
   "cell_type": "code",
   "execution_count": 97,
   "id": "f66f2a73",
   "metadata": {},
   "outputs": [
    {
     "name": "stdout",
     "output_type": "stream",
     "text": [
      "Epoch 1/10\n",
      "215/215 [==============================] - 5s 16ms/step - loss: 0.4578 - accuracy: 0.7794 - val_loss: 0.3622 - val_accuracy: 0.8395\n",
      "Epoch 2/10\n",
      "215/215 [==============================] - 3s 14ms/step - loss: 0.3316 - accuracy: 0.8564 - val_loss: 0.3253 - val_accuracy: 0.8577\n",
      "Epoch 3/10\n",
      "215/215 [==============================] - 3s 14ms/step - loss: 0.2871 - accuracy: 0.8791 - val_loss: 0.3240 - val_accuracy: 0.8595\n",
      "Epoch 4/10\n",
      "215/215 [==============================] - 3s 14ms/step - loss: 0.2591 - accuracy: 0.8931 - val_loss: 0.3279 - val_accuracy: 0.8605\n",
      "Epoch 5/10\n",
      "215/215 [==============================] - 3s 14ms/step - loss: 0.2314 - accuracy: 0.9072 - val_loss: 0.3266 - val_accuracy: 0.8617\n",
      "Epoch 6/10\n",
      "215/215 [==============================] - 3s 14ms/step - loss: 0.2042 - accuracy: 0.9195 - val_loss: 0.3385 - val_accuracy: 0.8630\n",
      "Epoch 7/10\n",
      "215/215 [==============================] - 3s 15ms/step - loss: 0.1797 - accuracy: 0.9302 - val_loss: 0.3573 - val_accuracy: 0.8609\n",
      "Epoch 8/10\n",
      "215/215 [==============================] - 3s 15ms/step - loss: 0.1547 - accuracy: 0.9409 - val_loss: 0.3964 - val_accuracy: 0.8607\n",
      "Epoch 9/10\n",
      "215/215 [==============================] - 3s 14ms/step - loss: 0.1278 - accuracy: 0.9526 - val_loss: 0.4331 - val_accuracy: 0.8569\n",
      "Epoch 10/10\n",
      "215/215 [==============================] - 3s 14ms/step - loss: 0.1076 - accuracy: 0.9603 - val_loss: 0.4912 - val_accuracy: 0.8572\n"
     ]
    }
   ],
   "source": [
    "model.compile(optimizer='adam',\n",
    "             loss='binary_crossentropy',\n",
    "             metrics=['accuracy'])\n",
    "\n",
    "EPOCHS = 10\n",
    "\n",
    "history = model.fit(partial_X_train,\n",
    "                    partial_y_train,\n",
    "                    epochs=EPOCHS,\n",
    "                    batch_size=512,\n",
    "                    validation_data=(X_val, y_val),\n",
    "                    verbose=1)"
   ]
  },
  {
   "cell_type": "markdown",
   "id": "d13018f4",
   "metadata": {},
   "source": [
    "***"
   ]
  },
  {
   "cell_type": "markdown",
   "id": "c23f2a66",
   "metadata": {},
   "source": [
    "### 결과 예측 및 시각화"
   ]
  },
  {
   "cell_type": "code",
   "execution_count": 98,
   "id": "c7852f59",
   "metadata": {},
   "outputs": [
    {
     "name": "stdout",
     "output_type": "stream",
     "text": [
      "1537/1537 - 3s - loss: 0.5033 - accuracy: 0.8529\n"
     ]
    }
   ],
   "source": [
    "results = model.evaluate(X_test,  y_test, verbose=2)"
   ]
  },
  {
   "cell_type": "code",
   "execution_count": 99,
   "id": "ab1d4721",
   "metadata": {
    "scrolled": true
   },
   "outputs": [
    {
     "data": {
      "image/png": "[encoded data removed]",
      "text/plain": [
       "<Figure size 432x288 with 1 Axes>"
      ]
     },
     "metadata": {
      "needs_background": "light"
     },
     "output_type": "display_data"
    }
   ],
   "source": [
    "acc = history_dict['accuracy']\n",
    "val_acc = history_dict['val_accuracy']\n",
    "loss = history_dict['loss']\n",
    "val_loss = history_dict['val_loss']\n",
    "\n",
    "epochs = range(1, len(acc) + 1)\n",
    "\n",
    "plt.plot(epochs, loss, 'bo', label='Training loss')\n",
    "plt.plot(epochs, val_loss, 'b', label='Validation loss')\n",
    "\n",
    "plt.title('Training and validation loss')\n",
    "plt.xlabel('Epochs')\n",
    "plt.ylabel('Loss')\n",
    "plt.legend()\n",
    "\n",
    "plt.show()"
   ]
  },
  {
   "cell_type": "code",
   "execution_count": 100,
   "id": "21c9f539",
   "metadata": {},
   "outputs": [
    {
     "data": {
      "image/png": "[encoded data removed]",
      "text/plain": [
       "<Figure size 432x288 with 1 Axes>"
      ]
     },
     "metadata": {
      "needs_background": "light"
     },
     "output_type": "display_data"
    }
   ],
   "source": [
    "plt.clf()\n",
    "\n",
    "plt.plot(epochs, acc, 'bo', label='Training acc')\n",
    "plt.plot(epochs, val_acc, 'b', label='Validation acc')\n",
    "plt.title('Training and validation accuracy')\n",
    "plt.xlabel('Epochs')\n",
    "plt.ylabel('Accuracy')\n",
    "plt.legend()\n",
    "\n",
    "plt.show()"
   ]
  },
  {
   "cell_type": "markdown",
   "id": "5342e3b5",
   "metadata": {},
   "source": [
    "- 사전학습 모델을 사용하지 않았을 때 보다, test accuracy 가 소폭 상승한 것을 확인할 수 있습니다.\n",
    "- (loss: 0.5133 - accuracy: 0.8440)  -->  (loss: 0.5033 - accuracy: 0.8529)"
   ]
  },
  {
   "cell_type": "markdown",
   "id": "e1bad751",
   "metadata": {},
   "source": [
    "***"
   ]
  },
  {
   "cell_type": "markdown",
   "id": "a8dba4c4",
   "metadata": {},
   "source": [
    "### Pre-trained Model (GlobalMaxPooling1D)"
   ]
  },
  {
   "cell_type": "code",
   "execution_count": 229,
   "id": "b91dd579",
   "metadata": {},
   "outputs": [],
   "source": [
    "word2vec_path = os.getenv('HOME')+'/aiffel/sentiment_classification/data/ko.bin'\n",
    "word2vec = Word2Vec.load(word2vec_path)"
   ]
  },
  {
   "cell_type": "code",
   "execution_count": 230,
   "id": "b97bc8c2",
   "metadata": {},
   "outputs": [
    {
     "name": "stderr",
     "output_type": "stream",
     "text": [
      "/tmp/ipykernel_530/2448617487.py:6: DeprecationWarning: Call to deprecated `__contains__` (Method will be removed in 4.0.0, use self.wv.__contains__() instead).\n",
      "  if index_to_word[i] in word2vec:\n",
      "/tmp/ipykernel_530/2448617487.py:7: DeprecationWarning: Call to deprecated `__getitem__` (Method will be removed in 4.0.0, use self.wv.__getitem__() instead).\n",
      "  embedding_matrix[i] = word2vec[index_to_word[i]]\n"
     ]
    }
   ],
   "source": [
    "vocab_size = 10000\n",
    "word_vector_dim = 200\n",
    "embedding_matrix = np.random.rand(vocab_size, word_vector_dim)\n",
    "\n",
    "for i in range(4,vocab_size):\n",
    "    if index_to_word[i] in word2vec:\n",
    "        embedding_matrix[i] = word2vec[index_to_word[i]]"
   ]
  },
  {
   "cell_type": "code",
   "execution_count": 231,
   "id": "0d4608cb",
   "metadata": {},
   "outputs": [
    {
     "name": "stdout",
     "output_type": "stream",
     "text": [
      "Model: \"sequential_27\"\n",
      "_________________________________________________________________\n",
      "Layer (type)                 Output Shape              Param #   \n",
      "=================================================================\n",
      "embedding_27 (Embedding)     (None, 42, 200)           2000000   \n",
      "_________________________________________________________________\n",
      "global_max_pooling1d_22 (Glo (None, 200)               0         \n",
      "_________________________________________________________________\n",
      "dense_54 (Dense)             (None, 16)                3216      \n",
      "_________________________________________________________________\n",
      "dense_55 (Dense)             (None, 1)                 17        \n",
      "=================================================================\n",
      "Total params: 2,003,233\n",
      "Trainable params: 2,003,233\n",
      "Non-trainable params: 0\n",
      "_________________________________________________________________\n"
     ]
    }
   ],
   "source": [
    "model = tf.keras.Sequential()\n",
    "model.add(tf.keras.layers.Embedding(vocab_size, \n",
    "                                 word_vector_dim, \n",
    "                                 embeddings_initializer=Constant(embedding_matrix),\n",
    "                                 input_length=maxlen, \n",
    "                                 trainable=True))\n",
    "model.add(tf.keras.layers.GlobalMaxPooling1D())\n",
    "model.add(tf.keras.layers.Dense(16, activation='relu'))\n",
    "model.add(tf.keras.layers.Dense(1, activation='sigmoid'))\n",
    "\n",
    "model.summary()"
   ]
  },
  {
   "cell_type": "markdown",
   "id": "008424e7",
   "metadata": {},
   "source": [
    "- 사전학습된 워드 임베딩을 GlobalMaxPooling1D 모델에 적용시켜 보겠습니다."
   ]
  },
  {
   "cell_type": "code",
   "execution_count": 232,
   "id": "69e6785a",
   "metadata": {},
   "outputs": [
    {
     "name": "stdout",
     "output_type": "stream",
     "text": [
      "X_val.shape: (36182, 42)\n",
      "y_val.shape: (36182,)\n",
      "partial_X_train.shape: (110000, 42)\n",
      "partial_y_train.shape: (110000,)\n"
     ]
    }
   ],
   "source": [
    "X_val = X_train[:36182]\n",
    "y_val = y_train[:36182]\n",
    "\n",
    "partial_X_train = X_train[36182:]\n",
    "partial_y_train = y_train[36182:]\n",
    "\n",
    "# Test\n",
    "print(\"X_val.shape:\", X_val.shape)\n",
    "print(\"y_val.shape:\", y_val.shape)\n",
    "print(\"partial_X_train.shape:\", partial_X_train.shape)\n",
    "print(\"partial_y_train.shape:\", partial_y_train.shape)"
   ]
  },
  {
   "cell_type": "code",
   "execution_count": 233,
   "id": "703a27e9",
   "metadata": {},
   "outputs": [
    {
     "name": "stdout",
     "output_type": "stream",
     "text": [
      "Epoch 1/10\n",
      "215/215 [==============================] - 2s 6ms/step - loss: 0.7169 - accuracy: 0.5704 - val_loss: 0.6316 - val_accuracy: 0.6452\n",
      "Epoch 2/10\n",
      "215/215 [==============================] - 1s 5ms/step - loss: 0.5924 - accuracy: 0.6873 - val_loss: 0.5614 - val_accuracy: 0.7157\n",
      "Epoch 3/10\n",
      "215/215 [==============================] - 1s 5ms/step - loss: 0.5304 - accuracy: 0.7404 - val_loss: 0.5114 - val_accuracy: 0.7513\n",
      "Epoch 4/10\n",
      "215/215 [==============================] - 1s 5ms/step - loss: 0.4843 - accuracy: 0.7708 - val_loss: 0.4790 - val_accuracy: 0.7708\n",
      "Epoch 5/10\n",
      "215/215 [==============================] - 1s 5ms/step - loss: 0.4495 - accuracy: 0.7920 - val_loss: 0.4543 - val_accuracy: 0.7873\n",
      "Epoch 6/10\n",
      "215/215 [==============================] - 1s 5ms/step - loss: 0.4225 - accuracy: 0.8078 - val_loss: 0.4372 - val_accuracy: 0.7957\n",
      "Epoch 7/10\n",
      "215/215 [==============================] - 1s 5ms/step - loss: 0.4009 - accuracy: 0.8192 - val_loss: 0.4233 - val_accuracy: 0.8054\n",
      "Epoch 8/10\n",
      "215/215 [==============================] - 1s 5ms/step - loss: 0.3809 - accuracy: 0.8308 - val_loss: 0.4139 - val_accuracy: 0.8095\n",
      "Epoch 9/10\n",
      "215/215 [==============================] - 1s 5ms/step - loss: 0.3639 - accuracy: 0.8400 - val_loss: 0.4066 - val_accuracy: 0.8149\n",
      "Epoch 10/10\n",
      "215/215 [==============================] - 1s 5ms/step - loss: 0.3495 - accuracy: 0.8473 - val_loss: 0.4026 - val_accuracy: 0.8168\n"
     ]
    }
   ],
   "source": [
    "model.compile(optimizer='adam',\n",
    "             loss='binary_crossentropy',\n",
    "             metrics=['accuracy'])\n",
    "\n",
    "EPOCHS = 10\n",
    "\n",
    "history = model.fit(partial_X_train,\n",
    "                    partial_y_train,\n",
    "                    epochs=EPOCHS,\n",
    "                    batch_size=512,\n",
    "                    validation_data=(X_val, y_val),\n",
    "                    verbose=1)"
   ]
  },
  {
   "cell_type": "markdown",
   "id": "22d12ef4",
   "metadata": {},
   "source": [
    "***"
   ]
  },
  {
   "cell_type": "markdown",
   "id": "59413265",
   "metadata": {},
   "source": [
    "### 결과 예측 및 시각화"
   ]
  },
  {
   "cell_type": "code",
   "execution_count": 234,
   "id": "8e18297a",
   "metadata": {},
   "outputs": [
    {
     "name": "stdout",
     "output_type": "stream",
     "text": [
      "1537/1537 - 2s - loss: 0.4145 - accuracy: 0.8119\n"
     ]
    }
   ],
   "source": [
    "results = model.evaluate(X_test,  y_test, verbose=2)"
   ]
  },
  {
   "cell_type": "code",
   "execution_count": 235,
   "id": "0474731e",
   "metadata": {},
   "outputs": [
    {
     "data": {
      "image/png": "[encoded data removed]",
      "text/plain": [
       "<Figure size 432x288 with 1 Axes>"
      ]
     },
     "metadata": {
      "needs_background": "light"
     },
     "output_type": "display_data"
    }
   ],
   "source": [
    "acc = history_dict['accuracy']\n",
    "val_acc = history_dict['val_accuracy']\n",
    "loss = history_dict['loss']\n",
    "val_loss = history_dict['val_loss']\n",
    "\n",
    "epochs = range(1, len(acc) + 1)\n",
    "\n",
    "plt.plot(epochs, loss, 'bo', label='Training loss')\n",
    "plt.plot(epochs, val_loss, 'b', label='Validation loss')\n",
    "\n",
    "plt.title('Training and validation loss')\n",
    "plt.xlabel('Epochs')\n",
    "plt.ylabel('Loss')\n",
    "plt.legend()\n",
    "\n",
    "plt.show()"
   ]
  },
  {
   "cell_type": "code",
   "execution_count": 236,
   "id": "eb9c4dda",
   "metadata": {},
   "outputs": [
    {
     "data": {
      "image/png": "[encoded data removed]",
      "text/plain": [
       "<Figure size 432x288 with 1 Axes>"
      ]
     },
     "metadata": {
      "needs_background": "light"
     },
     "output_type": "display_data"
    }
   ],
   "source": [
    "plt.clf()\n",
    "\n",
    "plt.plot(epochs, acc, 'bo', label='Training acc')\n",
    "plt.plot(epochs, val_acc, 'b', label='Validation acc')\n",
    "plt.title('Training and validation accuracy')\n",
    "plt.xlabel('Epochs')\n",
    "plt.ylabel('Accuracy')\n",
    "plt.legend()\n",
    "\n",
    "plt.show()"
   ]
  },
  {
   "cell_type": "markdown",
   "id": "955f38a7",
   "metadata": {},
   "source": [
    "- 사전학습된 모델을 사용하기 전보다 test accuracy 가 오히려 하락한 것을 볼 수 있습니다.\n",
    "- (loss: 0.6059 - accuracy: 0.8356)  -->  (loss: 0.4145 - accuracy: 0.8119)\n",
    "- loss 는 줄어들었지만, accuracy 도 함께 하락한 현상입니다.\n",
    "- 아래에서는 사전학습된 모델의 워드 벡터로 유사도를 측정해보도록 하겠습니다."
   ]
  },
  {
   "cell_type": "markdown",
   "id": "91bcd64d",
   "metadata": {},
   "source": [
    "***"
   ]
  },
  {
   "cell_type": "markdown",
   "id": "1fe10b98",
   "metadata": {},
   "source": [
    "### GlobalMaxPooling 단어 유사도 측정 (Pretrained)"
   ]
  },
  {
   "cell_type": "code",
   "execution_count": 237,
   "id": "8e3cde18",
   "metadata": {
    "scrolled": true
   },
   "outputs": [
    {
     "name": "stdout",
     "output_type": "stream",
     "text": [
      "(10000, 200)\n"
     ]
    }
   ],
   "source": [
    "embedding_layer = model.layers[0]\n",
    "weights = embedding_layer.get_weights()[0]\n",
    "print(weights.shape)"
   ]
  },
  {
   "cell_type": "markdown",
   "id": "4b11c81d",
   "metadata": {},
   "source": [
    "- 사전학습된 워드임베딩을 사용한 후, GlobalMaxPooling 모델에서 학습이 잘 되었는지 확인해보도록 하겠습니다.\n",
    "- embedding_layer 에서 weight 을 불러와주었습니다."
   ]
  },
  {
   "cell_type": "code",
   "execution_count": 238,
   "id": "bc047289",
   "metadata": {},
   "outputs": [],
   "source": [
    "word2vec_file_path = os.getenv('HOME')+'/aiffel/sentiment_classification/data/word2vec_trained.txt'\n",
    "f = open(word2vec_file_path, 'w')\n",
    "f.write('{} {}\\n'.format(vocab_size-4, word_vector_dim))\n",
    " \n",
    "vectors = model.get_weights()[0]\n",
    "for i in range(4,vocab_size):\n",
    "    f.write('{} {}\\n'.format(index_to_word[i], ' '.join(map(str, list(vectors[i, :])))))\n",
    "f.close()"
   ]
  },
  {
   "cell_type": "markdown",
   "id": "9c4ef4fd",
   "metadata": {},
   "source": [
    "- 특수문자 4 개를 제외하고 txt 파일로 저장해주었습니다."
   ]
  },
  {
   "cell_type": "code",
   "execution_count": 265,
   "id": "03dd161e",
   "metadata": {
    "scrolled": true
   },
   "outputs": [
    {
     "data": {
      "text/plain": [
       "array([ 1.0703063 , -2.2912955 ,  3.559133  , -2.1199276 , -3.0332334 ,\n",
       "       -0.19465393, -2.481366  , -0.10735121,  2.532727  ,  0.94002855,\n",
       "       -0.45329845, -2.0046058 , -0.01572813,  0.5299075 ,  0.30947903,\n",
       "       -0.9715863 , -0.9571187 , -0.60102916,  1.157476  , -1.9047512 ,\n",
       "       -1.2195476 , -1.1592524 ,  0.6908848 ,  2.0263958 , -0.3389445 ,\n",
       "       -0.49982402,  1.4806709 , -0.5019951 ,  1.3574295 , -1.1941459 ,\n",
       "        1.2251973 ,  1.2236094 , -0.30472234,  2.1581662 , -1.1565856 ,\n",
       "       -0.23786964, -0.6009812 ,  0.4694643 ,  0.82051736, -1.5666542 ,\n",
       "       -0.02252442, -1.4792949 ,  1.265192  ,  1.4482378 ,  1.570893  ,\n",
       "        0.6842896 ,  3.1198428 , -1.9629716 ,  0.7421784 ,  1.3782285 ,\n",
       "        0.4521591 ,  0.4622873 , -2.176243  , -0.20598859, -2.23883   ,\n",
       "       -1.6937513 , -2.2974951 , -0.46340045,  0.87461954,  0.5414275 ,\n",
       "        1.4188771 , -0.9991125 , -1.0794336 ,  0.8958367 , -0.8817606 ,\n",
       "        1.4555601 , -2.426482  ,  0.05825558,  2.4376202 ,  0.37956408,\n",
       "        3.0490932 ,  1.6657054 , -1.1671705 ,  0.8237506 ,  4.590425  ,\n",
       "       -0.60856414,  0.7857233 ,  0.81673557,  0.41927576, -1.6768107 ,\n",
       "       -3.1595662 , -0.14261521,  2.0656612 , -0.11094837, -2.1942945 ,\n",
       "        0.8499024 , -0.5296651 ,  1.4238439 , -2.6290061 , -1.4189166 ,\n",
       "        0.9993826 , -1.0913172 , -1.0048355 ,  2.7274716 ,  0.6285788 ,\n",
       "       -1.2174375 , -0.9657722 , -1.0152395 ,  0.36920968,  3.333445  ,\n",
       "        0.03072724,  1.4111031 , -1.8932865 ,  0.43378967, -0.2971605 ,\n",
       "        1.7286077 ,  0.19106394,  0.8633594 , -4.395526  , -2.782803  ,\n",
       "        4.2437468 , -2.9051135 , -2.238838  , -2.609383  ,  0.44876218,\n",
       "       -1.0346476 , -3.2167242 ,  0.24802952, -1.7131122 ,  0.94073176,\n",
       "       -1.1475829 , -0.14993533, -0.31696472, -2.1121385 , -0.7437849 ,\n",
       "        0.78402656,  0.5364471 , -0.14344764,  0.8815168 ,  0.01381943,\n",
       "        1.7618308 , -1.6198753 ,  2.0316963 , -0.13469009,  0.7198687 ,\n",
       "        3.5060356 , -1.4100598 , -0.7387036 , -0.6864579 ,  0.6169212 ,\n",
       "        0.01796604, -0.7128891 , -0.36713868, -1.0794181 ,  2.4241607 ,\n",
       "        1.9565556 , -1.7702909 , -0.33142793, -2.752764  ,  0.56889427,\n",
       "       -1.1330652 , -1.432214  , -0.00514037,  0.01048426, -0.35118294,\n",
       "       -0.27634418,  0.88642067,  2.551854  ,  0.65294397,  1.8333036 ,\n",
       "        0.2852981 , -1.9456061 , -0.284934  , -0.48388445,  0.7035882 ,\n",
       "       -2.74617   , -0.05845991, -1.576361  , -1.9945118 ,  1.8631598 ,\n",
       "        3.33406   , -1.684523  , -0.03559533, -0.45918506,  0.8393642 ,\n",
       "       -0.25565395,  0.01258983, -0.973847  ,  0.21768694, -0.02744086,\n",
       "       -1.5970165 , -0.8845844 , -0.3702187 , -4.0633225 , -0.75575995,\n",
       "       -2.2488348 , -0.40003732, -1.2609444 , -1.5897131 ,  2.3996897 ,\n",
       "        0.64992595,  1.84283   ,  2.439192  ,  0.7279551 ,  2.835926  ,\n",
       "        0.12080476, -0.9508957 ,  2.9164882 , -1.0781038 ,  1.4736608 ],\n",
       "      dtype=float32)"
      ]
     },
     "execution_count": 265,
     "metadata": {},
     "output_type": "execute_result"
    }
   ],
   "source": [
    "word_vectors = Word2VecKeyedVectors.load_word2vec_format(word2vec_file_path, binary=False)\n",
    "vector = word_vectors['좋']\n",
    "vector"
   ]
  },
  {
   "cell_type": "code",
   "execution_count": 264,
   "id": "9f5cf490",
   "metadata": {},
   "outputs": [
    {
     "data": {
      "text/plain": [
       "[('괜찮', 0.6817067265510559),\n",
       " ('나쁘', 0.6474779844284058),\n",
       " ('낫', 0.632419228553772),\n",
       " ('알맞', 0.5838558673858643),\n",
       " ('낮', 0.5832082033157349),\n",
       " ('높', 0.5813097953796387),\n",
       " ('많', 0.5619640350341797),\n",
       " ('귀찮', 0.5484614372253418),\n",
       " ('밝', 0.5327792763710022),\n",
       " ('똑같', 0.5149755477905273)]"
      ]
     },
     "execution_count": 264,
     "metadata": {},
     "output_type": "execute_result"
    }
   ],
   "source": [
    "word_vectors.similar_by_word(\"좋\")"
   ]
  },
  {
   "cell_type": "markdown",
   "id": "a0d9c3a2",
   "metadata": {},
   "source": [
    "- 사전학습 모델을 사용하기 전과 비교했을 때 단어 간 유사도가 증가하였다고 볼 수 있습니다.\n",
    "- 하지만, LSTM 모델을 제외한 다른 두 모델에서는 사전학습 모델을 사용하였음에도 불구하고 0.85 이상의 성능을 보여주지는 못했습니다."
   ]
  },
  {
   "cell_type": "markdown",
   "id": "35a1beea",
   "metadata": {},
   "source": [
    "***"
   ]
  },
  {
   "cell_type": "markdown",
   "id": "9e69aab5",
   "metadata": {},
   "source": [
    "# 2.1) Retrospection"
   ]
  },
  {
   "cell_type": "markdown",
   "id": "5e708771",
   "metadata": {},
   "source": [
    "<h2 style=\"font-style:italic\">2022.01.21 - [E-06]NaverMovieCorpusSentimentAnalysis</h2>\n",
    "\n",
    "> 이번 프로젝트에서는 네이버 영화 리뷰 데이터를 활용하여 리뷰가 긍정적(1)인지, 부정적(0)인지를 예측하는 모델을 구현해보았다. 그 과정에서 한국어 워드 임베딩이 완료된 pre-trained data 를 fine-tuning 하여 사용해보기도 하였다.\n",
    "\n",
    "***"
   ]
  },
  {
   "cell_type": "markdown",
   "id": "001f89e5",
   "metadata": {},
   "source": [
    "**(1)** **어려웠던 점**\n",
    "<br>\n",
    "<br>\n",
    "- 가장 어려웠던 점은 loss 와 accuracy 최적화였다. pre-trained model 을 사용하지 않고 CNN, RNN, GlobalMaxPooling 3 가지의 모델로 학습을 시켰을 때, loss 와 accuracy 를 시각화한 그래프에서 알 수 있듯이, 학습이 정상적으로 진행되지 못했다.\n",
    "<br>\n",
    "<br>\n",
    "- 그래프를 보았을 때, 공통적으로 epoch 2 에서 3 정도 학습이 진행되었을 때부터 loss 가 갑작스럽게 증가하고, accuracy 가 감소하기 시작한다. 학습이 오래 진행되지 않았음에도 불구하고, train data 와의 간극이 커지며, 성능이 낮아지는 현상은 단순히 오버피팅의 문제라 판단하기에는 그 원인이 불충분해보였다.\n",
    "<br>\n",
    "<br>\n",
    "- 이러한 문제는 pre-trained vector 를 사용하였을 때도 동일하게 나타났다. 미리 학습된 워드 임베딩 벡터를 불러와 미리 생성해놓은 단어장과 매치하여 적절한 벡터값을 embedding matrix 로 생성해주었고, 이를 embedding layer 에서 활용하였을 때도 RNN(LSTM)에서는 0.85 의 accuracy 로 소폭 상향된 모습을 보여주었으나, 그래프와 다른 두 모델에서는 사전학습 모델을 사용하지 않았을 때와 크게 다른 점이 없었다.\n",
    "<br>\n",
    "<br>\n",
    "- non-pre-trained model 과 pre-trained model 을 fine-tuning 하였을 때 성능에 차이가 크게 발생하지 않는다면 데이터의 문제일 확률이 가장 컸다. 애초에 데이터의 전처리가 부족하여 모델이 제대로된 학습을 진행하지 못했던 것이다. 데이터에서 특수문자를 제거하는 시도를 해보려고 했으나, '!' 나 '..' 과 같은 특수문자들은 문장의 학습에 충분히 도움이 될 것 같아 제거하지 않았다.\n",
    "<br>\n",
    "<br>\n",
    "- 또한, 적합한 hyper-parameter 를 찾아내지 못했을 가능성도 있다. 물론 여러 번의 시도 끝에 각 hyper-parameter 별 loss, accuracy 의 변화량을 체크하여 가장 성능이 잘 나오는 방향으로 parameter 를 변경해본 결과이기는 하지만, 가능한 모든 조합을 테스트해보지 않았다는 점에서 학습에 적합한 hyper-parameter 를 찾지 못했을 가능성이 존재한다고 보았다.\n",
    "<br>\n",
    "<br>\n",
    "- 마지막으로, 단어장 내의 단어 개수를 증가시켰다면, 성능이 좋아질 것이라는 생각이 들었다. 이번 프로젝트에서는 10000개의 단어를 기준으로 각 문장들을 텐서로 매핑해주었다. 하지만, 20000개 혹은 30000개의 단어를 가진 큰 규모의 단어장을 생성하여, 각 문장을 매핑한 후, 모델의 hyper-parameter 를 늘려주었다면, 성능이 소폭 상향되었으리라 생각해본다."
   ]
  },
  {
   "cell_type": "markdown",
   "id": "eaf67414",
   "metadata": {},
   "source": [
    "**(2)** **알게된 점**\n",
    "<br>\n",
    "<br>\n",
    "- tokenizer 의 morphs 메서드를 굉장히 유용하게 활용할 수 있겠다는 생각이 들었다. 앞서 진행한 RNN 프로젝트에서는 문장을 띄어쓰기를 기준으로  토큰화해주었다. 이렇게 간단한 방식으로 토큰화를 진행할 때에 생길 수 있는 문제점은 각 단어들이 본래의 의미를 잃어버릴 가능성이 농후하다는 것이며, 하나의 의미를 나타내는 다양한 단어들이 다른 class 로 분류될 수 있다는 점이다. 그러나 만약 morphs 메서드와 같이 단어들을 형태소를 기준으로 토큰화해준다면, 단어들이 나누어지면서 본래의 의미를 잃어버리게 되는 문제점을 줄일 수 있으며, 또한 '좋다' 와 '좋은' 과 같이 같은 의미를 나타내지만 종결어미가 다른 단어들 혹은 조사에 따른 차이가 생기는 단어들 모두 적절하게 분류해낼 수 있을 것으로 생각된다. 앞으로 다루게 될 다양한 Text 관련 Classification 에서 유용하게 사용될 토큰화 방법이다.\n",
    "<br>\n",
    "<br>\n",
    "- RNN 에서 각 레이어의 데이터 전달 과정을 알 수 있었다. 입력데이터에 가중치가 곱해지고 활성화 함수를 통과한 값이 다음 레이어에 전달되어 같은 과정을 거친다. 따라서, 출력 레이어에서는 이전에 입력되어 있었던 모든 데이터들이 누적되어 영향을 받게 되고, 이러한 원리에 기반하여 문장을 생성하는 모델도 구현해낼 수 있었던 것이다.\n",
    "<br>\n",
    "<br>\n",
    "- CNN 의 sliding window 기법으로도 text 의 특징을 추출해낼 수 있다는 점을 알게되었다. 이전까지 text 관련한 문제에 있어서는 RNN 이 가장 효율적이며, 적합한 모델이라고 생각해왔는데 Text Classification 에서 CNN 1D 를 사용하여 준수한 성능을 낼 수 있다는 사실을 깨달았다. 특정 문제에 적합한 모델을 찾는 일은 결국 모든 모델에 대해 테스트를 해보기 전에는 알 수 없다는 말이 떠오르는 경험이었다.\n",
    "<br>\n",
    "<br>\n",
    "- 모델의 학습 과정에서 history 에 loss 와 accuracy 를 저장해두고, 이를 시각화하면 적합한 epoch 를 직관적으로 쉽게 찾아낼 수 있다는 점이 흥미로웠다.\n",
    "<br>\n",
    "<br>\n",
    "- 사전학습된 모델을 활용하여 학습을 하였는데도 불구하고, 성능이 예상대로 나와주지 않았다는 점에서 데이터의 중요성과 hyper-parameter 의 중요성을 실감하게 되었다. 적합한 모델과 훌륭한 pre-trained model 을 사용한다고 하더라도, 결국 학습할 데이터의 질이 좋지않고, hyper-parameter 를 찾아내지 못한다면 모델의 성능은 낮게 나올 수 밖에 없다는 점을 알게 되었다."
   ]
  },
  {
   "cell_type": "markdown",
   "id": "0fb46636",
   "metadata": {},
   "source": [
    "**(3)** **모호한 점**\n",
    "<br>\n",
    "<br>\n",
    "- 이번 프로젝트에서 어려웠던 점들에 대해서 깊게 학습해나가야 할 것이다. 예를 들면, 데이터 전처리와 적합한 hyper-parameter 를 찾아내는 방법이 되겠다. 모델이 학습할 데이터를 어떠한 방법으로 가공하고, 정규화할지 등 과 같은 방법들에 대해 깊은 이해가 필요할 것 같다. 특히, 수치나 표 형태와 같은 데이터는 물론이고, 텍스트 데이터에 대한 토큰화 방법 및 필터링 방법 또한 깊게 학습해나가야 할 필요성을 느꼈다. 정규표현식에 대한 학습이 더해진다면, 텍스트 데이터를 필터링하고 가공하는 방법에 있어 훨씬 능숙해지지 않을까 생각이 든다.\n",
    "<br>\n",
    "<br>\n",
    "- hyper-parameter 는 매번 공부하고 알아가는데도 항상 부족한 것 같다. 각 개념에 대한 깊은 이해없이 모델 내에서 대충 어떠한 값을 의미하는지 정도만 알고 넘어갔던게 원인이다. hyper-parameter 에 대해 깊게 학습하고, 각 데이터의 특성과 개수 등에 따라 어느 정도의 값이 적합할 것인지 스스로 감을 잡을 수 있는 수준이 되면, hyper-parameter 를 찾아내는 시간들을 아껴 데이터의 전처리에 사용할 수 있을 것 같다. 이전 프로젝트에서 사용해본 grid search 나 random search 에 대해 학습하여 hyper-parameter 를 찾는 시간을 아낄 수 있도록 학습해나갈 생각이다."
   ]
  }
 ],
 "metadata": {
  "kernelspec": {
   "display_name": "Python 3 (ipykernel)",
   "language": "python",
   "name": "python3"
  },
  "language_info": {
   "codemirror_mode": {
    "name": "ipython",
    "version": 3
   },
   "file_extension": ".py",
   "mimetype": "text/x-python",
   "name": "python",
   "nbconvert_exporter": "python",
   "pygments_lexer": "ipython3",
   "version": "3.9.7"
  }
 },
 "nbformat": 4,
 "nbformat_minor": 5
}
