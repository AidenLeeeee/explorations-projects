{
 "cells": [
  {
   "cell_type": "markdown",
   "id": "16eaadcf",
   "metadata": {},
   "source": [
    "# Source Code"
   ]
  },
  {
   "cell_type": "code",
   "execution_count": 1,
   "id": "167ced0a",
   "metadata": {},
   "outputs": [],
   "source": [
    "import tensorflow as tf\n",
    "import os\n",
    "import datetime as dt\n",
    "from pathlib import Path\n",
    "import os\n",
    "\n",
    "import numpy as np\n",
    "import pandas as pd\n",
    "import warnings\n",
    "warnings.filterwarnings('ignore')\n",
    "import matplotlib.pyplot as plt"
   ]
  },
  {
   "cell_type": "markdown",
   "id": "04ec1a68",
   "metadata": {},
   "source": [
    "## Load Data"
   ]
  },
  {
   "cell_type": "code",
   "execution_count": 2,
   "id": "8406d21a",
   "metadata": {},
   "outputs": [],
   "source": [
    "def load_data(data_path: Path, nrows=None):\n",
    "    data = pd.read_csv(data_path, sep='::', header=None, usecols=[0, 1, 2, 3], dtype={0: np.int32, 1: np.int32, 2: np.int32}, nrows=nrows)\n",
    "    data.columns = ['UserId', 'ItemId', 'Rating', 'Time']\n",
    "    return data"
   ]
  },
  {
   "cell_type": "code",
   "execution_count": 3,
   "id": "f5a43640",
   "metadata": {
    "scrolled": false
   },
   "outputs": [
    {
     "data": {
      "text/html": [
       "<div>\n",
       "<style scoped>\n",
       "    .dataframe tbody tr th:only-of-type {\n",
       "        vertical-align: middle;\n",
       "    }\n",
       "\n",
       "    .dataframe tbody tr th {\n",
       "        vertical-align: top;\n",
       "    }\n",
       "\n",
       "    .dataframe thead th {\n",
       "        text-align: right;\n",
       "    }\n",
       "</style>\n",
       "<table border=\"1\" class=\"dataframe\">\n",
       "  <thead>\n",
       "    <tr style=\"text-align: right;\">\n",
       "      <th></th>\n",
       "      <th>UserId</th>\n",
       "      <th>ItemId</th>\n",
       "      <th>Rating</th>\n",
       "      <th>Time</th>\n",
       "    </tr>\n",
       "  </thead>\n",
       "  <tbody>\n",
       "    <tr>\n",
       "      <th>31</th>\n",
       "      <td>1</td>\n",
       "      <td>3186</td>\n",
       "      <td>4</td>\n",
       "      <td>978300019</td>\n",
       "    </tr>\n",
       "    <tr>\n",
       "      <th>22</th>\n",
       "      <td>1</td>\n",
       "      <td>1270</td>\n",
       "      <td>5</td>\n",
       "      <td>978300055</td>\n",
       "    </tr>\n",
       "    <tr>\n",
       "      <th>27</th>\n",
       "      <td>1</td>\n",
       "      <td>1721</td>\n",
       "      <td>4</td>\n",
       "      <td>978300055</td>\n",
       "    </tr>\n",
       "    <tr>\n",
       "      <th>37</th>\n",
       "      <td>1</td>\n",
       "      <td>1022</td>\n",
       "      <td>5</td>\n",
       "      <td>978300055</td>\n",
       "    </tr>\n",
       "    <tr>\n",
       "      <th>24</th>\n",
       "      <td>1</td>\n",
       "      <td>2340</td>\n",
       "      <td>3</td>\n",
       "      <td>978300103</td>\n",
       "    </tr>\n",
       "    <tr>\n",
       "      <th>...</th>\n",
       "      <td>...</td>\n",
       "      <td>...</td>\n",
       "      <td>...</td>\n",
       "      <td>...</td>\n",
       "    </tr>\n",
       "    <tr>\n",
       "      <th>1000019</th>\n",
       "      <td>6040</td>\n",
       "      <td>2917</td>\n",
       "      <td>4</td>\n",
       "      <td>997454429</td>\n",
       "    </tr>\n",
       "    <tr>\n",
       "      <th>999988</th>\n",
       "      <td>6040</td>\n",
       "      <td>1921</td>\n",
       "      <td>4</td>\n",
       "      <td>997454464</td>\n",
       "    </tr>\n",
       "    <tr>\n",
       "      <th>1000172</th>\n",
       "      <td>6040</td>\n",
       "      <td>1784</td>\n",
       "      <td>3</td>\n",
       "      <td>997454464</td>\n",
       "    </tr>\n",
       "    <tr>\n",
       "      <th>1000167</th>\n",
       "      <td>6040</td>\n",
       "      <td>161</td>\n",
       "      <td>3</td>\n",
       "      <td>997454486</td>\n",
       "    </tr>\n",
       "    <tr>\n",
       "      <th>1000042</th>\n",
       "      <td>6040</td>\n",
       "      <td>1221</td>\n",
       "      <td>4</td>\n",
       "      <td>998315055</td>\n",
       "    </tr>\n",
       "  </tbody>\n",
       "</table>\n",
       "<p>1000209 rows × 4 columns</p>\n",
       "</div>"
      ],
      "text/plain": [
       "         UserId  ItemId  Rating       Time\n",
       "31            1    3186       4  978300019\n",
       "22            1    1270       5  978300055\n",
       "27            1    1721       4  978300055\n",
       "37            1    1022       5  978300055\n",
       "24            1    2340       3  978300103\n",
       "...         ...     ...     ...        ...\n",
       "1000019    6040    2917       4  997454429\n",
       "999988     6040    1921       4  997454464\n",
       "1000172    6040    1784       3  997454464\n",
       "1000167    6040     161       3  997454486\n",
       "1000042    6040    1221       4  998315055\n",
       "\n",
       "[1000209 rows x 4 columns]"
      ]
     },
     "execution_count": 3,
     "metadata": {},
     "output_type": "execute_result"
    }
   ],
   "source": [
    "data_path = Path(os.getenv('HOME')+'/aiffel/yoochoose/data/') \n",
    "train_path = data_path / 'ratings.dat'\n",
    "\n",
    "data = load_data(train_path, None)\n",
    "data.sort_values(['UserId', 'Time'], inplace=True)\n",
    "data"
   ]
  },
  {
   "cell_type": "code",
   "execution_count": 4,
   "id": "fd67cf39",
   "metadata": {},
   "outputs": [
    {
     "name": "stdout",
     "output_type": "stream",
     "text": [
      "User 의 수: 6040\n",
      "Item 의 수: 3706\n"
     ]
    }
   ],
   "source": [
    "print('User 의 수:', data['UserId'].nunique())\n",
    "print('Item 의 수:', data['ItemId'].nunique())"
   ]
  },
  {
   "cell_type": "markdown",
   "id": "fd452c64",
   "metadata": {},
   "source": [
    "## Data Preprocess"
   ]
  },
  {
   "cell_type": "markdown",
   "id": "0feef108",
   "metadata": {},
   "source": [
    "### Rating 이 3 미만인 데이터 제거"
   ]
  },
  {
   "cell_type": "markdown",
   "id": "7124853d",
   "metadata": {},
   "source": [
    "- rating 이 3 미만인 경우, 유저가 해당 영화를 선호하지 않는다고 판단하여 제거해주었습니다."
   ]
  },
  {
   "cell_type": "code",
   "execution_count": 5,
   "id": "dfd1aa25",
   "metadata": {},
   "outputs": [],
   "source": [
    "data = data[data['Rating'] >= 3]"
   ]
  },
  {
   "cell_type": "code",
   "execution_count": 6,
   "id": "d7675ae0",
   "metadata": {
    "scrolled": true
   },
   "outputs": [
    {
     "data": {
      "text/html": [
       "<div>\n",
       "<style scoped>\n",
       "    .dataframe tbody tr th:only-of-type {\n",
       "        vertical-align: middle;\n",
       "    }\n",
       "\n",
       "    .dataframe tbody tr th {\n",
       "        vertical-align: top;\n",
       "    }\n",
       "\n",
       "    .dataframe thead th {\n",
       "        text-align: right;\n",
       "    }\n",
       "</style>\n",
       "<table border=\"1\" class=\"dataframe\">\n",
       "  <thead>\n",
       "    <tr style=\"text-align: right;\">\n",
       "      <th></th>\n",
       "      <th>UserId</th>\n",
       "      <th>ItemId</th>\n",
       "      <th>Rating</th>\n",
       "      <th>Time</th>\n",
       "    </tr>\n",
       "  </thead>\n",
       "  <tbody>\n",
       "    <tr>\n",
       "      <th>31</th>\n",
       "      <td>1</td>\n",
       "      <td>3186</td>\n",
       "      <td>4</td>\n",
       "      <td>978300019</td>\n",
       "    </tr>\n",
       "    <tr>\n",
       "      <th>22</th>\n",
       "      <td>1</td>\n",
       "      <td>1270</td>\n",
       "      <td>5</td>\n",
       "      <td>978300055</td>\n",
       "    </tr>\n",
       "    <tr>\n",
       "      <th>27</th>\n",
       "      <td>1</td>\n",
       "      <td>1721</td>\n",
       "      <td>4</td>\n",
       "      <td>978300055</td>\n",
       "    </tr>\n",
       "    <tr>\n",
       "      <th>37</th>\n",
       "      <td>1</td>\n",
       "      <td>1022</td>\n",
       "      <td>5</td>\n",
       "      <td>978300055</td>\n",
       "    </tr>\n",
       "    <tr>\n",
       "      <th>24</th>\n",
       "      <td>1</td>\n",
       "      <td>2340</td>\n",
       "      <td>3</td>\n",
       "      <td>978300103</td>\n",
       "    </tr>\n",
       "    <tr>\n",
       "      <th>...</th>\n",
       "      <td>...</td>\n",
       "      <td>...</td>\n",
       "      <td>...</td>\n",
       "      <td>...</td>\n",
       "    </tr>\n",
       "    <tr>\n",
       "      <th>1000019</th>\n",
       "      <td>6040</td>\n",
       "      <td>2917</td>\n",
       "      <td>4</td>\n",
       "      <td>997454429</td>\n",
       "    </tr>\n",
       "    <tr>\n",
       "      <th>999988</th>\n",
       "      <td>6040</td>\n",
       "      <td>1921</td>\n",
       "      <td>4</td>\n",
       "      <td>997454464</td>\n",
       "    </tr>\n",
       "    <tr>\n",
       "      <th>1000172</th>\n",
       "      <td>6040</td>\n",
       "      <td>1784</td>\n",
       "      <td>3</td>\n",
       "      <td>997454464</td>\n",
       "    </tr>\n",
       "    <tr>\n",
       "      <th>1000167</th>\n",
       "      <td>6040</td>\n",
       "      <td>161</td>\n",
       "      <td>3</td>\n",
       "      <td>997454486</td>\n",
       "    </tr>\n",
       "    <tr>\n",
       "      <th>1000042</th>\n",
       "      <td>6040</td>\n",
       "      <td>1221</td>\n",
       "      <td>4</td>\n",
       "      <td>998315055</td>\n",
       "    </tr>\n",
       "  </tbody>\n",
       "</table>\n",
       "<p>836478 rows × 4 columns</p>\n",
       "</div>"
      ],
      "text/plain": [
       "         UserId  ItemId  Rating       Time\n",
       "31            1    3186       4  978300019\n",
       "22            1    1270       5  978300055\n",
       "27            1    1721       4  978300055\n",
       "37            1    1022       5  978300055\n",
       "24            1    2340       3  978300103\n",
       "...         ...     ...     ...        ...\n",
       "1000019    6040    2917       4  997454429\n",
       "999988     6040    1921       4  997454464\n",
       "1000172    6040    1784       3  997454464\n",
       "1000167    6040     161       3  997454486\n",
       "1000042    6040    1221       4  998315055\n",
       "\n",
       "[836478 rows x 4 columns]"
      ]
     },
     "execution_count": 6,
     "metadata": {},
     "output_type": "execute_result"
    }
   ],
   "source": [
    "data"
   ]
  },
  {
   "cell_type": "code",
   "execution_count": 7,
   "id": "ac12c95b",
   "metadata": {
    "scrolled": false
   },
   "outputs": [
    {
     "name": "stdout",
     "output_type": "stream",
     "text": [
      "User 의 수: 6039\n",
      "Item 의 수: 3628\n"
     ]
    }
   ],
   "source": [
    "print('User 의 수:', data['UserId'].nunique())\n",
    "print('Item 의 수:', data['ItemId'].nunique())"
   ]
  },
  {
   "cell_type": "markdown",
   "id": "feee8761",
   "metadata": {},
   "source": [
    "### User 별 평가한 영화 수 확인"
   ]
  },
  {
   "cell_type": "code",
   "execution_count": 8,
   "id": "ae3c2087",
   "metadata": {
    "scrolled": true
   },
   "outputs": [
    {
     "name": "stdout",
     "output_type": "stream",
     "text": [
      "user_length 중앙값: 81.0\n",
      "user_length 평균값: 138.51266766020865\n",
      "user_length 최소값: 1\n",
      "user_length 최대값: 1968\n",
      "user_length 99.9%: 1118.8860000000013\n"
     ]
    }
   ],
   "source": [
    "user_length = data.groupby('UserId').size()\n",
    "\n",
    "print('user_length 중앙값:', user_length.median())\n",
    "print('user_length 평균값:', user_length.mean())\n",
    "print('user_length 최소값:', user_length.min())\n",
    "print('user_length 최대값:', user_length.max())\n",
    "print('user_length 99.9%:', user_length.quantile(0.999))"
   ]
  },
  {
   "cell_type": "markdown",
   "id": "2802434e",
   "metadata": {},
   "source": [
    "- User 별 평가한 영화는 평균 138 개입니다.\n",
    "<br>\n",
    "<br>\n",
    "- 최대는 1968 개이며, 99.9% 의 User 가 약 1119 개 이내로 평가하였습니다.\n",
    "<br>\n",
    "<br>\n",
    "- 가장 많은 영화를 평가한 User 데이터를 살펴보겠습니다."
   ]
  },
  {
   "cell_type": "code",
   "execution_count": 9,
   "id": "d2da07f9",
   "metadata": {
    "scrolled": true
   },
   "outputs": [
    {
     "data": {
      "text/html": [
       "<div>\n",
       "<style scoped>\n",
       "    .dataframe tbody tr th:only-of-type {\n",
       "        vertical-align: middle;\n",
       "    }\n",
       "\n",
       "    .dataframe tbody tr th {\n",
       "        vertical-align: top;\n",
       "    }\n",
       "\n",
       "    .dataframe thead th {\n",
       "        text-align: right;\n",
       "    }\n",
       "</style>\n",
       "<table border=\"1\" class=\"dataframe\">\n",
       "  <thead>\n",
       "    <tr style=\"text-align: right;\">\n",
       "      <th></th>\n",
       "      <th>UserId</th>\n",
       "      <th>ItemId</th>\n",
       "      <th>Rating</th>\n",
       "      <th>Time</th>\n",
       "    </tr>\n",
       "  </thead>\n",
       "  <tbody>\n",
       "    <tr>\n",
       "      <th>696969</th>\n",
       "      <td>4169</td>\n",
       "      <td>1268</td>\n",
       "      <td>5</td>\n",
       "      <td>965333392</td>\n",
       "    </tr>\n",
       "    <tr>\n",
       "      <th>697168</th>\n",
       "      <td>4169</td>\n",
       "      <td>2617</td>\n",
       "      <td>4</td>\n",
       "      <td>965333392</td>\n",
       "    </tr>\n",
       "    <tr>\n",
       "      <th>697185</th>\n",
       "      <td>4169</td>\n",
       "      <td>2628</td>\n",
       "      <td>4</td>\n",
       "      <td>965333392</td>\n",
       "    </tr>\n",
       "    <tr>\n",
       "      <th>697219</th>\n",
       "      <td>4169</td>\n",
       "      <td>2653</td>\n",
       "      <td>4</td>\n",
       "      <td>965333392</td>\n",
       "    </tr>\n",
       "    <tr>\n",
       "      <th>697275</th>\n",
       "      <td>4169</td>\n",
       "      <td>423</td>\n",
       "      <td>3</td>\n",
       "      <td>965333392</td>\n",
       "    </tr>\n",
       "    <tr>\n",
       "      <th>...</th>\n",
       "      <td>...</td>\n",
       "      <td>...</td>\n",
       "      <td>...</td>\n",
       "      <td>...</td>\n",
       "    </tr>\n",
       "    <tr>\n",
       "      <th>697055</th>\n",
       "      <td>4169</td>\n",
       "      <td>3207</td>\n",
       "      <td>3</td>\n",
       "      <td>1024172606</td>\n",
       "    </tr>\n",
       "    <tr>\n",
       "      <th>695958</th>\n",
       "      <td>4169</td>\n",
       "      <td>3413</td>\n",
       "      <td>3</td>\n",
       "      <td>1024173191</td>\n",
       "    </tr>\n",
       "    <tr>\n",
       "      <th>695702</th>\n",
       "      <td>4169</td>\n",
       "      <td>1413</td>\n",
       "      <td>3</td>\n",
       "      <td>1024175031</td>\n",
       "    </tr>\n",
       "    <tr>\n",
       "      <th>697358</th>\n",
       "      <td>4169</td>\n",
       "      <td>494</td>\n",
       "      <td>4</td>\n",
       "      <td>1024175760</td>\n",
       "    </tr>\n",
       "    <tr>\n",
       "      <th>696446</th>\n",
       "      <td>4169</td>\n",
       "      <td>1548</td>\n",
       "      <td>3</td>\n",
       "      <td>1024176337</td>\n",
       "    </tr>\n",
       "  </tbody>\n",
       "</table>\n",
       "<p>1968 rows × 4 columns</p>\n",
       "</div>"
      ],
      "text/plain": [
       "        UserId  ItemId  Rating        Time\n",
       "696969    4169    1268       5   965333392\n",
       "697168    4169    2617       4   965333392\n",
       "697185    4169    2628       4   965333392\n",
       "697219    4169    2653       4   965333392\n",
       "697275    4169     423       3   965333392\n",
       "...        ...     ...     ...         ...\n",
       "697055    4169    3207       3  1024172606\n",
       "695958    4169    3413       3  1024173191\n",
       "695702    4169    1413       3  1024175031\n",
       "697358    4169     494       4  1024175760\n",
       "696446    4169    1548       3  1024176337\n",
       "\n",
       "[1968 rows x 4 columns]"
      ]
     },
     "execution_count": 9,
     "metadata": {},
     "output_type": "execute_result"
    }
   ],
   "source": [
    "user_outlier = user_length[user_length == 1968].index[0]\n",
    "data[data['UserId'] == user_outlier]"
   ]
  },
  {
   "cell_type": "markdown",
   "id": "149ff25a",
   "metadata": {},
   "source": [
    "- 같은 시간에 여러 개의 영화를 평가한 기록이 보입니다.\n",
    "<br>\n",
    "<br>\n",
    "- 이는, 과거에 본 여러 영화들을 추후에 한번에 평가했을 가능성이 존재하므로 제거하지 않도록 하겠습니다."
   ]
  },
  {
   "cell_type": "code",
   "execution_count": 10,
   "id": "f113955b",
   "metadata": {
    "scrolled": true
   },
   "outputs": [
    {
     "data": {
      "text/plain": [
       "1       0.000166\n",
       "7       0.000331\n",
       "9       0.000994\n",
       "10      0.001159\n",
       "11      0.001987\n",
       "          ...   \n",
       "1029    0.998013\n",
       "1034    0.998344\n",
       "1054    0.998510\n",
       "1106    0.998675\n",
       "1116    0.998841\n",
       "Length: 636, dtype: float64"
      ]
     },
     "execution_count": 10,
     "metadata": {},
     "output_type": "execute_result"
    }
   ],
   "source": [
    "length_count = user_length.groupby(user_length).size()\n",
    "length_percent_cumsum = length_count.cumsum() / length_count.sum()\n",
    "length_percent_cumsum_999 = length_percent_cumsum[length_percent_cumsum < 0.999]\n",
    "\n",
    "length_percent_cumsum_999"
   ]
  },
  {
   "cell_type": "code",
   "execution_count": 11,
   "id": "1c7ac27d",
   "metadata": {
    "scrolled": true
   },
   "outputs": [
    {
     "data": {
      "text/plain": [
       "Text(0.5, 1.0, 'Cumsum Percentage Until 0.999')"
      ]
     },
     "execution_count": 11,
     "metadata": {},
     "output_type": "execute_result"
    },
    {
     "data": {
      "image/png": "[encoded data removed]",
      "text/plain": [
       "<Figure size 864x720 with 1 Axes>"
      ]
     },
     "metadata": {
      "needs_background": "light"
     },
     "output_type": "display_data"
    }
   ],
   "source": [
    "plt.figure(figsize = (12, 10))\n",
    "plt.bar(x = length_percent_cumsum_999.index,\n",
    "        height = length_percent_cumsum_999, color = 'red')\n",
    "plt.xticks(length_percent_cumsum_999.index)\n",
    "plt.yticks(np.arange(0, 1.01, 0.05))\n",
    "plt.title('Cumsum Percentage Until 0.999', size=20)"
   ]
  },
  {
   "cell_type": "markdown",
   "id": "d30872df",
   "metadata": {},
   "source": [
    "### 시간 관련 정보 확인"
   ]
  },
  {
   "cell_type": "code",
   "execution_count": 12,
   "id": "a37b02b9",
   "metadata": {
    "scrolled": true
   },
   "outputs": [
    {
     "data": {
      "text/html": [
       "<div>\n",
       "<style scoped>\n",
       "    .dataframe tbody tr th:only-of-type {\n",
       "        vertical-align: middle;\n",
       "    }\n",
       "\n",
       "    .dataframe tbody tr th {\n",
       "        vertical-align: top;\n",
       "    }\n",
       "\n",
       "    .dataframe thead th {\n",
       "        text-align: right;\n",
       "    }\n",
       "</style>\n",
       "<table border=\"1\" class=\"dataframe\">\n",
       "  <thead>\n",
       "    <tr style=\"text-align: right;\">\n",
       "      <th></th>\n",
       "      <th>UserId</th>\n",
       "      <th>ItemId</th>\n",
       "      <th>Rating</th>\n",
       "      <th>Time</th>\n",
       "    </tr>\n",
       "  </thead>\n",
       "  <tbody>\n",
       "    <tr>\n",
       "      <th>31</th>\n",
       "      <td>1</td>\n",
       "      <td>3186</td>\n",
       "      <td>4</td>\n",
       "      <td>2000-12-31 22:00:19</td>\n",
       "    </tr>\n",
       "    <tr>\n",
       "      <th>22</th>\n",
       "      <td>1</td>\n",
       "      <td>1270</td>\n",
       "      <td>5</td>\n",
       "      <td>2000-12-31 22:00:55</td>\n",
       "    </tr>\n",
       "    <tr>\n",
       "      <th>27</th>\n",
       "      <td>1</td>\n",
       "      <td>1721</td>\n",
       "      <td>4</td>\n",
       "      <td>2000-12-31 22:00:55</td>\n",
       "    </tr>\n",
       "    <tr>\n",
       "      <th>37</th>\n",
       "      <td>1</td>\n",
       "      <td>1022</td>\n",
       "      <td>5</td>\n",
       "      <td>2000-12-31 22:00:55</td>\n",
       "    </tr>\n",
       "    <tr>\n",
       "      <th>24</th>\n",
       "      <td>1</td>\n",
       "      <td>2340</td>\n",
       "      <td>3</td>\n",
       "      <td>2000-12-31 22:01:43</td>\n",
       "    </tr>\n",
       "    <tr>\n",
       "      <th>...</th>\n",
       "      <td>...</td>\n",
       "      <td>...</td>\n",
       "      <td>...</td>\n",
       "      <td>...</td>\n",
       "    </tr>\n",
       "    <tr>\n",
       "      <th>1000019</th>\n",
       "      <td>6040</td>\n",
       "      <td>2917</td>\n",
       "      <td>4</td>\n",
       "      <td>2001-08-10 14:40:29</td>\n",
       "    </tr>\n",
       "    <tr>\n",
       "      <th>999988</th>\n",
       "      <td>6040</td>\n",
       "      <td>1921</td>\n",
       "      <td>4</td>\n",
       "      <td>2001-08-10 14:41:04</td>\n",
       "    </tr>\n",
       "    <tr>\n",
       "      <th>1000172</th>\n",
       "      <td>6040</td>\n",
       "      <td>1784</td>\n",
       "      <td>3</td>\n",
       "      <td>2001-08-10 14:41:04</td>\n",
       "    </tr>\n",
       "    <tr>\n",
       "      <th>1000167</th>\n",
       "      <td>6040</td>\n",
       "      <td>161</td>\n",
       "      <td>3</td>\n",
       "      <td>2001-08-10 14:41:26</td>\n",
       "    </tr>\n",
       "    <tr>\n",
       "      <th>1000042</th>\n",
       "      <td>6040</td>\n",
       "      <td>1221</td>\n",
       "      <td>4</td>\n",
       "      <td>2001-08-20 13:44:15</td>\n",
       "    </tr>\n",
       "  </tbody>\n",
       "</table>\n",
       "<p>836478 rows × 4 columns</p>\n",
       "</div>"
      ],
      "text/plain": [
       "         UserId  ItemId  Rating                Time\n",
       "31            1    3186       4 2000-12-31 22:00:19\n",
       "22            1    1270       5 2000-12-31 22:00:55\n",
       "27            1    1721       4 2000-12-31 22:00:55\n",
       "37            1    1022       5 2000-12-31 22:00:55\n",
       "24            1    2340       3 2000-12-31 22:01:43\n",
       "...         ...     ...     ...                 ...\n",
       "1000019    6040    2917       4 2001-08-10 14:40:29\n",
       "999988     6040    1921       4 2001-08-10 14:41:04\n",
       "1000172    6040    1784       3 2001-08-10 14:41:04\n",
       "1000167    6040     161       3 2001-08-10 14:41:26\n",
       "1000042    6040    1221       4 2001-08-20 13:44:15\n",
       "\n",
       "[836478 rows x 4 columns]"
      ]
     },
     "execution_count": 12,
     "metadata": {},
     "output_type": "execute_result"
    }
   ],
   "source": [
    "data['Time'] = pd.to_datetime(data['Time'], unit='s')\n",
    "\n",
    "data"
   ]
  },
  {
   "cell_type": "code",
   "execution_count": 13,
   "id": "87b2a5d3",
   "metadata": {},
   "outputs": [
    {
     "data": {
      "text/plain": [
       "(Timestamp('2000-04-25 23:05:32'), Timestamp('2003-02-28 17:49:50'))"
      ]
     },
     "execution_count": 13,
     "metadata": {},
     "output_type": "execute_result"
    }
   ],
   "source": [
    "oldest, latest = data['Time'].min(), data['Time'].max()\n",
    "\n",
    "oldest, latest"
   ]
  },
  {
   "cell_type": "markdown",
   "id": "47b070e5",
   "metadata": {},
   "source": [
    "- 약 3 년치의 데이터가 있습니다."
   ]
  },
  {
   "cell_type": "markdown",
   "id": "db9def39",
   "metadata": {},
   "source": [
    "### Data Cleansing"
   ]
  },
  {
   "cell_type": "code",
   "execution_count": 14,
   "id": "3c4d7905",
   "metadata": {},
   "outputs": [],
   "source": [
    "def cleanse_recursive(data: pd.DataFrame, shortest, least_watch) -> pd.DataFrame:\n",
    "    while True:\n",
    "        before_len = len(data)\n",
    "        data = cleanse_short_session(data, shortest)\n",
    "        data = cleanse_unpopular_item(data, least_watch)\n",
    "        after_len = len(data)\n",
    "        if before_len == after_len:\n",
    "            break\n",
    "    return data"
   ]
  },
  {
   "cell_type": "code",
   "execution_count": 15,
   "id": "468e4782",
   "metadata": {},
   "outputs": [],
   "source": [
    "def cleanse_short_session(data: pd.DataFrame, shortest):\n",
    "    user_len = data.groupby('UserId').size()\n",
    "    user_use = user_len[user_len >= shortest].index\n",
    "    data = data[data['UserId'].isin(user_use)]\n",
    "    return data"
   ]
  },
  {
   "cell_type": "code",
   "execution_count": 16,
   "id": "0e88ef5f",
   "metadata": {},
   "outputs": [],
   "source": [
    "def cleanse_unpopular_item(data: pd.DataFrame, least_watch):\n",
    "    item_popular = data.groupby('ItemId').size()\n",
    "    item_use = item_popular[item_popular >= least_watch].index\n",
    "    data = data[data['ItemId'].isin(item_use)]\n",
    "    return data"
   ]
  },
  {
   "cell_type": "code",
   "execution_count": 17,
   "id": "427f97fd",
   "metadata": {
    "scrolled": true
   },
   "outputs": [
    {
     "data": {
      "text/html": [
       "<div>\n",
       "<style scoped>\n",
       "    .dataframe tbody tr th:only-of-type {\n",
       "        vertical-align: middle;\n",
       "    }\n",
       "\n",
       "    .dataframe tbody tr th {\n",
       "        vertical-align: top;\n",
       "    }\n",
       "\n",
       "    .dataframe thead th {\n",
       "        text-align: right;\n",
       "    }\n",
       "</style>\n",
       "<table border=\"1\" class=\"dataframe\">\n",
       "  <thead>\n",
       "    <tr style=\"text-align: right;\">\n",
       "      <th></th>\n",
       "      <th>UserId</th>\n",
       "      <th>ItemId</th>\n",
       "      <th>Rating</th>\n",
       "      <th>Time</th>\n",
       "    </tr>\n",
       "  </thead>\n",
       "  <tbody>\n",
       "    <tr>\n",
       "      <th>31</th>\n",
       "      <td>1</td>\n",
       "      <td>3186</td>\n",
       "      <td>4</td>\n",
       "      <td>2000-12-31 22:00:19</td>\n",
       "    </tr>\n",
       "    <tr>\n",
       "      <th>22</th>\n",
       "      <td>1</td>\n",
       "      <td>1270</td>\n",
       "      <td>5</td>\n",
       "      <td>2000-12-31 22:00:55</td>\n",
       "    </tr>\n",
       "    <tr>\n",
       "      <th>27</th>\n",
       "      <td>1</td>\n",
       "      <td>1721</td>\n",
       "      <td>4</td>\n",
       "      <td>2000-12-31 22:00:55</td>\n",
       "    </tr>\n",
       "    <tr>\n",
       "      <th>37</th>\n",
       "      <td>1</td>\n",
       "      <td>1022</td>\n",
       "      <td>5</td>\n",
       "      <td>2000-12-31 22:00:55</td>\n",
       "    </tr>\n",
       "    <tr>\n",
       "      <th>24</th>\n",
       "      <td>1</td>\n",
       "      <td>2340</td>\n",
       "      <td>3</td>\n",
       "      <td>2000-12-31 22:01:43</td>\n",
       "    </tr>\n",
       "    <tr>\n",
       "      <th>...</th>\n",
       "      <td>...</td>\n",
       "      <td>...</td>\n",
       "      <td>...</td>\n",
       "      <td>...</td>\n",
       "    </tr>\n",
       "    <tr>\n",
       "      <th>1000019</th>\n",
       "      <td>6040</td>\n",
       "      <td>2917</td>\n",
       "      <td>4</td>\n",
       "      <td>2001-08-10 14:40:29</td>\n",
       "    </tr>\n",
       "    <tr>\n",
       "      <th>999988</th>\n",
       "      <td>6040</td>\n",
       "      <td>1921</td>\n",
       "      <td>4</td>\n",
       "      <td>2001-08-10 14:41:04</td>\n",
       "    </tr>\n",
       "    <tr>\n",
       "      <th>1000172</th>\n",
       "      <td>6040</td>\n",
       "      <td>1784</td>\n",
       "      <td>3</td>\n",
       "      <td>2001-08-10 14:41:04</td>\n",
       "    </tr>\n",
       "    <tr>\n",
       "      <th>1000167</th>\n",
       "      <td>6040</td>\n",
       "      <td>161</td>\n",
       "      <td>3</td>\n",
       "      <td>2001-08-10 14:41:26</td>\n",
       "    </tr>\n",
       "    <tr>\n",
       "      <th>1000042</th>\n",
       "      <td>6040</td>\n",
       "      <td>1221</td>\n",
       "      <td>4</td>\n",
       "      <td>2001-08-20 13:44:15</td>\n",
       "    </tr>\n",
       "  </tbody>\n",
       "</table>\n",
       "<p>835789 rows × 4 columns</p>\n",
       "</div>"
      ],
      "text/plain": [
       "         UserId  ItemId  Rating                Time\n",
       "31            1    3186       4 2000-12-31 22:00:19\n",
       "22            1    1270       5 2000-12-31 22:00:55\n",
       "27            1    1721       4 2000-12-31 22:00:55\n",
       "37            1    1022       5 2000-12-31 22:00:55\n",
       "24            1    2340       3 2000-12-31 22:01:43\n",
       "...         ...     ...     ...                 ...\n",
       "1000019    6040    2917       4 2001-08-10 14:40:29\n",
       "999988     6040    1921       4 2001-08-10 14:41:04\n",
       "1000172    6040    1784       3 2001-08-10 14:41:04\n",
       "1000167    6040     161       3 2001-08-10 14:41:26\n",
       "1000042    6040    1221       4 2001-08-20 13:44:15\n",
       "\n",
       "[835789 rows x 4 columns]"
      ]
     },
     "execution_count": 17,
     "metadata": {},
     "output_type": "execute_result"
    }
   ],
   "source": [
    "data = cleanse_recursive(data, shortest = 2, least_watch = 5)\n",
    "data"
   ]
  },
  {
   "cell_type": "markdown",
   "id": "9539b23e",
   "metadata": {},
   "source": [
    "- 최소한 두 편 이상의 영화를 시청한 유저와,\n",
    "<br>\n",
    "<br>\n",
    "- 최소한 다섯 번 이상 시청된 영화를 학습에 사용하도록 하겠습니다."
   ]
  },
  {
   "cell_type": "markdown",
   "id": "fc699be4",
   "metadata": {},
   "source": [
    "### Train / Valid / Test Split"
   ]
  },
  {
   "cell_type": "code",
   "execution_count": 18,
   "id": "c77df595",
   "metadata": {},
   "outputs": [],
   "source": [
    "def split_by_date(data: pd.DataFrame, n_days: int):\n",
    "    final_time = data['Time'].max()\n",
    "    user_in_train = data[data['Time'] < final_time - dt.timedelta(n_days)]\n",
    "    user_in_test = data[data['Time'] >= final_time - dt.timedelta(n_days)]\n",
    "\n",
    "    return user_in_train, user_in_test"
   ]
  },
  {
   "cell_type": "code",
   "execution_count": 19,
   "id": "1b3f3fd5",
   "metadata": {},
   "outputs": [],
   "source": [
    "def stats_info(data: pd.DataFrame, status: str):\n",
    "    print(f'* {status} Set Stats Info\\n'\n",
    "          f'\\t Events: {len(data)}\\n'\n",
    "          f'\\t Users: {data[\"UserId\"].nunique()}\\n'\n",
    "          f'\\t Items: {data[\"ItemId\"].nunique()}\\n'\n",
    "          f'\\t First Time : {data[\"Time\"].min()}\\n'\n",
    "          f'\\t Last Time : {data[\"Time\"].max()}\\n')"
   ]
  },
  {
   "cell_type": "code",
   "execution_count": 20,
   "id": "0d5f6bc4",
   "metadata": {},
   "outputs": [],
   "source": [
    "def indexing(df, id2idx):\n",
    "    df['item_idx'] = df['ItemId'].map(lambda x: id2idx.get(x, -1))\n",
    "    return df"
   ]
  },
  {
   "cell_type": "code",
   "execution_count": 21,
   "id": "9ee131a9",
   "metadata": {},
   "outputs": [],
   "source": [
    "tr, test = split_by_date(data, 180)\n",
    "tr, val = split_by_date(tr, 180)"
   ]
  },
  {
   "cell_type": "code",
   "execution_count": 22,
   "id": "086d554a",
   "metadata": {
    "scrolled": true
   },
   "outputs": [
    {
     "name": "stdout",
     "output_type": "stream",
     "text": [
      "* train Set Stats Info\n",
      "\t Events: 818736\n",
      "\t Users: 6036\n",
      "\t Items: 3307\n",
      "\t First Time : 2000-04-25 23:05:32\n",
      "\t Last Time : 2002-03-05 04:14:13\n",
      "\n",
      "* valid Set Stats Info\n",
      "\t Events: 9771\n",
      "\t Users: 390\n",
      "\t Items: 2348\n",
      "\t First Time : 2002-03-05 04:24:20\n",
      "\t Last Time : 2002-09-01 04:20:59\n",
      "\n",
      "* test Set Stats Info\n",
      "\t Events: 7282\n",
      "\t Users: 333\n",
      "\t Items: 2049\n",
      "\t First Time : 2002-09-01 19:41:39\n",
      "\t Last Time : 2003-02-28 17:49:50\n",
      "\n"
     ]
    }
   ],
   "source": [
    "stats_info(tr, 'train')\n",
    "stats_info(val, 'valid')\n",
    "stats_info(test, 'test')"
   ]
  },
  {
   "cell_type": "markdown",
   "id": "3548577f",
   "metadata": {},
   "source": [
    "- valid 와 test 데이터를 각각 6개월치의 데이터로 나누어주었습니다."
   ]
  },
  {
   "cell_type": "code",
   "execution_count": 23,
   "id": "408e1d51",
   "metadata": {},
   "outputs": [],
   "source": [
    "id2idx = {item_id : index for index, item_id in enumerate(tr['ItemId'].unique())}\n",
    "\n",
    "tr = indexing(tr, id2idx)\n",
    "val = indexing(val, id2idx)\n",
    "test = indexing(test, id2idx)"
   ]
  },
  {
   "cell_type": "markdown",
   "id": "d508b5e2",
   "metadata": {},
   "source": [
    "- train set 을 기준으로 item 을 인덱싱해주었습니다."
   ]
  },
  {
   "cell_type": "code",
   "execution_count": 24,
   "id": "0c27cd27",
   "metadata": {},
   "outputs": [],
   "source": [
    "save_path = data_path / 'processed'\n",
    "save_path.mkdir(parents=True, exist_ok=True)\n",
    "\n",
    "tr.to_pickle(save_path / 'train.pkl')\n",
    "val.to_pickle(save_path / 'valid.pkl')\n",
    "test.to_pickle(save_path / 'test.pkl')"
   ]
  },
  {
   "cell_type": "markdown",
   "id": "284a389d",
   "metadata": {},
   "source": [
    "## Data Pipeline"
   ]
  },
  {
   "cell_type": "markdown",
   "id": "9525c63f",
   "metadata": {},
   "source": [
    "### Session Dataset"
   ]
  },
  {
   "cell_type": "code",
   "execution_count": 25,
   "id": "cf156843",
   "metadata": {},
   "outputs": [],
   "source": [
    "class SessionDataset:\n",
    "    \"\"\"Credit to yhs-968/pyGRU4REC.\"\"\"\n",
    "\n",
    "    def __init__(self, data):\n",
    "        self.df = data\n",
    "        self.user_offsets = self.get_user_offsets()\n",
    "        self.user_idx = np.arange(self.df['UserId'].nunique())\n",
    "\n",
    "    def get_user_offsets(self):\n",
    "        offsets = np.zeros(self.df['UserId'].nunique() + 1, dtype=np.int32)\n",
    "        offsets[1:] = self.df.groupby('UserId').size().cumsum()\n",
    "        \n",
    "        return offsets"
   ]
  },
  {
   "cell_type": "code",
   "execution_count": 26,
   "id": "75d468d1",
   "metadata": {
    "scrolled": false
   },
   "outputs": [
    {
     "data": {
      "text/html": [
       "<div>\n",
       "<style scoped>\n",
       "    .dataframe tbody tr th:only-of-type {\n",
       "        vertical-align: middle;\n",
       "    }\n",
       "\n",
       "    .dataframe tbody tr th {\n",
       "        vertical-align: top;\n",
       "    }\n",
       "\n",
       "    .dataframe thead th {\n",
       "        text-align: right;\n",
       "    }\n",
       "</style>\n",
       "<table border=\"1\" class=\"dataframe\">\n",
       "  <thead>\n",
       "    <tr style=\"text-align: right;\">\n",
       "      <th></th>\n",
       "      <th>UserId</th>\n",
       "      <th>ItemId</th>\n",
       "      <th>Rating</th>\n",
       "      <th>Time</th>\n",
       "      <th>item_idx</th>\n",
       "    </tr>\n",
       "  </thead>\n",
       "  <tbody>\n",
       "    <tr>\n",
       "      <th>31</th>\n",
       "      <td>1</td>\n",
       "      <td>3186</td>\n",
       "      <td>4</td>\n",
       "      <td>2000-12-31 22:00:19</td>\n",
       "      <td>0</td>\n",
       "    </tr>\n",
       "    <tr>\n",
       "      <th>22</th>\n",
       "      <td>1</td>\n",
       "      <td>1270</td>\n",
       "      <td>5</td>\n",
       "      <td>2000-12-31 22:00:55</td>\n",
       "      <td>1</td>\n",
       "    </tr>\n",
       "    <tr>\n",
       "      <th>27</th>\n",
       "      <td>1</td>\n",
       "      <td>1721</td>\n",
       "      <td>4</td>\n",
       "      <td>2000-12-31 22:00:55</td>\n",
       "      <td>2</td>\n",
       "    </tr>\n",
       "    <tr>\n",
       "      <th>37</th>\n",
       "      <td>1</td>\n",
       "      <td>1022</td>\n",
       "      <td>5</td>\n",
       "      <td>2000-12-31 22:00:55</td>\n",
       "      <td>3</td>\n",
       "    </tr>\n",
       "    <tr>\n",
       "      <th>24</th>\n",
       "      <td>1</td>\n",
       "      <td>2340</td>\n",
       "      <td>3</td>\n",
       "      <td>2000-12-31 22:01:43</td>\n",
       "      <td>4</td>\n",
       "    </tr>\n",
       "    <tr>\n",
       "      <th>36</th>\n",
       "      <td>1</td>\n",
       "      <td>1836</td>\n",
       "      <td>5</td>\n",
       "      <td>2000-12-31 22:02:52</td>\n",
       "      <td>5</td>\n",
       "    </tr>\n",
       "    <tr>\n",
       "      <th>3</th>\n",
       "      <td>1</td>\n",
       "      <td>3408</td>\n",
       "      <td>4</td>\n",
       "      <td>2000-12-31 22:04:35</td>\n",
       "      <td>6</td>\n",
       "    </tr>\n",
       "    <tr>\n",
       "      <th>7</th>\n",
       "      <td>1</td>\n",
       "      <td>2804</td>\n",
       "      <td>5</td>\n",
       "      <td>2000-12-31 22:11:59</td>\n",
       "      <td>7</td>\n",
       "    </tr>\n",
       "    <tr>\n",
       "      <th>47</th>\n",
       "      <td>1</td>\n",
       "      <td>1207</td>\n",
       "      <td>4</td>\n",
       "      <td>2000-12-31 22:11:59</td>\n",
       "      <td>8</td>\n",
       "    </tr>\n",
       "    <tr>\n",
       "      <th>0</th>\n",
       "      <td>1</td>\n",
       "      <td>1193</td>\n",
       "      <td>5</td>\n",
       "      <td>2000-12-31 22:12:40</td>\n",
       "      <td>9</td>\n",
       "    </tr>\n",
       "  </tbody>\n",
       "</table>\n",
       "</div>"
      ],
      "text/plain": [
       "    UserId  ItemId  Rating                Time  item_idx\n",
       "31       1    3186       4 2000-12-31 22:00:19         0\n",
       "22       1    1270       5 2000-12-31 22:00:55         1\n",
       "27       1    1721       4 2000-12-31 22:00:55         2\n",
       "37       1    1022       5 2000-12-31 22:00:55         3\n",
       "24       1    2340       3 2000-12-31 22:01:43         4\n",
       "36       1    1836       5 2000-12-31 22:02:52         5\n",
       "3        1    3408       4 2000-12-31 22:04:35         6\n",
       "7        1    2804       5 2000-12-31 22:11:59         7\n",
       "47       1    1207       4 2000-12-31 22:11:59         8\n",
       "0        1    1193       5 2000-12-31 22:12:40         9"
      ]
     },
     "execution_count": 26,
     "metadata": {},
     "output_type": "execute_result"
    }
   ],
   "source": [
    "tr_dataset = SessionDataset(tr)\n",
    "tr_dataset.df.head(10)"
   ]
  },
  {
   "cell_type": "markdown",
   "id": "af7f176d",
   "metadata": {},
   "source": [
    "- user_offsets 에는 User 의 시작 인덱스가 담겨있습니다.\n",
    "<br>\n",
    "<br>\n",
    "- user_idx 에는 User 의 인덱스 정보가 담겨있습니다."
   ]
  },
  {
   "cell_type": "code",
   "execution_count": 27,
   "id": "afd523d3",
   "metadata": {},
   "outputs": [
    {
     "data": {
      "text/plain": [
       "array([     0,     53,    169, ..., 818341, 818460, 818736], dtype=int32)"
      ]
     },
     "execution_count": 27,
     "metadata": {},
     "output_type": "execute_result"
    }
   ],
   "source": [
    "tr_dataset.user_offsets"
   ]
  },
  {
   "cell_type": "code",
   "execution_count": 28,
   "id": "836ea194",
   "metadata": {},
   "outputs": [
    {
     "data": {
      "text/plain": [
       "array([   0,    1,    2, ..., 6033, 6034, 6035])"
      ]
     },
     "execution_count": 28,
     "metadata": {},
     "output_type": "execute_result"
    }
   ],
   "source": [
    "tr_dataset.user_idx"
   ]
  },
  {
   "cell_type": "markdown",
   "id": "16896056",
   "metadata": {},
   "source": [
    "### Session Data Loader"
   ]
  },
  {
   "cell_type": "code",
   "execution_count": 29,
   "id": "72392d27",
   "metadata": {},
   "outputs": [],
   "source": [
    "class SessionDataLoader:\n",
    "    \"\"\"Credit to yhs-968/pyGRU4REC.\"\"\"\n",
    "\n",
    "    def __init__(self, dataset: SessionDataset, batch_size=50):\n",
    "        self.dataset = dataset\n",
    "        self.batch_size = batch_size\n",
    "\n",
    "    def __iter__(self):\n",
    "        \"\"\" Returns the iterator for producing session-parallel training mini-batches.\n",
    "        Yields:\n",
    "            input (B,):  Item indices that will be encoded as one-hot vectors later.\n",
    "            target (B,): a Variable that stores the target item indices\n",
    "            masks: Numpy array indicating the positions of the sessions to be terminated\n",
    "        \"\"\"\n",
    "\n",
    "        start, end, mask, last_session, finished = self.initialize()\n",
    "        \"\"\"\n",
    "        start : Index Where Session Start\n",
    "        end : Index Where Session End\n",
    "        mask : indicator for the sessions to be terminated\n",
    "        \"\"\"\n",
    "\n",
    "        while not finished:\n",
    "            min_len = (end - start).min() - 1\n",
    "            for i in range(min_len):\n",
    "                inp = self.dataset.df['item_idx'].values[start + i]\n",
    "                target = self.dataset.df['item_idx'].values[start + i + 1]\n",
    "                yield inp, target, mask\n",
    "\n",
    "            start, end, mask, last_session, finished = self.update_status(start, end, min_len, last_session, finished)\n",
    "\n",
    "    def initialize(self):\n",
    "        first_iters = np.arange(self.batch_size)\n",
    "        last_session = self.batch_size - 1\n",
    "        start = self.dataset.user_offsets[self.dataset.user_idx[first_iters]]\n",
    "        end = self.dataset.user_offsets[self.dataset.user_idx[first_iters] + 1]\n",
    "        mask = np.array([])\n",
    "        finished = False\n",
    "        return start, end, mask, last_session, finished\n",
    "\n",
    "    def update_status(self, start: np.ndarray, end: np.ndarray, min_len: int, last_session: int, finished: bool):\n",
    "        start += min_len\n",
    "        mask = np.arange(self.batch_size)[(end - start) == 1]\n",
    "\n",
    "        for i, idx in enumerate(mask, start=1):\n",
    "            new_session = last_session + i\n",
    "            if new_session > self.dataset.user_idx[-1]:\n",
    "                finished = True\n",
    "                break\n",
    "\n",
    "            start[idx] = self.dataset.user_offsets[self.dataset.user_idx[new_session]]\n",
    "            end[idx] = self.dataset.user_offsets[self.dataset.user_idx[new_session] + 1]\n",
    "\n",
    "        last_session += len(mask)\n",
    "        return start, end, mask, last_session, finished"
   ]
  },
  {
   "cell_type": "code",
   "execution_count": 30,
   "id": "4af65ea8",
   "metadata": {
    "scrolled": true
   },
   "outputs": [],
   "source": [
    "tr_data_loader = SessionDataLoader(tr_dataset, batch_size=4)\n",
    "iter_ex = iter(tr_data_loader)"
   ]
  },
  {
   "cell_type": "code",
   "execution_count": 31,
   "id": "b7379651",
   "metadata": {},
   "outputs": [
    {
     "name": "stdout",
     "output_type": "stream",
     "text": [
      "Model Input Item Idx are : [ 0 53 64 54]\n",
      "Label Item Idx are :       [ 1 54 62 24]\n",
      "Previous Masked Input Idx are []\n"
     ]
    }
   ],
   "source": [
    "inputs, labels, mask =  next(iter_ex)\n",
    "print(f'Model Input Item Idx are : {inputs}')\n",
    "print(f'Label Item Idx are : {\"\":5} {labels}')\n",
    "print(f'Previous Masked Input Idx are {mask}')"
   ]
  },
  {
   "cell_type": "markdown",
   "id": "e34c1b38",
   "metadata": {},
   "source": [
    "## Modeling"
   ]
  },
  {
   "cell_type": "markdown",
   "id": "7979a277",
   "metadata": {},
   "source": [
    "### Evaluation Metric"
   ]
  },
  {
   "cell_type": "code",
   "execution_count": 32,
   "id": "bc3f00b6",
   "metadata": {},
   "outputs": [],
   "source": [
    "def mrr_k(pred, truth: int, k: int):\n",
    "    indexing = np.where(pred[:k] == truth)[0]\n",
    "    if len(indexing) > 0:\n",
    "        return 1 / (indexing[0] + 1)\n",
    "    else:\n",
    "        return 0\n",
    "\n",
    "\n",
    "def recall_k(pred, truth: int, k: int) -> int:\n",
    "    answer = truth in pred[:k]\n",
    "    return int(answer)"
   ]
  },
  {
   "cell_type": "markdown",
   "id": "c6d21652",
   "metadata": {},
   "source": [
    "### Model Architecture"
   ]
  },
  {
   "cell_type": "code",
   "execution_count": 33,
   "id": "e2f9a4fe",
   "metadata": {},
   "outputs": [],
   "source": [
    "from tensorflow.keras.layers import Input, Dense, Dropout, GRU\n",
    "from tensorflow.keras.losses import categorical_crossentropy\n",
    "from tensorflow.keras.models import Model\n",
    "from tensorflow.keras.optimizers import Adam\n",
    "from tensorflow.keras.utils import to_categorical\n",
    "from tqdm import tqdm"
   ]
  },
  {
   "cell_type": "code",
   "execution_count": 34,
   "id": "bf5db57b",
   "metadata": {},
   "outputs": [],
   "source": [
    "def create_model(args):\n",
    "    inputs = Input(batch_shape=(args.batch_size, 1, args.num_items))\n",
    "    gru, _ = GRU(args.hsz, stateful=True, return_state=True, name='GRU')(inputs)\n",
    "    dropout = Dropout(args.drop_rate)(gru)\n",
    "    predictions = Dense(args.num_items, activation='softmax')(dropout)\n",
    "    model = Model(inputs=inputs, outputs=[predictions])\n",
    "    model.compile(loss=categorical_crossentropy, optimizer=Adam(args.lr), metrics=['accuracy'])\n",
    "    model.summary()\n",
    "    \n",
    "    return model"
   ]
  },
  {
   "cell_type": "code",
   "execution_count": 42,
   "id": "2268b07c",
   "metadata": {},
   "outputs": [],
   "source": [
    "class Args:\n",
    "    def __init__(self, tr, val, test, batch_size, hsz, drop_rate, lr, epochs, k):\n",
    "        self.tr = tr\n",
    "        self.val = val\n",
    "        self.test = test\n",
    "        self.num_items = tr['ItemId'].nunique()\n",
    "        self.num_users = tr['UserId'].nunique()\n",
    "        self.batch_size = batch_size\n",
    "        self.hsz = hsz\n",
    "        self.drop_rate = drop_rate\n",
    "        self.lr = lr\n",
    "        self.epochs = epochs\n",
    "        self.k = k\n",
    "\n",
    "args = Args(tr, val, test, batch_size=256, hsz=50, drop_rate=0.1, lr=0.001, epochs=10, k=20)"
   ]
  },
  {
   "cell_type": "code",
   "execution_count": 43,
   "id": "11510b66",
   "metadata": {},
   "outputs": [
    {
     "name": "stdout",
     "output_type": "stream",
     "text": [
      "Model: \"model_2\"\n",
      "_________________________________________________________________\n",
      "Layer (type)                 Output Shape              Param #   \n",
      "=================================================================\n",
      "input_3 (InputLayer)         [(256, 1, 3307)]          0         \n",
      "_________________________________________________________________\n",
      "GRU (GRU)                    [(256, 50), (256, 50)]    503850    \n",
      "_________________________________________________________________\n",
      "dropout_2 (Dropout)          (256, 50)                 0         \n",
      "_________________________________________________________________\n",
      "dense_2 (Dense)              (256, 3307)               168657    \n",
      "=================================================================\n",
      "Total params: 672,507\n",
      "Trainable params: 672,507\n",
      "Non-trainable params: 0\n",
      "_________________________________________________________________\n"
     ]
    }
   ],
   "source": [
    "model = create_model(args)"
   ]
  },
  {
   "cell_type": "markdown",
   "id": "f62e2c55",
   "metadata": {},
   "source": [
    "### Model Training"
   ]
  },
  {
   "cell_type": "code",
   "execution_count": 44,
   "id": "61e13790",
   "metadata": {},
   "outputs": [],
   "source": [
    "def train_model(model, args):\n",
    "    train_dataset = SessionDataset(args.tr)\n",
    "    train_loader = SessionDataLoader(train_dataset, batch_size=args.batch_size)\n",
    "\n",
    "    for epoch in range(1, args.epochs + 1):\n",
    "        total_step = len(args.tr) - args.tr['UserId'].nunique()\n",
    "        tr_loader = tqdm(train_loader, total=total_step // args.batch_size, desc='Train', mininterval=1)\n",
    "        for feat, target, mask in tr_loader:\n",
    "            reset_hidden_states(model, mask)\n",
    "\n",
    "            input_ohe = to_categorical(feat, num_classes=args.num_items)\n",
    "            input_ohe = np.expand_dims(input_ohe, axis=1)\n",
    "            target_ohe = to_categorical(target, num_classes=args.num_items)\n",
    "\n",
    "            result = model.train_on_batch(input_ohe, target_ohe)\n",
    "            tr_loader.set_postfix(train_loss=result[0], accuracy = result[1])\n",
    "\n",
    "        val_recall, val_mrr = get_metrics(args.val, model, args, args.k)\n",
    "\n",
    "        print(f\"\\t - Recall@{args.k} epoch {epoch}: {val_recall:3f}\")\n",
    "        print(f\"\\t - MRR@{args.k}    epoch {epoch}: {val_mrr:3f}\\n\")"
   ]
  },
  {
   "cell_type": "code",
   "execution_count": 45,
   "id": "bf0ddcca",
   "metadata": {},
   "outputs": [],
   "source": [
    "def reset_hidden_states(model, mask):\n",
    "    gru_layer = model.get_layer(name='GRU')\n",
    "    hidden_states = gru_layer.states[0].numpy()\n",
    "    for elt in mask:\n",
    "        hidden_states[elt, :] = 0\n",
    "    gru_layer.reset_states(states=hidden_states)"
   ]
  },
  {
   "cell_type": "code",
   "execution_count": 46,
   "id": "eecb9a6a",
   "metadata": {},
   "outputs": [],
   "source": [
    "def get_metrics(data, model, args, k: int): \n",
    "    dataset = SessionDataset(data)\n",
    "    loader = SessionDataLoader(dataset, batch_size=args.batch_size)\n",
    "    recall_list, mrr_list = [], []\n",
    "\n",
    "    total_step = len(data) - data['UserId'].nunique()\n",
    "    for inputs, label, mask in tqdm(loader, total=total_step // args.batch_size, desc='Evaluation', mininterval=1):\n",
    "        reset_hidden_states(model, mask)\n",
    "        input_ohe = to_categorical(inputs, num_classes=args.num_items)\n",
    "        input_ohe = np.expand_dims(input_ohe, axis=1)\n",
    "\n",
    "        pred = model.predict(input_ohe, batch_size=args.batch_size)\n",
    "        pred_arg = tf.argsort(pred, direction='DESCENDING')\n",
    "\n",
    "        length = len(inputs)\n",
    "        recall_list.extend([recall_k(pred_arg[i], label[i], k) for i in range(length)])\n",
    "        mrr_list.extend([mrr_k(pred_arg[i], label[i], k) for i in range(length)])\n",
    "\n",
    "    recall, mrr = np.mean(recall_list), np.mean(mrr_list)\n",
    "    return recall, mrr"
   ]
  },
  {
   "cell_type": "code",
   "execution_count": 47,
   "id": "c84a41e7",
   "metadata": {
    "scrolled": true
   },
   "outputs": [
    {
     "name": "stderr",
     "output_type": "stream",
     "text": [
      "Train:  95%|█████████▌| 3031/3174 [00:58<00:02, 51.59it/s, accuracy=0.0117, train_loss=6.57] \n",
      "Evaluation:  14%|█▍        | 5/36 [00:05<00:36,  1.18s/it]\n"
     ]
    },
    {
     "name": "stdout",
     "output_type": "stream",
     "text": [
      "\t - Recall@20 epoch 1: 0.057031\n",
      "\t - MRR@20    epoch 1: 0.013888\n",
      "\n"
     ]
    },
    {
     "name": "stderr",
     "output_type": "stream",
     "text": [
      "Train:  95%|█████████▌| 3031/3174 [00:57<00:02, 52.91it/s, accuracy=0.0156, train_loss=6.14] \n",
      "Evaluation:  14%|█▍        | 5/36 [00:05<00:32,  1.06s/it]\n"
     ]
    },
    {
     "name": "stdout",
     "output_type": "stream",
     "text": [
      "\t - Recall@20 epoch 2: 0.092969\n",
      "\t - MRR@20    epoch 2: 0.026239\n",
      "\n"
     ]
    },
    {
     "name": "stderr",
     "output_type": "stream",
     "text": [
      "Train:  95%|█████████▌| 3031/3174 [00:57<00:02, 53.03it/s, accuracy=0.0156, train_loss=6]    \n",
      "Evaluation:  14%|█▍        | 5/36 [00:05<00:32,  1.05s/it]\n"
     ]
    },
    {
     "name": "stdout",
     "output_type": "stream",
     "text": [
      "\t - Recall@20 epoch 3: 0.099219\n",
      "\t - MRR@20    epoch 3: 0.029388\n",
      "\n"
     ]
    },
    {
     "name": "stderr",
     "output_type": "stream",
     "text": [
      "Train:  95%|█████████▌| 3031/3174 [00:57<00:02, 53.06it/s, accuracy=0.0312, train_loss=5.89] \n",
      "Evaluation:  14%|█▍        | 5/36 [00:05<00:32,  1.05s/it]\n"
     ]
    },
    {
     "name": "stdout",
     "output_type": "stream",
     "text": [
      "\t - Recall@20 epoch 4: 0.110156\n",
      "\t - MRR@20    epoch 4: 0.033369\n",
      "\n"
     ]
    },
    {
     "name": "stderr",
     "output_type": "stream",
     "text": [
      "Train:  95%|█████████▌| 3031/3174 [00:56<00:02, 53.21it/s, accuracy=0.0312, train_loss=5.83]\n",
      "Evaluation:  14%|█▍        | 5/36 [00:05<00:32,  1.05s/it]\n"
     ]
    },
    {
     "name": "stdout",
     "output_type": "stream",
     "text": [
      "\t - Recall@20 epoch 5: 0.114844\n",
      "\t - MRR@20    epoch 5: 0.034923\n",
      "\n"
     ]
    },
    {
     "name": "stderr",
     "output_type": "stream",
     "text": [
      "Train:  95%|█████████▌| 3031/3174 [00:57<00:02, 52.50it/s, accuracy=0.0312, train_loss=5.82]\n",
      "Evaluation:  14%|█▍        | 5/36 [00:05<00:33,  1.07s/it]\n"
     ]
    },
    {
     "name": "stdout",
     "output_type": "stream",
     "text": [
      "\t - Recall@20 epoch 6: 0.121094\n",
      "\t - MRR@20    epoch 6: 0.037148\n",
      "\n"
     ]
    },
    {
     "name": "stderr",
     "output_type": "stream",
     "text": [
      "Train:  95%|█████████▌| 3031/3174 [00:57<00:02, 53.16it/s, accuracy=0.0312, train_loss=5.75]\n",
      "Evaluation:  14%|█▍        | 5/36 [00:05<00:32,  1.06s/it]\n"
     ]
    },
    {
     "name": "stdout",
     "output_type": "stream",
     "text": [
      "\t - Recall@20 epoch 7: 0.119531\n",
      "\t - MRR@20    epoch 7: 0.037954\n",
      "\n"
     ]
    },
    {
     "name": "stderr",
     "output_type": "stream",
     "text": [
      "Train:  95%|█████████▌| 3031/3174 [00:56<00:02, 53.36it/s, accuracy=0.0234, train_loss=5.8]  \n",
      "Evaluation:  14%|█▍        | 5/36 [00:05<00:32,  1.04s/it]\n"
     ]
    },
    {
     "name": "stdout",
     "output_type": "stream",
     "text": [
      "\t - Recall@20 epoch 8: 0.118750\n",
      "\t - MRR@20    epoch 8: 0.037887\n",
      "\n"
     ]
    },
    {
     "name": "stderr",
     "output_type": "stream",
     "text": [
      "Train:  95%|█████████▌| 3031/3174 [00:57<00:02, 52.78it/s, accuracy=0.0273, train_loss=5.74] \n",
      "Evaluation:  14%|█▍        | 5/36 [00:05<00:32,  1.05s/it]\n"
     ]
    },
    {
     "name": "stdout",
     "output_type": "stream",
     "text": [
      "\t - Recall@20 epoch 9: 0.120313\n",
      "\t - MRR@20    epoch 9: 0.039468\n",
      "\n"
     ]
    },
    {
     "name": "stderr",
     "output_type": "stream",
     "text": [
      "Train:  95%|█████████▌| 3031/3174 [00:56<00:02, 53.28it/s, accuracy=0.0117, train_loss=5.71]\n",
      "Evaluation:  14%|█▍        | 5/36 [00:05<00:32,  1.06s/it]"
     ]
    },
    {
     "name": "stdout",
     "output_type": "stream",
     "text": [
      "\t - Recall@20 epoch 10: 0.119531\n",
      "\t - MRR@20    epoch 10: 0.039182\n",
      "\n"
     ]
    },
    {
     "name": "stderr",
     "output_type": "stream",
     "text": [
      "\n"
     ]
    }
   ],
   "source": [
    "train_model(model, args)"
   ]
  },
  {
   "cell_type": "markdown",
   "id": "84c284c0",
   "metadata": {},
   "source": [
    "- Recall 과 MRR 이 미세하게 증가하였음을 확인할 수 있습니다."
   ]
  },
  {
   "cell_type": "markdown",
   "id": "d27027f6",
   "metadata": {},
   "source": [
    "## Modeling_2"
   ]
  },
  {
   "cell_type": "markdown",
   "id": "950ba2a1",
   "metadata": {},
   "source": [
    "### Model Architecture_2"
   ]
  },
  {
   "cell_type": "code",
   "execution_count": 49,
   "id": "a98c7815",
   "metadata": {},
   "outputs": [
    {
     "name": "stdout",
     "output_type": "stream",
     "text": [
      "Model: \"model_3\"\n",
      "_________________________________________________________________\n",
      "Layer (type)                 Output Shape              Param #   \n",
      "=================================================================\n",
      "input_4 (InputLayer)         [(128, 1, 3307)]          0         \n",
      "_________________________________________________________________\n",
      "GRU (GRU)                    [(128, 50), (128, 50)]    503850    \n",
      "_________________________________________________________________\n",
      "dropout_3 (Dropout)          (128, 50)                 0         \n",
      "_________________________________________________________________\n",
      "dense_3 (Dense)              (128, 3307)               168657    \n",
      "=================================================================\n",
      "Total params: 672,507\n",
      "Trainable params: 672,507\n",
      "Non-trainable params: 0\n",
      "_________________________________________________________________\n"
     ]
    }
   ],
   "source": [
    "args_2 = Args(tr, val, test, batch_size=128, hsz=50, drop_rate=0.1, lr=0.001, epochs=10, k=20)\n",
    "model_2 = create_model(args_2)"
   ]
  },
  {
   "cell_type": "markdown",
   "id": "18e95d69",
   "metadata": {},
   "source": [
    "### Model Training_2"
   ]
  },
  {
   "cell_type": "code",
   "execution_count": 50,
   "id": "f46e9cb4",
   "metadata": {
    "scrolled": true
   },
   "outputs": [
    {
     "name": "stderr",
     "output_type": "stream",
     "text": [
      "Train:  98%|█████████▊| 6215/6349 [01:26<00:01, 71.85it/s, accuracy=0.0234, train_loss=6.05] \n",
      "Evaluation:  47%|████▋     | 34/73 [00:19<00:22,  1.75it/s]\n"
     ]
    },
    {
     "name": "stdout",
     "output_type": "stream",
     "text": [
      "\t - Recall@20 epoch 1: 0.093290\n",
      "\t - MRR@20    epoch 1: 0.021959\n",
      "\n"
     ]
    },
    {
     "name": "stderr",
     "output_type": "stream",
     "text": [
      "Train:  98%|█████████▊| 6215/6349 [01:24<00:01, 73.95it/s, accuracy=0, train_loss=5.71]      \n",
      "Evaluation:  47%|████▋     | 34/73 [00:18<00:21,  1.82it/s]\n"
     ]
    },
    {
     "name": "stdout",
     "output_type": "stream",
     "text": [
      "\t - Recall@20 epoch 2: 0.119256\n",
      "\t - MRR@20    epoch 2: 0.034342\n",
      "\n"
     ]
    },
    {
     "name": "stderr",
     "output_type": "stream",
     "text": [
      "Train:  98%|█████████▊| 6215/6349 [01:24<00:01, 73.81it/s, accuracy=0.0391, train_loss=5.5]  \n",
      "Evaluation:  47%|████▋     | 34/73 [00:18<00:21,  1.84it/s]\n"
     ]
    },
    {
     "name": "stdout",
     "output_type": "stream",
     "text": [
      "\t - Recall@20 epoch 3: 0.124770\n",
      "\t - MRR@20    epoch 3: 0.036052\n",
      "\n"
     ]
    },
    {
     "name": "stderr",
     "output_type": "stream",
     "text": [
      "Train:  98%|█████████▊| 6215/6349 [01:23<00:01, 74.23it/s, accuracy=0.0469, train_loss=5.51] \n",
      "Evaluation:  47%|████▋     | 34/73 [00:18<00:21,  1.81it/s]\n"
     ]
    },
    {
     "name": "stdout",
     "output_type": "stream",
     "text": [
      "\t - Recall@20 epoch 4: 0.127298\n",
      "\t - MRR@20    epoch 4: 0.037768\n",
      "\n"
     ]
    },
    {
     "name": "stderr",
     "output_type": "stream",
     "text": [
      "Train:  98%|█████████▊| 6215/6349 [01:23<00:01, 74.81it/s, accuracy=0.0703, train_loss=5.45] \n",
      "Evaluation:  47%|████▋     | 34/73 [00:18<00:21,  1.84it/s]\n"
     ]
    },
    {
     "name": "stdout",
     "output_type": "stream",
     "text": [
      "\t - Recall@20 epoch 5: 0.128217\n",
      "\t - MRR@20    epoch 5: 0.038715\n",
      "\n"
     ]
    },
    {
     "name": "stderr",
     "output_type": "stream",
     "text": [
      "Train:  98%|█████████▊| 6215/6349 [01:23<00:01, 74.68it/s, accuracy=0.0547, train_loss=5.39] \n",
      "Evaluation:  47%|████▋     | 34/73 [00:18<00:21,  1.83it/s]\n"
     ]
    },
    {
     "name": "stdout",
     "output_type": "stream",
     "text": [
      "\t - Recall@20 epoch 6: 0.132583\n",
      "\t - MRR@20    epoch 6: 0.039073\n",
      "\n"
     ]
    },
    {
     "name": "stderr",
     "output_type": "stream",
     "text": [
      "Train:  98%|█████████▊| 6215/6349 [01:23<00:01, 74.30it/s, accuracy=0.0469, train_loss=5.41] \n",
      "Evaluation:  47%|████▋     | 34/73 [00:18<00:21,  1.84it/s]\n"
     ]
    },
    {
     "name": "stdout",
     "output_type": "stream",
     "text": [
      "\t - Recall@20 epoch 7: 0.133502\n",
      "\t - MRR@20    epoch 7: 0.039221\n",
      "\n"
     ]
    },
    {
     "name": "stderr",
     "output_type": "stream",
     "text": [
      "Train:  98%|█████████▊| 6215/6349 [01:23<00:01, 74.25it/s, accuracy=0.0625, train_loss=5.38] \n",
      "Evaluation:  47%|████▋     | 34/73 [00:18<00:21,  1.84it/s]\n"
     ]
    },
    {
     "name": "stdout",
     "output_type": "stream",
     "text": [
      "\t - Recall@20 epoch 8: 0.139017\n",
      "\t - MRR@20    epoch 8: 0.039652\n",
      "\n"
     ]
    },
    {
     "name": "stderr",
     "output_type": "stream",
     "text": [
      "Train:  98%|█████████▊| 6215/6349 [01:23<00:01, 74.35it/s, accuracy=0.0547, train_loss=5.41] \n",
      "Evaluation:  47%|████▋     | 34/73 [00:18<00:21,  1.84it/s]\n"
     ]
    },
    {
     "name": "stdout",
     "output_type": "stream",
     "text": [
      "\t - Recall@20 epoch 9: 0.136949\n",
      "\t - MRR@20    epoch 9: 0.039125\n",
      "\n"
     ]
    },
    {
     "name": "stderr",
     "output_type": "stream",
     "text": [
      "Train:  98%|█████████▊| 6215/6349 [01:23<00:01, 74.28it/s, accuracy=0.0391, train_loss=5.36] \n",
      "Evaluation:  47%|████▋     | 34/73 [00:18<00:21,  1.82it/s]"
     ]
    },
    {
     "name": "stdout",
     "output_type": "stream",
     "text": [
      "\t - Recall@20 epoch 10: 0.137868\n",
      "\t - MRR@20    epoch 10: 0.039922\n",
      "\n"
     ]
    },
    {
     "name": "stderr",
     "output_type": "stream",
     "text": [
      "\n"
     ]
    }
   ],
   "source": [
    "train_model(model_2, args_2)"
   ]
  },
  {
   "cell_type": "markdown",
   "id": "187af91b",
   "metadata": {},
   "source": [
    "- 이전 Model 보다 비교적 더 빠르게 Recall 과 MRR 이 증가하였음을 확인할 수 있습니다."
   ]
  },
  {
   "cell_type": "markdown",
   "id": "4c40cd7a",
   "metadata": {},
   "source": [
    "## Modeling_3"
   ]
  },
  {
   "cell_type": "markdown",
   "id": "93fad477",
   "metadata": {},
   "source": [
    "### Model Architecture_3"
   ]
  },
  {
   "cell_type": "code",
   "execution_count": 51,
   "id": "1e151935",
   "metadata": {},
   "outputs": [
    {
     "name": "stdout",
     "output_type": "stream",
     "text": [
      "Model: \"model_4\"\n",
      "_________________________________________________________________\n",
      "Layer (type)                 Output Shape              Param #   \n",
      "=================================================================\n",
      "input_5 (InputLayer)         [(128, 1, 3307)]          0         \n",
      "_________________________________________________________________\n",
      "GRU (GRU)                    [(128, 100), (128, 100)]  1022700   \n",
      "_________________________________________________________________\n",
      "dropout_4 (Dropout)          (128, 100)                0         \n",
      "_________________________________________________________________\n",
      "dense_4 (Dense)              (128, 3307)               334007    \n",
      "=================================================================\n",
      "Total params: 1,356,707\n",
      "Trainable params: 1,356,707\n",
      "Non-trainable params: 0\n",
      "_________________________________________________________________\n"
     ]
    }
   ],
   "source": [
    "args_3 = Args(tr, val, test, batch_size=128, hsz=100, drop_rate=0.1, lr=0.001, epochs=10, k=20)\n",
    "model_3 = create_model(args_3)"
   ]
  },
  {
   "cell_type": "markdown",
   "id": "3e8bb007",
   "metadata": {},
   "source": [
    "### Model Training_3"
   ]
  },
  {
   "cell_type": "code",
   "execution_count": 52,
   "id": "dfa99a54",
   "metadata": {
    "scrolled": true
   },
   "outputs": [
    {
     "name": "stderr",
     "output_type": "stream",
     "text": [
      "Train:  98%|█████████▊| 6215/6349 [01:31<00:01, 68.09it/s, accuracy=0.0391, train_loss=5.77] \n",
      "Evaluation:  47%|████▋     | 34/73 [00:18<00:21,  1.80it/s]\n"
     ]
    },
    {
     "name": "stdout",
     "output_type": "stream",
     "text": [
      "\t - Recall@20 epoch 1: 0.110524\n",
      "\t - MRR@20    epoch 1: 0.031467\n",
      "\n"
     ]
    },
    {
     "name": "stderr",
     "output_type": "stream",
     "text": [
      "Train:  98%|█████████▊| 6215/6349 [01:28<00:01, 70.05it/s, accuracy=0.0547, train_loss=5.49] \n",
      "Evaluation:  47%|████▋     | 34/73 [00:18<00:21,  1.82it/s]\n"
     ]
    },
    {
     "name": "stdout",
     "output_type": "stream",
     "text": [
      "\t - Recall@20 epoch 2: 0.125689\n",
      "\t - MRR@20    epoch 2: 0.034387\n",
      "\n"
     ]
    },
    {
     "name": "stderr",
     "output_type": "stream",
     "text": [
      "Train:  98%|█████████▊| 6215/6349 [01:28<00:01, 70.42it/s, accuracy=0.0703, train_loss=5.32] \n",
      "Evaluation:  47%|████▋     | 34/73 [00:18<00:21,  1.85it/s]\n"
     ]
    },
    {
     "name": "stdout",
     "output_type": "stream",
     "text": [
      "\t - Recall@20 epoch 3: 0.133961\n",
      "\t - MRR@20    epoch 3: 0.036903\n",
      "\n"
     ]
    },
    {
     "name": "stderr",
     "output_type": "stream",
     "text": [
      "Train:  98%|█████████▊| 6215/6349 [01:27<00:01, 70.77it/s, accuracy=0.0703, train_loss=5.33] \n",
      "Evaluation:  47%|████▋     | 34/73 [00:18<00:21,  1.84it/s]\n"
     ]
    },
    {
     "name": "stdout",
     "output_type": "stream",
     "text": [
      "\t - Recall@20 epoch 4: 0.134881\n",
      "\t - MRR@20    epoch 4: 0.037734\n",
      "\n"
     ]
    },
    {
     "name": "stderr",
     "output_type": "stream",
     "text": [
      "Train:  98%|█████████▊| 6215/6349 [01:27<00:01, 71.04it/s, accuracy=0.0625, train_loss=5.34] \n",
      "Evaluation:  47%|████▋     | 34/73 [00:18<00:21,  1.85it/s]\n"
     ]
    },
    {
     "name": "stdout",
     "output_type": "stream",
     "text": [
      "\t - Recall@20 epoch 5: 0.137178\n",
      "\t - MRR@20    epoch 5: 0.037533\n",
      "\n"
     ]
    },
    {
     "name": "stderr",
     "output_type": "stream",
     "text": [
      "Train:  98%|█████████▊| 6215/6349 [01:27<00:01, 71.35it/s, accuracy=0.0703, train_loss=5.3]  \n",
      "Evaluation:  47%|████▋     | 34/73 [00:18<00:21,  1.85it/s]\n"
     ]
    },
    {
     "name": "stdout",
     "output_type": "stream",
     "text": [
      "\t - Recall@20 epoch 6: 0.137178\n",
      "\t - MRR@20    epoch 6: 0.038393\n",
      "\n"
     ]
    },
    {
     "name": "stderr",
     "output_type": "stream",
     "text": [
      "Train:  98%|█████████▊| 6215/6349 [01:27<00:01, 71.36it/s, accuracy=0.0703, train_loss=5.29] \n",
      "Evaluation:  47%|████▋     | 34/73 [00:18<00:21,  1.85it/s]\n"
     ]
    },
    {
     "name": "stdout",
     "output_type": "stream",
     "text": [
      "\t - Recall@20 epoch 7: 0.138097\n",
      "\t - MRR@20    epoch 7: 0.038922\n",
      "\n"
     ]
    },
    {
     "name": "stderr",
     "output_type": "stream",
     "text": [
      "Train:  98%|█████████▊| 6215/6349 [01:27<00:01, 71.10it/s, accuracy=0.0859, train_loss=5.29] \n",
      "Evaluation:  47%|████▋     | 34/73 [00:18<00:20,  1.86it/s]\n"
     ]
    },
    {
     "name": "stdout",
     "output_type": "stream",
     "text": [
      "\t - Recall@20 epoch 8: 0.137408\n",
      "\t - MRR@20    epoch 8: 0.038635\n",
      "\n"
     ]
    },
    {
     "name": "stderr",
     "output_type": "stream",
     "text": [
      "Train:  98%|█████████▊| 6215/6349 [01:27<00:01, 71.39it/s, accuracy=0.0547, train_loss=5.31] \n",
      "Evaluation:  47%|████▋     | 34/73 [00:18<00:21,  1.85it/s]\n"
     ]
    },
    {
     "name": "stdout",
     "output_type": "stream",
     "text": [
      "\t - Recall@20 epoch 9: 0.139706\n",
      "\t - MRR@20    epoch 9: 0.038986\n",
      "\n"
     ]
    },
    {
     "name": "stderr",
     "output_type": "stream",
     "text": [
      "Train:  98%|█████████▊| 6215/6349 [01:26<00:01, 71.47it/s, accuracy=0.0703, train_loss=5.22] \n",
      "Evaluation:  47%|████▋     | 34/73 [00:18<00:21,  1.83it/s]"
     ]
    },
    {
     "name": "stdout",
     "output_type": "stream",
     "text": [
      "\t - Recall@20 epoch 10: 0.138097\n",
      "\t - MRR@20    epoch 10: 0.038959\n",
      "\n"
     ]
    },
    {
     "name": "stderr",
     "output_type": "stream",
     "text": [
      "\n"
     ]
    }
   ],
   "source": [
    "train_model(model_3, args_3)"
   ]
  },
  {
   "cell_type": "markdown",
   "id": "51766a0d",
   "metadata": {},
   "source": [
    "- model_2 와 비교하였을 때 최종 Recall 과 MRR 은 유의미한 차이를 보이지 않았으나, 더욱 빠르게 증가하고 있는 모습을 확인할 수 있습니다."
   ]
  },
  {
   "cell_type": "markdown",
   "id": "b0b9911c",
   "metadata": {},
   "source": [
    "## Modeling_4"
   ]
  },
  {
   "cell_type": "markdown",
   "id": "e8f75151",
   "metadata": {},
   "source": [
    "### Model Architecture_4"
   ]
  },
  {
   "cell_type": "code",
   "execution_count": 53,
   "id": "e9e5e7be",
   "metadata": {},
   "outputs": [
    {
     "name": "stdout",
     "output_type": "stream",
     "text": [
      "Model: \"model_5\"\n",
      "_________________________________________________________________\n",
      "Layer (type)                 Output Shape              Param #   \n",
      "=================================================================\n",
      "input_6 (InputLayer)         [(128, 1, 3307)]          0         \n",
      "_________________________________________________________________\n",
      "GRU (GRU)                    [(128, 100), (128, 100)]  1022700   \n",
      "_________________________________________________________________\n",
      "dropout_5 (Dropout)          (128, 100)                0         \n",
      "_________________________________________________________________\n",
      "dense_5 (Dense)              (128, 3307)               334007    \n",
      "=================================================================\n",
      "Total params: 1,356,707\n",
      "Trainable params: 1,356,707\n",
      "Non-trainable params: 0\n",
      "_________________________________________________________________\n"
     ]
    }
   ],
   "source": [
    "args_4 = Args(tr, val, test, batch_size=128, hsz=100, drop_rate=0.2, lr=0.001, epochs=10, k=20)\n",
    "model_4 = create_model(args_4)"
   ]
  },
  {
   "cell_type": "markdown",
   "id": "5ccbf710",
   "metadata": {},
   "source": [
    "### Model Training_4"
   ]
  },
  {
   "cell_type": "code",
   "execution_count": 54,
   "id": "ca2f51aa",
   "metadata": {
    "scrolled": true
   },
   "outputs": [
    {
     "name": "stderr",
     "output_type": "stream",
     "text": [
      "Train:  98%|█████████▊| 6215/6349 [01:28<00:01, 69.97it/s, accuracy=0.0391, train_loss=5.9]  \n",
      "Evaluation:  47%|████▋     | 34/73 [00:18<00:21,  1.80it/s]\n"
     ]
    },
    {
     "name": "stdout",
     "output_type": "stream",
     "text": [
      "\t - Recall@20 epoch 1: 0.108456\n",
      "\t - MRR@20    epoch 1: 0.028901\n",
      "\n"
     ]
    },
    {
     "name": "stderr",
     "output_type": "stream",
     "text": [
      "Train:  98%|█████████▊| 6215/6349 [01:26<00:01, 71.60it/s, accuracy=0.0312, train_loss=5.59] \n",
      "Evaluation:  47%|████▋     | 34/73 [00:18<00:21,  1.82it/s]\n"
     ]
    },
    {
     "name": "stdout",
     "output_type": "stream",
     "text": [
      "\t - Recall@20 epoch 2: 0.126838\n",
      "\t - MRR@20    epoch 2: 0.035764\n",
      "\n"
     ]
    },
    {
     "name": "stderr",
     "output_type": "stream",
     "text": [
      "Train:  98%|█████████▊| 6215/6349 [01:26<00:01, 71.91it/s, accuracy=0.0312, train_loss=5.48] \n",
      "Evaluation:  47%|████▋     | 34/73 [00:18<00:21,  1.82it/s]\n"
     ]
    },
    {
     "name": "stdout",
     "output_type": "stream",
     "text": [
      "\t - Recall@20 epoch 3: 0.127987\n",
      "\t - MRR@20    epoch 3: 0.037409\n",
      "\n"
     ]
    },
    {
     "name": "stderr",
     "output_type": "stream",
     "text": [
      "Train:  98%|█████████▊| 6215/6349 [01:26<00:01, 71.69it/s, accuracy=0.0391, train_loss=5.42] \n",
      "Evaluation:  47%|████▋     | 34/73 [00:18<00:21,  1.84it/s]\n"
     ]
    },
    {
     "name": "stdout",
     "output_type": "stream",
     "text": [
      "\t - Recall@20 epoch 4: 0.136259\n",
      "\t - MRR@20    epoch 4: 0.038233\n",
      "\n"
     ]
    },
    {
     "name": "stderr",
     "output_type": "stream",
     "text": [
      "Train:  98%|█████████▊| 6215/6349 [01:27<00:01, 71.04it/s, accuracy=0.0703, train_loss=5.41] \n",
      "Evaluation:  47%|████▋     | 34/73 [00:18<00:21,  1.85it/s]\n"
     ]
    },
    {
     "name": "stdout",
     "output_type": "stream",
     "text": [
      "\t - Recall@20 epoch 5: 0.137408\n",
      "\t - MRR@20    epoch 5: 0.039128\n",
      "\n"
     ]
    },
    {
     "name": "stderr",
     "output_type": "stream",
     "text": [
      "Train:  98%|█████████▊| 6215/6349 [01:26<00:01, 71.60it/s, accuracy=0.0859, train_loss=5.35] \n",
      "Evaluation:  47%|████▋     | 34/73 [00:18<00:21,  1.82it/s]\n"
     ]
    },
    {
     "name": "stdout",
     "output_type": "stream",
     "text": [
      "\t - Recall@20 epoch 6: 0.136949\n",
      "\t - MRR@20    epoch 6: 0.039966\n",
      "\n"
     ]
    },
    {
     "name": "stderr",
     "output_type": "stream",
     "text": [
      "Train:  98%|█████████▊| 6215/6349 [01:26<00:01, 71.45it/s, accuracy=0.0859, train_loss=5.32] \n",
      "Evaluation:  47%|████▋     | 34/73 [00:18<00:21,  1.83it/s]\n"
     ]
    },
    {
     "name": "stdout",
     "output_type": "stream",
     "text": [
      "\t - Recall@20 epoch 7: 0.137868\n",
      "\t - MRR@20    epoch 7: 0.041026\n",
      "\n"
     ]
    },
    {
     "name": "stderr",
     "output_type": "stream",
     "text": [
      "Train:  98%|█████████▊| 6215/6349 [01:26<00:01, 71.78it/s, accuracy=0.0625, train_loss=5.35] \n",
      "Evaluation:  47%|████▋     | 34/73 [00:18<00:20,  1.86it/s]\n"
     ]
    },
    {
     "name": "stdout",
     "output_type": "stream",
     "text": [
      "\t - Recall@20 epoch 8: 0.140855\n",
      "\t - MRR@20    epoch 8: 0.039994\n",
      "\n"
     ]
    },
    {
     "name": "stderr",
     "output_type": "stream",
     "text": [
      "Train:  98%|█████████▊| 6215/6349 [01:26<00:01, 71.59it/s, accuracy=0.0469, train_loss=5.33] \n",
      "Evaluation:  47%|████▋     | 34/73 [00:18<00:21,  1.84it/s]\n"
     ]
    },
    {
     "name": "stdout",
     "output_type": "stream",
     "text": [
      "\t - Recall@20 epoch 9: 0.139936\n",
      "\t - MRR@20    epoch 9: 0.040582\n",
      "\n"
     ]
    },
    {
     "name": "stderr",
     "output_type": "stream",
     "text": [
      "Train:  98%|█████████▊| 6215/6349 [01:26<00:01, 71.51it/s, accuracy=0.0625, train_loss=5.38] \n",
      "Evaluation:  47%|████▋     | 34/73 [00:18<00:21,  1.80it/s]"
     ]
    },
    {
     "name": "stdout",
     "output_type": "stream",
     "text": [
      "\t - Recall@20 epoch 10: 0.141085\n",
      "\t - MRR@20    epoch 10: 0.039752\n",
      "\n"
     ]
    },
    {
     "name": "stderr",
     "output_type": "stream",
     "text": [
      "\n"
     ]
    }
   ],
   "source": [
    "train_model(model_4, args_4)"
   ]
  },
  {
   "cell_type": "markdown",
   "id": "c3b0ef2b",
   "metadata": {},
   "source": [
    "- 4 개의 모델 중 가장 높은 Recall 과 MRR 이 도출되었습니다."
   ]
  },
  {
   "cell_type": "markdown",
   "id": "77c71d49",
   "metadata": {},
   "source": [
    "## Inference"
   ]
  },
  {
   "cell_type": "code",
   "execution_count": 56,
   "id": "ab53bca5",
   "metadata": {},
   "outputs": [],
   "source": [
    "def test_model(model, args, test):\n",
    "    test_recall, test_mrr = get_metrics(test, model, args, 20)\n",
    "    print(f\"\\t - Recall@{args.k}: {test_recall:3f}\")\n",
    "    print(f\"\\t - MRR@{args.k}: {test_mrr:3f}\\n\")"
   ]
  },
  {
   "cell_type": "markdown",
   "id": "72b914bc",
   "metadata": {},
   "source": [
    "### Model_1"
   ]
  },
  {
   "cell_type": "markdown",
   "id": "ca678676",
   "metadata": {},
   "source": [
    "- batch_size = 256\n",
    "- hsz = 50\n",
    "- drop_rate = 0.1\n",
    "- lr = 0.001"
   ]
  },
  {
   "cell_type": "code",
   "execution_count": 57,
   "id": "fb1e17d3",
   "metadata": {},
   "outputs": [
    {
     "name": "stderr",
     "output_type": "stream",
     "text": [
      "Evaluation:   7%|▋         | 2/27 [00:02<00:26,  1.07s/it]"
     ]
    },
    {
     "name": "stdout",
     "output_type": "stream",
     "text": [
      "\t - Recall@20: 0.121094\n",
      "\t - MRR@20: 0.042064\n",
      "\n"
     ]
    },
    {
     "name": "stderr",
     "output_type": "stream",
     "text": [
      "\n"
     ]
    }
   ],
   "source": [
    "test_model(model, args, test)"
   ]
  },
  {
   "cell_type": "markdown",
   "id": "01bdbc68",
   "metadata": {},
   "source": [
    "### Model_2"
   ]
  },
  {
   "cell_type": "markdown",
   "id": "0bec088e",
   "metadata": {},
   "source": [
    "- batch_size = 128\n",
    "- hsz = 50\n",
    "- drop_rate = 0.1\n",
    "- lr = 0.001"
   ]
  },
  {
   "cell_type": "code",
   "execution_count": 58,
   "id": "d99bdac3",
   "metadata": {},
   "outputs": [
    {
     "name": "stderr",
     "output_type": "stream",
     "text": [
      "Evaluation:  37%|███▋      | 20/54 [00:11<00:18,  1.80it/s]"
     ]
    },
    {
     "name": "stdout",
     "output_type": "stream",
     "text": [
      "\t - Recall@20: 0.149219\n",
      "\t - MRR@20: 0.043556\n",
      "\n"
     ]
    },
    {
     "name": "stderr",
     "output_type": "stream",
     "text": [
      "\n"
     ]
    }
   ],
   "source": [
    "test_model(model_2, args_2, test)"
   ]
  },
  {
   "cell_type": "markdown",
   "id": "9dceb019",
   "metadata": {},
   "source": [
    "### Model_3"
   ]
  },
  {
   "cell_type": "markdown",
   "id": "7e709f59",
   "metadata": {},
   "source": [
    "- batch_size = 128\n",
    "- hsz = 100\n",
    "- drop_rate = 0.1\n",
    "- lr = 0.001"
   ]
  },
  {
   "cell_type": "code",
   "execution_count": 59,
   "id": "fddc6211",
   "metadata": {},
   "outputs": [
    {
     "name": "stderr",
     "output_type": "stream",
     "text": [
      "Evaluation:  37%|███▋      | 20/54 [00:10<00:18,  1.84it/s]"
     ]
    },
    {
     "name": "stdout",
     "output_type": "stream",
     "text": [
      "\t - Recall@20: 0.152344\n",
      "\t - MRR@20: 0.045058\n",
      "\n"
     ]
    },
    {
     "name": "stderr",
     "output_type": "stream",
     "text": [
      "\n"
     ]
    }
   ],
   "source": [
    "test_model(model_3, args_3, test)"
   ]
  },
  {
   "cell_type": "markdown",
   "id": "7abe2840",
   "metadata": {},
   "source": [
    "### Model_4"
   ]
  },
  {
   "cell_type": "markdown",
   "id": "6e22371b",
   "metadata": {},
   "source": [
    "- batch_size = 128\n",
    "- hsz = 100\n",
    "- drop_rate = 0.2\n",
    "- lr = 0.001"
   ]
  },
  {
   "cell_type": "code",
   "execution_count": 60,
   "id": "beb05be9",
   "metadata": {},
   "outputs": [
    {
     "name": "stderr",
     "output_type": "stream",
     "text": [
      "Evaluation:  37%|███▋      | 20/54 [00:11<00:18,  1.81it/s]"
     ]
    },
    {
     "name": "stdout",
     "output_type": "stream",
     "text": [
      "\t - Recall@20: 0.157812\n",
      "\t - MRR@20: 0.045053\n",
      "\n"
     ]
    },
    {
     "name": "stderr",
     "output_type": "stream",
     "text": [
      "\n"
     ]
    }
   ],
   "source": [
    "test_model(model_4, args_4, test)"
   ]
  },
  {
   "cell_type": "markdown",
   "id": "337507de",
   "metadata": {},
   "source": [
    "## Summary"
   ]
  },
  {
   "cell_type": "markdown",
   "id": "1d103561",
   "metadata": {},
   "source": [
    "- 하이퍼 파라미터를 변경한 네 가지의 모델로 성능을 평가하였습니다.\n",
    "<br>\n",
    "<br>\n",
    "- Model_1 에서는 Recall 과 MRR 이 각각 0.121094, 0.042064 로 측정되었습니다.\n",
    "<br>\n",
    "<br>\n",
    "- Model_2 에서는 batch_size 를 128 로 줄이자 Recall 이 0.149219, MRR 이 0.043556 로 다소 증가하였습니다.\n",
    "<br>\n",
    "<br>\n",
    "- Model_3 에서는 batch_size 를 128 로 유지하고 GRU 의 파라미터인 hsz 를 100 으로 늘려주었습니다. 최종적으로 Recall 이 0.152344, MRR 이 0.045058 로 증가한 것을 확인할 수 있습니다.\n",
    "<br>\n",
    "<br>\n",
    "- Model_4 에서는 batch_size 를 128, hsz 를 100 으로 유지하고 drop_rate 를 0.2 로 늘려주었습니다. 최종적으로 Recall 이 0.157812, MRR 이 0.045053 로 증가하였습니다.\n",
    "<br>\n",
    "<br>\n",
    "- 결론적으로 batch_size 를 줄이고 hsz 와 drop_rate 를 늘려준 Model_4 의 Recall, MRR 이 가장 높게 측정되었습니다."
   ]
  },
  {
   "cell_type": "markdown",
   "id": "b2a89c53",
   "metadata": {},
   "source": [
    "# Retrospection"
   ]
  },
  {
   "cell_type": "markdown",
   "id": "7488d962",
   "metadata": {},
   "source": [
    "<h2 style=\"font-style:italic\">2022.03.14 - [E-16]Session_based_Recommendation_Movielens</h2>\n",
    "\n",
    "> 이번 프로젝트에서는 Movielens 데이터셋을 활용하여 Session based Recommendation System 을 구현해보았습니다.\n",
    "***"
   ]
  },
  {
   "cell_type": "markdown",
   "id": "b9ebbcd2",
   "metadata": {},
   "source": [
    "- 이번 프로젝트에서는 Movielens 데이터셋의 UserId 컬럼을 SessionId 로 설정하여 이를 기반으로 한 학습 및 예측을 수행하였다.\n",
    "<br>\n",
    "<br>\n",
    "- 하지만, UserId 와 Time 컬럼을 모두 활용하여 SessionId 로 활용할 수도 있었을 것이라는 생각이 들었다. Session 의 특성과는 달리, 동일한 UserId 의 모든 Time 은 같은 유저가 남긴 기록이기 때문이다.\n",
    "<br>\n",
    "<br>\n",
    "- 처음 접해본 GRU 모델이니만큼, 다양한 하이퍼 파라미터를 자유자재로 다루는 것에 있어 익숙치 않았다.\n",
    "<br>\n",
    "<br>\n",
    "- GRU 모델의 Layer 혹은 하이퍼 파라미터에 대한 기반 지식이 있었다면 비교적 자유로운 하이퍼 파라미터 세팅으로 조금 더 높은 성능을 기대해볼 수 있을 것으로 사료된다.\n",
    "<br>\n",
    "<br>\n",
    "- 또한 이번 프로젝트에서는 Rating 이 3 미만인 데이터에 대해 제거하고 학습을 수행하였지만, 모든 Rating 에 대해 학습을 수행하였을 때의 성능 측정도 유의미한 시도일 것이라고 생각한다. 하지만 성능 향상에 있어 긍정적인 영향을 미칠 것이라고 기대되지는 않는다.\n",
    "<br>\n",
    "<br>\n",
    "- 5 번 이하로 시청된 영화는 제거되어 학습에 포함시키지 않았지만, 그 기준을 3 번으로 낮춰 조금 더 다양한 데이터셋에 대해 학습을 수행할 수 있었다면 미세한 성능 향상을 기대해볼 수 있었을 것 같다.\n",
    "<br>\n",
    "<br>\n",
    "- 마지막으로, 이번 프로젝트에서는 영화에 대한 유저들의 선호도가 급격하게 변화하지 않을 것이라 생각하고 3 년치의 데이터를 모두 사용하여 학습 데이터셋의 다양성을 확보하는 것이 유리할 것이라 추측했다. 하지만, 최근의 데이터만을 학습에 활용하여 예측을 수행하였을 때의 성능 측정도 시도해볼 가치가 있다고 생각된다."
   ]
  }
 ],
 "metadata": {
  "kernelspec": {
   "display_name": "Python 3 (ipykernel)",
   "language": "python",
   "name": "python3"
  },
  "language_info": {
   "codemirror_mode": {
    "name": "ipython",
    "version": 3
   },
   "file_extension": ".py",
   "mimetype": "text/x-python",
   "name": "python",
   "nbconvert_exporter": "python",
   "pygments_lexer": "ipython3",
   "version": "3.9.7"
  }
 },
 "nbformat": 4,
 "nbformat_minor": 5
}
