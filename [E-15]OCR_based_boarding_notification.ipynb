{
 "cells": [
  {
   "cell_type": "markdown",
   "id": "064066f0",
   "metadata": {},
   "source": [
    "# Boarding Procedures Notification Service"
   ]
  },
  {
   "cell_type": "markdown",
   "id": "89136067",
   "metadata": {},
   "source": [
    "<img src=\"https://cdn.pixabay.com/photo/2020/06/23/20/23/airplane-cartoon-5333775_960_720.jpg\" width=\"300\" height=\"300\" />"
   ]
  },
  {
   "cell_type": "markdown",
   "id": "3c68fd6a",
   "metadata": {},
   "source": [
    "## About"
   ]
  },
  {
   "cell_type": "markdown",
   "id": "93460728",
   "metadata": {},
   "source": [
    "> **Boarding Precedures Notification Service**는 공항에서의 탑승 수속 절차에 대한 주요 안내사항들을 실시간 알림으로 받아볼 수 있는 서비스입니다.\n",
    "<br>\n",
    "<br>\n",
    "> 탑승 수속은 체크인(Check-In)이라고도 불리며, 항공기에 탑승하기 전에 공항에서 거쳐야 하는 필수적인 과정입니다. 국내선과 국제선의 경우에 차이가 있긴 하지만 일반적으로 수하물 위탁, 보안 검색, 출국 심사를 거친 뒤 탑승구로 이동하는 과정까지가 포함됩니다."
   ]
  },
  {
   "cell_type": "markdown",
   "id": "6f0a7262",
   "metadata": {},
   "source": [
    "## Difficulties"
   ]
  },
  {
   "cell_type": "markdown",
   "id": "6fbb5ea6",
   "metadata": {},
   "source": [
    "> 이러한 탑승 수속 절차는 사실 여행 경험이 충분치 않거나, 키오스크와 같은 최신화된 자동화 시스템에 능숙하지 않으며, 특히 타국의 공항과 같은 익숙하지 않은 환경에서는 항상 긴장되고 어려운 일입니다.\n",
    "<br>\n",
    "<br>\n",
    "> 특히, 처음 방문한 외국 공항에서 수시로 변경되는 탑승시간 혹은 탑승구의 위치는 항상 긴장의 끈을 놓을 수 없게 만들고 익숙하지 않은 공항 내 안내 방송에 집중하느라 식은땀을 흘리게 만들기도 합니다."
   ]
  },
  {
   "cell_type": "markdown",
   "id": "ee413820",
   "metadata": {},
   "source": [
    "## Solution"
   ]
  },
  {
   "cell_type": "markdown",
   "id": "5f0ca255",
   "metadata": {},
   "source": [
    "> 하지만 이제부터는 **Boarding Precedures Notification Service**의 애플리케이션에 항공기 탑승권의 사진을 촬영하여 등록해놓기만 하면, 탑승 시각, 셀프 백 드랍(자동 수하물 위탁 기기)과 스마트 체크인 키오스크의 위치, 보안 검색대 및 출국 심사장의 위치 정보를 간단히 확인할 수 있으며 각 절차의 이행 여부를 실시간으로 체크할 수 있습니다.\n",
    "<br>\n",
    "<br>\n",
    "> 또한 어떤 나라, 어떤 공항에 있더라도 내가 탑승하여야 할 항공기의 탑승시각이나 탑승구가 변경되면, 이를 실시간 알림으로 받아볼 수 있어 여유있게 면세점을 둘러볼 수 있습니다."
   ]
  },
  {
   "cell_type": "markdown",
   "id": "59e6a6f1",
   "metadata": {},
   "source": [
    "## How"
   ]
  },
  {
   "cell_type": "markdown",
   "id": "c5ebd5b8",
   "metadata": {},
   "source": [
    "> 결론적으로 위와 같은 모든 기능은 애플리케이션에 항공기 탑승권의 캡쳐 사진을 등록하는 작업만으로 가능해집니다.\n",
    "<br>\n",
    "<br>\n",
    "> 이는 **Boarding Precedures Notification Service** 의 OCR 기술을 기반으로 탑승권에 적힌 이름, 탑승구 및 목적지 공항, 항공사, 항공편명, 좌석번호와 같은 다양한 정보를 읽어낼 수 있기 때문입니다.\n",
    "<br>\n",
    "<br>\n",
    "> 이렇게 탑승권에 적힌 다양한 정보를 활용해 전세계의 공항(항공사) API 와 연동하여 해당 공항 및 항공편의 시설물 위치 정보는 물론, 실시간으로 변경되는 주요 정보를 알림으로 제공할 수 있게 됩니다."
   ]
  },
  {
   "cell_type": "markdown",
   "id": "85123ee5",
   "metadata": {},
   "source": [
    "# Tech Assessment"
   ]
  },
  {
   "cell_type": "markdown",
   "id": "a394b122",
   "metadata": {},
   "source": [
    "<img src=\"https://cdn-icons-png.flaticon.com/512/3997/3997577.png\" width=\"300\" height=\"300\" />"
   ]
  },
  {
   "cell_type": "markdown",
   "id": "e33ce76d",
   "metadata": {},
   "source": [
    "## Modules"
   ]
  },
  {
   "cell_type": "markdown",
   "id": "e35fd0cc",
   "metadata": {},
   "source": [
    "> #### Google OCR API\n",
    "> #### Keras - OCR\n",
    "> #### Tesseract"
   ]
  },
  {
   "cell_type": "markdown",
   "id": "12142314",
   "metadata": {},
   "source": [
    "## Criteria"
   ]
  },
  {
   "cell_type": "markdown",
   "id": "2e0e2d9a",
   "metadata": {},
   "source": [
    "> 위의 세 가지 모듈에 각각 테스트 이미지를 활용하여 문자 인식 성능을 평가합니다.\n",
    "<br>\n",
    "<br>\n",
    "> 아래 기준들에 근거하여 각 모듈들을 테스트하고, 서비스에 적용 가능한 수준의 모듈을 채택하도록 하겠습니다.\n",
    "<br>\n",
    "<br>\n",
    "- 아래는 전반적인 **성능 평가 기준** 입니다.\n",
    "<br>\n",
    "<br>\n",
    "\n",
    "    - 탑승권 내의 이름, 항공편명, 공항코드, 좌석명과 같은 **정보들의 위치를 정확하게 인식** 해내는가?\n",
    "    <br>\n",
    "    <br>\n",
    "    - 탑승권 내의 각 정보들을 **정확히 구분하여 인식** 해내는가?\n",
    "    <br>\n",
    "    <br>\n",
    "    - 조도가 높아 **밝게 촬영된 사진** 에서도 정보들을 정확하게 인식해내는가?\n",
    "    <br>\n",
    "    <br>\n",
    "    - 조도가 낮아 **어둡게 촬영된 사진** 에서도 정보들을 정확하게 인식해내는가?\n",
    "    <br>\n",
    "    <br>\n",
    "    - 탑승권 내의 중요한 정보들은 대부분 영어와 숫자로 구성되어 있다. **영어와 숫자를 모두 정확하게 인식** 해내는가?\n",
    "    <br>\n",
    "    <br>\n",
    "    - 최근에는 모바일 탑승권의 활용이 늘어나고 있다. **모바일 탑승권의 캡쳐 사진** 에서도 정보를 정확하게 인식해내는가?"
   ]
  },
  {
   "cell_type": "code",
   "execution_count": null,
   "id": "655031f5",
   "metadata": {},
   "outputs": [],
   "source": []
  }
 ],
 "metadata": {
  "kernelspec": {
   "display_name": "Python 3 (ipykernel)",
   "language": "python",
   "name": "python3"
  },
  "language_info": {
   "codemirror_mode": {
    "name": "ipython",
    "version": 3
   },
   "file_extension": ".py",
   "mimetype": "text/x-python",
   "name": "python",
   "nbconvert_exporter": "python",
   "pygments_lexer": "ipython3",
   "version": "3.9.7"
  }
 },
 "nbformat": 4,
 "nbformat_minor": 5
}
